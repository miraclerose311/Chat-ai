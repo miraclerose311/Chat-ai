{
 "cells": [
  {
   "cell_type": "markdown",
   "source": [
    "# Spark LLM Assistant"
   ],
   "metadata": {
    "collapsed": false
   }
  },
  {
   "cell_type": "markdown",
   "source": [
    "## Initialization"
   ],
   "metadata": {
    "collapsed": false
   }
  },
  {
   "cell_type": "code",
   "execution_count": 1,
   "outputs": [
    {
     "name": "stderr",
     "output_type": "stream",
     "text": [
      "Setting default log level to \"WARN\".\n",
      "To adjust logging level use sc.setLogLevel(newLevel). For SparkR, use setLogLevel(newLevel).\n",
      "23/06/09 23:31:30 WARN NativeCodeLoader: Unable to load native-hadoop library for your platform... using builtin-java classes where applicable\n"
     ]
    }
   ],
   "source": [
    "from langchain.chat_models import ChatOpenAI\n",
    "from spark_llm import SparkLLMAssistant\n",
    "\n",
    "llm = ChatOpenAI(model_name='gpt-4') # using gpt-4 can achieve better results\n",
    "assistant=SparkLLMAssistant(llm=llm, verbose=True)\n",
    "assistant.activate() # active partial functions for Spark DataFrame"
   ],
   "metadata": {
    "collapsed": false
   }
  },
  {
   "cell_type": "markdown",
   "source": [
    "## Example 1: Auto sales by brand in US 2022"
   ],
   "metadata": {
    "collapsed": false
   }
  },
  {
   "cell_type": "code",
   "execution_count": 2,
   "outputs": [
    {
     "name": "stdout",
     "output_type": "stream",
     "text": [
      "Parsing URL: https://www.carpro.com/blog/full-year-2022-national-auto-sales-by-brand\n",
      "\n",
      "SQL query for the ingestion:\n",
      " CREATE OR REPLACE TEMP VIEW auto_sales_2022 AS SELECT * FROM VALUES\n",
      "(1, 'Toyota', 1849751, -9),\n",
      "(2, 'Ford', 1767439, -2),\n",
      "(3, 'Chevrolet', 1502389, 6),\n",
      "(4, 'Honda', 881201, -33),\n",
      "(5, 'Hyundai', 724265, -2),\n",
      "(6, 'Kia', 693549, -1),\n",
      "(7, 'Jeep', 684612, -12),\n",
      "(8, 'Nissan', 682731, -25),\n",
      "(9, 'Subaru', 556581, -5),\n",
      "(10, 'Ram Trucks', 545194, -16),\n",
      "(11, 'GMC', 517649, 7),\n",
      "(12, 'Mercedes-Benz', 350949, 7),\n",
      "(13, 'BMW', 332388, -1),\n",
      "(14, 'Volkswagen', 301069, -20),\n",
      "(15, 'Mazda', 294908, -11),\n",
      "(16, 'Lexus', 258704, -15),\n",
      "(17, 'Dodge', 190793, -12),\n",
      "(18, 'Audi', 186875, -5),\n",
      "(19, 'Cadillac', 134726, 14),\n",
      "(20, 'Chrysler', 112713, -2),\n",
      "(21, 'Buick', 103519, -42),\n",
      "(22, 'Acura', 102306, -35),\n",
      "(23, 'Volvo', 102038, -16),\n",
      "(24, 'Mitsubishi', 102037, -16),\n",
      "(25, 'Lincoln', 83486, -4),\n",
      "(26, 'Porsche', 70065, 0),\n",
      "(27, 'Genesis', 56410, 14),\n",
      "(28, 'INFINITI', 46619, -20),\n",
      "(29, 'MINI', 29504, -1),\n",
      "(30, 'Alfa Romeo', 12845, -30),\n",
      "(31, 'Maserati', 6413, -10),\n",
      "(32, 'Bentley', 3975, 0),\n",
      "(33, 'Lamborghini', 3134, 3),\n",
      "(34, 'Fiat', 915, -61),\n",
      "(35, 'McLaren', 840, -35),\n",
      "(36, 'Rolls-Royce', 460, 7)\n",
      "AS v1(rank, brand, us_sales, sales_change)\n",
      "\n",
      "Storing data into temp view: auto_sales_2022\n",
      "\n",
      "+----+-------------+--------+------------+\n",
      "|rank|        brand|us_sales|sales_change|\n",
      "+----+-------------+--------+------------+\n",
      "|   1|       Toyota| 1849751|          -9|\n",
      "|   2|         Ford| 1767439|          -2|\n",
      "|   3|    Chevrolet| 1502389|           6|\n",
      "|   4|        Honda|  881201|         -33|\n",
      "|   5|      Hyundai|  724265|          -2|\n",
      "|   6|          Kia|  693549|          -1|\n",
      "|   7|         Jeep|  684612|         -12|\n",
      "|   8|       Nissan|  682731|         -25|\n",
      "|   9|       Subaru|  556581|          -5|\n",
      "|  10|   Ram Trucks|  545194|         -16|\n",
      "|  11|          GMC|  517649|           7|\n",
      "|  12|Mercedes-Benz|  350949|           7|\n",
      "|  13|          BMW|  332388|          -1|\n",
      "|  14|   Volkswagen|  301069|         -20|\n",
      "|  15|        Mazda|  294908|         -11|\n",
      "|  16|        Lexus|  258704|         -15|\n",
      "|  17|        Dodge|  190793|         -12|\n",
      "|  18|         Audi|  186875|          -5|\n",
      "|  19|     Cadillac|  134726|          14|\n",
      "|  20|     Chrysler|  112713|          -2|\n",
      "+----+-------------+--------+------------+\n",
      "only showing top 20 rows\n",
      "\n"
     ]
    }
   ],
   "source": [
    "# Search and ingest web content into a DataFrame\n",
    "auto_df = assistant.create_df(\"2022 USA national auto sales by brand\")\n",
    "auto_df.show()"
   ],
   "metadata": {
    "collapsed": false
   }
  },
  {
   "cell_type": "code",
   "execution_count": 3,
   "outputs": [
    {
     "name": "stdout",
     "output_type": "stream",
     "text": [
      "SQL query for the transform:\n",
      "SELECT brand, sales_change\n",
      "FROM temp_view_for_transform\n",
      "ORDER BY sales_change DESC\n",
      "LIMIT 1\n",
      "+--------+------------+\n",
      "|   brand|sales_change|\n",
      "+--------+------------+\n",
      "|Cadillac|          14|\n",
      "+--------+------------+\n",
      "\n"
     ]
    }
   ],
   "source": [
    "# Apply transforms to a Dataframe\n",
    "auto_top_growth_df=auto_df.llm_transform(\"top brand with the highest growth\")\n",
    "auto_top_growth_df.show()"
   ],
   "metadata": {
    "collapsed": false
   }
  },
  {
   "cell_type": "code",
   "execution_count": 4,
   "outputs": [
    {
     "data": {
      "text/plain": "'In summary, this dataframe is retrieving the brand with the highest sales change from the \"auto_sales_2022\" table. It presents the results sorted by sales change in descending order, and only returns the top result.'"
     },
     "execution_count": 4,
     "metadata": {},
     "output_type": "execute_result"
    }
   ],
   "source": [
    "# Explain what a DataFrame is retrieving.\n",
    "auto_top_growth_df.llm_explain()"
   ],
   "metadata": {
    "collapsed": false
   }
  },
  {
   "cell_type": "markdown",
   "source": [
    "## Example 2: USA Presidents"
   ],
   "metadata": {
    "collapsed": false
   }
  },
  {
   "cell_type": "code",
   "execution_count": 5,
   "outputs": [
    {
     "name": "stdout",
     "output_type": "stream",
     "text": [
      "Parsing URL: https://www.loc.gov/rr/print/list/057_chron.html\n",
      "\n",
      "SQL query for the ingestion:\n",
      " CREATE OR REPLACE TEMP VIEW presidents AS SELECT * FROM VALUES\n",
      "('George Washington', 'John Adams'),\n",
      "('John Adams', 'Thomas Jefferson'),\n",
      "('Thomas Jefferson', 'Aaron Burr'),\n",
      "('Thomas Jefferson', 'George Clinton'),\n",
      "('James Madison', 'George Clinton'),\n",
      "('James Madison', 'Elbridge Gerry'),\n",
      "('James Monroe', 'Daniel D. Tompkins'),\n",
      "('John Quincy Adams', 'John C. Calhoun'),\n",
      "('Andrew Jackson', 'John C. Calhoun'),\n",
      "('Andrew Jackson', 'Martin Van Buren'),\n",
      "('Martin Van Buren', 'Richard M. Johnson'),\n",
      "('William Henry Harrison', 'John Tyler'),\n",
      "('John Tyler', NULL),\n",
      "('James K. Polk', 'George M. Dallas'),\n",
      "('Zachary Taylor', 'Millard Fillmore'),\n",
      "('Millard Fillmore', NULL),\n",
      "('Franklin Pierce', 'William R. King'),\n",
      "('Franklin Pierce', NULL),\n",
      "('James Buchanan', 'John C. Breckinridge'),\n",
      "('Abraham Lincoln', 'Hannibal Hamlin'),\n",
      "('Abraham Lincoln', 'Andrew Johnson'),\n",
      "('Andrew Johnson', NULL),\n",
      "('Ulysses S. Grant', 'Schuyler Colfax'),\n",
      "('Ulysses S. Grant', 'Henry Wilson'),\n",
      "('Ulysses S. Grant', NULL),\n",
      "('Rutherford Birchard Hayes', 'William A. Wheeler'),\n",
      "('James A. Garfield', 'Chester A. Arthur'),\n",
      "('Chester A. Arthur', NULL),\n",
      "('Grover Cleveland', 'Thomas A. Hendricks'),\n",
      "('Grover Cleveland', NULL),\n",
      "('Benjamin Harrison', 'Levi P. Morton'),\n",
      "('Grover Cleveland', 'Adlai E. Stevenson'),\n",
      "('William McKinley', 'Garret A. Hobart'),\n",
      "('William McKinley', NULL),\n",
      "('William McKinley', 'Theodore Roosevelt'),\n",
      "('Theodore Roosevelt', NULL),\n",
      "('Theodore Roosevelt', 'Charles W. Fairbanks'),\n",
      "('William H. Taft', 'James S. Sherman'),\n",
      "('William H. Taft', NULL),\n",
      "('Woodrow Wilson', 'Thomas R. Marshall'),\n",
      "('Warren G. Harding', 'Calvin Coolidge'),\n",
      "('Calvin Coolidge', NULL),\n",
      "('Calvin Coolidge', 'Charles G. Dawes'),\n",
      "('Herbert Hoover', 'Charles Curtis'),\n",
      "('Franklin D. Roosevelt', 'John N. Garner'),\n",
      "('Franklin D. Roosevelt', 'Henry A. Wallace'),\n",
      "('Franklin D. Roosevelt', 'Harry S. Truman'),\n",
      "('Harry S. Truman', NULL),\n",
      "('Harry S. Truman', 'Alben W. Barkley'),\n",
      "('Dwight D. Eisenhower', 'Richard M. Nixon'),\n",
      "('John F. Kennedy', 'Lyndon B. Johnson'),\n",
      "('Lyndon B. Johnson', NULL),\n",
      "('Lyndon B. Johnson', 'Hubert H. Humphrey'),\n",
      "('Richard M. Nixon', 'Spiro T. Agnew'),\n",
      "('Richard M. Nixon', 'Gerald R. Ford'),\n",
      "('Gerald R. Ford', 'Nelson Rockefeller'),\n",
      "('Jimmy Carter', 'Walter F. Mondale'),\n",
      "('Ronald Reagan', 'George Bush'),\n",
      "('George Bush', 'Dan Quayle'),\n",
      "('Bill Clinton', 'Albert Gore'),\n",
      "('George W. Bush', 'Richard Cheney'),\n",
      "('Barack Obama', 'Joseph R. Biden'),\n",
      "('Donald J. Trump', 'Mike Pence'),\n",
      "('Joseph R. Biden', 'Kamala Harris')\n",
      "AS v1(president, vice_president)\n",
      "\n",
      "Storing data into temp view: presidents\n",
      "\n",
      "+--------------------+--------------------+\n",
      "|           president|      vice_president|\n",
      "+--------------------+--------------------+\n",
      "|   George Washington|          John Adams|\n",
      "|          John Adams|    Thomas Jefferson|\n",
      "|    Thomas Jefferson|          Aaron Burr|\n",
      "|    Thomas Jefferson|      George Clinton|\n",
      "|       James Madison|      George Clinton|\n",
      "|       James Madison|      Elbridge Gerry|\n",
      "|        James Monroe|  Daniel D. Tompkins|\n",
      "|   John Quincy Adams|     John C. Calhoun|\n",
      "|      Andrew Jackson|     John C. Calhoun|\n",
      "|      Andrew Jackson|    Martin Van Buren|\n",
      "|    Martin Van Buren|  Richard M. Johnson|\n",
      "|William Henry Har...|          John Tyler|\n",
      "|          John Tyler|                null|\n",
      "|       James K. Polk|    George M. Dallas|\n",
      "|      Zachary Taylor|    Millard Fillmore|\n",
      "|    Millard Fillmore|                null|\n",
      "|     Franklin Pierce|     William R. King|\n",
      "|     Franklin Pierce|                null|\n",
      "|      James Buchanan|John C. Breckinridge|\n",
      "|     Abraham Lincoln|     Hannibal Hamlin|\n",
      "+--------------------+--------------------+\n",
      "only showing top 20 rows\n",
      "\n"
     ]
    }
   ],
   "source": [
    "# You can also specify the expected columns for the ingestion.\n",
    "df=assistant.create_df(\"USA presidents\", [\"president\", \"vice_president\"])\n",
    "df.show()"
   ],
   "metadata": {
    "collapsed": false
   }
  },
  {
   "cell_type": "code",
   "execution_count": 6,
   "outputs": [
    {
     "name": "stdout",
     "output_type": "stream",
     "text": [
      "SQL query for the transform:\n",
      "SELECT DISTINCT president\n",
      "FROM temp_view_for_transform\n",
      "WHERE president IN (SELECT DISTINCT vice_president FROM temp_view_for_transform)\n",
      "+------------------+\n",
      "|         president|\n",
      "+------------------+\n",
      "|        John Adams|\n",
      "|  Thomas Jefferson|\n",
      "|  Martin Van Buren|\n",
      "|  Millard Fillmore|\n",
      "|        John Tyler|\n",
      "|    Andrew Johnson|\n",
      "| Chester A. Arthur|\n",
      "|Theodore Roosevelt|\n",
      "|   Calvin Coolidge|\n",
      "|   Harry S. Truman|\n",
      "|    Gerald R. Ford|\n",
      "| Lyndon B. Johnson|\n",
      "|  Richard M. Nixon|\n",
      "|       George Bush|\n",
      "|   Joseph R. Biden|\n",
      "+------------------+\n",
      "\n"
     ]
    }
   ],
   "source": [
    "presidents_who_were_vp = df.llm_transform(\"presidents who were also vice presidents\")\n",
    "presidents_who_were_vp.show()"
   ],
   "metadata": {
    "collapsed": false
   }
  },
  {
   "cell_type": "code",
   "execution_count": 7,
   "outputs": [
    {
     "data": {
      "text/plain": "'In summary, this dataframe is retrieving the distinct list of presidents that have also served as vice presidents.'"
     },
     "execution_count": 7,
     "metadata": {},
     "output_type": "execute_result"
    }
   ],
   "source": [
    "presidents_who_were_vp.llm_explain()"
   ],
   "metadata": {
    "collapsed": false
   }
  },
  {
   "cell_type": "markdown",
   "source": [
    "# Example 3: Top 10 tech companies"
   ],
   "metadata": {
    "collapsed": false
   }
  },
  {
   "cell_type": "code",
   "execution_count": 8,
   "outputs": [
    {
     "name": "stdout",
     "output_type": "stream",
     "text": [
      "Parsing URL: https://www.statista.com/statistics/1350976/leading-tech-companies-worldwide-by-market-cap/\n",
      "\n",
      "SQL query for the ingestion:\n",
      " CREATE OR REPLACE TEMP VIEW top_tech_companies AS SELECT * FROM VALUES\n",
      "('Apple', 2242, 'United States'),\n",
      "('Microsoft', 1821, 'United States'),\n",
      "('Alphabet (Google)', 1229, 'United States'),\n",
      "('Amazon', 902.4, 'United States'),\n",
      "('Tesla', 541.4, 'United States'),\n",
      "('TSMC', 410.9, 'Taiwan'),\n",
      "('NVIDIA', 401.7, 'United States'),\n",
      "('Tencent', 377.8, 'China'),\n",
      "('Meta Platforms (Facebook)', 302.1, 'United States'),\n",
      "('Samsung', 301.7, 'South Korea')\n",
      "AS v1(company, cap, country)\n",
      "\n",
      "Storing data into temp view: top_tech_companies\n",
      "\n",
      "+--------------------+------+-------------+\n",
      "|             company|   cap|      country|\n",
      "+--------------------+------+-------------+\n",
      "|               Apple|2242.0|United States|\n",
      "|           Microsoft|1821.0|United States|\n",
      "|   Alphabet (Google)|1229.0|United States|\n",
      "|              Amazon| 902.4|United States|\n",
      "|               Tesla| 541.4|United States|\n",
      "|                TSMC| 410.9|       Taiwan|\n",
      "|              NVIDIA| 401.7|United States|\n",
      "|             Tencent| 377.8|        China|\n",
      "|Meta Platforms (F...| 302.1|United States|\n",
      "|             Samsung| 301.7|  South Korea|\n",
      "+--------------------+------+-------------+\n",
      "\n"
     ]
    }
   ],
   "source": [
    "# Search and ingest web content into a DataFrame\n",
    "company_df=assistant.create_df(\"Top 10 tech companies by market cap\", ['company', 'cap', 'country'])\n",
    "company_df.show()"
   ],
   "metadata": {
    "collapsed": false
   }
  },
  {
   "cell_type": "code",
   "execution_count": 9,
   "outputs": [
    {
     "name": "stdout",
     "output_type": "stream",
     "text": [
      "SQL query for the transform:\n",
      "SELECT company, cap, country\n",
      "FROM temp_view_for_transform\n",
      "WHERE country = 'United States'\n",
      "+--------------------+------+-------------+\n",
      "|             company|   cap|      country|\n",
      "+--------------------+------+-------------+\n",
      "|               Apple|2242.0|United States|\n",
      "|           Microsoft|1821.0|United States|\n",
      "|   Alphabet (Google)|1229.0|United States|\n",
      "|              Amazon| 902.4|United States|\n",
      "|               Tesla| 541.4|United States|\n",
      "|              NVIDIA| 401.7|United States|\n",
      "|Meta Platforms (F...| 302.1|United States|\n",
      "+--------------------+------+-------------+\n",
      "\n"
     ]
    }
   ],
   "source": [
    "us_company_df=company_df.llm_transform(\"companies in United States\")\n",
    "us_company_df.show()"
   ],
   "metadata": {
    "collapsed": false
   }
  },
  {
   "cell_type": "code",
   "execution_count": 10,
   "outputs": [
    {
     "data": {
      "text/plain": "'In summary, this dataframe is retrieving the company, market capitalization, and country of the top tech companies that are located in the United States.'"
     },
     "execution_count": 10,
     "metadata": {},
     "output_type": "execute_result"
    }
   ],
   "source": [
    "us_company_df.llm_explain()"
   ],
   "metadata": {
    "collapsed": false
   }
  },
  {
   "cell_type": "markdown",
   "source": [
    "## Example 4: Ingestion from a URL\n",
    "Instead of searching for the web page, you can also ask the assistant to ingest from a URL."
   ],
   "metadata": {
    "collapsed": false
   }
  },
  {
   "cell_type": "code",
   "execution_count": 11,
   "outputs": [
    {
     "name": "stdout",
     "output_type": "stream",
     "text": [
      "Parsing URL: https://time.com/6235186/best-albums-2022/\n",
      "\n",
      "SQL query for the ingestion:\n",
      " CREATE OR REPLACE TEMP VIEW best_albums_2022 AS SELECT * FROM VALUES\n",
      "('Motomami', 'Rosalía'),\n",
      "('You Can’t Kill Me', '070 Shake'),\n",
      "('Mr. Morale & The Big Steppers', 'Kendrick Lamar'),\n",
      "('Big Time', 'Angel Olsen'),\n",
      "('Electricity', 'Ibibio Sound Machine'),\n",
      "('It’s Almost Dry', 'Pusha T'),\n",
      "('Chloe and the Next 20th Century', 'Father John Misty'),\n",
      "('Renaissance', 'Beyoncé'),\n",
      "('19 Masters', 'Saya Gray'),\n",
      "('Un Verano Sin Ti', 'Bad Bunny')\n",
      "AS v1(album, artist);\n",
      "\n",
      "Storing data into temp view: best_albums_2022\n",
      "\n",
      "+--------------------+--------------------+\n",
      "|               album|              artist|\n",
      "+--------------------+--------------------+\n",
      "|            Motomami|             Rosalía|\n",
      "|   You Can’t Kill Me|           070 Shake|\n",
      "|Mr. Morale & The ...|      Kendrick Lamar|\n",
      "|            Big Time|         Angel Olsen|\n",
      "|         Electricity|Ibibio Sound Machine|\n",
      "|     It’s Almost Dry|             Pusha T|\n",
      "|Chloe and the Nex...|   Father John Misty|\n",
      "|         Renaissance|             Beyoncé|\n",
      "|          19 Masters|           Saya Gray|\n",
      "|    Un Verano Sin Ti|           Bad Bunny|\n",
      "+--------------------+--------------------+\n",
      "\n"
     ]
    }
   ],
   "source": [
    "assistant.create_df('https://time.com/6235186/best-albums-2022/').show()"
   ],
   "metadata": {
    "collapsed": false
   }
  }
 ],
 "metadata": {
  "kernelspec": {
   "display_name": "Python 3",
   "language": "python",
   "name": "python3"
  },
  "language_info": {
   "codemirror_mode": {
    "name": "ipython",
    "version": 2
   },
   "file_extension": ".py",
   "mimetype": "text/x-python",
   "name": "python",
   "nbconvert_exporter": "python",
   "pygments_lexer": "ipython2",
   "version": "2.7.6"
  }
 },
 "nbformat": 4,
 "nbformat_minor": 0
}
