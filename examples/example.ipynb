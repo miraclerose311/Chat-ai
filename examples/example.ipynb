{
 "cells": [
  {
   "cell_type": "markdown",
   "metadata": {
    "jupyter": {
     "outputs_hidden": false
    }
   },
   "source": [
    "# Spark LLM Assistant"
   ]
  },
  {
   "cell_type": "markdown",
   "metadata": {
    "jupyter": {
     "outputs_hidden": false
    }
   },
   "source": [
    "## Initialization"
   ]
  },
  {
   "cell_type": "code",
   "execution_count": 1,
   "metadata": {
    "collapsed": false,
    "jupyter": {
     "outputs_hidden": false
    }
   },
   "outputs": [
    {
     "name": "stderr",
     "output_type": "stream",
     "text": [
      "Setting default log level to \"WARN\".\n",
      "To adjust logging level use sc.setLogLevel(newLevel). For SparkR, use setLogLevel(newLevel).\n",
      "23/06/16 11:37:34 WARN NativeCodeLoader: Unable to load native-hadoop library for your platform... using builtin-java classes where applicable\n",
      "23/06/16 11:37:34 WARN Utils: Service 'SparkUI' could not bind on port 4040. Attempting port 4041.\n"
     ]
    }
   ],
   "source": [
    "from langchain.chat_models import ChatOpenAI\n",
    "from spark_llm import SparkLLMAssistant\n",
    "\n",
    "llm = ChatOpenAI(model_name='gpt-4') # using gpt-4 can achieve better results\n",
    "assistant=SparkLLMAssistant(llm=llm, verbose=True)\n",
    "assistant.activate() # active partial functions for Spark DataFrame"
   ]
  },
  {
   "cell_type": "markdown",
   "metadata": {
    "jupyter": {
     "outputs_hidden": false
    }
   },
   "source": [
    "## Example 1: Auto sales by brand in US 2022"
   ]
  },
  {
   "cell_type": "code",
   "execution_count": 2,
   "metadata": {
    "collapsed": false,
    "jupyter": {
     "outputs_hidden": false
    }
   },
   "outputs": [
    {
     "name": "stdout",
     "output_type": "stream",
     "text": [
      "Parsing URL: https://www.carpro.com/blog/full-year-2022-national-auto-sales-by-brand\n",
      "\n",
      "SQL query for the ingestion:\n",
      " CREATE OR REPLACE TEMP VIEW auto_sales_2022 AS SELECT * FROM VALUES\n",
      "('Toyota', 1849751, -9),\n",
      "('Ford', 1767439, -2),\n",
      "('Chevrolet', 1502389, 6),\n",
      "('Honda', 881201, -33),\n",
      "('Hyundai', 724265, -2),\n",
      "('Kia', 693549, -1),\n",
      "('Jeep', 684612, -12),\n",
      "('Nissan', 682731, -25),\n",
      "('Subaru', 556581, -5),\n",
      "('Ram Trucks', 545194, -16),\n",
      "('GMC', 517649, 7),\n",
      "('Mercedes-Benz', 350949, 7),\n",
      "('BMW', 332388, -1),\n",
      "('Volkswagen', 301069, -20),\n",
      "('Mazda', 294908, -11),\n",
      "('Lexus', 258704, -15),\n",
      "('Dodge', 190793, -12),\n",
      "('Audi', 186875, -5),\n",
      "('Cadillac', 134726, 14),\n",
      "('Chrysler', 112713, -2),\n",
      "('Buick', 103519, -42),\n",
      "('Acura', 102306, -35),\n",
      "('Volvo', 102038, -16),\n",
      "('Mitsubishi', 102037, -16),\n",
      "('Lincoln', 83486, -4),\n",
      "('Porsche', 70065, 0),\n",
      "('Genesis', 56410, 14),\n",
      "('INFINITI', 46619, -20),\n",
      "('MINI', 29504, -1),\n",
      "('Alfa Romeo', 12845, -30),\n",
      "('Maserati', 6413, -10),\n",
      "('Bentley', 3975, 0),\n",
      "('Lamborghini', 3134, 3),\n",
      "('Fiat', 915, -61),\n",
      "('McLaren', 840, -35),\n",
      "('Rolls-Royce', 460, 7)\n",
      "AS v1(brand, US_sales, sales_change);\n",
      "\n",
      "Storing data into temp view: auto_sales_2022\n",
      "\n",
      "+-------------+--------+------------+\n",
      "|        brand|US_sales|sales_change|\n",
      "+-------------+--------+------------+\n",
      "|       Toyota| 1849751|          -9|\n",
      "|         Ford| 1767439|          -2|\n",
      "|    Chevrolet| 1502389|           6|\n",
      "|        Honda|  881201|         -33|\n",
      "|      Hyundai|  724265|          -2|\n",
      "|          Kia|  693549|          -1|\n",
      "|         Jeep|  684612|         -12|\n",
      "|       Nissan|  682731|         -25|\n",
      "|       Subaru|  556581|          -5|\n",
      "|   Ram Trucks|  545194|         -16|\n",
      "|          GMC|  517649|           7|\n",
      "|Mercedes-Benz|  350949|           7|\n",
      "|          BMW|  332388|          -1|\n",
      "|   Volkswagen|  301069|         -20|\n",
      "|        Mazda|  294908|         -11|\n",
      "|        Lexus|  258704|         -15|\n",
      "|        Dodge|  190793|         -12|\n",
      "|         Audi|  186875|          -5|\n",
      "|     Cadillac|  134726|          14|\n",
      "|     Chrysler|  112713|          -2|\n",
      "+-------------+--------+------------+\n",
      "only showing top 20 rows\n",
      "\n"
     ]
    }
   ],
   "source": [
    "# Search and ingest web content into a DataFrame\n",
    "auto_df = assistant.create_df(\"2022 USA national auto sales by brand\")\n",
    "auto_df.show()"
   ]
  },
  {
   "cell_type": "code",
   "execution_count": 3,
   "metadata": {
    "collapsed": false,
    "jupyter": {
     "outputs_hidden": false
    }
   },
   "outputs": [
    {
     "name": "stdout",
     "output_type": "stream",
     "text": [
      "You can visualize the result of the `df` DataFrame using Plotly in Python like this:\n",
      "\n",
      "```python\n",
      "import plotly.express as px\n",
      "import plotly.io as pio\n",
      "\n",
      "# Convert the Spark DataFrame to a Pandas DataFrame\n",
      "pdf = df.toPandas()\n",
      "\n",
      "# Create a bar chart using Plotly Express\n",
      "fig = px.bar(pdf, x='brand', y='US_sales', text='sales_change', title='Auto Sales 2022')\n",
      "\n",
      "# Show the plot directly\n",
      "pio.show(fig)\n",
      "```\n",
      "\n",
      "In this code block, we first import the necessary Plotly libraries and then convert the Spark DataFrame `df` to a Pandas DataFrame, which is easier to work with for visualization purposes. We then use Plotly Express to create a bar chart with the 'brand' column on the x-axis, the 'US_sales' column on the y-axis, and the 'sales_change' column as text labels on the bars. Finally, we display the plot directly using the `pio.show()` function.\n"
     ]
    },
    {
     "data": {
      "text/html": [
       "        <script type=\"text/javascript\">\n",
       "        window.PlotlyConfig = {MathJaxConfig: 'local'};\n",
       "        if (window.MathJax && window.MathJax.Hub && window.MathJax.Hub.Config) {window.MathJax.Hub.Config({SVG: {font: \"STIX-Web\"}});}\n",
       "        if (typeof require !== 'undefined') {\n",
       "        require.undef(\"plotly\");\n",
       "        define('plotly', function(require, exports, module) {\n",
       "            /**\n",
       "* plotly.js v2.24.1\n",
       "* Copyright 2012-2023, Plotly, Inc.\n",
       "* All rights reserved.\n",
       "* Licensed under the MIT license\n",
       "*/\n",
       "/*! For license information please see plotly.min.js.LICENSE.txt */\n",
       "!function(t,e){\"object\"==typeof exports&&\"object\"==typeof module?module.exports=e():\"function\"==typeof define&&define.amd?define([],e):\"object\"==typeof exports?exports.Plotly=e():t.Plotly=e()}(self,(function(){return function(){var t={98847:function(t,e,r){\"use strict\";var n=r(71828),i={\"X,X div\":'direction:ltr;font-family:\"Open Sans\",verdana,arial,sans-serif;margin:0;padding:0;',\"X input,X button\":'font-family:\"Open Sans\",verdana,arial,sans-serif;',\"X input:focus,X button:focus\":\"outline:none;\",\"X a\":\"text-decoration:none;\",\"X a:hover\":\"text-decoration:none;\",\"X .crisp\":\"shape-rendering:crispEdges;\",\"X .user-select-none\":\"-webkit-user-select:none;-moz-user-select:none;-ms-user-select:none;-o-user-select:none;user-select:none;\",\"X svg\":\"overflow:hidden;\",\"X svg a\":\"fill:#447adb;\",\"X svg a:hover\":\"fill:#3c6dc5;\",\"X .main-svg\":\"position:absolute;top:0;left:0;pointer-events:none;\",\"X .main-svg .draglayer\":\"pointer-events:all;\",\"X .cursor-default\":\"cursor:default;\",\"X .cursor-pointer\":\"cursor:pointer;\",\"X .cursor-crosshair\":\"cursor:crosshair;\",\"X .cursor-move\":\"cursor:move;\",\"X .cursor-col-resize\":\"cursor:col-resize;\",\"X .cursor-row-resize\":\"cursor:row-resize;\",\"X .cursor-ns-resize\":\"cursor:ns-resize;\",\"X .cursor-ew-resize\":\"cursor:ew-resize;\",\"X .cursor-sw-resize\":\"cursor:sw-resize;\",\"X .cursor-s-resize\":\"cursor:s-resize;\",\"X .cursor-se-resize\":\"cursor:se-resize;\",\"X .cursor-w-resize\":\"cursor:w-resize;\",\"X .cursor-e-resize\":\"cursor:e-resize;\",\"X .cursor-nw-resize\":\"cursor:nw-resize;\",\"X .cursor-n-resize\":\"cursor:n-resize;\",\"X .cursor-ne-resize\":\"cursor:ne-resize;\",\"X .cursor-grab\":\"cursor:-webkit-grab;cursor:grab;\",\"X .modebar\":\"position:absolute;top:2px;right:2px;\",\"X .ease-bg\":\"-webkit-transition:background-color .3s ease 0s;-moz-transition:background-color .3s ease 0s;-ms-transition:background-color .3s ease 0s;-o-transition:background-color .3s ease 0s;transition:background-color .3s ease 0s;\",\"X .modebar--hover>:not(.watermark)\":\"opacity:0;-webkit-transition:opacity .3s ease 0s;-moz-transition:opacity .3s ease 0s;-ms-transition:opacity .3s ease 0s;-o-transition:opacity .3s ease 0s;transition:opacity .3s ease 0s;\",\"X:hover .modebar--hover .modebar-group\":\"opacity:1;\",\"X .modebar-group\":\"float:left;display:inline-block;box-sizing:border-box;padding-left:8px;position:relative;vertical-align:middle;white-space:nowrap;\",\"X .modebar-btn\":\"position:relative;font-size:16px;padding:3px 4px;height:22px;cursor:pointer;line-height:normal;box-sizing:border-box;\",\"X .modebar-btn svg\":\"position:relative;top:2px;\",\"X .modebar.vertical\":\"display:flex;flex-direction:column;flex-wrap:wrap;align-content:flex-end;max-height:100%;\",\"X .modebar.vertical svg\":\"top:-1px;\",\"X .modebar.vertical .modebar-group\":\"display:block;float:none;padding-left:0px;padding-bottom:8px;\",\"X .modebar.vertical .modebar-group .modebar-btn\":\"display:block;text-align:center;\",\"X [data-title]:before,X [data-title]:after\":\"position:absolute;-webkit-transform:translate3d(0, 0, 0);-moz-transform:translate3d(0, 0, 0);-ms-transform:translate3d(0, 0, 0);-o-transform:translate3d(0, 0, 0);transform:translate3d(0, 0, 0);display:none;opacity:0;z-index:1001;pointer-events:none;top:110%;right:50%;\",\"X [data-title]:hover:before,X [data-title]:hover:after\":\"display:block;opacity:1;\",\"X [data-title]:before\":'content:\"\";position:absolute;background:rgba(0,0,0,0);border:6px solid rgba(0,0,0,0);z-index:1002;margin-top:-12px;border-bottom-color:#69738a;margin-right:-6px;',\"X [data-title]:after\":\"content:attr(data-title);background:#69738a;color:#fff;padding:8px 10px;font-size:12px;line-height:12px;white-space:nowrap;margin-right:-18px;border-radius:2px;\",\"X .vertical [data-title]:before,X .vertical [data-title]:after\":\"top:0%;right:200%;\",\"X .vertical [data-title]:before\":\"border:6px solid rgba(0,0,0,0);border-left-color:#69738a;margin-top:8px;margin-right:-30px;\",Y:'font-family:\"Open Sans\",verdana,arial,sans-serif;position:fixed;top:50px;right:20px;z-index:10000;font-size:10pt;max-width:180px;',\"Y p\":\"margin:0;\",\"Y .notifier-note\":\"min-width:180px;max-width:250px;border:1px solid #fff;z-index:3000;margin:0;background-color:#8c97af;background-color:rgba(140,151,175,.9);color:#fff;padding:10px;overflow-wrap:break-word;word-wrap:break-word;-ms-hyphens:auto;-webkit-hyphens:auto;hyphens:auto;\",\"Y .notifier-close\":\"color:#fff;opacity:.8;float:right;padding:0 5px;background:none;border:none;font-size:20px;font-weight:bold;line-height:20px;\",\"Y .notifier-close:hover\":\"color:#444;text-decoration:none;cursor:pointer;\"};for(var a in i){var o=a.replace(/^,/,\" ,\").replace(/X/g,\".js-plotly-plot .plotly\").replace(/Y/g,\".plotly-notifier\");n.addStyleRule(o,i[a])}},98222:function(t,e,r){\"use strict\";t.exports=r(82887)},27206:function(t,e,r){\"use strict\";t.exports=r(60822)},59893:function(t,e,r){\"use strict\";t.exports=r(23381)},5224:function(t,e,r){\"use strict\";t.exports=r(83832)},59509:function(t,e,r){\"use strict\";t.exports=r(72201)},75557:function(t,e,r){\"use strict\";t.exports=r(91815)},40338:function(t,e,r){\"use strict\";t.exports=r(21462)},35080:function(t,e,r){\"use strict\";t.exports=r(51319)},61396:function(t,e,r){\"use strict\";t.exports=r(57516)},40549:function(t,e,r){\"use strict\";t.exports=r(98128)},49866:function(t,e,r){\"use strict\";t.exports=r(99442)},36089:function(t,e,r){\"use strict\";t.exports=r(93740)},19548:function(t,e,r){\"use strict\";t.exports=r(8729)},35831:function(t,e,r){\"use strict\";t.exports=r(93814)},61039:function(t,e,r){\"use strict\";t.exports=r(14382)},97040:function(t,e,r){\"use strict\";t.exports=r(51759)},77986:function(t,e,r){\"use strict\";t.exports=r(10421)},24296:function(t,e,r){\"use strict\";t.exports=r(43102)},58872:function(t,e,r){\"use strict\";t.exports=r(92165)},29626:function(t,e,r){\"use strict\";t.exports=r(3325)},65591:function(t,e,r){\"use strict\";t.exports=r(36071)},69738:function(t,e,r){\"use strict\";t.exports=r(43905)},92650:function(t,e,r){\"use strict\";t.exports=r(35902)},35630:function(t,e,r){\"use strict\";t.exports=r(69816)},73434:function(t,e,r){\"use strict\";t.exports=r(94507)},27909:function(t,e,r){\"use strict\";var n=r(19548);n.register([r(27206),r(5224),r(58872),r(65591),r(69738),r(92650),r(49866),r(25743),r(6197),r(97040),r(85461),r(73434),r(54201),r(81299),r(47645),r(35630),r(77986),r(83043),r(93005),r(96881),r(4534),r(50581),r(40549),r(77900),r(47582),r(35080),r(21641),r(17280),r(5861),r(29626),r(10021),r(65317),r(96268),r(61396),r(35831),r(16122),r(46163),r(40344),r(40338),r(48131),r(36089),r(55334),r(75557),r(19440),r(99488),r(59893),r(97393),r(98222),r(61039),r(24296),r(66398),r(59509)]),t.exports=n},46163:function(t,e,r){\"use strict\";t.exports=r(15154)},96881:function(t,e,r){\"use strict\";t.exports=r(64943)},50581:function(t,e,r){\"use strict\";t.exports=r(21164)},55334:function(t,e,r){\"use strict\";t.exports=r(54186)},65317:function(t,e,r){\"use strict\";t.exports=r(94873)},10021:function(t,e,r){\"use strict\";t.exports=r(67618)},54201:function(t,e,r){\"use strict\";t.exports=r(58810)},5861:function(t,e,r){\"use strict\";t.exports=r(20593)},16122:function(t,e,r){\"use strict\";t.exports=r(29396)},83043:function(t,e,r){\"use strict\";t.exports=r(13551)},48131:function(t,e,r){\"use strict\";t.exports=r(46858)},47582:function(t,e,r){\"use strict\";t.exports=r(17988)},21641:function(t,e,r){\"use strict\";t.exports=r(68868)},96268:function(t,e,r){\"use strict\";t.exports=r(20467)},19440:function(t,e,r){\"use strict\";t.exports=r(91271)},99488:function(t,e,r){\"use strict\";t.exports=r(21461)},97393:function(t,e,r){\"use strict\";t.exports=r(85956)},25743:function(t,e,r){\"use strict\";t.exports=r(52979)},66398:function(t,e,r){\"use strict\";t.exports=r(32275)},17280:function(t,e,r){\"use strict\";t.exports=r(6419)},77900:function(t,e,r){\"use strict\";t.exports=r(61510)},81299:function(t,e,r){\"use strict\";t.exports=r(87619)},93005:function(t,e,r){\"use strict\";t.exports=r(93601)},40344:function(t,e,r){\"use strict\";t.exports=r(96595)},47645:function(t,e,r){\"use strict\";t.exports=r(70954)},6197:function(t,e,r){\"use strict\";t.exports=r(47462)},4534:function(t,e,r){\"use strict\";t.exports=r(17659)},85461:function(t,e,r){\"use strict\";t.exports=r(19990)},82884:function(t){\"use strict\";t.exports=[{path:\"\",backoff:0},{path:\"M-2.4,-3V3L0.6,0Z\",backoff:.6},{path:\"M-3.7,-2.5V2.5L1.3,0Z\",backoff:1.3},{path:\"M-4.45,-3L-1.65,-0.2V0.2L-4.45,3L1.55,0Z\",backoff:1.55},{path:\"M-2.2,-2.2L-0.2,-0.2V0.2L-2.2,2.2L-1.4,3L1.6,0L-1.4,-3Z\",backoff:1.6},{path:\"M-4.4,-2.1L-0.6,-0.2V0.2L-4.4,2.1L-4,3L2,0L-4,-3Z\",backoff:2},{path:\"M2,0A2,2 0 1,1 0,-2A2,2 0 0,1 2,0Z\",backoff:0,noRotate:!0},{path:\"M2,2V-2H-2V2Z\",backoff:0,noRotate:!0}]},50215:function(t,e,r){\"use strict\";var n=r(82884),i=r(41940),a=r(85555),o=r(44467).templatedArray;r(24695),t.exports=o(\"annotation\",{visible:{valType:\"boolean\",dflt:!0,editType:\"calc+arraydraw\"},text:{valType:\"string\",editType:\"calc+arraydraw\"},textangle:{valType:\"angle\",dflt:0,editType:\"calc+arraydraw\"},font:i({editType:\"calc+arraydraw\",colorEditType:\"arraydraw\"}),width:{valType:\"number\",min:1,dflt:null,editType:\"calc+arraydraw\"},height:{valType:\"number\",min:1,dflt:null,editType:\"calc+arraydraw\"},opacity:{valType:\"number\",min:0,max:1,dflt:1,editType:\"arraydraw\"},align:{valType:\"enumerated\",values:[\"left\",\"center\",\"right\"],dflt:\"center\",editType:\"arraydraw\"},valign:{valType:\"enumerated\",values:[\"top\",\"middle\",\"bottom\"],dflt:\"middle\",editType:\"arraydraw\"},bgcolor:{valType:\"color\",dflt:\"rgba(0,0,0,0)\",editType:\"arraydraw\"},bordercolor:{valType:\"color\",dflt:\"rgba(0,0,0,0)\",editType:\"arraydraw\"},borderpad:{valType:\"number\",min:0,dflt:1,editType:\"calc+arraydraw\"},borderwidth:{valType:\"number\",min:0,dflt:1,editType:\"calc+arraydraw\"},showarrow:{valType:\"boolean\",dflt:!0,editType:\"calc+arraydraw\"},arrowcolor:{valType:\"color\",editType:\"arraydraw\"},arrowhead:{valType:\"integer\",min:0,max:n.length,dflt:1,editType:\"arraydraw\"},startarrowhead:{valType:\"integer\",min:0,max:n.length,dflt:1,editType:\"arraydraw\"},arrowside:{valType:\"flaglist\",flags:[\"end\",\"start\"],extras:[\"none\"],dflt:\"end\",editType:\"arraydraw\"},arrowsize:{valType:\"number\",min:.3,dflt:1,editType:\"calc+arraydraw\"},startarrowsize:{valType:\"number\",min:.3,dflt:1,editType:\"calc+arraydraw\"},arrowwidth:{valType:\"number\",min:.1,editType:\"calc+arraydraw\"},standoff:{valType:\"number\",min:0,dflt:0,editType:\"calc+arraydraw\"},startstandoff:{valType:\"number\",min:0,dflt:0,editType:\"calc+arraydraw\"},ax:{valType:\"any\",editType:\"calc+arraydraw\"},ay:{valType:\"any\",editType:\"calc+arraydraw\"},axref:{valType:\"enumerated\",dflt:\"pixel\",values:[\"pixel\",a.idRegex.x.toString()],editType:\"calc\"},ayref:{valType:\"enumerated\",dflt:\"pixel\",values:[\"pixel\",a.idRegex.y.toString()],editType:\"calc\"},xref:{valType:\"enumerated\",values:[\"paper\",a.idRegex.x.toString()],editType:\"calc\"},x:{valType:\"any\",editType:\"calc+arraydraw\"},xanchor:{valType:\"enumerated\",values:[\"auto\",\"left\",\"center\",\"right\"],dflt:\"auto\",editType:\"calc+arraydraw\"},xshift:{valType:\"number\",dflt:0,editType:\"calc+arraydraw\"},yref:{valType:\"enumerated\",values:[\"paper\",a.idRegex.y.toString()],editType:\"calc\"},y:{valType:\"any\",editType:\"calc+arraydraw\"},yanchor:{valType:\"enumerated\",values:[\"auto\",\"top\",\"middle\",\"bottom\"],dflt:\"auto\",editType:\"calc+arraydraw\"},yshift:{valType:\"number\",dflt:0,editType:\"calc+arraydraw\"},clicktoshow:{valType:\"enumerated\",values:[!1,\"onoff\",\"onout\"],dflt:!1,editType:\"arraydraw\"},xclick:{valType:\"any\",editType:\"arraydraw\"},yclick:{valType:\"any\",editType:\"arraydraw\"},hovertext:{valType:\"string\",editType:\"arraydraw\"},hoverlabel:{bgcolor:{valType:\"color\",editType:\"arraydraw\"},bordercolor:{valType:\"color\",editType:\"arraydraw\"},font:i({editType:\"arraydraw\"}),editType:\"arraydraw\"},captureevents:{valType:\"boolean\",editType:\"arraydraw\"},editType:\"calc\",_deprecated:{ref:{valType:\"string\",editType:\"calc\"}}})},3749:function(t,e,r){\"use strict\";var n=r(71828),i=r(89298),a=r(92605).draw;function o(t){var e=t._fullLayout;n.filterVisible(e.annotations).forEach((function(e){var r=i.getFromId(t,e.xref),n=i.getFromId(t,e.yref),a=i.getRefType(e.xref),o=i.getRefType(e.yref);e._extremes={},\"range\"===a&&s(e,r),\"range\"===o&&s(e,n)}))}function s(t,e){var r,n=e._id,a=n.charAt(0),o=t[a],s=t[\"a\"+a],l=t[a+\"ref\"],u=t[\"a\"+a+\"ref\"],c=t[\"_\"+a+\"padplus\"],f=t[\"_\"+a+\"padminus\"],h={x:1,y:-1}[a]*t[a+\"shift\"],p=3*t.arrowsize*t.arrowwidth||0,d=p+h,v=p-h,g=3*t.startarrowsize*t.arrowwidth||0,y=g+h,m=g-h;if(u===l){var x=i.findExtremes(e,[e.r2c(o)],{ppadplus:d,ppadminus:v}),b=i.findExtremes(e,[e.r2c(s)],{ppadplus:Math.max(c,y),ppadminus:Math.max(f,m)});r={min:[x.min[0],b.min[0]],max:[x.max[0],b.max[0]]}}else y=s?y+s:y,m=s?m-s:m,r=i.findExtremes(e,[e.r2c(o)],{ppadplus:Math.max(c,d,y),ppadminus:Math.max(f,v,m)});t._extremes[n]=r}t.exports=function(t){var e=t._fullLayout;if(n.filterVisible(e.annotations).length&&t._fullData.length)return n.syncOrAsync([a,o],t)}},44317:function(t,e,r){\"use strict\";var n=r(71828),i=r(73972),a=r(44467).arrayEditor;function o(t,e){var r,n,i,a,o,l,u,c=t._fullLayout.annotations,f=[],h=[],p=[],d=(e||[]).length;for(r=0;r<c.length;r++)if(a=(i=c[r]).clicktoshow){for(n=0;n<d;n++)if(l=(o=e[n]).xaxis,u=o.yaxis,l._id===i.xref&&u._id===i.yref&&l.d2r(o.x)===s(i._xclick,l)&&u.d2r(o.y)===s(i._yclick,u)){(i.visible?\"onout\"===a?h:p:f).push(r);break}n===d&&i.visible&&\"onout\"===a&&h.push(r)}return{on:f,off:h,explicitOff:p}}function s(t,e){return\"log\"===e.type?e.l2r(t):e.d2r(t)}t.exports={hasClickToShow:function(t,e){var r=o(t,e);return r.on.length>0||r.explicitOff.length>0},onClick:function(t,e){var r,s,l=o(t,e),u=l.on,c=l.off.concat(l.explicitOff),f={},h=t._fullLayout.annotations;if(u.length||c.length){for(r=0;r<u.length;r++)(s=a(t.layout,\"annotations\",h[u[r]])).modifyItem(\"visible\",!0),n.extendFlat(f,s.getUpdateObj());for(r=0;r<c.length;r++)(s=a(t.layout,\"annotations\",h[c[r]])).modifyItem(\"visible\",!1),n.extendFlat(f,s.getUpdateObj());return i.call(\"update\",t,{},f)}}}},25625:function(t,e,r){\"use strict\";var n=r(71828),i=r(7901);t.exports=function(t,e,r,a){a(\"opacity\");var o=a(\"bgcolor\"),s=a(\"bordercolor\"),l=i.opacity(s);a(\"borderpad\");var u=a(\"borderwidth\"),c=a(\"showarrow\");if(a(\"text\",c?\" \":r._dfltTitle.annotation),a(\"textangle\"),n.coerceFont(a,\"font\",r.font),a(\"width\"),a(\"align\"),a(\"height\")&&a(\"valign\"),c){var f,h,p=a(\"arrowside\");-1!==p.indexOf(\"end\")&&(f=a(\"arrowhead\"),h=a(\"arrowsize\")),-1!==p.indexOf(\"start\")&&(a(\"startarrowhead\",f),a(\"startarrowsize\",h)),a(\"arrowcolor\",l?e.bordercolor:i.defaultLine),a(\"arrowwidth\",2*(l&&u||1)),a(\"standoff\"),a(\"startstandoff\")}var d=a(\"hovertext\"),v=r.hoverlabel||{};if(d){var g=a(\"hoverlabel.bgcolor\",v.bgcolor||(i.opacity(o)?i.rgb(o):i.defaultLine)),y=a(\"hoverlabel.bordercolor\",v.bordercolor||i.contrast(g));n.coerceFont(a,\"hoverlabel.font\",{family:v.font.family,size:v.font.size,color:v.font.color||y})}a(\"captureevents\",!!d)}},94128:function(t,e,r){\"use strict\";var n=r(92770),i=r(58163);t.exports=function(t,e,r,a){e=e||{};var o=\"log\"===r&&\"linear\"===e.type,s=\"linear\"===r&&\"log\"===e.type;if(o||s)for(var l,u,c=t._fullLayout.annotations,f=e._id.charAt(0),h=0;h<c.length;h++)l=c[h],u=\"annotations[\"+h+\"].\",l[f+\"ref\"]===e._id&&p(f),l[\"a\"+f+\"ref\"]===e._id&&p(\"a\"+f);function p(t){var r=l[t],s=null;s=o?i(r,e.range):Math.pow(10,r),n(s)||(s=null),a(u+t,s)}}},84046:function(t,e,r){\"use strict\";var n=r(71828),i=r(89298),a=r(85501),o=r(25625),s=r(50215);function l(t,e,r){function a(r,i){return n.coerce(t,e,s,r,i)}var l=a(\"visible\"),u=a(\"clicktoshow\");if(l||u){o(t,e,r,a);for(var c=e.showarrow,f=[\"x\",\"y\"],h=[-10,-30],p={_fullLayout:r},d=0;d<2;d++){var v=f[d],g=i.coerceRef(t,e,p,v,\"\",\"paper\");if(\"paper\"!==g&&i.getFromId(p,g)._annIndices.push(e._index),i.coercePosition(e,p,a,g,v,.5),c){var y=\"a\"+v,m=i.coerceRef(t,e,p,y,\"pixel\",[\"pixel\",\"paper\"]);\"pixel\"!==m&&m!==g&&(m=e[y]=\"pixel\");var x=\"pixel\"===m?h[d]:.4;i.coercePosition(e,p,a,m,y,x)}a(v+\"anchor\"),a(v+\"shift\")}if(n.noneOrAll(t,e,[\"x\",\"y\"]),c&&n.noneOrAll(t,e,[\"ax\",\"ay\"]),u){var b=a(\"xclick\"),_=a(\"yclick\");e._xclick=void 0===b?e.x:i.cleanPosition(b,p,e.xref),e._yclick=void 0===_?e.y:i.cleanPosition(_,p,e.yref)}}}t.exports=function(t,e){a(t,e,{name:\"annotations\",handleItemDefaults:l})}},92605:function(t,e,r){\"use strict\";var n=r(39898),i=r(73972),a=r(74875),o=r(71828),s=o.strTranslate,l=r(89298),u=r(7901),c=r(91424),f=r(30211),h=r(63893),p=r(6964),d=r(28569),v=r(44467).arrayEditor,g=r(13011);function y(t,e){var r=t._fullLayout.annotations[e]||{},n=l.getFromId(t,r.xref),i=l.getFromId(t,r.yref);n&&n.setScale(),i&&i.setScale(),x(t,r,e,!1,n,i)}function m(t,e,r,n,i){var a=i[r],o=i[r+\"ref\"],s=-1!==r.indexOf(\"y\"),u=\"domain\"===l.getRefType(o),c=s?n.h:n.w;return t?u?a+(s?-e:e)/t._length:t.p2r(t.r2p(a)+e):a+(s?-e:e)/c}function x(t,e,r,a,y,x){var b,_,w=t._fullLayout,T=t._fullLayout._size,k=t._context.edits;a?(b=\"annotation-\"+a,_=a+\".annotations\"):(b=\"annotation\",_=\"annotations\");var A=v(t.layout,_,e),M=A.modifyBase,S=A.modifyItem,E=A.getUpdateObj;w._infolayer.selectAll(\".\"+b+'[data-index=\"'+r+'\"]').remove();var L=\"clip\"+w._uid+\"_ann\"+r;if(e._input&&!1!==e.visible){var C={x:{},y:{}},P=+e.textangle||0,O=w._infolayer.append(\"g\").classed(b,!0).attr(\"data-index\",String(r)).style(\"opacity\",e.opacity),I=O.append(\"g\").classed(\"annotation-text-g\",!0),D=k[e.showarrow?\"annotationTail\":\"annotationPosition\"],z=e.captureevents||k.annotationText||D,R=I.append(\"g\").style(\"pointer-events\",z?\"all\":null).call(p,\"pointer\").on(\"click\",(function(){t._dragging=!1,t.emit(\"plotly_clickannotation\",Z(n.event))}));e.hovertext&&R.on(\"mouseover\",(function(){var r=e.hoverlabel,n=r.font,i=this.getBoundingClientRect(),a=t.getBoundingClientRect();f.loneHover({x0:i.left-a.left,x1:i.right-a.left,y:(i.top+i.bottom)/2-a.top,text:e.hovertext,color:r.bgcolor,borderColor:r.bordercolor,fontFamily:n.family,fontSize:n.size,fontColor:n.color},{container:w._hoverlayer.node(),outerContainer:w._paper.node(),gd:t})})).on(\"mouseout\",(function(){f.loneUnhover(w._hoverlayer.node())}));var F=e.borderwidth,B=e.borderpad,N=F+B,j=R.append(\"rect\").attr(\"class\",\"bg\").style(\"stroke-width\",F+\"px\").call(u.stroke,e.bordercolor).call(u.fill,e.bgcolor),U=e.width||e.height,V=w._topclips.selectAll(\"#\"+L).data(U?[0]:[]);V.enter().append(\"clipPath\").classed(\"annclip\",!0).attr(\"id\",L).append(\"rect\"),V.exit().remove();var H=e.font,q=w._meta?o.templateString(e.text,w._meta):e.text,G=R.append(\"text\").classed(\"annotation-text\",!0).text(q);k.annotationText?G.call(h.makeEditable,{delegate:R,gd:t}).call(Y).on(\"edit\",(function(r){e.text=r,this.call(Y),S(\"text\",r),y&&y.autorange&&M(y._name+\".autorange\",!0),x&&x.autorange&&M(x._name+\".autorange\",!0),i.call(\"_guiRelayout\",t,E())})):G.call(Y)}else n.selectAll(\"#\"+L).remove();function Z(t){var n={index:r,annotation:e._input,fullAnnotation:e,event:t};return a&&(n.subplotId=a),n}function Y(r){return r.call(c.font,H).attr({\"text-anchor\":{left:\"start\",right:\"end\"}[e.align]||\"middle\"}),h.convertToTspans(r,t,W),r}function W(){var r=G.selectAll(\"a\");1===r.size()&&r.text()===G.text()&&R.insert(\"a\",\":first-child\").attr({\"xlink:xlink:href\":r.attr(\"xlink:href\"),\"xlink:xlink:show\":r.attr(\"xlink:show\")}).style({cursor:\"pointer\"}).node().appendChild(j.node());var n=R.select(\".annotation-text-math-group\"),f=!n.empty(),v=c.bBox((f?n:G).node()),b=v.width,_=v.height,A=e.width||b,z=e.height||_,B=Math.round(A+2*N),H=Math.round(z+2*N);function q(t,e){return\"auto\"===e&&(e=t<1/3?\"left\":t>2/3?\"right\":\"center\"),{center:0,middle:0,left:.5,bottom:-.5,right:-.5,top:.5}[e]}for(var Y=!1,W=[\"x\",\"y\"],X=0;X<W.length;X++){var J,K,$,Q,tt,et=W[X],rt=e[et+\"ref\"]||et,nt=e[\"a\"+et+\"ref\"],it={x:y,y:x}[et],at=(P+(\"x\"===et?0:-90))*Math.PI/180,ot=B*Math.cos(at),st=H*Math.sin(at),lt=Math.abs(ot)+Math.abs(st),ut=e[et+\"anchor\"],ct=e[et+\"shift\"]*(\"x\"===et?1:-1),ft=C[et],ht=l.getRefType(rt);if(it&&\"domain\"!==ht){var pt=it.r2fraction(e[et]);(pt<0||pt>1)&&(nt===rt?((pt=it.r2fraction(e[\"a\"+et]))<0||pt>1)&&(Y=!0):Y=!0),J=it._offset+it.r2p(e[et]),Q=.5}else{var dt=\"domain\"===ht;\"x\"===et?($=e[et],J=dt?it._offset+it._length*$:J=T.l+T.w*$):($=1-e[et],J=dt?it._offset+it._length*$:J=T.t+T.h*$),Q=e.showarrow?.5:$}if(e.showarrow){ft.head=J;var vt=e[\"a\"+et];if(tt=ot*q(.5,e.xanchor)-st*q(.5,e.yanchor),nt===rt){var gt=l.getRefType(nt);\"domain\"===gt?(\"y\"===et&&(vt=1-vt),ft.tail=it._offset+it._length*vt):\"paper\"===gt?\"y\"===et?(vt=1-vt,ft.tail=T.t+T.h*vt):ft.tail=T.l+T.w*vt:ft.tail=it._offset+it.r2p(vt),K=tt}else ft.tail=J+vt,K=tt+vt;ft.text=ft.tail+tt;var yt=w[\"x\"===et?\"width\":\"height\"];if(\"paper\"===rt&&(ft.head=o.constrain(ft.head,1,yt-1)),\"pixel\"===nt){var mt=-Math.max(ft.tail-3,ft.text),xt=Math.min(ft.tail+3,ft.text)-yt;mt>0?(ft.tail+=mt,ft.text+=mt):xt>0&&(ft.tail-=xt,ft.text-=xt)}ft.tail+=ct,ft.head+=ct}else K=tt=lt*q(Q,ut),ft.text=J+tt;ft.text+=ct,tt+=ct,K+=ct,e[\"_\"+et+\"padplus\"]=lt/2+K,e[\"_\"+et+\"padminus\"]=lt/2-K,e[\"_\"+et+\"size\"]=lt,e[\"_\"+et+\"shift\"]=tt}if(Y)R.remove();else{var bt=0,_t=0;if(\"left\"!==e.align&&(bt=(A-b)*(\"center\"===e.align?.5:1)),\"top\"!==e.valign&&(_t=(z-_)*(\"middle\"===e.valign?.5:1)),f)n.select(\"svg\").attr({x:N+bt-1,y:N+_t}).call(c.setClipUrl,U?L:null,t);else{var wt=N+_t-v.top,Tt=N+bt-v.left;G.call(h.positionText,Tt,wt).call(c.setClipUrl,U?L:null,t)}V.select(\"rect\").call(c.setRect,N,N,A,z),j.call(c.setRect,F/2,F/2,B-F,H-F),R.call(c.setTranslate,Math.round(C.x.text-B/2),Math.round(C.y.text-H/2)),I.attr({transform:\"rotate(\"+P+\",\"+C.x.text+\",\"+C.y.text+\")\"});var kt,At=function(r,n){O.selectAll(\".annotation-arrow-g\").remove();var l=C.x.head,f=C.y.head,h=C.x.tail+r,p=C.y.tail+n,v=C.x.text+r,b=C.y.text+n,_=o.rotationXYMatrix(P,v,b),w=o.apply2DTransform(_),A=o.apply2DTransform2(_),L=+j.attr(\"width\"),D=+j.attr(\"height\"),z=v-.5*L,F=z+L,B=b-.5*D,N=B+D,U=[[z,B,z,N],[z,N,F,N],[F,N,F,B],[F,B,z,B]].map(A);if(!U.reduce((function(t,e){return t^!!o.segmentsIntersect(l,f,l+1e6,f+1e6,e[0],e[1],e[2],e[3])}),!1)){U.forEach((function(t){var e=o.segmentsIntersect(h,p,l,f,t[0],t[1],t[2],t[3]);e&&(h=e.x,p=e.y)}));var V=e.arrowwidth,H=e.arrowcolor,q=e.arrowside,G=O.append(\"g\").style({opacity:u.opacity(H)}).classed(\"annotation-arrow-g\",!0),Z=G.append(\"path\").attr(\"d\",\"M\"+h+\",\"+p+\"L\"+l+\",\"+f).style(\"stroke-width\",V+\"px\").call(u.stroke,u.rgb(H));if(g(Z,q,e),k.annotationPosition&&Z.node().parentNode&&!a){var Y=l,W=f;if(e.standoff){var X=Math.sqrt(Math.pow(l-h,2)+Math.pow(f-p,2));Y+=e.standoff*(h-l)/X,W+=e.standoff*(p-f)/X}var J,K,$=G.append(\"path\").classed(\"annotation-arrow\",!0).classed(\"anndrag\",!0).classed(\"cursor-move\",!0).attr({d:\"M3,3H-3V-3H3ZM0,0L\"+(h-Y)+\",\"+(p-W),transform:s(Y,W)}).style(\"stroke-width\",V+6+\"px\").call(u.stroke,\"rgba(0,0,0,0)\").call(u.fill,\"rgba(0,0,0,0)\");d.init({element:$.node(),gd:t,prepFn:function(){var t=c.getTranslate(R);J=t.x,K=t.y,y&&y.autorange&&M(y._name+\".autorange\",!0),x&&x.autorange&&M(x._name+\".autorange\",!0)},moveFn:function(t,r){var n=w(J,K),i=n[0]+t,a=n[1]+r;R.call(c.setTranslate,i,a),S(\"x\",m(y,t,\"x\",T,e)),S(\"y\",m(x,r,\"y\",T,e)),e.axref===e.xref&&S(\"ax\",m(y,t,\"ax\",T,e)),e.ayref===e.yref&&S(\"ay\",m(x,r,\"ay\",T,e)),G.attr(\"transform\",s(t,r)),I.attr({transform:\"rotate(\"+P+\",\"+i+\",\"+a+\")\"})},doneFn:function(){i.call(\"_guiRelayout\",t,E());var e=document.querySelector(\".js-notes-box-panel\");e&&e.redraw(e.selectedObj)}})}}};e.showarrow&&At(0,0),D&&d.init({element:R.node(),gd:t,prepFn:function(){kt=I.attr(\"transform\")},moveFn:function(t,r){var n=\"pointer\";if(e.showarrow)e.axref===e.xref?S(\"ax\",m(y,t,\"ax\",T,e)):S(\"ax\",e.ax+t),e.ayref===e.yref?S(\"ay\",m(x,r,\"ay\",T.w,e)):S(\"ay\",e.ay+r),At(t,r);else{if(a)return;var i,o;if(y)i=m(y,t,\"x\",T,e);else{var l=e._xsize/T.w,u=e.x+(e._xshift-e.xshift)/T.w-l/2;i=d.align(u+t/T.w,l,0,1,e.xanchor)}if(x)o=m(x,r,\"y\",T,e);else{var c=e._ysize/T.h,f=e.y-(e._yshift+e.yshift)/T.h-c/2;o=d.align(f-r/T.h,c,0,1,e.yanchor)}S(\"x\",i),S(\"y\",o),y&&x||(n=d.getCursor(y?.5:i,x?.5:o,e.xanchor,e.yanchor))}I.attr({transform:s(t,r)+kt}),p(R,n)},clickFn:function(r,n){e.captureevents&&t.emit(\"plotly_clickannotation\",Z(n))},doneFn:function(){p(R),i.call(\"_guiRelayout\",t,E());var e=document.querySelector(\".js-notes-box-panel\");e&&e.redraw(e.selectedObj)}})}}}t.exports={draw:function(t){var e=t._fullLayout;e._infolayer.selectAll(\".annotation\").remove();for(var r=0;r<e.annotations.length;r++)e.annotations[r].visible&&y(t,r);return a.previousPromises(t)},drawOne:y,drawRaw:x}},13011:function(t,e,r){\"use strict\";var n=r(39898),i=r(7901),a=r(82884),o=r(71828),s=o.strScale,l=o.strRotate,u=o.strTranslate;t.exports=function(t,e,r){var o,c,f,h,p=t.node(),d=a[r.arrowhead||0],v=a[r.startarrowhead||0],g=(r.arrowwidth||1)*(r.arrowsize||1),y=(r.arrowwidth||1)*(r.startarrowsize||1),m=e.indexOf(\"start\")>=0,x=e.indexOf(\"end\")>=0,b=d.backoff*g+r.standoff,_=v.backoff*y+r.startstandoff;if(\"line\"===p.nodeName){o={x:+t.attr(\"x1\"),y:+t.attr(\"y1\")},c={x:+t.attr(\"x2\"),y:+t.attr(\"y2\")};var w=o.x-c.x,T=o.y-c.y;if(h=(f=Math.atan2(T,w))+Math.PI,b&&_&&b+_>Math.sqrt(w*w+T*T))return void D();if(b){if(b*b>w*w+T*T)return void D();var k=b*Math.cos(f),A=b*Math.sin(f);c.x+=k,c.y+=A,t.attr({x2:c.x,y2:c.y})}if(_){if(_*_>w*w+T*T)return void D();var M=_*Math.cos(f),S=_*Math.sin(f);o.x-=M,o.y-=S,t.attr({x1:o.x,y1:o.y})}}else if(\"path\"===p.nodeName){var E=p.getTotalLength(),L=\"\";if(E<b+_)return void D();var C=p.getPointAtLength(0),P=p.getPointAtLength(.1);f=Math.atan2(C.y-P.y,C.x-P.x),o=p.getPointAtLength(Math.min(_,E)),L=\"0px,\"+_+\"px,\";var O=p.getPointAtLength(E),I=p.getPointAtLength(E-.1);h=Math.atan2(O.y-I.y,O.x-I.x),c=p.getPointAtLength(Math.max(0,E-b)),L+=E-(L?_+b:b)+\"px,\"+E+\"px\",t.style(\"stroke-dasharray\",L)}function D(){t.style(\"stroke-dasharray\",\"0px,100px\")}function z(e,a,o,c){e.path&&(e.noRotate&&(o=0),n.select(p.parentNode).append(\"path\").attr({class:t.attr(\"class\"),d:e.path,transform:u(a.x,a.y)+l(180*o/Math.PI)+s(c)}).style({fill:i.rgb(r.arrowcolor),\"stroke-width\":0}))}m&&z(v,o,f,y),x&&z(d,c,h,g)}},32745:function(t,e,r){\"use strict\";var n=r(92605),i=r(44317);t.exports={moduleType:\"component\",name:\"annotations\",layoutAttributes:r(50215),supplyLayoutDefaults:r(84046),includeBasePlot:r(76325)(\"annotations\"),calcAutorange:r(3749),draw:n.draw,drawOne:n.drawOne,drawRaw:n.drawRaw,hasClickToShow:i.hasClickToShow,onClick:i.onClick,convertCoords:r(94128)}},26997:function(t,e,r){\"use strict\";var n=r(50215),i=r(30962).overrideAll,a=r(44467).templatedArray;t.exports=i(a(\"annotation\",{visible:n.visible,x:{valType:\"any\"},y:{valType:\"any\"},z:{valType:\"any\"},ax:{valType:\"number\"},ay:{valType:\"number\"},xanchor:n.xanchor,xshift:n.xshift,yanchor:n.yanchor,yshift:n.yshift,text:n.text,textangle:n.textangle,font:n.font,width:n.width,height:n.height,opacity:n.opacity,align:n.align,valign:n.valign,bgcolor:n.bgcolor,bordercolor:n.bordercolor,borderpad:n.borderpad,borderwidth:n.borderwidth,showarrow:n.showarrow,arrowcolor:n.arrowcolor,arrowhead:n.arrowhead,startarrowhead:n.startarrowhead,arrowside:n.arrowside,arrowsize:n.arrowsize,startarrowsize:n.startarrowsize,arrowwidth:n.arrowwidth,standoff:n.standoff,startstandoff:n.startstandoff,hovertext:n.hovertext,hoverlabel:n.hoverlabel,captureevents:n.captureevents}),\"calc\",\"from-root\")},5485:function(t,e,r){\"use strict\";var n=r(71828),i=r(89298);function a(t,e){var r=e.fullSceneLayout.domain,a=e.fullLayout._size,o={pdata:null,type:\"linear\",autorange:!1,range:[-1/0,1/0]};t._xa={},n.extendFlat(t._xa,o),i.setConvert(t._xa),t._xa._offset=a.l+r.x[0]*a.w,t._xa.l2p=function(){return.5*(1+t._pdata[0]/t._pdata[3])*a.w*(r.x[1]-r.x[0])},t._ya={},n.extendFlat(t._ya,o),i.setConvert(t._ya),t._ya._offset=a.t+(1-r.y[1])*a.h,t._ya.l2p=function(){return.5*(1-t._pdata[1]/t._pdata[3])*a.h*(r.y[1]-r.y[0])}}t.exports=function(t){for(var e=t.fullSceneLayout.annotations,r=0;r<e.length;r++)a(e[r],t);t.fullLayout._infolayer.selectAll(\".annotation-\"+t.id).remove()}},20226:function(t,e,r){\"use strict\";var n=r(71828),i=r(89298),a=r(85501),o=r(25625),s=r(26997);function l(t,e,r,a){function l(r,i){return n.coerce(t,e,s,r,i)}function u(t){var n=t+\"axis\",a={_fullLayout:{}};return a._fullLayout[n]=r[n],i.coercePosition(e,a,l,t,t,.5)}l(\"visible\")&&(o(t,e,a.fullLayout,l),u(\"x\"),u(\"y\"),u(\"z\"),n.noneOrAll(t,e,[\"x\",\"y\",\"z\"]),e.xref=\"x\",e.yref=\"y\",e.zref=\"z\",l(\"xanchor\"),l(\"yanchor\"),l(\"xshift\"),l(\"yshift\"),e.showarrow&&(e.axref=\"pixel\",e.ayref=\"pixel\",l(\"ax\",-10),l(\"ay\",-30),n.noneOrAll(t,e,[\"ax\",\"ay\"])))}t.exports=function(t,e,r){a(t,e,{name:\"annotations\",handleItemDefaults:l,fullLayout:r.fullLayout})}},82188:function(t,e,r){\"use strict\";var n=r(92605).drawRaw,i=r(63538),a=[\"x\",\"y\",\"z\"];t.exports=function(t){for(var e=t.fullSceneLayout,r=t.dataScale,o=e.annotations,s=0;s<o.length;s++){for(var l=o[s],u=!1,c=0;c<3;c++){var f=a[c],h=l[f],p=e[f+\"axis\"].r2fraction(h);if(p<0||p>1){u=!0;break}}u?t.fullLayout._infolayer.select(\".annotation-\"+t.id+'[data-index=\"'+s+'\"]').remove():(l._pdata=i(t.glplot.cameraParams,[e.xaxis.r2l(l.x)*r[0],e.yaxis.r2l(l.y)*r[1],e.zaxis.r2l(l.z)*r[2]]),n(t.graphDiv,l,s,t.id,l._xa,l._ya))}}},2468:function(t,e,r){\"use strict\";var n=r(73972),i=r(71828);t.exports={moduleType:\"component\",name:\"annotations3d\",schema:{subplots:{scene:{annotations:r(26997)}}},layoutAttributes:r(26997),handleDefaults:r(20226),includeBasePlot:function(t,e){var r=n.subplotsRegistry.gl3d;if(r)for(var a=r.attrRegex,o=Object.keys(t),s=0;s<o.length;s++){var l=o[s];a.test(l)&&(t[l].annotations||[]).length&&(i.pushUnique(e._basePlotModules,r),i.pushUnique(e._subplots.gl3d,l))}},convert:r(5485),draw:r(82188)}},7561:function(t,e,r){\"use strict\";t.exports=r(63489),r(94338),r(3961),r(38751),r(86825),r(37715),r(99384),r(43805),r(88874),r(83290),r(29108),r(55422),r(94320),r(31320),r(51367),r(21457)},72201:function(t,e,r){\"use strict\";var n=r(7561),i=r(71828),a=r(50606),o=a.EPOCHJD,s=a.ONEDAY,l={valType:\"enumerated\",values:i.sortObjectKeys(n.calendars),editType:\"calc\",dflt:\"gregorian\"},u=function(t,e,r,n){var a={};return a[r]=l,i.coerce(t,e,a,r,n)},c=\"##\",f={d:{0:\"dd\",\"-\":\"d\"},e:{0:\"d\",\"-\":\"d\"},a:{0:\"D\",\"-\":\"D\"},A:{0:\"DD\",\"-\":\"DD\"},j:{0:\"oo\",\"-\":\"o\"},W:{0:\"ww\",\"-\":\"w\"},m:{0:\"mm\",\"-\":\"m\"},b:{0:\"M\",\"-\":\"M\"},B:{0:\"MM\",\"-\":\"MM\"},y:{0:\"yy\",\"-\":\"yy\"},Y:{0:\"yyyy\",\"-\":\"yyyy\"},U:c,w:c,c:{0:\"D M d %X yyyy\",\"-\":\"D M d %X yyyy\"},x:{0:\"mm/dd/yyyy\",\"-\":\"mm/dd/yyyy\"}},h={};function p(t){var e=h[t];return e||(h[t]=n.instance(t))}function d(t){return i.extendFlat({},l,{description:t})}function v(t){return\"Sets the calendar system to use with `\"+t+\"` date data.\"}var g={xcalendar:d(v(\"x\"))},y=i.extendFlat({},g,{ycalendar:d(v(\"y\"))}),m=i.extendFlat({},y,{zcalendar:d(v(\"z\"))}),x=d([\"Sets the calendar system to use for `range` and `tick0`\",\"if this is a date axis. This does not set the calendar for\",\"interpreting data on this axis, that's specified in the trace\",\"or via the global `layout.calendar`\"].join(\" \"));t.exports={moduleType:\"component\",name:\"calendars\",schema:{traces:{scatter:y,bar:y,box:y,heatmap:y,contour:y,histogram:y,histogram2d:y,histogram2dcontour:y,scatter3d:m,surface:m,mesh3d:m,scattergl:y,ohlc:g,candlestick:g},layout:{calendar:d([\"Sets the default calendar system to use for interpreting and\",\"displaying dates throughout the plot.\"].join(\" \"))},subplots:{xaxis:{calendar:x},yaxis:{calendar:x},scene:{xaxis:{calendar:x},yaxis:{calendar:x},zaxis:{calendar:x}},polar:{radialaxis:{calendar:x}}},transforms:{filter:{valuecalendar:d([\"WARNING: All transforms are deprecated and may be removed from the API in next major version.\",\"Sets the calendar system to use for `value`, if it is a date.\"].join(\" \")),targetcalendar:d([\"WARNING: All transforms are deprecated and may be removed from the API in next major version.\",\"Sets the calendar system to use for `target`, if it is an\",\"array of dates. If `target` is a string (eg *x*) we use the\",\"corresponding trace attribute (eg `xcalendar`) if it exists,\",\"even if `targetcalendar` is provided.\"].join(\" \"))}}},layoutAttributes:l,handleDefaults:u,handleTraceDefaults:function(t,e,r,n){for(var i=0;i<r.length;i++)u(t,e,r[i]+\"calendar\",n.calendar)},CANONICAL_SUNDAY:{chinese:\"2000-01-02\",coptic:\"2000-01-03\",discworld:\"2000-01-03\",ethiopian:\"2000-01-05\",hebrew:\"5000-01-01\",islamic:\"1000-01-02\",julian:\"2000-01-03\",mayan:\"5000-01-01\",nanakshahi:\"1000-01-05\",nepali:\"2000-01-05\",persian:\"1000-01-01\",jalali:\"1000-01-01\",taiwan:\"1000-01-04\",thai:\"2000-01-04\",ummalqura:\"1400-01-06\"},CANONICAL_TICK:{chinese:\"2000-01-01\",coptic:\"2000-01-01\",discworld:\"2000-01-01\",ethiopian:\"2000-01-01\",hebrew:\"5000-01-01\",islamic:\"1000-01-01\",julian:\"2000-01-01\",mayan:\"5000-01-01\",nanakshahi:\"1000-01-01\",nepali:\"2000-01-01\",persian:\"1000-01-01\",jalali:\"1000-01-01\",taiwan:\"1000-01-01\",thai:\"2000-01-01\",ummalqura:\"1400-01-01\"},DFLTRANGE:{chinese:[\"2000-01-01\",\"2001-01-01\"],coptic:[\"1700-01-01\",\"1701-01-01\"],discworld:[\"1800-01-01\",\"1801-01-01\"],ethiopian:[\"2000-01-01\",\"2001-01-01\"],hebrew:[\"5700-01-01\",\"5701-01-01\"],islamic:[\"1400-01-01\",\"1401-01-01\"],julian:[\"2000-01-01\",\"2001-01-01\"],mayan:[\"5200-01-01\",\"5201-01-01\"],nanakshahi:[\"0500-01-01\",\"0501-01-01\"],nepali:[\"2000-01-01\",\"2001-01-01\"],persian:[\"1400-01-01\",\"1401-01-01\"],jalali:[\"1400-01-01\",\"1401-01-01\"],taiwan:[\"0100-01-01\",\"0101-01-01\"],thai:[\"2500-01-01\",\"2501-01-01\"],ummalqura:[\"1400-01-01\",\"1401-01-01\"]},getCal:p,worldCalFmt:function(t,e,r){for(var n,i,a,l,u,h=Math.floor((e+.05)/s)+o,d=p(r).fromJD(h),v=0;-1!==(v=t.indexOf(\"%\",v));)\"0\"===(n=t.charAt(v+1))||\"-\"===n||\"_\"===n?(a=3,i=t.charAt(v+2),\"_\"===n&&(n=\"-\")):(i=n,n=\"0\",a=2),(l=f[i])?(u=l===c?c:d.formatDate(l[n]),t=t.substr(0,v)+u+t.substr(v+a),v+=u.length):v+=a;return t}}},22399:function(t,e){\"use strict\";e.defaults=[\"#1f77b4\",\"#ff7f0e\",\"#2ca02c\",\"#d62728\",\"#9467bd\",\"#8c564b\",\"#e377c2\",\"#7f7f7f\",\"#bcbd22\",\"#17becf\"],e.defaultLine=\"#444\",e.lightLine=\"#eee\",e.background=\"#fff\",e.borderLine=\"#BEC8D9\",e.lightFraction=1e3/11},7901:function(t,e,r){\"use strict\";var n=r(84267),i=r(92770),a=r(73627).isTypedArray,o=t.exports={},s=r(22399);o.defaults=s.defaults;var l=o.defaultLine=s.defaultLine;o.lightLine=s.lightLine;var u=o.background=s.background;function c(t){if(i(t)||\"string\"!=typeof t)return t;var e=t.trim();if(\"rgb\"!==e.substr(0,3))return t;var r=e.match(/^rgba?\\s*\\(([^()]*)\\)$/);if(!r)return t;var n=r[1].trim().split(/\\s*[\\s,]\\s*/),a=\"a\"===e.charAt(3)&&4===n.length;if(!a&&3!==n.length)return t;for(var o=0;o<n.length;o++){if(!n[o].length)return t;if(n[o]=Number(n[o]),!(n[o]>=0))return t;if(3===o)n[o]>1&&(n[o]=1);else if(n[o]>=1)return t}var s=Math.round(255*n[0])+\", \"+Math.round(255*n[1])+\", \"+Math.round(255*n[2]);return a?\"rgba(\"+s+\", \"+n[3]+\")\":\"rgb(\"+s+\")\"}o.tinyRGB=function(t){var e=t.toRgb();return\"rgb(\"+Math.round(e.r)+\", \"+Math.round(e.g)+\", \"+Math.round(e.b)+\")\"},o.rgb=function(t){return o.tinyRGB(n(t))},o.opacity=function(t){return t?n(t).getAlpha():0},o.addOpacity=function(t,e){var r=n(t).toRgb();return\"rgba(\"+Math.round(r.r)+\", \"+Math.round(r.g)+\", \"+Math.round(r.b)+\", \"+e+\")\"},o.combine=function(t,e){var r=n(t).toRgb();if(1===r.a)return n(t).toRgbString();var i=n(e||u).toRgb(),a=1===i.a?i:{r:255*(1-i.a)+i.r*i.a,g:255*(1-i.a)+i.g*i.a,b:255*(1-i.a)+i.b*i.a},o={r:a.r*(1-r.a)+r.r*r.a,g:a.g*(1-r.a)+r.g*r.a,b:a.b*(1-r.a)+r.b*r.a};return n(o).toRgbString()},o.contrast=function(t,e,r){var i=n(t);return 1!==i.getAlpha()&&(i=n(o.combine(t,u))),(i.isDark()?e?i.lighten(e):u:r?i.darken(r):l).toString()},o.stroke=function(t,e){var r=n(e);t.style({stroke:o.tinyRGB(r),\"stroke-opacity\":r.getAlpha()})},o.fill=function(t,e){var r=n(e);t.style({fill:o.tinyRGB(r),\"fill-opacity\":r.getAlpha()})},o.clean=function(t){if(t&&\"object\"==typeof t){var e,r,n,i,s=Object.keys(t);for(e=0;e<s.length;e++)if(i=t[n=s[e]],\"color\"===n.substr(n.length-5))if(Array.isArray(i))for(r=0;r<i.length;r++)i[r]=c(i[r]);else t[n]=c(i);else if(\"colorscale\"===n.substr(n.length-10)&&Array.isArray(i))for(r=0;r<i.length;r++)Array.isArray(i[r])&&(i[r][1]=c(i[r][1]));else if(Array.isArray(i)){var l=i[0];if(!Array.isArray(l)&&l&&\"object\"==typeof l)for(r=0;r<i.length;r++)o.clean(i[r])}else i&&\"object\"==typeof i&&!a(i)&&o.clean(i)}}},63583:function(t,e,r){\"use strict\";var n=r(13838),i=r(41940),a=r(1426).extendFlat,o=r(30962).overrideAll;t.exports=o({orientation:{valType:\"enumerated\",values:[\"h\",\"v\"],dflt:\"v\"},thicknessmode:{valType:\"enumerated\",values:[\"fraction\",\"pixels\"],dflt:\"pixels\"},thickness:{valType:\"number\",min:0,dflt:30},lenmode:{valType:\"enumerated\",values:[\"fraction\",\"pixels\"],dflt:\"fraction\"},len:{valType:\"number\",min:0,dflt:1},x:{valType:\"number\"},xref:{valType:\"enumerated\",dflt:\"paper\",values:[\"container\",\"paper\"],editType:\"layoutstyle\"},xanchor:{valType:\"enumerated\",values:[\"left\",\"center\",\"right\"]},xpad:{valType:\"number\",min:0,dflt:10},y:{valType:\"number\"},yref:{valType:\"enumerated\",dflt:\"paper\",values:[\"container\",\"paper\"],editType:\"layoutstyle\"},yanchor:{valType:\"enumerated\",values:[\"top\",\"middle\",\"bottom\"]},ypad:{valType:\"number\",min:0,dflt:10},outlinecolor:n.linecolor,outlinewidth:n.linewidth,bordercolor:n.linecolor,borderwidth:{valType:\"number\",min:0,dflt:0},bgcolor:{valType:\"color\",dflt:\"rgba(0,0,0,0)\"},tickmode:n.minor.tickmode,nticks:n.nticks,tick0:n.tick0,dtick:n.dtick,tickvals:n.tickvals,ticktext:n.ticktext,ticks:a({},n.ticks,{dflt:\"\"}),ticklabeloverflow:a({},n.ticklabeloverflow,{}),ticklabelposition:{valType:\"enumerated\",values:[\"outside\",\"inside\",\"outside top\",\"inside top\",\"outside left\",\"inside left\",\"outside right\",\"inside right\",\"outside bottom\",\"inside bottom\"],dflt:\"outside\"},ticklen:n.ticklen,tickwidth:n.tickwidth,tickcolor:n.tickcolor,ticklabelstep:n.ticklabelstep,showticklabels:n.showticklabels,labelalias:n.labelalias,tickfont:i({}),tickangle:n.tickangle,tickformat:n.tickformat,tickformatstops:n.tickformatstops,tickprefix:n.tickprefix,showtickprefix:n.showtickprefix,ticksuffix:n.ticksuffix,showticksuffix:n.showticksuffix,separatethousands:n.separatethousands,exponentformat:n.exponentformat,minexponent:n.minexponent,showexponent:n.showexponent,title:{text:{valType:\"string\"},font:i({}),side:{valType:\"enumerated\",values:[\"right\",\"top\",\"bottom\"]}},_deprecated:{title:{valType:\"string\"},titlefont:i({}),titleside:{valType:\"enumerated\",values:[\"right\",\"top\",\"bottom\"],dflt:\"top\"}}},\"colorbars\",\"from-root\")},30939:function(t){\"use strict\";t.exports={cn:{colorbar:\"colorbar\",cbbg:\"cbbg\",cbfill:\"cbfill\",cbfills:\"cbfills\",cbline:\"cbline\",cblines:\"cblines\",cbaxis:\"cbaxis\",cbtitleunshift:\"cbtitleunshift\",cbtitle:\"cbtitle\",cboutline:\"cboutline\",crisp:\"crisp\",jsPlaceholder:\"js-placeholder\"}}},62499:function(t,e,r){\"use strict\";var n=r(71828),i=r(44467),a=r(26218),o=r(38701),s=r(96115),l=r(89426),u=r(63583);t.exports=function(t,e,r){var c=i.newContainer(e,\"colorbar\"),f=t.colorbar||{};function h(t,e){return n.coerce(f,c,u,t,e)}var p=r.margin||{t:0,b:0,l:0,r:0},d=r.width-p.l-p.r,v=r.height-p.t-p.b,g=\"v\"===h(\"orientation\"),y=h(\"thicknessmode\");h(\"thickness\",\"fraction\"===y?30/(g?d:v):30);var m=h(\"lenmode\");h(\"len\",\"fraction\"===m?1:g?v:d);var x,b,_,w=\"paper\"===h(\"yref\"),T=\"paper\"===h(\"xref\"),k=\"left\";g?(_=\"middle\",k=T?\"left\":\"right\",x=T?1.02:1,b=.5):(_=w?\"bottom\":\"top\",k=\"center\",x=.5,b=w?1.02:1),n.coerce(f,c,{x:{valType:\"number\",min:T?-2:0,max:T?3:1,dflt:x}},\"x\"),n.coerce(f,c,{y:{valType:\"number\",min:w?-2:0,max:w?3:1,dflt:b}},\"y\"),h(\"xanchor\",k),h(\"xpad\"),h(\"yanchor\",_),h(\"ypad\"),n.noneOrAll(f,c,[\"x\",\"y\"]),h(\"outlinecolor\"),h(\"outlinewidth\"),h(\"bordercolor\"),h(\"borderwidth\"),h(\"bgcolor\");var A=n.coerce(f,c,{ticklabelposition:{valType:\"enumerated\",dflt:\"outside\",values:g?[\"outside\",\"inside\",\"outside top\",\"inside top\",\"outside bottom\",\"inside bottom\"]:[\"outside\",\"inside\",\"outside left\",\"inside left\",\"outside right\",\"inside right\"]}},\"ticklabelposition\");h(\"ticklabeloverflow\",-1!==A.indexOf(\"inside\")?\"hide past domain\":\"hide past div\"),a(f,c,h,\"linear\");var M=r.font,S={outerTicks:!1,font:M};-1!==A.indexOf(\"inside\")&&(S.bgColor=\"black\"),l(f,c,h,\"linear\",S),s(f,c,h,\"linear\",S),o(f,c,h,\"linear\",S),h(\"title.text\",r._dfltTitle.colorbar);var E=c.showticklabels?c.tickfont:M,L=n.extendFlat({},E,{color:M.color,size:n.bigFont(E.size)});n.coerceFont(h,\"title.font\",L),h(\"title.side\",g?\"top\":\"right\")}},98981:function(t,e,r){\"use strict\";var n=r(39898),i=r(84267),a=r(74875),o=r(73972),s=r(89298),l=r(28569),u=r(71828),c=u.strTranslate,f=r(1426).extendFlat,h=r(6964),p=r(91424),d=r(7901),v=r(92998),g=r(63893),y=r(52075).flipScale,m=r(71453),x=r(52830),b=r(13838),_=r(18783),w=_.LINE_SPACING,T=_.FROM_TL,k=_.FROM_BR,A=r(30939).cn;t.exports={draw:function(t){var e=t._fullLayout._infolayer.selectAll(\"g.\"+A.colorbar).data(function(t){var e,r,n,i,a=t._fullLayout,o=t.calcdata,s=[];function l(t){return f(t,{_fillcolor:null,_line:{color:null,width:null,dash:null},_levels:{start:null,end:null,size:null},_filllevels:null,_fillgradient:null,_zrange:null})}function u(){\"function\"==typeof i.calc?i.calc(t,n,e):(e._fillgradient=r.reversescale?y(r.colorscale):r.colorscale,e._zrange=[r[i.min],r[i.max]])}for(var c=0;c<o.length;c++){var h=o[c],p=(n=h[0].trace)._module.colorbar;if(!0===n.visible&&p)for(var d=Array.isArray(p),v=d?p:[p],g=0;g<v.length;g++){var m=(i=v[g]).container;(r=m?n[m]:n)&&r.showscale&&((e=l(r.colorbar))._id=\"cb\"+n.uid+(d&&m?\"-\"+m:\"\"),e._traceIndex=n.index,e._propPrefix=(m?m+\".\":\"\")+\"colorbar.\",e._meta=n._meta,u(),s.push(e))}}for(var x in a._colorAxes)if((r=a[x]).showscale){var b=a._colorAxes[x];(e=l(r.colorbar))._id=\"cb\"+x,e._propPrefix=x+\".colorbar.\",e._meta=a._meta,i={min:\"cmin\",max:\"cmax\"},\"heatmap\"!==b[0]&&(n=b[1],i.calc=n._module.colorbar.calc),u(),s.push(e)}return s}(t),(function(t){return t._id}));e.enter().append(\"g\").attr(\"class\",(function(t){return t._id})).classed(A.colorbar,!0),e.each((function(e){var r=n.select(this);u.ensureSingle(r,\"rect\",A.cbbg),u.ensureSingle(r,\"g\",A.cbfills),u.ensureSingle(r,\"g\",A.cblines),u.ensureSingle(r,\"g\",A.cbaxis,(function(t){t.classed(A.crisp,!0)})),u.ensureSingle(r,\"g\",A.cbtitleunshift,(function(t){t.append(\"g\").classed(A.cbtitle,!0)})),u.ensureSingle(r,\"rect\",A.cboutline);var y=function(t,e,r){var o=\"v\"===e.orientation,l=e.len,h=e.lenmode,y=e.thickness,_=e.thicknessmode,M=e.outlinewidth,S=e.borderwidth,E=e.bgcolor,L=e.xanchor,C=e.yanchor,P=e.xpad,O=e.ypad,I=e.x,D=o?e.y:1-e.y,z=\"paper\"===e.yref,R=\"paper\"===e.xref,F=r._fullLayout,B=F._size,N=e._fillcolor,j=e._line,U=e.title,V=U.side,H=e._zrange||n.extent((\"function\"==typeof N?N:j.color).domain()),q=\"function\"==typeof j.color?j.color:function(){return j.color},G=\"function\"==typeof N?N:function(){return N},Z=e._levels,Y=function(t,e,r){var n,i,a=e._levels,o=[],s=[],l=a.end+a.size/100,u=a.size,c=1.001*r[0]-.001*r[1],f=1.001*r[1]-.001*r[0];for(i=0;i<1e5&&(n=a.start+i*u,!(u>0?n>=l:n<=l));i++)n>c&&n<f&&o.push(n);if(e._fillgradient)s=[0];else if(\"function\"==typeof e._fillcolor){var h=e._filllevels;if(h)for(l=h.end+h.size/100,u=h.size,i=0;i<1e5&&(n=h.start+i*u,!(u>0?n>=l:n<=l));i++)n>r[0]&&n<r[1]&&s.push(n);else(s=o.map((function(t){return t-a.size/2}))).push(s[s.length-1]+a.size)}else e._fillcolor&&\"string\"==typeof e._fillcolor&&(s=[0]);return a.size<0&&(o.reverse(),s.reverse()),{line:o,fill:s}}(0,e,H),W=Y.fill,X=Y.line,J=Math.round(y*(\"fraction\"===_?o?B.w:B.h:1)),K=J/(o?B.w:B.h),$=Math.round(l*(\"fraction\"===h?o?B.h:B.w:1)),Q=$/(o?B.h:B.w),tt=R?B.w:r._fullLayout.width,et=z?B.h:r._fullLayout.height,rt=Math.round(o?I*tt+P:D*et+O),nt={center:.5,right:1}[L]||0,it={top:1,middle:.5}[C]||0,at=o?I-nt*K:D-it*K,ot=o?D-it*Q:I-nt*Q,st=Math.round(o?et*(1-ot):tt*ot);e._lenFrac=Q,e._thickFrac=K,e._uFrac=at,e._vFrac=ot;var lt=e._axis=function(t,e,r){var n=t._fullLayout,i=\"v\"===e.orientation,a={type:\"linear\",range:r,tickmode:e.tickmode,nticks:e.nticks,tick0:e.tick0,dtick:e.dtick,tickvals:e.tickvals,ticktext:e.ticktext,ticks:e.ticks,ticklen:e.ticklen,tickwidth:e.tickwidth,tickcolor:e.tickcolor,showticklabels:e.showticklabels,labelalias:e.labelalias,ticklabelposition:e.ticklabelposition,ticklabeloverflow:e.ticklabeloverflow,ticklabelstep:e.ticklabelstep,tickfont:e.tickfont,tickangle:e.tickangle,tickformat:e.tickformat,exponentformat:e.exponentformat,minexponent:e.minexponent,separatethousands:e.separatethousands,showexponent:e.showexponent,showtickprefix:e.showtickprefix,tickprefix:e.tickprefix,showticksuffix:e.showticksuffix,ticksuffix:e.ticksuffix,title:e.title,showline:!0,anchor:\"free\",side:i?\"right\":\"bottom\",position:1},o=i?\"y\":\"x\",s={type:\"linear\",_id:o+e._id},l={letter:o,font:n.font,noHover:!0,noTickson:!0,noTicklabelmode:!0,calendar:n.calendar};function c(t,e){return u.coerce(a,s,b,t,e)}return m(a,s,c,l,n),x(a,s,c,l),s}(r,e,H);lt.position=K+(o?I+P/B.w:D+O/B.h);var ut=-1!==[\"top\",\"bottom\"].indexOf(V);if(o&&ut&&(lt.title.side=V,lt.titlex=I+P/B.w,lt.titley=ot+(\"top\"===U.side?Q-O/B.h:O/B.h)),o||ut||(lt.title.side=V,lt.titley=D+O/B.h,lt.titlex=ot+P/B.w),j.color&&\"auto\"===e.tickmode){lt.tickmode=\"linear\",lt.tick0=Z.start;var ct=Z.size,ft=u.constrain($/50,4,15)+1,ht=(H[1]-H[0])/((e.nticks||ft)*ct);if(ht>1){var pt=Math.pow(10,Math.floor(Math.log(ht)/Math.LN10));ct*=pt*u.roundUp(ht/pt,[2,5,10]),(Math.abs(Z.start)/Z.size+1e-6)%1<2e-6&&(lt.tick0=0)}lt.dtick=ct}lt.domain=o?[ot+O/B.h,ot+Q-O/B.h]:[ot+P/B.w,ot+Q-P/B.w],lt.setScale(),t.attr(\"transform\",c(Math.round(B.l),Math.round(B.t)));var dt,vt=t.select(\".\"+A.cbtitleunshift).attr(\"transform\",c(-Math.round(B.l),-Math.round(B.t))),gt=lt.ticklabelposition,yt=lt.title.font.size,mt=t.select(\".\"+A.cbaxis),xt=0,bt=0;function _t(n,i){var a={propContainer:lt,propName:e._propPrefix+\"title\",traceIndex:e._traceIndex,_meta:e._meta,placeholder:F._dfltTitle.colorbar,containerGroup:t.select(\".\"+A.cbtitle)},o=\"h\"===n.charAt(0)?n.substr(1):\"h\"+n;t.selectAll(\".\"+o+\",.\"+o+\"-math-group\").remove(),v.draw(r,n,f(a,i||{}))}return u.syncOrAsync([a.previousPromises,function(){var t,e;(o&&ut||!o&&!ut)&&(\"top\"===V&&(t=P+B.l+tt*I,e=O+B.t+et*(1-ot-Q)+3+.75*yt),\"bottom\"===V&&(t=P+B.l+tt*I,e=O+B.t+et*(1-ot)-3-.25*yt),\"right\"===V&&(e=O+B.t+et*D+3+.75*yt,t=P+B.l+tt*ot),_t(lt._id+\"title\",{attributes:{x:t,y:e,\"text-anchor\":o?\"start\":\"middle\"}}))},function(){if(!o&&!ut||o&&ut){var a,l=t.select(\".\"+A.cbtitle),f=l.select(\"text\"),h=[-M/2,M/2],d=l.select(\".h\"+lt._id+\"title-math-group\").node(),v=15.6;if(f.node()&&(v=parseInt(f.node().style.fontSize,10)*w),d?(a=p.bBox(d),bt=a.width,(xt=a.height)>v&&(h[1]-=(xt-v)/2)):f.node()&&!f.classed(A.jsPlaceholder)&&(a=p.bBox(f.node()),bt=a.width,xt=a.height),o){if(xt){if(xt+=5,\"top\"===V)lt.domain[1]-=xt/B.h,h[1]*=-1;else{lt.domain[0]+=xt/B.h;var y=g.lineCount(f);h[1]+=(1-y)*v}l.attr(\"transform\",c(h[0],h[1])),lt.setScale()}}else bt&&(\"right\"===V&&(lt.domain[0]+=(bt+yt/2)/B.w),l.attr(\"transform\",c(h[0],h[1])),lt.setScale())}t.selectAll(\".\"+A.cbfills+\",.\"+A.cblines).attr(\"transform\",o?c(0,Math.round(B.h*(1-lt.domain[1]))):c(Math.round(B.w*lt.domain[0]),0)),mt.attr(\"transform\",o?c(0,Math.round(-B.t)):c(Math.round(-B.l),0));var m=t.select(\".\"+A.cbfills).selectAll(\"rect.\"+A.cbfill).attr(\"style\",\"\").data(W);m.enter().append(\"rect\").classed(A.cbfill,!0).style(\"stroke\",\"none\"),m.exit().remove();var x=H.map(lt.c2p).map(Math.round).sort((function(t,e){return t-e}));m.each((function(t,a){var s=[0===a?H[0]:(W[a]+W[a-1])/2,a===W.length-1?H[1]:(W[a]+W[a+1])/2].map(lt.c2p).map(Math.round);o&&(s[1]=u.constrain(s[1]+(s[1]>s[0])?1:-1,x[0],x[1]));var l=n.select(this).attr(o?\"x\":\"y\",rt).attr(o?\"y\":\"x\",n.min(s)).attr(o?\"width\":\"height\",Math.max(J,2)).attr(o?\"height\":\"width\",Math.max(n.max(s)-n.min(s),2));if(e._fillgradient)p.gradient(l,r,e._id,o?\"vertical\":\"horizontalreversed\",e._fillgradient,\"fill\");else{var c=G(t).replace(\"e-\",\"\");l.attr(\"fill\",i(c).toHexString())}}));var b=t.select(\".\"+A.cblines).selectAll(\"path.\"+A.cbline).data(j.color&&j.width?X:[]);b.enter().append(\"path\").classed(A.cbline,!0),b.exit().remove(),b.each((function(t){var e=rt,r=Math.round(lt.c2p(t))+j.width/2%1;n.select(this).attr(\"d\",\"M\"+(o?e+\",\"+r:r+\",\"+e)+(o?\"h\":\"v\")+J).call(p.lineGroupStyle,j.width,q(t),j.dash)})),mt.selectAll(\"g.\"+lt._id+\"tick,path\").remove();var _=rt+J+(M||0)/2-(\"outside\"===e.ticks?1:0),T=s.calcTicks(lt),k=s.getTickSigns(lt)[2];return s.drawTicks(r,lt,{vals:\"inside\"===lt.ticks?s.clipEnds(lt,T):T,layer:mt,path:s.makeTickPath(lt,_,k),transFn:s.makeTransTickFn(lt)}),s.drawLabels(r,lt,{vals:T,layer:mt,transFn:s.makeTransTickLabelFn(lt),labelFns:s.makeLabelFns(lt,_)})},function(){if(o&&!ut||!o&&ut){var t,i,a=lt.position||0,s=lt._offset+lt._length/2;if(\"right\"===V)i=s,t=B.l+tt*a+10+yt*(lt.showticklabels?1:.5);else if(t=s,\"bottom\"===V&&(i=B.t+et*a+10+(-1===gt.indexOf(\"inside\")?lt.tickfont.size:0)+(\"intside\"!==lt.ticks&&e.ticklen||0)),\"top\"===V){var l=U.text.split(\"<br>\").length;i=B.t+et*a+10-J-w*yt*l}_t((o?\"h\":\"v\")+lt._id+\"title\",{avoid:{selection:n.select(r).selectAll(\"g.\"+lt._id+\"tick\"),side:V,offsetTop:o?0:B.t,offsetLeft:o?B.l:0,maxShift:o?F.width:F.height},attributes:{x:t,y:i,\"text-anchor\":\"middle\"},transform:{rotate:o?-90:0,offset:0}})}},a.previousPromises,function(){var n,s=J+M/2;-1===gt.indexOf(\"inside\")&&(n=p.bBox(mt.node()),s+=o?n.width:n.height),dt=vt.select(\"text\");var u=0,f=o&&\"top\"===V,v=!o&&\"right\"===V,g=0;if(dt.node()&&!dt.classed(A.jsPlaceholder)){var m,x=vt.select(\".h\"+lt._id+\"title-math-group\").node();x&&(o&&ut||!o&&!ut)?(u=(n=p.bBox(x)).width,m=n.height):(u=(n=p.bBox(vt.node())).right-B.l-(o?rt:st),m=n.bottom-B.t-(o?st:rt),o||\"top\"!==V||(s+=n.height,g=n.height)),v&&(dt.attr(\"transform\",c(u/2+yt/2,0)),u*=2),s=Math.max(s,o?u:m)}var b=2*(o?P:O)+s+S+M/2,w=0;!o&&U.text&&\"bottom\"===C&&D<=0&&(b+=w=b/2,g+=w),F._hColorbarMoveTitle=w,F._hColorbarMoveCBTitle=g;var N=S+M,j=(o?rt:st)-N/2-(o?P:0),H=(o?st:rt)-(o?$:O+g-w);t.select(\".\"+A.cbbg).attr(\"x\",j).attr(\"y\",H).attr(o?\"width\":\"height\",Math.max(b-w,2)).attr(o?\"height\":\"width\",Math.max($+N,2)).call(d.fill,E).call(d.stroke,e.bordercolor).style(\"stroke-width\",S);var q=v?Math.max(u-10,0):0;t.selectAll(\".\"+A.cboutline).attr(\"x\",(o?rt:st+P)+q).attr(\"y\",(o?st+O-$:rt)+(f?xt:0)).attr(o?\"width\":\"height\",Math.max(J,2)).attr(o?\"height\":\"width\",Math.max($-(o?2*O+xt:2*P+q),2)).call(d.stroke,e.outlinecolor).style({fill:\"none\",\"stroke-width\":M});var G=o?nt*b:0,Z=o?0:(1-it)*b-g;if(G=R?B.l-G:-G,Z=z?B.t-Z:-Z,t.attr(\"transform\",c(G,Z)),!o&&(S||i(E).getAlpha()&&!i.equals(F.paper_bgcolor,E))){var Y=mt.selectAll(\"text\"),W=Y[0].length,X=t.select(\".\"+A.cbbg).node(),K=p.bBox(X),Q=p.getTranslate(t);Y.each((function(t,e){var r=W-1;if(0===e||e===r){var n,i=p.bBox(this),a=p.getTranslate(this);if(e===r){var o=i.right+a.x;(n=K.right+Q.x+st-S-2+I-o)>0&&(n=0)}else if(0===e){var s=i.left+a.x;(n=K.left+Q.x+st+S+2-s)<0&&(n=0)}n&&(W<3?this.setAttribute(\"transform\",\"translate(\"+n+\",0) \"+this.getAttribute(\"transform\")):this.setAttribute(\"visibility\",\"hidden\"))}}))}var tt={},et=T[L],at=k[L],ot=T[C],ct=k[C],ft=b-J;o?(\"pixels\"===h?(tt.y=D,tt.t=$*ot,tt.b=$*ct):(tt.t=tt.b=0,tt.yt=D+l*ot,tt.yb=D-l*ct),\"pixels\"===_?(tt.x=I,tt.l=b*et,tt.r=b*at):(tt.l=ft*et,tt.r=ft*at,tt.xl=I-y*et,tt.xr=I+y*at)):(\"pixels\"===h?(tt.x=I,tt.l=$*et,tt.r=$*at):(tt.l=tt.r=0,tt.xl=I+l*et,tt.xr=I-l*at),\"pixels\"===_?(tt.y=1-D,tt.t=b*ot,tt.b=b*ct):(tt.t=ft*ot,tt.b=ft*ct,tt.yt=D-y*ot,tt.yb=D+y*ct));var ht=e.y<.5?\"b\":\"t\",pt=e.x<.5?\"l\":\"r\";r._fullLayout._reservedMargin[e._id]={};var bt={r:F.width-j-G,l:j+tt.r,b:F.height-H-Z,t:H+tt.b};R&&z?a.autoMargin(r,e._id,tt):R?r._fullLayout._reservedMargin[e._id][ht]=bt[ht]:z||o?r._fullLayout._reservedMargin[e._id][pt]=bt[pt]:r._fullLayout._reservedMargin[e._id][ht]=bt[ht]}],r)}(r,e,t);y&&y.then&&(t._promises||[]).push(y),t._context.edits.colorbarPosition&&function(t,e,r){var n,i,a,s=\"v\"===e.orientation,u=r._fullLayout._size;l.init({element:t.node(),gd:r,prepFn:function(){n=t.attr(\"transform\"),h(t)},moveFn:function(r,o){t.attr(\"transform\",n+c(r,o)),i=l.align((s?e._uFrac:e._vFrac)+r/u.w,s?e._thickFrac:e._lenFrac,0,1,e.xanchor),a=l.align((s?e._vFrac:1-e._uFrac)-o/u.h,s?e._lenFrac:e._thickFrac,0,1,e.yanchor);var f=l.getCursor(i,a,e.xanchor,e.yanchor);h(t,f)},doneFn:function(){if(h(t),void 0!==i&&void 0!==a){var n={};n[e._propPrefix+\"x\"]=i,n[e._propPrefix+\"y\"]=a,void 0!==e._traceIndex?o.call(\"_guiRestyle\",r,n,e._traceIndex):o.call(\"_guiRelayout\",r,n)}}})}(r,e,t)})),e.exit().each((function(e){a.autoMargin(t,e._id)})).remove(),e.order()}}},76228:function(t,e,r){\"use strict\";var n=r(71828);t.exports=function(t){return n.isPlainObject(t.colorbar)}},12311:function(t,e,r){\"use strict\";t.exports={moduleType:\"component\",name:\"colorbar\",attributes:r(63583),supplyDefaults:r(62499),draw:r(98981).draw,hasColorbar:r(76228)}},50693:function(t,e,r){\"use strict\";var n=r(63583),i=r(30587).counter,a=r(78607),o=r(63282).scales;function s(t){return\"`\"+t+\"`\"}a(o),t.exports=function(t,e){t=t||\"\";var r,a=(e=e||{}).cLetter||\"c\",l=(\"onlyIfNumerical\"in e?e.onlyIfNumerical:Boolean(t),\"noScale\"in e?e.noScale:\"marker.line\"===t),u=\"showScaleDflt\"in e?e.showScaleDflt:\"z\"===a,c=\"string\"==typeof e.colorscaleDflt?o[e.colorscaleDflt]:null,f=e.editTypeOverride||\"\",h=t?t+\".\":\"\";\"colorAttr\"in e?(r=e.colorAttr,e.colorAttr):s(h+(r={z:\"z\",c:\"color\"}[a]));var p=a+\"auto\",d=a+\"min\",v=a+\"max\",g=a+\"mid\",y=(s(h+p),s(h+d),s(h+v),{});y[d]=y[v]=void 0;var m={};m[p]=!1;var x={};return\"color\"===r&&(x.color={valType:\"color\",arrayOk:!0,editType:f||\"style\"},e.anim&&(x.color.anim=!0)),x[p]={valType:\"boolean\",dflt:!0,editType:\"calc\",impliedEdits:y},x[d]={valType:\"number\",dflt:null,editType:f||\"plot\",impliedEdits:m},x[v]={valType:\"number\",dflt:null,editType:f||\"plot\",impliedEdits:m},x[g]={valType:\"number\",dflt:null,editType:\"calc\",impliedEdits:y},x.colorscale={valType:\"colorscale\",editType:\"calc\",dflt:c,impliedEdits:{autocolorscale:!1}},x.autocolorscale={valType:\"boolean\",dflt:!1!==e.autoColorDflt,editType:\"calc\",impliedEdits:{colorscale:void 0}},x.reversescale={valType:\"boolean\",dflt:!1,editType:\"plot\"},l||(x.showscale={valType:\"boolean\",dflt:u,editType:\"calc\"},x.colorbar=n),e.noColorAxis||(x.coloraxis={valType:\"subplotid\",regex:i(\"coloraxis\"),dflt:null,editType:\"calc\"}),x}},78803:function(t,e,r){\"use strict\";var n=r(92770),i=r(71828),a=r(52075).extractOpts;t.exports=function(t,e,r){var o,s=t._fullLayout,l=r.vals,u=r.containerStr,c=u?i.nestedProperty(e,u).get():e,f=a(c),h=!1!==f.auto,p=f.min,d=f.max,v=f.mid,g=function(){return i.aggNums(Math.min,null,l)},y=function(){return i.aggNums(Math.max,null,l)};void 0===p?p=g():h&&(p=c._colorAx&&n(p)?Math.min(p,g()):g()),void 0===d?d=y():h&&(d=c._colorAx&&n(d)?Math.max(d,y()):y()),h&&void 0!==v&&(d-v>v-p?p=v-(d-v):d-v<v-p&&(d=v+(v-p))),p===d&&(p-=.5,d+=.5),f._sync(\"min\",p),f._sync(\"max\",d),f.autocolorscale&&(o=p*d<0?s.colorscale.diverging:p>=0?s.colorscale.sequential:s.colorscale.sequentialminus,f._sync(\"colorscale\",o))}},33046:function(t,e,r){\"use strict\";var n=r(71828),i=r(52075).hasColorscale,a=r(52075).extractOpts;t.exports=function(t,e){function r(t,e){var r=t[\"_\"+e];void 0!==r&&(t[e]=r)}function o(t,i){var o=i.container?n.nestedProperty(t,i.container).get():t;if(o)if(o.coloraxis)o._colorAx=e[o.coloraxis];else{var s=a(o),l=s.auto;(l||void 0===s.min)&&r(o,i.min),(l||void 0===s.max)&&r(o,i.max),s.autocolorscale&&r(o,\"colorscale\")}}for(var s=0;s<t.length;s++){var l=t[s],u=l._module.colorbar;if(u)if(Array.isArray(u))for(var c=0;c<u.length;c++)o(l,u[c]);else o(l,u);i(l,\"marker.line\")&&o(l,{container:\"marker.line\",min:\"cmin\",max:\"cmax\"})}for(var f in e._colorAxes)o(e[f],{min:\"cmin\",max:\"cmax\"})}},1586:function(t,e,r){\"use strict\";var n=r(92770),i=r(71828),a=r(76228),o=r(62499),s=r(63282).isValid,l=r(73972).traceIs;function u(t,e){var r=e.slice(0,e.length-1);return e?i.nestedProperty(t,r).get()||{}:t}t.exports=function t(e,r,c,f,h){var p=h.prefix,d=h.cLetter,v=\"_module\"in r,g=u(e,p),y=u(r,p),m=u(r._template||{},p)||{},x=function(){return delete e.coloraxis,delete r.coloraxis,t(e,r,c,f,h)};if(v){var b=c._colorAxes||{},_=f(p+\"coloraxis\");if(_){var w=l(r,\"contour\")&&i.nestedProperty(r,\"contours.coloring\").get()||\"heatmap\",T=b[_];return void(T?(T[2].push(x),T[0]!==w&&(T[0]=!1,i.warn([\"Ignoring coloraxis:\",_,\"setting\",\"as it is linked to incompatible colorscales.\"].join(\" \")))):b[_]=[w,r,[x]])}}var k=g[d+\"min\"],A=g[d+\"max\"],M=n(k)&&n(A)&&k<A;f(p+d+\"auto\",!M)?f(p+d+\"mid\"):(f(p+d+\"min\"),f(p+d+\"max\"));var S,E,L=g.colorscale,C=m.colorscale;void 0!==L&&(S=!s(L)),void 0!==C&&(S=!s(C)),f(p+\"autocolorscale\",S),f(p+\"colorscale\"),f(p+\"reversescale\"),\"marker.line.\"!==p&&(p&&v&&(E=a(g)),f(p+\"showscale\",E)&&(p&&m&&(y._template=m),o(g,y,c)))}},52075:function(t,e,r){\"use strict\";var n=r(39898),i=r(84267),a=r(92770),o=r(71828),s=r(7901),l=r(63282).isValid,u=[\"showscale\",\"autocolorscale\",\"colorscale\",\"reversescale\",\"colorbar\"],c=[\"min\",\"max\",\"mid\",\"auto\"];function f(t){var e,r,n,i=t._colorAx,a=i||t,o={};for(r=0;r<u.length;r++)o[n=u[r]]=a[n];if(i)for(e=\"c\",r=0;r<c.length;r++)o[n=c[r]]=a[\"c\"+n];else{var s;for(r=0;r<c.length;r++)((s=\"c\"+(n=c[r]))in a||(s=\"z\"+n)in a)&&(o[n]=a[s]);e=s.charAt(0)}return o._sync=function(t,r){var n=-1!==c.indexOf(t)?e+t:t;a[n]=a[\"_\"+n]=r},o}function h(t){for(var e=f(t),r=e.min,n=e.max,i=e.reversescale?p(e.colorscale):e.colorscale,a=i.length,o=new Array(a),s=new Array(a),l=0;l<a;l++){var u=i[l];o[l]=r+u[0]*(n-r),s[l]=u[1]}return{domain:o,range:s}}function p(t){for(var e=t.length,r=new Array(e),n=e-1,i=0;n>=0;n--,i++){var a=t[n];r[i]=[1-a[0],a[1]]}return r}function d(t,e){e=e||{};for(var r=t.domain,o=t.range,l=o.length,u=new Array(l),c=0;c<l;c++){var f=i(o[c]).toRgb();u[c]=[f.r,f.g,f.b,f.a]}var h,p=n.scale.linear().domain(r).range(u).clamp(!0),d=e.noNumericCheck,g=e.returnArray;return(h=d&&g?p:d?function(t){return v(p(t))}:g?function(t){return a(t)?p(t):i(t).isValid()?t:s.defaultLine}:function(t){return a(t)?v(p(t)):i(t).isValid()?t:s.defaultLine}).domain=p.domain,h.range=function(){return o},h}function v(t){var e={r:t[0],g:t[1],b:t[2],a:t[3]};return i(e).toRgbString()}t.exports={hasColorscale:function(t,e,r){var n=e?o.nestedProperty(t,e).get()||{}:t,i=n[r||\"color\"],s=!1;if(o.isArrayOrTypedArray(i))for(var u=0;u<i.length;u++)if(a(i[u])){s=!0;break}return o.isPlainObject(n)&&(s||!0===n.showscale||a(n.cmin)&&a(n.cmax)||l(n.colorscale)||o.isPlainObject(n.colorbar))},extractOpts:f,extractScale:h,flipScale:p,makeColorScaleFunc:d,makeColorScaleFuncFromTrace:function(t,e){return d(h(t),e)}}},21081:function(t,e,r){\"use strict\";var n=r(63282),i=r(52075);t.exports={moduleType:\"component\",name:\"colorscale\",attributes:r(50693),layoutAttributes:r(72673),supplyLayoutDefaults:r(30959),handleDefaults:r(1586),crossTraceDefaults:r(33046),calc:r(78803),scales:n.scales,defaultScale:n.defaultScale,getScale:n.get,isValidScale:n.isValid,hasColorscale:i.hasColorscale,extractOpts:i.extractOpts,extractScale:i.extractScale,flipScale:i.flipScale,makeColorScaleFunc:i.makeColorScaleFunc,makeColorScaleFuncFromTrace:i.makeColorScaleFuncFromTrace}},72673:function(t,e,r){\"use strict\";var n=r(1426).extendFlat,i=r(50693),a=r(63282).scales;t.exports={editType:\"calc\",colorscale:{editType:\"calc\",sequential:{valType:\"colorscale\",dflt:a.Reds,editType:\"calc\"},sequentialminus:{valType:\"colorscale\",dflt:a.Blues,editType:\"calc\"},diverging:{valType:\"colorscale\",dflt:a.RdBu,editType:\"calc\"}},coloraxis:n({_isSubplotObj:!0,editType:\"calc\"},i(\"\",{colorAttr:\"corresponding trace color array(s)\",noColorAxis:!0,showScaleDflt:!0}))}},30959:function(t,e,r){\"use strict\";var n=r(71828),i=r(44467),a=r(72673),o=r(1586);t.exports=function(t,e){function r(r,i){return n.coerce(t,e,a,r,i)}r(\"colorscale.sequential\"),r(\"colorscale.sequentialminus\"),r(\"colorscale.diverging\");var s,l,u=e._colorAxes;function c(t,e){return n.coerce(s,l,a.coloraxis,t,e)}for(var f in u){var h=u[f];if(h[0])s=t[f]||{},(l=i.newContainer(e,f,\"coloraxis\"))._name=f,o(s,l,e,c,{prefix:\"\",cLetter:\"c\"});else{for(var p=0;p<h[2].length;p++)h[2][p]();delete e._colorAxes[f]}}}},63282:function(t,e,r){\"use strict\";var n=r(84267),i={Greys:[[0,\"rgb(0,0,0)\"],[1,\"rgb(255,255,255)\"]],YlGnBu:[[0,\"rgb(8,29,88)\"],[.125,\"rgb(37,52,148)\"],[.25,\"rgb(34,94,168)\"],[.375,\"rgb(29,145,192)\"],[.5,\"rgb(65,182,196)\"],[.625,\"rgb(127,205,187)\"],[.75,\"rgb(199,233,180)\"],[.875,\"rgb(237,248,217)\"],[1,\"rgb(255,255,217)\"]],Greens:[[0,\"rgb(0,68,27)\"],[.125,\"rgb(0,109,44)\"],[.25,\"rgb(35,139,69)\"],[.375,\"rgb(65,171,93)\"],[.5,\"rgb(116,196,118)\"],[.625,\"rgb(161,217,155)\"],[.75,\"rgb(199,233,192)\"],[.875,\"rgb(229,245,224)\"],[1,\"rgb(247,252       "        });\n",
       "        require(['plotly'], function(Plotly) {\n",
       "            window._Plotly = Plotly;\n",
       "        });\n",
       "        }\n",
       "        </script>\n",
       "        "
      ]
     },
     "metadata": {},
     "output_type": "display_data"
    },
    {
     "data": {
      "application/vnd.plotly.v1+json": {
       "config": {
        "plotlyServerURL": "https://plot.ly"
       },
       "data": [
        {
         "alignmentgroup": "True",
         "hovertemplate": "brand=%{x}<br>US_sales=%{y}<br>sales_change=%{text}<extra></extra>",
         "legendgroup": "",
         "marker": {
          "color": "#636efa",
          "pattern": {
           "shape": ""
          }
         },
         "name": "",
         "offsetgroup": "",
         "orientation": "v",
         "showlegend": false,
         "text": [
          -9,
          -2,
          6,
          -33,
          -2,
          -1,
          -12,
          -25,
          -5,
          -16,
          7,
          7,
          -1,
          -20,
          -11,
          -15,
          -12,
          -5,
          14,
          -2,
          -42,
          -35,
          -16,
          -16,
          -4,
          0,
          14,
          -20,
          -1,
          -30,
          -10,
          0,
          3,
          -61,
          -35,
          7
         ],
         "textposition": "auto",
         "type": "bar",
         "x": [
          "Toyota",
          "Ford",
          "Chevrolet",
          "Honda",
          "Hyundai",
          "Kia",
          "Jeep",
          "Nissan",
          "Subaru",
          "Ram Trucks",
          "GMC",
          "Mercedes-Benz",
          "BMW",
          "Volkswagen",
          "Mazda",
          "Lexus",
          "Dodge",
          "Audi",
          "Cadillac",
          "Chrysler",
          "Buick",
          "Acura",
          "Volvo",
          "Mitsubishi",
          "Lincoln",
          "Porsche",
          "Genesis",
          "INFINITI",
          "MINI",
          "Alfa Romeo",
          "Maserati",
          "Bentley",
          "Lamborghini",
          "Fiat",
          "McLaren",
          "Rolls-Royce"
         ],
         "xaxis": "x",
         "y": [
          1849751,
          1767439,
          1502389,
          881201,
          724265,
          693549,
          684612,
          682731,
          556581,
          545194,
          517649,
          350949,
          332388,
          301069,
          294908,
          258704,
          190793,
          186875,
          134726,
          112713,
          103519,
          102306,
          102038,
          102037,
          83486,
          70065,
          56410,
          46619,
          29504,
          12845,
          6413,
          3975,
          3134,
          915,
          840,
          460
         ],
         "yaxis": "y"
        }
       ],
       "layout": {
        "autosize": true,
        "barmode": "relative",
        "legend": {
         "tracegroupgap": 0
        },
        "template": {
         "data": {
          "bar": [
           {
            "error_x": {
             "color": "#2a3f5f"
            },
            "error_y": {
             "color": "#2a3f5f"
            },
            "marker": {
             "line": {
              "color": "#E5ECF6",
              "width": 0.5
             },
             "pattern": {
              "fillmode": "overlay",
              "size": 10,
              "solidity": 0.2
             }
            },
            "type": "bar"
           }
          ],
          "barpolar": [
           {
            "marker": {
             "line": {
              "color": "#E5ECF6",
              "width": 0.5
             },
             "pattern": {
              "fillmode": "overlay",
              "size": 10,
              "solidity": 0.2
             }
            },
            "type": "barpolar"
           }
          ],
          "carpet": [
           {
            "aaxis": {
             "endlinecolor": "#2a3f5f",
             "gridcolor": "white",
             "linecolor": "white",
             "minorgridcolor": "white",
             "startlinecolor": "#2a3f5f"
            },
            "baxis": {
             "endlinecolor": "#2a3f5f",
             "gridcolor": "white",
             "linecolor": "white",
             "minorgridcolor": "white",
             "startlinecolor": "#2a3f5f"
            },
            "type": "carpet"
           }
          ],
          "choropleth": [
           {
            "colorbar": {
             "outlinewidth": 0,
             "ticks": ""
            },
            "type": "choropleth"
           }
          ],
          "contour": [
           {
            "colorbar": {
             "outlinewidth": 0,
             "ticks": ""
            },
            "colorscale": [
             [
              0,
              "#0d0887"
             ],
             [
              0.1111111111111111,
              "#46039f"
             ],
             [
              0.2222222222222222,
              "#7201a8"
             ],
             [
              0.3333333333333333,
              "#9c179e"
             ],
             [
              0.4444444444444444,
              "#bd3786"
             ],
             [
              0.5555555555555556,
              "#d8576b"
             ],
             [
              0.6666666666666666,
              "#ed7953"
             ],
             [
              0.7777777777777778,
              "#fb9f3a"
             ],
             [
              0.8888888888888888,
              "#fdca26"
             ],
             [
              1,
              "#f0f921"
             ]
            ],
            "type": "contour"
           }
          ],
          "contourcarpet": [
           {
            "colorbar": {
             "outlinewidth": 0,
             "ticks": ""
            },
            "type": "contourcarpet"
           }
          ],
          "heatmap": [
           {
            "colorbar": {
             "outlinewidth": 0,
             "ticks": ""
            },
            "colorscale": [
             [
              0,
              "#0d0887"
             ],
             [
              0.1111111111111111,
              "#46039f"
             ],
             [
              0.2222222222222222,
              "#7201a8"
             ],
             [
              0.3333333333333333,
              "#9c179e"
             ],
             [
              0.4444444444444444,
              "#bd3786"
             ],
             [
              0.5555555555555556,
              "#d8576b"
             ],
             [
              0.6666666666666666,
              "#ed7953"
             ],
             [
              0.7777777777777778,
              "#fb9f3a"
             ],
             [
              0.8888888888888888,
              "#fdca26"
             ],
             [
              1,
              "#f0f921"
             ]
            ],
            "type": "heatmap"
           }
          ],
          "heatmapgl": [
           {
            "colorbar": {
             "outlinewidth": 0,
             "ticks": ""
            },
            "colorscale": [
             [
              0,
              "#0d0887"
             ],
             [
              0.1111111111111111,
              "#46039f"
             ],
             [
              0.2222222222222222,
              "#7201a8"
             ],
             [
              0.3333333333333333,
              "#9c179e"
             ],
             [
              0.4444444444444444,
              "#bd3786"
             ],
             [
              0.5555555555555556,
              "#d8576b"
             ],
             [
              0.6666666666666666,
              "#ed7953"
             ],
             [
              0.7777777777777778,
              "#fb9f3a"
             ],
             [
              0.8888888888888888,
              "#fdca26"
             ],
             [
              1,
              "#f0f921"
             ]
            ],
            "type": "heatmapgl"
           }
          ],
          "histogram": [
           {
            "marker": {
             "pattern": {
              "fillmode": "overlay",
              "size": 10,
              "solidity": 0.2
             }
            },
            "type": "histogram"
           }
          ],
          "histogram2d": [
           {
            "colorbar": {
             "outlinewidth": 0,
             "ticks": ""
            },
            "colorscale": [
             [
              0,
              "#0d0887"
             ],
             [
              0.1111111111111111,
              "#46039f"
             ],
             [
              0.2222222222222222,
              "#7201a8"
             ],
             [
              0.3333333333333333,
              "#9c179e"
             ],
             [
              0.4444444444444444,
              "#bd3786"
             ],
             [
              0.5555555555555556,
              "#d8576b"
             ],
             [
              0.6666666666666666,
              "#ed7953"
             ],
             [
              0.7777777777777778,
              "#fb9f3a"
             ],
             [
              0.8888888888888888,
              "#fdca26"
             ],
             [
              1,
              "#f0f921"
             ]
            ],
            "type": "histogram2d"
           }
          ],
          "histogram2dcontour": [
           {
            "colorbar": {
             "outlinewidth": 0,
             "ticks": ""
            },
            "colorscale": [
             [
              0,
              "#0d0887"
             ],
             [
              0.1111111111111111,
              "#46039f"
             ],
             [
              0.2222222222222222,
              "#7201a8"
             ],
             [
              0.3333333333333333,
              "#9c179e"
             ],
             [
              0.4444444444444444,
              "#bd3786"
             ],
             [
              0.5555555555555556,
              "#d8576b"
             ],
             [
              0.6666666666666666,
              "#ed7953"
             ],
             [
              0.7777777777777778,
              "#fb9f3a"
             ],
             [
              0.8888888888888888,
              "#fdca26"
             ],
             [
              1,
              "#f0f921"
             ]
            ],
            "type": "histogram2dcontour"
           }
          ],
          "mesh3d": [
           {
            "colorbar": {
             "outlinewidth": 0,
             "ticks": ""
            },
            "type": "mesh3d"
           }
          ],
          "parcoords": [
           {
            "line": {
             "colorbar": {
              "outlinewidth": 0,
              "ticks": ""
             }
            },
            "type": "parcoords"
           }
          ],
          "pie": [
           {
            "automargin": true,
            "type": "pie"
           }
          ],
          "scatter": [
           {
            "fillpattern": {
             "fillmode": "overlay",
             "size": 10,
             "solidity": 0.2
            },
            "type": "scatter"
           }
          ],
          "scatter3d": [
           {
            "line": {
             "colorbar": {
              "outlinewidth": 0,
              "ticks": ""
             }
            },
            "marker": {
             "colorbar": {
              "outlinewidth": 0,
              "ticks": ""
             }
            },
            "type": "scatter3d"
           }
          ],
          "scattercarpet": [
           {
            "marker": {
             "colorbar": {
              "outlinewidth": 0,
              "ticks": ""
             }
            },
            "type": "scattercarpet"
           }
          ],
          "scattergeo": [
           {
            "marker": {
             "colorbar": {
              "outlinewidth": 0,
              "ticks": ""
             }
            },
            "type": "scattergeo"
           }
          ],
          "scattergl": [
           {
            "marker": {
             "colorbar": {
              "outlinewidth": 0,
              "ticks": ""
             }
            },
            "type": "scattergl"
           }
          ],
          "scattermapbox": [
           {
            "marker": {
             "colorbar": {
              "outlinewidth": 0,
              "ticks": ""
             }
            },
            "type": "scattermapbox"
           }
          ],
          "scatterpolar": [
           {
            "marker": {
             "colorbar": {
              "outlinewidth": 0,
              "ticks": ""
             }
            },
            "type": "scatterpolar"
           }
          ],
          "scatterpolargl": [
           {
            "marker": {
             "colorbar": {
              "outlinewidth": 0,
              "ticks": ""
             }
            },
            "type": "scatterpolargl"
           }
          ],
          "scatterternary": [
           {
            "marker": {
             "colorbar": {
              "outlinewidth": 0,
              "ticks": ""
             }
            },
            "type": "scatterternary"
           }
          ],
          "surface": [
           {
            "colorbar": {
             "outlinewidth": 0,
             "ticks": ""
            },
            "colorscale": [
             [
              0,
              "#0d0887"
             ],
             [
              0.1111111111111111,
              "#46039f"
             ],
             [
              0.2222222222222222,
              "#7201a8"
             ],
             [
              0.3333333333333333,
              "#9c179e"
             ],
             [
              0.4444444444444444,
              "#bd3786"
             ],
             [
              0.5555555555555556,
              "#d8576b"
             ],
             [
              0.6666666666666666,
              "#ed7953"
             ],
             [
              0.7777777777777778,
              "#fb9f3a"
             ],
             [
              0.8888888888888888,
              "#fdca26"
             ],
             [
              1,
              "#f0f921"
             ]
            ],
            "type": "surface"
           }
          ],
          "table": [
           {
            "cells": {
             "fill": {
              "color": "#EBF0F8"
             },
             "line": {
              "color": "white"
             }
            },
            "header": {
             "fill": {
              "color": "#C8D4E3"
             },
             "line": {
              "color": "white"
             }
            },
            "type": "table"
           }
          ]
         },
         "layout": {
          "annotationdefaults": {
           "arrowcolor": "#2a3f5f",
           "arrowhead": 0,
           "arrowwidth": 1
          },
          "autotypenumbers": "strict",
          "coloraxis": {
           "colorbar": {
            "outlinewidth": 0,
            "ticks": ""
           }
          },
          "colorscale": {
           "diverging": [
            [
             0,
             "#8e0152"
            ],
            [
             0.1,
             "#c51b7d"
            ],
            [
             0.2,
             "#de77ae"
            ],
            [
             0.3,
             "#f1b6da"
            ],
            [
             0.4,
             "#fde0ef"
            ],
            [
             0.5,
             "#f7f7f7"
            ],
            [
             0.6,
             "#e6f5d0"
            ],
            [
             0.7,
             "#b8e186"
            ],
            [
             0.8,
             "#7fbc41"
            ],
            [
             0.9,
             "#4d9221"
            ],
            [
             1,
             "#276419"
            ]
           ],
           "sequential": [
            [
             0,
             "#0d0887"
            ],
            [
             0.1111111111111111,
             "#46039f"
            ],
            [
             0.2222222222222222,
             "#7201a8"
            ],
            [
             0.3333333333333333,
             "#9c179e"
            ],
            [
             0.4444444444444444,
             "#bd3786"
            ],
            [
             0.5555555555555556,
             "#d8576b"
            ],
            [
             0.6666666666666666,
             "#ed7953"
            ],
            [
             0.7777777777777778,
             "#fb9f3a"
            ],
            [
             0.8888888888888888,
             "#fdca26"
            ],
            [
             1,
             "#f0f921"
            ]
           ],
           "sequentialminus": [
            [
             0,
             "#0d0887"
            ],
            [
             0.1111111111111111,
             "#46039f"
            ],
            [
             0.2222222222222222,
             "#7201a8"
            ],
            [
             0.3333333333333333,
             "#9c179e"
            ],
            [
             0.4444444444444444,
             "#bd3786"
            ],
            [
             0.5555555555555556,
             "#d8576b"
            ],
            [
             0.6666666666666666,
             "#ed7953"
            ],
            [
             0.7777777777777778,
             "#fb9f3a"
            ],
            [
             0.8888888888888888,
             "#fdca26"
            ],
            [
             1,
             "#f0f921"
            ]
           ]
          },
          "colorway": [
           "#636efa",
           "#EF553B",
           "#00cc96",
           "#ab63fa",
           "#FFA15A",
           "#19d3f3",
           "#FF6692",
           "#B6E880",
           "#FF97FF",
           "#FECB52"
          ],
          "font": {
           "color": "#2a3f5f"
          },
          "geo": {
           "bgcolor": "white",
           "lakecolor": "white",
           "landcolor": "#E5ECF6",
           "showlakes": true,
           "showland": true,
           "subunitcolor": "white"
          },
          "hoverlabel": {
           "align": "left"
          },
          "hovermode": "closest",
          "mapbox": {
           "style": "light"
          },
          "paper_bgcolor": "white",
          "plot_bgcolor": "#E5ECF6",
          "polar": {
           "angularaxis": {
            "gridcolor": "white",
            "linecolor": "white",
            "ticks": ""
           },
           "bgcolor": "#E5ECF6",
           "radialaxis": {
            "gridcolor": "white",
            "linecolor": "white",
            "ticks": ""
           }
          },
          "scene": {
           "xaxis": {
            "backgroundcolor": "#E5ECF6",
            "gridcolor": "white",
            "gridwidth": 2,
            "linecolor": "white",
            "showbackground": true,
            "ticks": "",
            "zerolinecolor": "white"
           },
           "yaxis": {
            "backgroundcolor": "#E5ECF6",
            "gridcolor": "white",
            "gridwidth": 2,
            "linecolor": "white",
            "showbackground": true,
            "ticks": "",
            "zerolinecolor": "white"
           },
           "zaxis": {
            "backgroundcolor": "#E5ECF6",
            "gridcolor": "white",
            "gridwidth": 2,
            "linecolor": "white",
            "showbackground": true,
            "ticks": "",
            "zerolinecolor": "white"
           }
          },
          "shapedefaults": {
           "line": {
            "color": "#2a3f5f"
           }
          },
          "ternary": {
           "aaxis": {
            "gridcolor": "white",
            "linecolor": "white",
            "ticks": ""
           },
           "baxis": {
            "gridcolor": "white",
            "linecolor": "white",
            "ticks": ""
           },
           "bgcolor": "#E5ECF6",
           "caxis": {
            "gridcolor": "white",
            "linecolor": "white",
            "ticks": ""
           }
          },
          "title": {
           "x": 0.05
          },
          "xaxis": {
           "automargin": true,
           "gridcolor": "white",
           "linecolor": "white",
           "ticks": "",
           "title": {
            "standoff": 15
           },
           "zerolinecolor": "white",
           "zerolinewidth": 2
          },
          "yaxis": {
           "automargin": true,
           "gridcolor": "white",
           "linecolor": "white",
           "ticks": "",
           "title": {
            "standoff": 15
           },
           "zerolinecolor": "white",
           "zerolinewidth": 2
          }
         }
        },
        "title": {
         "text": "Auto Sales 2022"
        },
        "xaxis": {
         "anchor": "y",
         "autorange": true,
         "domain": [
          0,
          1
         ],
         "range": [
          -0.5,
          35.5
         ],
         "title": {
          "text": "brand"
         },
         "type": "category"
        },
        "yaxis": {
         "anchor": "x",
         "autorange": true,
         "domain": [
          0,
          1
         ],
         "range": [
          0,
          1947106.3157894737
         ],
         "title": {
          "text": "US_sales"
         },
         "type": "linear"
        }
       }
      },
      "image/png": "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      "text/html": [
       "<div>                            <div id=\"350ac418-b60e-4568-b18b-1dbe54f92f11\" class=\"plotly-graph-div\" style=\"height:525px; width:100%;\"></div>            <script type=\"text/javascript\">                require([\"plotly\"], function(Plotly) {                    window.PLOTLYENV=window.PLOTLYENV || {};                                    if (document.getElementById(\"350ac418-b60e-4568-b18b-1dbe54f92f11\")) {                    Plotly.newPlot(                        \"350ac418-b60e-4568-b18b-1dbe54f92f11\",                        [{\"alignmentgroup\":\"True\",\"hovertemplate\":\"brand=%{x}\\u003cbr\\u003eUS_sales=%{y}\\u003cbr\\u003esales_change=%{text}\\u003cextra\\u003e\\u003c\\u002fextra\\u003e\",\"legendgroup\":\"\",\"marker\":{\"color\":\"#636efa\",\"pattern\":{\"shape\":\"\"}},\"name\":\"\",\"offsetgroup\":\"\",\"orientation\":\"v\",\"showlegend\":false,\"text\":[-9.0,-2.0,6.0,-33.0,-2.0,-1.0,-12.0,-25.0,-5.0,-16.0,7.0,7.0,-1.0,-20.0,-11.0,-15.0,-12.0,-5.0,14.0,-2.0,-42.0,-35.0,-16.0,-16.0,-4.0,0.0,14.0,-20.0,-1.0,-30.0,-10.0,0.0,3.0,-61.0,-35.0,7.0],\"textposition\":\"auto\",\"x\":[\"Toyota\",\"Ford\",\"Chevrolet\",\"Honda\",\"Hyundai\",\"Kia\",\"Jeep\",\"Nissan\",\"Subaru\",\"Ram Trucks\",\"GMC\",\"Mercedes-Benz\",\"BMW\",\"Volkswagen\",\"Mazda\",\"Lexus\",\"Dodge\",\"Audi\",\"Cadillac\",\"Chrysler\",\"Buick\",\"Acura\",\"Volvo\",\"Mitsubishi\",\"Lincoln\",\"Porsche\",\"Genesis\",\"INFINITI\",\"MINI\",\"Alfa Romeo\",\"Maserati\",\"Bentley\",\"Lamborghini\",\"Fiat\",\"McLaren\",\"Rolls-Royce\"],\"xaxis\":\"x\",\"y\":[1849751,1767439,1502389,881201,724265,693549,684612,682731,556581,545194,517649,350949,332388,301069,294908,258704,190793,186875,134726,112713,103519,102306,102038,102037,83486,70065,56410,46619,29504,12845,6413,3975,3134,915,840,460],\"yaxis\":\"y\",\"type\":\"bar\"}],                        {\"template\":{\"data\":{\"histogram2dcontour\":[{\"type\":\"histogram2dcontour\",\"colorbar\":{\"outlinewidth\":0,\"ticks\":\"\"},\"colorscale\":[[0.0,\"#0d0887\"],[0.1111111111111111,\"#46039f\"],[0.2222222222222222,\"#7201a8\"],[0.3333333333333333,\"#9c179e\"],[0.4444444444444444,\"#bd3786\"],[0.5555555555555556,\"#d8576b\"],[0.6666666666666666,\"#ed7953\"],[0.7777777777777778,\"#fb9f3a\"],[0.8888888888888888,\"#fdca26\"],[1.0,\"#f0f921\"]]}],\"choropleth\":[{\"type\":\"choropleth\",\"colorbar\":{\"outlinewidth\":0,\"ticks\":\"\"}}],\"histogram2d\":[{\"type\":\"histogram2d\",\"colorbar\":{\"outlinewidth\":0,\"ticks\":\"\"},\"colorscale\":[[0.0,\"#0d0887\"],[0.1111111111111111,\"#46039f\"],[0.2222222222222222,\"#7201a8\"],[0.3333333333333333,\"#9c179e\"],[0.4444444444444444,\"#bd3786\"],[0.5555555555555556,\"#d8576b\"],[0.6666666666666666,\"#ed7953\"],[0.7777777777777778,\"#fb9f3a\"],[0.8888888888888888,\"#fdca26\"],[1.0,\"#f0f921\"]]}],\"heatmap\":[{\"type\":\"heatmap\",\"colorbar\":{\"outlinewidth\":0,\"ticks\":\"\"},\"colorscale\":[[0.0,\"#0d0887\"],[0.1111111111111111,\"#46039f\"],[0.2222222222222222,\"#7201a8\"],[0.3333333333333333,\"#9c179e\"],[0.4444444444444444,\"#bd3786\"],[0.5555555555555556,\"#d8576b\"],[0.6666666666666666,\"#ed7953\"],[0.7777777777777778,\"#fb9f3a\"],[0.8888888888888888,\"#fdca26\"],[1.0,\"#f0f921\"]]}],\"heatmapgl\":[{\"type\":\"heatmapgl\",\"colorbar\":{\"outlinewidth\":0,\"ticks\":\"\"},\"colorscale\":[[0.0,\"#0d0887\"],[0.1111111111111111,\"#46039f\"],[0.2222222222222222,\"#7201a8\"],[0.3333333333333333,\"#9c179e\"],[0.4444444444444444,\"#bd3786\"],[0.5555555555555556,\"#d8576b\"],[0.6666666666666666,\"#ed7953\"],[0.7777777777777778,\"#fb9f3a\"],[0.8888888888888888,\"#fdca26\"],[1.0,\"#f0f921\"]]}],\"contourcarpet\":[{\"type\":\"contourcarpet\",\"colorbar\":{\"outlinewidth\":0,\"ticks\":\"\"}}],\"contour\":[{\"type\":\"contour\",\"colorbar\":{\"outlinewidth\":0,\"ticks\":\"\"},\"colorscale\":[[0.0,\"#0d0887\"],[0.1111111111111111,\"#46039f\"],[0.2222222222222222,\"#7201a8\"],[0.3333333333333333,\"#9c179e\"],[0.4444444444444444,\"#bd3786\"],[0.5555555555555556,\"#d8576b\"],[0.6666666666666666,\"#ed7953\"],[0.7777777777777778,\"#fb9f3a\"],[0.8888888888888888,\"#fdca26\"],[1.0,\"#f0f921\"]]}],\"surface\":[{\"type\":\"surface\",\"colorbar\":{\"outlinewidth\":0,\"ticks\":\"\"},\"colorscale\":[[0.0,\"#0d0887\"],[0.1111111111111111,\"#46039f\"],[0.2222222222222222,\"#7201a8\"],[0.3333333333333333,\"#9c179e\"],[0.4444444444444444,\"#bd3786\"],[0.5555555555555556,\"#d8576b\"],[0.6666666666666666,\"#ed7953\"],[0.7777777777777778,\"#fb9f3a\"],[0.8888888888888888,\"#fdca26\"],[1.0,\"#f0f921\"]]}],\"mesh3d\":[{\"type\":\"mesh3d\",\"colorbar\":{\"outlinewidth\":0,\"ticks\":\"\"}}],\"scatter\":[{\"fillpattern\":{\"fillmode\":\"overlay\",\"size\":10,\"solidity\":0.2},\"type\":\"scatter\"}],\"parcoords\":[{\"type\":\"parcoords\",\"line\":{\"colorbar\":{\"outlinewidth\":0,\"ticks\":\"\"}}}],\"scatterpolargl\":[{\"type\":\"scatterpolargl\",\"marker\":{\"colorbar\":{\"outlinewidth\":0,\"ticks\":\"\"}}}],\"bar\":[{\"error_x\":{\"color\":\"#2a3f5f\"},\"error_y\":{\"color\":\"#2a3f5f\"},\"marker\":{\"line\":{\"color\":\"#E5ECF6\",\"width\":0.5},\"pattern\":{\"fillmode\":\"overlay\",\"size\":10,\"solidity\":0.2}},\"type\":\"bar\"}],\"scattergeo\":[{\"type\":\"scattergeo\",\"marker\":{\"colorbar\":{\"outlinewidth\":0,\"ticks\":\"\"}}}],\"scatterpolar\":[{\"type\":\"scatterpolar\",\"marker\":{\"colorbar\":{\"outlinewidth\":0,\"ticks\":\"\"}}}],\"histogram\":[{\"marker\":{\"pattern\":{\"fillmode\":\"overlay\",\"size\":10,\"solidity\":0.2}},\"type\":\"histogram\"}],\"scattergl\":[{\"type\":\"scattergl\",\"marker\":{\"colorbar\":{\"outlinewidth\":0,\"ticks\":\"\"}}}],\"scatter3d\":[{\"type\":\"scatter3d\",\"line\":{\"colorbar\":{\"outlinewidth\":0,\"ticks\":\"\"}},\"marker\":{\"colorbar\":{\"outlinewidth\":0,\"ticks\":\"\"}}}],\"scattermapbox\":[{\"type\":\"scattermapbox\",\"marker\":{\"colorbar\":{\"outlinewidth\":0,\"ticks\":\"\"}}}],\"scatterternary\":[{\"type\":\"scatterternary\",\"marker\":{\"colorbar\":{\"outlinewidth\":0,\"ticks\":\"\"}}}],\"scattercarpet\":[{\"type\":\"scattercarpet\",\"marker\":{\"colorbar\":{\"outlinewidth\":0,\"ticks\":\"\"}}}],\"carpet\":[{\"aaxis\":{\"endlinecolor\":\"#2a3f5f\",\"gridcolor\":\"white\",\"linecolor\":\"white\",\"minorgridcolor\":\"white\",\"startlinecolor\":\"#2a3f5f\"},\"baxis\":{\"endlinecolor\":\"#2a3f5f\",\"gridcolor\":\"white\",\"linecolor\":\"white\",\"minorgridcolor\":\"white\",\"startlinecolor\":\"#2a3f5f\"},\"type\":\"carpet\"}],\"table\":[{\"cells\":{\"fill\":{\"color\":\"#EBF0F8\"},\"line\":{\"color\":\"white\"}},\"header\":{\"fill\":{\"color\":\"#C8D4E3\"},\"line\":{\"color\":\"white\"}},\"type\":\"table\"}],\"barpolar\":[{\"marker\":{\"line\":{\"color\":\"#E5ECF6\",\"width\":0.5},\"pattern\":{\"fillmode\":\"overlay\",\"size\":10,\"solidity\":0.2}},\"type\":\"barpolar\"}],\"pie\":[{\"automargin\":true,\"type\":\"pie\"}]},\"layout\":{\"autotypenumbers\":\"strict\",\"colorway\":[\"#636efa\",\"#EF553B\",\"#00cc96\",\"#ab63fa\",\"#FFA15A\",\"#19d3f3\",\"#FF6692\",\"#B6E880\",\"#FF97FF\",\"#FECB52\"],\"font\":{\"color\":\"#2a3f5f\"},\"hovermode\":\"closest\",\"hoverlabel\":{\"align\":\"left\"},\"paper_bgcolor\":\"white\",\"plot_bgcolor\":\"#E5ECF6\",\"polar\":{\"bgcolor\":\"#E5ECF6\",\"angularaxis\":{\"gridcolor\":\"white\",\"linecolor\":\"white\",\"ticks\":\"\"},\"radialaxis\":{\"gridcolor\":\"white\",\"linecolor\":\"white\",\"ticks\":\"\"}},\"ternary\":{\"bgcolor\":\"#E5ECF6\",\"aaxis\":{\"gridcolor\":\"white\",\"linecolor\":\"white\",\"ticks\":\"\"},\"baxis\":{\"gridcolor\":\"white\",\"linecolor\":\"white\",\"ticks\":\"\"},\"caxis\":{\"gridcolor\":\"white\",\"linecolor\":\"white\",\"ticks\":\"\"}},\"coloraxis\":{\"colorbar\":{\"outlinewidth\":0,\"ticks\":\"\"}},\"colorscale\":{\"sequential\":[[0.0,\"#0d0887\"],[0.1111111111111111,\"#46039f\"],[0.2222222222222222,\"#7201a8\"],[0.3333333333333333,\"#9c179e\"],[0.4444444444444444,\"#bd3786\"],[0.5555555555555556,\"#d8576b\"],[0.6666666666666666,\"#ed7953\"],[0.7777777777777778,\"#fb9f3a\"],[0.8888888888888888,\"#fdca26\"],[1.0,\"#f0f921\"]],\"sequentialminus\":[[0.0,\"#0d0887\"],[0.1111111111111111,\"#46039f\"],[0.2222222222222222,\"#7201a8\"],[0.3333333333333333,\"#9c179e\"],[0.4444444444444444,\"#bd3786\"],[0.5555555555555556,\"#d8576b\"],[0.6666666666666666,\"#ed7953\"],[0.7777777777777778,\"#fb9f3a\"],[0.8888888888888888,\"#fdca26\"],[1.0,\"#f0f921\"]],\"diverging\":[[0,\"#8e0152\"],[0.1,\"#c51b7d\"],[0.2,\"#de77ae\"],[0.3,\"#f1b6da\"],[0.4,\"#fde0ef\"],[0.5,\"#f7f7f7\"],[0.6,\"#e6f5d0\"],[0.7,\"#b8e186\"],[0.8,\"#7fbc41\"],[0.9,\"#4d9221\"],[1,\"#276419\"]]},\"xaxis\":{\"gridcolor\":\"white\",\"linecolor\":\"white\",\"ticks\":\"\",\"title\":{\"standoff\":15},\"zerolinecolor\":\"white\",\"automargin\":true,\"zerolinewidth\":2},\"yaxis\":{\"gridcolor\":\"white\",\"linecolor\":\"white\",\"ticks\":\"\",\"title\":{\"standoff\":15},\"zerolinecolor\":\"white\",\"automargin\":true,\"zerolinewidth\":2},\"scene\":{\"xaxis\":{\"backgroundcolor\":\"#E5ECF6\",\"gridcolor\":\"white\",\"linecolor\":\"white\",\"showbackground\":true,\"ticks\":\"\",\"zerolinecolor\":\"white\",\"gridwidth\":2},\"yaxis\":{\"backgroundcolor\":\"#E5ECF6\",\"gridcolor\":\"white\",\"linecolor\":\"white\",\"showbackground\":true,\"ticks\":\"\",\"zerolinecolor\":\"white\",\"gridwidth\":2},\"zaxis\":{\"backgroundcolor\":\"#E5ECF6\",\"gridcolor\":\"white\",\"linecolor\":\"white\",\"showbackground\":true,\"ticks\":\"\",\"zerolinecolor\":\"white\",\"gridwidth\":2}},\"shapedefaults\":{\"line\":{\"color\":\"#2a3f5f\"}},\"annotationdefaults\":{\"arrowcolor\":\"#2a3f5f\",\"arrowhead\":0,\"arrowwidth\":1},\"geo\":{\"bgcolor\":\"white\",\"landcolor\":\"#E5ECF6\",\"subunitcolor\":\"white\",\"showland\":true,\"showlakes\":true,\"lakecolor\":\"white\"},\"title\":{\"x\":0.05},\"mapbox\":{\"style\":\"light\"}}},\"xaxis\":{\"anchor\":\"y\",\"domain\":[0.0,1.0],\"title\":{\"text\":\"brand\"}},\"yaxis\":{\"anchor\":\"x\",\"domain\":[0.0,1.0],\"title\":{\"text\":\"US_sales\"}},\"legend\":{\"tracegroupgap\":0},\"title\":{\"text\":\"Auto Sales 2022\"},\"barmode\":\"relative\"},                        {\"responsive\": true}                    ).then(function(){\n",
       "                            \n",
       "var gd = document.getElementById('350ac418-b60e-4568-b18b-1dbe54f92f11');\n",
       "var x = new MutationObserver(function (mutations, observer) {{\n",
       "        var display = window.getComputedStyle(gd).display;\n",
       "        if (!display || display === 'none') {{\n",
       "            console.log([gd, 'removed!']);\n",
       "            Plotly.purge(gd);\n",
       "            observer.disconnect();\n",
       "        }}\n",
       "}});\n",
       "\n",
       "// Listen for the removal of the full notebook cells\n",
       "var notebookContainer = gd.closest('#notebook-container');\n",
       "if (notebookContainer) {{\n",
       "    x.observe(notebookContainer, {childList: true});\n",
       "}}\n",
       "\n",
       "// Listen for the clearing of the current output cell\n",
       "var outputEl = gd.closest('.output');\n",
       "if (outputEl) {{\n",
       "    x.observe(outputEl, {childList: true});\n",
       "}}\n",
       "\n",
       "                        })                };                });            </script>        </div>"
      ]
     },
     "metadata": {},
     "output_type": "display_data"
    }
   ],
   "source": [
    "auto_df.llm_plot()"
   ]
  },
  {
   "cell_type": "code",
   "execution_count": 4,
   "metadata": {
    "collapsed": false,
    "jupyter": {
     "outputs_hidden": false
    }
   },
   "outputs": [
    {
     "name": "stdout",
     "output_type": "stream",
     "text": [
      "SQL query for the transform:\n",
      "SELECT brand, sales_change\n",
      "FROM temp_view_for_transform\n",
      "ORDER BY sales_change DESC\n",
      "LIMIT 1\n",
      "+--------+------------+\n",
      "|   brand|sales_change|\n",
      "+--------+------------+\n",
      "|Cadillac|          14|\n",
      "+--------+------------+\n",
      "\n"
     ]
    }
   ],
   "source": [
    "# Apply transforms to a Dataframe\n",
    "auto_top_growth_df=auto_df.llm_transform(\"top brand with the highest growth\")\n",
    "auto_top_growth_df.show()"
   ]
  },
  {
   "cell_type": "code",
   "execution_count": 5,
   "metadata": {
    "collapsed": false,
    "jupyter": {
     "outputs_hidden": false
    }
   },
   "outputs": [
    {
     "data": {
      "text/plain": [
       "'In summary, this dataframe is retrieving the brand with the highest sales change from the `temp_view_for_transform` view, which is based on the `auto_sales_2022` view. The result will show only one record with the brand and its corresponding sales change value.'"
      ]
     },
     "execution_count": 5,
     "metadata": {},
     "output_type": "execute_result"
    }
   ],
   "source": [
    "# Explain what a DataFrame is retrieving.\n",
    "auto_top_growth_df.llm_explain()"
   ]
  },
  {
   "cell_type": "code",
   "execution_count": 6,
   "metadata": {},
   "outputs": [
    {
     "name": "stdout",
     "output_type": "stream",
     "text": [
      "Generated code:\n",
      "def is_sales_change_valid(df) -> bool:\n",
      "    # Check if the sales_change column exists in the DataFrame\n",
      "    if 'sales_change' not in df.columns:\n",
      "        return False\n",
      "\n",
      "    # Filter rows where sales_change is between -100 and 100\n",
      "    valid_rows = df.filter((df.sales_change >= -100) & (df.sales_change <= 100))\n",
      "\n",
      "    # Check if all rows are valid\n",
      "    if valid_rows.count() == df.count():\n",
      "        return True\n",
      "    else:\n",
      "        return False\n",
      "\n",
      "result = is_sales_change_valid(df)\n",
      "\n",
      "Result: True\n"
     ]
    }
   ],
   "source": [
    "auto_top_growth_df.llm_verify(\"expect sales change percentage to be between -100 to 100\")"
   ]
  },
  {
   "cell_type": "markdown",
   "metadata": {
    "jupyter": {
     "outputs_hidden": false
    }
   },
   "source": [
    "## Example 2: USA Presidents"
   ]
  },
  {
   "cell_type": "code",
   "execution_count": 7,
   "metadata": {
    "collapsed": false,
    "jupyter": {
     "outputs_hidden": false
    }
   },
   "outputs": [
    {
     "name": "stdout",
     "output_type": "stream",
     "text": [
      "Parsing URL: https://www.loc.gov/rr/print/list/057_chron.html\n",
      "\n",
      "SQL query for the ingestion:\n",
      " CREATE OR REPLACE TEMP VIEW usa_presidents AS SELECT * FROM VALUES\n",
      "('George Washington', 'John Adams'),\n",
      "('John Adams', 'Thomas Jefferson'),\n",
      "('Thomas Jefferson', 'Aaron Burr'),\n",
      "('Thomas Jefferson', 'George Clinton'),\n",
      "('James Madison', 'George Clinton'),\n",
      "('James Madison', 'Elbridge Gerry'),\n",
      "('James Monroe', 'Daniel D. Tompkins'),\n",
      "('John Quincy Adams', 'John C. Calhoun'),\n",
      "('Andrew Jackson', 'John C. Calhoun'),\n",
      "('Andrew Jackson', 'Martin Van Buren'),\n",
      "('Martin Van Buren', 'Richard M. Johnson'),\n",
      "('William Henry Harrison', 'John Tyler'),\n",
      "('John Tyler', NULL),\n",
      "('James K. Polk', 'George M. Dallas'),\n",
      "('Zachary Taylor', 'Millard Fillmore'),\n",
      "('Millard Fillmore', NULL),\n",
      "('Franklin Pierce', 'William R. King'),\n",
      "('Franklin Pierce', NULL),\n",
      "('James Buchanan', 'John C. Breckinridge'),\n",
      "('Abraham Lincoln', 'Hannibal Hamlin'),\n",
      "('Abraham Lincoln', 'Andrew Johnson'),\n",
      "('Andrew Johnson', NULL),\n",
      "('Ulysses S. Grant', 'Schuyler Colfax'),\n",
      "('Ulysses S. Grant', 'Henry Wilson'),\n",
      "('Ulysses S. Grant', NULL),\n",
      "('Rutherford Birchard Hayes', 'William A. Wheeler'),\n",
      "('James A. Garfield', 'Chester A. Arthur'),\n",
      "('Chester A. Arthur', NULL),\n",
      "('Grover Cleveland', 'Thomas A. Hendricks'),\n",
      "('Grover Cleveland', NULL),\n",
      "('Benjamin Harrison', 'Levi P. Morton'),\n",
      "('Grover Cleveland', 'Adlai E. Stevenson'),\n",
      "('William McKinley', 'Garret A. Hobart'),\n",
      "('William McKinley', NULL),\n",
      "('William McKinley', 'Theodore Roosevelt'),\n",
      "('Theodore Roosevelt', NULL),\n",
      "('Theodore Roosevelt', 'Charles W. Fairbanks'),\n",
      "('William H. Taft', 'James S. Sherman'),\n",
      "('William H. Taft', NULL),\n",
      "('Woodrow Wilson', 'Thomas R. Marshall'),\n",
      "('Warren G. Harding', 'Calvin Coolidge'),\n",
      "('Calvin Coolidge', NULL),\n",
      "('Calvin Coolidge', 'Charles G. Dawes'),\n",
      "('Herbert Hoover', 'Charles Curtis'),\n",
      "('Franklin D. Roosevelt', 'John N. Garner'),\n",
      "('Franklin D. Roosevelt', 'Henry A. Wallace'),\n",
      "('Franklin D. Roosevelt', 'Harry S. Truman'),\n",
      "('Harry S. Truman', NULL),\n",
      "('Harry S. Truman', 'Alben W. Barkley'),\n",
      "('Dwight D. Eisenhower', 'Richard M. Nixon'),\n",
      "('John F. Kennedy', 'Lyndon B. Johnson'),\n",
      "('Lyndon B. Johnson', NULL),\n",
      "('Lyndon B. Johnson', 'Hubert H. Humphrey'),\n",
      "('Richard M. Nixon', 'Spiro T. Agnew'),\n",
      "('Richard M. Nixon', 'Gerald R. Ford'),\n",
      "('Gerald R. Ford', 'Nelson Rockefeller'),\n",
      "('Jimmy Carter', 'Walter F. Mondale'),\n",
      "('Ronald Reagan', 'George Bush'),\n",
      "('George Bush', 'Dan Quayle'),\n",
      "('Bill Clinton', 'Albert Gore'),\n",
      "('George W. Bush', 'Richard Cheney'),\n",
      "('Barack Obama', 'Joseph R. Biden'),\n",
      "('Donald J. Trump', 'Mike Pence'),\n",
      "('Joseph R. Biden', 'Kamala Harris')\n",
      "AS v1(president, vice_president)\n",
      "\n",
      "Storing data into temp view: usa_presidents\n",
      "\n",
      "+--------------------+--------------------+\n",
      "|           president|      vice_president|\n",
      "+--------------------+--------------------+\n",
      "|   George Washington|          John Adams|\n",
      "|          John Adams|    Thomas Jefferson|\n",
      "|    Thomas Jefferson|          Aaron Burr|\n",
      "|    Thomas Jefferson|      George Clinton|\n",
      "|       James Madison|      George Clinton|\n",
      "|       James Madison|      Elbridge Gerry|\n",
      "|        James Monroe|  Daniel D. Tompkins|\n",
      "|   John Quincy Adams|     John C. Calhoun|\n",
      "|      Andrew Jackson|     John C. Calhoun|\n",
      "|      Andrew Jackson|    Martin Van Buren|\n",
      "|    Martin Van Buren|  Richard M. Johnson|\n",
      "|William Henry Har...|          John Tyler|\n",
      "|          John Tyler|                null|\n",
      "|       James K. Polk|    George M. Dallas|\n",
      "|      Zachary Taylor|    Millard Fillmore|\n",
      "|    Millard Fillmore|                null|\n",
      "|     Franklin Pierce|     William R. King|\n",
      "|     Franklin Pierce|                null|\n",
      "|      James Buchanan|John C. Breckinridge|\n",
      "|     Abraham Lincoln|     Hannibal Hamlin|\n",
      "+--------------------+--------------------+\n",
      "only showing top 20 rows\n",
      "\n"
     ]
    }
   ],
   "source": [
    "# You can also specify the expected columns for the ingestion.\n",
    "df=assistant.create_df(\"USA presidents\", [\"president\", \"vice_president\"])\n",
    "df.show()"
   ]
  },
  {
   "cell_type": "code",
   "execution_count": 8,
   "metadata": {
    "collapsed": false,
    "jupyter": {
     "outputs_hidden": false
    }
   },
   "outputs": [
    {
     "name": "stdout",
     "output_type": "stream",
     "text": [
      "SQL query for the transform:\n",
      "SELECT DISTINCT president FROM temp_view_for_transform WHERE president IN (SELECT DISTINCT vice_president FROM temp_view_for_transform)\n",
      "+------------------+\n",
      "|         president|\n",
      "+------------------+\n",
      "|        John Adams|\n",
      "|  Thomas Jefferson|\n",
      "|  Martin Van Buren|\n",
      "|  Millard Fillmore|\n",
      "|        John Tyler|\n",
      "|    Andrew Johnson|\n",
      "| Chester A. Arthur|\n",
      "|Theodore Roosevelt|\n",
      "|   Calvin Coolidge|\n",
      "|   Harry S. Truman|\n",
      "|    Gerald R. Ford|\n",
      "| Lyndon B. Johnson|\n",
      "|  Richard M. Nixon|\n",
      "|       George Bush|\n",
      "|   Joseph R. Biden|\n",
      "+------------------+\n",
      "\n"
     ]
    }
   ],
   "source": [
    "presidents_who_were_vp = df.llm_transform(\"presidents who were also vice presidents\")\n",
    "presidents_who_were_vp.show()"
   ]
  },
  {
   "cell_type": "code",
   "execution_count": 9,
   "metadata": {
    "collapsed": false,
    "jupyter": {
     "outputs_hidden": false
    }
   },
   "outputs": [
    {
     "data": {
      "text/plain": [
       "'In summary, this dataframe is retrieving the distinct list of presidents who have never served as a vice president.'"
      ]
     },
     "execution_count": 9,
     "metadata": {},
     "output_type": "execute_result"
    }
   ],
   "source": [
    "presidents_who_were_vp.llm_explain()"
   ]
  },
  {
   "cell_type": "code",
   "execution_count": 21,
   "metadata": {},
   "outputs": [
    {
     "name": "stdout",
     "output_type": "stream",
     "text": [
      "Generated code:\n",
      "def no_null_values(df) -> bool:\n",
      "    # Check if there are any null values in the DataFrame\n",
      "    return df.dropna().count() == df.count()\n",
      "\n",
      "result = no_null_values(df)\n",
      "\n",
      "Result: True\n"
     ]
    }
   ],
   "source": [
    "presidents_who_were_vp.llm_verify(\"expect no NULL values\")"
   ]
  },
  {
   "cell_type": "markdown",
   "metadata": {
    "jupyter": {
     "outputs_hidden": false
    }
   },
   "source": [
    "# Example 3: Top 10 tech companies"
   ]
  },
  {
   "cell_type": "code",
   "execution_count": 11,
   "metadata": {
    "collapsed": false,
    "jupyter": {
     "outputs_hidden": false
    }
   },
   "outputs": [
    {
     "name": "stdout",
     "output_type": "stream",
     "text": [
      "Parsing URL: https://www.statista.com/statistics/1350976/leading-tech-companies-worldwide-by-market-cap/\n",
      "\n",
      "SQL query for the ingestion:\n",
      " CREATE OR REPLACE TEMP VIEW top_tech_companies AS SELECT * FROM VALUES\n",
      "('Apple', 2242, 'USA'),\n",
      "('Microsoft', 1821, 'USA'),\n",
      "('Alphabet (Google)', 1229, 'USA'),\n",
      "('Amazon', 902.4, 'USA'),\n",
      "('Tesla', 541.4, 'USA'),\n",
      "('TSMC', 410.9, 'Taiwan'),\n",
      "('NVIDIA', 401.7, 'USA'),\n",
      "('Tencent', 377.8, 'China'),\n",
      "('Meta Platforms (Facebook)', 302.1, 'USA'),\n",
      "('Samsung', 301.7, 'South Korea')\n",
      "AS v1(company, cap, country)\n",
      "\n",
      "Storing data into temp view: top_tech_companies\n",
      "\n",
      "+--------------------+------+-----------+\n",
      "|             company|   cap|    country|\n",
      "+--------------------+------+-----------+\n",
      "|               Apple|2242.0|        USA|\n",
      "|           Microsoft|1821.0|        USA|\n",
      "|   Alphabet (Google)|1229.0|        USA|\n",
      "|              Amazon| 902.4|        USA|\n",
      "|               Tesla| 541.4|        USA|\n",
      "|                TSMC| 410.9|     Taiwan|\n",
      "|              NVIDIA| 401.7|        USA|\n",
      "|             Tencent| 377.8|      China|\n",
      "|Meta Platforms (F...| 302.1|        USA|\n",
      "|             Samsung| 301.7|South Korea|\n",
      "+--------------------+------+-----------+\n",
      "\n"
     ]
    }
   ],
   "source": [
    "# Search and ingest web content into a DataFrame\n",
    "company_df=assistant.create_df(\"Top 10 tech companies by market cap\", ['company', 'cap', 'country'])\n",
    "company_df.show()"
   ]
  },
  {
   "cell_type": "code",
   "execution_count": 12,
   "metadata": {
    "collapsed": false,
    "jupyter": {
     "outputs_hidden": false
    }
   },
   "outputs": [
    {
     "name": "stdout",
     "output_type": "stream",
     "text": [
      "SQL query for the transform:\n",
      "SELECT company FROM temp_view_for_transform WHERE country = 'USA'\n",
      "+--------------------+\n",
      "|             company|\n",
      "+--------------------+\n",
      "|               Apple|\n",
      "|           Microsoft|\n",
      "|   Alphabet (Google)|\n",
      "|              Amazon|\n",
      "|               Tesla|\n",
      "|              NVIDIA|\n",
      "|Meta Platforms (F...|\n",
      "+--------------------+\n",
      "\n"
     ]
    }
   ],
   "source": [
    "us_company_df=company_df.llm_transform(\"companies in USA\")\n",
    "us_company_df.show()"
   ]
  },
  {
   "cell_type": "code",
   "execution_count": 13,
   "metadata": {
    "collapsed": false,
    "jupyter": {
     "outputs_hidden": false
    }
   },
   "outputs": [
    {
     "data": {
      "text/plain": [
       "'In summary, this dataframe is retrieving the names of technology companies that are based in the USA.'"
      ]
     },
     "execution_count": 13,
     "metadata": {},
     "output_type": "execute_result"
    }
   ],
   "source": [
    "us_company_df.llm_explain()"
   ]
  },
  {
   "cell_type": "code",
   "execution_count": 15,
   "metadata": {},
   "outputs": [
    {
     "name": "stdout",
     "output_type": "stream",
     "text": [
      "Generated code:\n",
      "def unique_company_names(df) -> bool:\n",
      "    # Count the number of unique company names\n",
      "    unique_count = df.select('company').distinct().count()\n",
      "\n",
      "    # Count the total number of rows in the dataframe\n",
      "    total_count = df.count()\n",
      "\n",
      "    # Check if the unique count equals the total count\n",
      "    if unique_count == total_count:\n",
      "        return True\n",
      "    else:\n",
      "        return False\n",
      "\n",
      "result = unique_company_names(df)\n",
      "\n",
      "Result: True\n"
     ]
    }
   ],
   "source": [
    "us_company_df.llm_verify(\"expect all company names to be unique\")"
   ]
  },
  {
   "cell_type": "markdown",
   "metadata": {
    "jupyter": {
     "outputs_hidden": false
    }
   },
   "source": [
    "## Example 4: Ingestion from a URL\n",
    "Instead of searching for the web page, you can also ask the assistant to ingest from a URL."
   ]
  },
  {
   "cell_type": "code",
   "execution_count": 18,
   "metadata": {
    "collapsed": false,
    "jupyter": {
     "outputs_hidden": false
    }
   },
   "outputs": [
    {
     "name": "stdout",
     "output_type": "stream",
     "text": [
      "Parsing URL: https://time.com/6235186/best-albums-2022/\n",
      "\n",
      "SQL query for the ingestion:\n",
      " CREATE OR REPLACE TEMP VIEW best_albums_2022 AS SELECT * FROM VALUES\n",
      "('Motomami', 'Rosalía', 2022),\n",
      "('You Can''t Kill Me', '070 Shake', 2022),\n",
      "('Mr. Morale & The Big Steppers', 'Kendrick Lamar', 2022),\n",
      "('Big Time', 'Angel Olsen', 2022),\n",
      "('Electricity', 'Ibibio Sound Machine', 2022),\n",
      "('It''s Almost Dry', 'Pusha T', 2022),\n",
      "('Chloe and the Next 20th Century', 'Father John Misty', 2022),\n",
      "('Renaissance', 'Beyoncé', 2022),\n",
      "('19 Masters', 'Saya Gray', 2022),\n",
      "('Un Verano Sin Ti', 'Bad Bunny', 2022)\n",
      "AS v1(album, artist, year)\n",
      "\n",
      "Storing data into temp view: best_albums_2022\n",
      "\n",
      "+--------------------+--------------------+----+\n",
      "|               album|              artist|year|\n",
      "+--------------------+--------------------+----+\n",
      "|            Motomami|             Rosalía|2022|\n",
      "|    You Cant Kill Me|           070 Shake|2022|\n",
      "|Mr. Morale & The ...|      Kendrick Lamar|2022|\n",
      "|            Big Time|         Angel Olsen|2022|\n",
      "|         Electricity|Ibibio Sound Machine|2022|\n",
      "|      Its Almost Dry|             Pusha T|2022|\n",
      "|Chloe and the Nex...|   Father John Misty|2022|\n",
      "|         Renaissance|             Beyoncé|2022|\n",
      "|          19 Masters|           Saya Gray|2022|\n",
      "|    Un Verano Sin Ti|           Bad Bunny|2022|\n",
      "+--------------------+--------------------+----+\n",
      "\n"
     ]
    }
   ],
   "source": [
    "best_albums_df = assistant.create_df('https://time.com/6235186/best-albums-2022/', [\"album\", \"artist\", \"year\"])\n",
    "best_albums_df.show()"
   ]
  },
  {
   "cell_type": "code",
   "execution_count": 19,
   "metadata": {},
   "outputs": [
    {
     "name": "stdout",
     "output_type": "stream",
     "text": [
      "Generated code:\n",
      "def has_year_2022(df) -> bool:\n",
      "    # Filter the DataFrame to only include rows with year equal to 2022\n",
      "    filtered_df = df.filter(df.year == 2022)\n",
      "\n",
      "    # Check if the number of rows in the filtered DataFrame is equal to the number of rows in the original DataFrame\n",
      "    if filtered_df.count() == df.count():\n",
      "        return True\n",
      "    else:\n",
      "        return False\n",
      "\n",
      "result = has_year_2022(df)\n",
      "\n",
      "Result: True\n"
     ]
    }
   ],
   "source": [
    "best_albums_df.llm_verify(\"expect each year to be 2022\")"
   ]
  },
  {
   "cell_type": "code",
   "execution_count": 20,
   "metadata": {},
   "outputs": [],
   "source": [
    "assistant.commit()"
   ]
  },
  {
   "cell_type": "code",
   "execution_count": null,
   "metadata": {},
   "outputs": [],
   "source": []
  }
 ],
 "metadata": {
  "kernelspec": {
   "display_name": "Python 3 (ipykernel)",
   "language": "python",
   "name": "python3"
  },
  "language_info": {
   "codemirror_mode": {
    "name": "ipython",
    "version": 3
   },
   "file_extension": ".py",
   "mimetype": "text/x-python",
   "name": "python",
   "nbconvert_exporter": "python",
   "pygments_lexer": "ipython3",
   "version": "3.11.4"
  }
 },
 "nbformat": 4,
 "nbformat_minor": 4
}
