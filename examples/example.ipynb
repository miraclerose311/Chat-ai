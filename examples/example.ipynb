{
 "cells": [
  {
   "cell_type": "markdown",
   "metadata": {
    "jupyter": {
     "outputs_hidden": false
    }
   },
   "source": [
    "# Spark LLM Assistant"
   ]
  },
  {
   "cell_type": "markdown",
   "metadata": {
    "jupyter": {
     "outputs_hidden": false
    }
   },
   "source": [
    "## Initialization"
   ]
  },
  {
   "cell_type": "code",
   "execution_count": 1,
   "metadata": {
    "collapsed": false,
    "jupyter": {
     "outputs_hidden": false
    }
   },
   "outputs": [
    {
     "name": "stderr",
     "output_type": "stream",
     "text": [
      "Setting default log level to \"WARN\".\n",
      "To adjust logging level use sc.setLogLevel(newLevel). For SparkR, use setLogLevel(newLevel).\n",
      "23/06/16 19:53:46 WARN NativeCodeLoader: Unable to load native-hadoop library for your platform... using builtin-java classes where applicable\n"
     ]
    }
   ],
   "source": [
    "from langchain.chat_models import ChatOpenAI\n",
    "from spark_llm import SparkLLMAssistant\n",
    "\n",
    "llm = ChatOpenAI(model_name='gpt-4') # using gpt-4 can achieve better results\n",
    "assistant=SparkLLMAssistant(llm=llm, verbose=True)\n",
    "assistant.activate() # active partial functions for Spark DataFrame"
   ]
  },
  {
   "cell_type": "markdown",
   "metadata": {
    "jupyter": {
     "outputs_hidden": false
    }
   },
   "source": [
    "## Example 1: Auto sales by brand in US 2022"
   ]
  },
  {
   "cell_type": "code",
   "execution_count": 2,
   "metadata": {
    "collapsed": false,
    "jupyter": {
     "outputs_hidden": false
    }
   },
   "outputs": [
    {
     "name": "stdout",
     "output_type": "stream",
     "text": [
      "Parsing URL: https://www.carpro.com/blog/full-year-2022-national-auto-sales-by-brand\n",
      "\n",
      "SQL query for the ingestion:\n",
      " CREATE OR REPLACE TEMP VIEW auto_sales_2022 AS SELECT * FROM VALUES\n",
      "('Toyota', 1849751, -9),\n",
      "('Ford', 1767439, -2),\n",
      "('Chevrolet', 1502389, 6),\n",
      "('Honda', 881201, -33),\n",
      "('Hyundai', 724265, -2),\n",
      "('Kia', 693549, -1),\n",
      "('Jeep', 684612, -12),\n",
      "('Nissan', 682731, -25),\n",
      "('Subaru', 556581, -5),\n",
      "('Ram Trucks', 545194, -16),\n",
      "('GMC', 517649, 7),\n",
      "('Mercedes-Benz', 350949, 7),\n",
      "('BMW', 332388, -1),\n",
      "('Volkswagen', 301069, -20),\n",
      "('Mazda', 294908, -11),\n",
      "('Lexus', 258704, -15),\n",
      "('Dodge', 190793, -12),\n",
      "('Audi', 186875, -5),\n",
      "('Cadillac', 134726, 14),\n",
      "('Chrysler', 112713, -2),\n",
      "('Buick', 103519, -42),\n",
      "('Acura', 102306, -35),\n",
      "('Volvo', 102038, -16),\n",
      "('Mitsubishi', 102037, -16),\n",
      "('Lincoln', 83486, -4),\n",
      "('Porsche', 70065, 0),\n",
      "('Genesis', 56410, 14),\n",
      "('INFINITI', 46619, -20),\n",
      "('MINI', 29504, -1),\n",
      "('Alfa Romeo', 12845, -30),\n",
      "('Maserati', 6413, -10),\n",
      "('Bentley', 3975, 0),\n",
      "('Lamborghini', 3134, 3),\n",
      "('Fiat', 915, -61),\n",
      "('McLaren', 840, -35),\n",
      "('Rolls-Royce', 460, 7)\n",
      "AS v1(brand, us_sales, sales_change_percentage)\n",
      "\n",
      "Storing data into temp view: auto_sales_2022\n",
      "\n",
      "+-------------+--------+-----------------------+\n",
      "|        brand|us_sales|sales_change_percentage|\n",
      "+-------------+--------+-----------------------+\n",
      "|       Toyota| 1849751|                     -9|\n",
      "|         Ford| 1767439|                     -2|\n",
      "|    Chevrolet| 1502389|                      6|\n",
      "|        Honda|  881201|                    -33|\n",
      "|      Hyundai|  724265|                     -2|\n",
      "|          Kia|  693549|                     -1|\n",
      "|         Jeep|  684612|                    -12|\n",
      "|       Nissan|  682731|                    -25|\n",
      "|       Subaru|  556581|                     -5|\n",
      "|   Ram Trucks|  545194|                    -16|\n",
      "|          GMC|  517649|                      7|\n",
      "|Mercedes-Benz|  350949|                      7|\n",
      "|          BMW|  332388|                     -1|\n",
      "|   Volkswagen|  301069|                    -20|\n",
      "|        Mazda|  294908|                    -11|\n",
      "|        Lexus|  258704|                    -15|\n",
      "|        Dodge|  190793|                    -12|\n",
      "|         Audi|  186875|                     -5|\n",
      "|     Cadillac|  134726|                     14|\n",
      "|     Chrysler|  112713|                     -2|\n",
      "+-------------+--------+-----------------------+\n",
      "only showing top 20 rows\n",
      "\n"
     ]
    }
   ],
   "source": [
    "# Search and ingest web content into a DataFrame\n",
    "auto_df = assistant.create_df(\"2022 USA national auto sales by brand\")\n",
    "auto_df.show()"
   ]
  },
  {
   "cell_type": "code",
   "execution_count": 3,
   "metadata": {
    "collapsed": false,
    "jupyter": {
     "outputs_hidden": false
    }
   },
   "outputs": [
    {
     "name": "stdout",
     "output_type": "stream",
     "text": [
      "You can use the `plotly` library to visualize the result of the `df` DataFrame. Here's a sample code block that demonstrates how to create a bar chart using this library:\n",
      "\n",
      "```python\n",
      "import plotly.graph_objs as go\n",
      "from plotly.offline import init_notebook_mode, iplot\n",
      "\n",
      "# Convert the Spark DataFrame to a Pandas DataFrame\n",
      "pdf = df.toPandas()\n",
      "\n",
      "# Initialize notebook mode for plotly\n",
      "init_notebook_mode(connected=True)\n",
      "\n",
      "# Create a bar chart with plotly\n",
      "trace = go.Bar(\n",
      "    x=pdf['brand'],\n",
      "    y=pdf['us_sales'],\n",
      "    text=pdf['sales_change_percentage'],\n",
      "    textposition='auto',\n",
      "    marker=dict(\n",
      "        color='rgba(50, 171, 96, 0.6)',\n",
      "        line=dict(color='rgba(50, 171, 96, 1.0)', width=1)\n",
      "    ),\n",
      "    opacity=0.8\n",
      ")\n",
      "\n",
      "data = [trace]\n",
      "\n",
      "layout = go.Layout(\n",
      "    title='US Auto Sales Data in 2022',\n",
      "    xaxis=dict(title='Brand'),\n",
      "    yaxis=dict(title='US Sales'),\n",
      ")\n",
      "\n",
      "fig = go.Figure(data=data, layout=layout)\n",
      "\n",
      "# Show the plot directly in the notebook\n",
      "iplot(fig)\n",
      "```\n",
      "\n",
      "This code block:\n",
      "1. Converts the PySpark DataFrame to a Pandas DataFrame.\n",
      "2. Initializes the notebook mode for `plotly`.\n",
      "3. Creates a bar chart with the `brand` on the x-axis, `us_sales` on the y-axis, and `sales_change_percentage` as text labels.\n",
      "4. Adds a title and axis labels to the chart.\n",
      "5. Displays the plot directly in the notebook using `iplot`.\n"
     ]
    },
    {
     "data": {
      "text/html": "        <script type=\"text/javascript\">\n        window.PlotlyConfig = {MathJaxConfig: 'local'};\n        if (window.MathJax && window.MathJax.Hub && window.MathJax.Hub.Config) {window.MathJax.Hub.Config({SVG: {font: \"STIX-Web\"}});}\n        if (typeof require !== 'undefined') {\n        require.undef(\"plotly\");\n        requirejs.config({\n            paths: {\n                'plotly': ['https://cdn.plot.ly/plotly-2.24.1.min']\n            }\n        });\n        require(['plotly'], function(Plotly) {\n            window._Plotly = Plotly;\n        });\n        }\n        </script>\n        "
     },
     "metadata": {},
     "output_type": "display_data"
    },
    {
     "data": {
      "application/vnd.plotly.v1+json": {
       "data": [
        {
         "marker": {
          "color": "rgba(50, 171, 96, 0.6)",
          "line": {
           "color": "rgba(50, 171, 96, 1.0)",
           "width": 1
          }
         },
         "opacity": 0.8,
         "text": [
          -9.0,
          -2.0,
          6.0,
          -33.0,
          -2.0,
          -1.0,
          -12.0,
          -25.0,
          -5.0,
          -16.0,
          7.0,
          7.0,
          -1.0,
          -20.0,
          -11.0,
          -15.0,
          -12.0,
          -5.0,
          14.0,
          -2.0,
          -42.0,
          -35.0,
          -16.0,
          -16.0,
          -4.0,
          0.0,
          14.0,
          -20.0,
          -1.0,
          -30.0,
          -10.0,
          0.0,
          3.0,
          -61.0,
          -35.0,
          7.0
         ],
         "textposition": "auto",
         "x": [
          "Toyota",
          "Ford",
          "Chevrolet",
          "Honda",
          "Hyundai",
          "Kia",
          "Jeep",
          "Nissan",
          "Subaru",
          "Ram Trucks",
          "GMC",
          "Mercedes-Benz",
          "BMW",
          "Volkswagen",
          "Mazda",
          "Lexus",
          "Dodge",
          "Audi",
          "Cadillac",
          "Chrysler",
          "Buick",
          "Acura",
          "Volvo",
          "Mitsubishi",
          "Lincoln",
          "Porsche",
          "Genesis",
          "INFINITI",
          "MINI",
          "Alfa Romeo",
          "Maserati",
          "Bentley",
          "Lamborghini",
          "Fiat",
          "McLaren",
          "Rolls-Royce"
         ],
         "y": [
          1849751,
          1767439,
          1502389,
          881201,
          724265,
          693549,
          684612,
          682731,
          556581,
          545194,
          517649,
          350949,
          332388,
          301069,
          294908,
          258704,
          190793,
          186875,
          134726,
          112713,
          103519,
          102306,
          102038,
          102037,
          83486,
          70065,
          56410,
          46619,
          29504,
          12845,
          6413,
          3975,
          3134,
          915,
          840,
          460
         ],
         "type": "bar"
        }
       ],
       "layout": {
        "template": {
         "data": {
          "barpolar": [
           {
            "marker": {
             "line": {
              "color": "#E5ECF6",
              "width": 0.5
             },
             "pattern": {
              "fillmode": "overlay",
              "size": 10,
              "solidity": 0.2
             }
            },
            "type": "barpolar"
           }
          ],
          "bar": [
           {
            "error_x": {
             "color": "#2a3f5f"
            },
            "error_y": {
             "color": "#2a3f5f"
            },
            "marker": {
             "line": {
              "color": "#E5ECF6",
              "width": 0.5
             },
             "pattern": {
              "fillmode": "overlay",
              "size": 10,
              "solidity": 0.2
             }
            },
            "type": "bar"
           }
          ],
          "carpet": [
           {
            "aaxis": {
             "endlinecolor": "#2a3f5f",
             "gridcolor": "white",
             "linecolor": "white",
             "minorgridcolor": "white",
             "startlinecolor": "#2a3f5f"
            },
            "baxis": {
             "endlinecolor": "#2a3f5f",
             "gridcolor": "white",
             "linecolor": "white",
             "minorgridcolor": "white",
             "startlinecolor": "#2a3f5f"
            },
            "type": "carpet"
           }
          ],
          "choropleth": [
           {
            "colorbar": {
             "outlinewidth": 0,
             "ticks": ""
            },
            "type": "choropleth"
           }
          ],
          "contourcarpet": [
           {
            "colorbar": {
             "outlinewidth": 0,
             "ticks": ""
            },
            "type": "contourcarpet"
           }
          ],
          "contour": [
           {
            "colorbar": {
             "outlinewidth": 0,
             "ticks": ""
            },
            "colorscale": [
             [
              0.0,
              "#0d0887"
             ],
             [
              0.1111111111111111,
              "#46039f"
             ],
             [
              0.2222222222222222,
              "#7201a8"
             ],
             [
              0.3333333333333333,
              "#9c179e"
             ],
             [
              0.4444444444444444,
              "#bd3786"
             ],
             [
              0.5555555555555556,
              "#d8576b"
             ],
             [
              0.6666666666666666,
              "#ed7953"
             ],
             [
              0.7777777777777778,
              "#fb9f3a"
             ],
             [
              0.8888888888888888,
              "#fdca26"
             ],
             [
              1.0,
              "#f0f921"
             ]
            ],
            "type": "contour"
           }
          ],
          "heatmapgl": [
           {
            "colorbar": {
             "outlinewidth": 0,
             "ticks": ""
            },
            "colorscale": [
             [
              0.0,
              "#0d0887"
             ],
             [
              0.1111111111111111,
              "#46039f"
             ],
             [
              0.2222222222222222,
              "#7201a8"
             ],
             [
              0.3333333333333333,
              "#9c179e"
             ],
             [
              0.4444444444444444,
              "#bd3786"
             ],
             [
              0.5555555555555556,
              "#d8576b"
             ],
             [
              0.6666666666666666,
              "#ed7953"
             ],
             [
              0.7777777777777778,
              "#fb9f3a"
             ],
             [
              0.8888888888888888,
              "#fdca26"
             ],
             [
              1.0,
              "#f0f921"
             ]
            ],
            "type": "heatmapgl"
           }
          ],
          "heatmap": [
           {
            "colorbar": {
             "outlinewidth": 0,
             "ticks": ""
            },
            "colorscale": [
             [
              0.0,
              "#0d0887"
             ],
             [
              0.1111111111111111,
              "#46039f"
             ],
             [
              0.2222222222222222,
              "#7201a8"
             ],
             [
              0.3333333333333333,
              "#9c179e"
             ],
             [
              0.4444444444444444,
              "#bd3786"
             ],
             [
              0.5555555555555556,
              "#d8576b"
             ],
             [
              0.6666666666666666,
              "#ed7953"
             ],
             [
              0.7777777777777778,
              "#fb9f3a"
             ],
             [
              0.8888888888888888,
              "#fdca26"
             ],
             [
              1.0,
              "#f0f921"
             ]
            ],
            "type": "heatmap"
           }
          ],
          "histogram2dcontour": [
           {
            "colorbar": {
             "outlinewidth": 0,
             "ticks": ""
            },
            "colorscale": [
             [
              0.0,
              "#0d0887"
             ],
             [
              0.1111111111111111,
              "#46039f"
             ],
             [
              0.2222222222222222,
              "#7201a8"
             ],
             [
              0.3333333333333333,
              "#9c179e"
             ],
             [
              0.4444444444444444,
              "#bd3786"
             ],
             [
              0.5555555555555556,
              "#d8576b"
             ],
             [
              0.6666666666666666,
              "#ed7953"
             ],
             [
              0.7777777777777778,
              "#fb9f3a"
             ],
             [
              0.8888888888888888,
              "#fdca26"
             ],
             [
              1.0,
              "#f0f921"
             ]
            ],
            "type": "histogram2dcontour"
           }
          ],
          "histogram2d": [
           {
            "colorbar": {
             "outlinewidth": 0,
             "ticks": ""
            },
            "colorscale": [
             [
              0.0,
              "#0d0887"
             ],
             [
              0.1111111111111111,
              "#46039f"
             ],
             [
              0.2222222222222222,
              "#7201a8"
             ],
             [
              0.3333333333333333,
              "#9c179e"
             ],
             [
              0.4444444444444444,
              "#bd3786"
             ],
             [
              0.5555555555555556,
              "#d8576b"
             ],
             [
              0.6666666666666666,
              "#ed7953"
             ],
             [
              0.7777777777777778,
              "#fb9f3a"
             ],
             [
              0.8888888888888888,
              "#fdca26"
             ],
             [
              1.0,
              "#f0f921"
             ]
            ],
            "type": "histogram2d"
           }
          ],
          "histogram": [
           {
            "marker": {
             "pattern": {
              "fillmode": "overlay",
              "size": 10,
              "solidity": 0.2
             }
            },
            "type": "histogram"
           }
          ],
          "mesh3d": [
           {
            "colorbar": {
             "outlinewidth": 0,
             "ticks": ""
            },
            "type": "mesh3d"
           }
          ],
          "parcoords": [
           {
            "line": {
             "colorbar": {
              "outlinewidth": 0,
              "ticks": ""
             }
            },
            "type": "parcoords"
           }
          ],
          "pie": [
           {
            "automargin": true,
            "type": "pie"
           }
          ],
          "scatter3d": [
           {
            "line": {
             "colorbar": {
              "outlinewidth": 0,
              "ticks": ""
             }
            },
            "marker": {
             "colorbar": {
              "outlinewidth": 0,
              "ticks": ""
             }
            },
            "type": "scatter3d"
           }
          ],
          "scattercarpet": [
           {
            "marker": {
             "colorbar": {
              "outlinewidth": 0,
              "ticks": ""
             }
            },
            "type": "scattercarpet"
           }
          ],
          "scattergeo": [
           {
            "marker": {
             "colorbar": {
              "outlinewidth": 0,
              "ticks": ""
             }
            },
            "type": "scattergeo"
           }
          ],
          "scattergl": [
           {
            "marker": {
             "colorbar": {
              "outlinewidth": 0,
              "ticks": ""
             }
            },
            "type": "scattergl"
           }
          ],
          "scattermapbox": [
           {
            "marker": {
             "colorbar": {
              "outlinewidth": 0,
              "ticks": ""
             }
            },
            "type": "scattermapbox"
           }
          ],
          "scatterpolargl": [
           {
            "marker": {
             "colorbar": {
              "outlinewidth": 0,
              "ticks": ""
             }
            },
            "type": "scatterpolargl"
           }
          ],
          "scatterpolar": [
           {
            "marker": {
             "colorbar": {
              "outlinewidth": 0,
              "ticks": ""
             }
            },
            "type": "scatterpolar"
           }
          ],
          "scatter": [
           {
            "fillpattern": {
             "fillmode": "overlay",
             "size": 10,
             "solidity": 0.2
            },
            "type": "scatter"
           }
          ],
          "scatterternary": [
           {
            "marker": {
             "colorbar": {
              "outlinewidth": 0,
              "ticks": ""
             }
            },
            "type": "scatterternary"
           }
          ],
          "surface": [
           {
            "colorbar": {
             "outlinewidth": 0,
             "ticks": ""
            },
            "colorscale": [
             [
              0.0,
              "#0d0887"
             ],
             [
              0.1111111111111111,
              "#46039f"
             ],
             [
              0.2222222222222222,
              "#7201a8"
             ],
             [
              0.3333333333333333,
              "#9c179e"
             ],
             [
              0.4444444444444444,
              "#bd3786"
             ],
             [
              0.5555555555555556,
              "#d8576b"
             ],
             [
              0.6666666666666666,
              "#ed7953"
             ],
             [
              0.7777777777777778,
              "#fb9f3a"
             ],
             [
              0.8888888888888888,
              "#fdca26"
             ],
             [
              1.0,
              "#f0f921"
             ]
            ],
            "type": "surface"
           }
          ],
          "table": [
           {
            "cells": {
             "fill": {
              "color": "#EBF0F8"
             },
             "line": {
              "color": "white"
             }
            },
            "header": {
             "fill": {
              "color": "#C8D4E3"
             },
             "line": {
              "color": "white"
             }
            },
            "type": "table"
           }
          ]
         },
         "layout": {
          "annotationdefaults": {
           "arrowcolor": "#2a3f5f",
           "arrowhead": 0,
           "arrowwidth": 1
          },
          "autotypenumbers": "strict",
          "coloraxis": {
           "colorbar": {
            "outlinewidth": 0,
            "ticks": ""
           }
          },
          "colorscale": {
           "diverging": [
            [
             0,
             "#8e0152"
            ],
            [
             0.1,
             "#c51b7d"
            ],
            [
             0.2,
             "#de77ae"
            ],
            [
             0.3,
             "#f1b6da"
            ],
            [
             0.4,
             "#fde0ef"
            ],
            [
             0.5,
             "#f7f7f7"
            ],
            [
             0.6,
             "#e6f5d0"
            ],
            [
             0.7,
             "#b8e186"
            ],
            [
             0.8,
             "#7fbc41"
            ],
            [
             0.9,
             "#4d9221"
            ],
            [
             1,
             "#276419"
            ]
           ],
           "sequential": [
            [
             0.0,
             "#0d0887"
            ],
            [
             0.1111111111111111,
             "#46039f"
            ],
            [
             0.2222222222222222,
             "#7201a8"
            ],
            [
             0.3333333333333333,
             "#9c179e"
            ],
            [
             0.4444444444444444,
             "#bd3786"
            ],
            [
             0.5555555555555556,
             "#d8576b"
            ],
            [
             0.6666666666666666,
             "#ed7953"
            ],
            [
             0.7777777777777778,
             "#fb9f3a"
            ],
            [
             0.8888888888888888,
             "#fdca26"
            ],
            [
             1.0,
             "#f0f921"
            ]
           ],
           "sequentialminus": [
            [
             0.0,
             "#0d0887"
            ],
            [
             0.1111111111111111,
             "#46039f"
            ],
            [
             0.2222222222222222,
             "#7201a8"
            ],
            [
             0.3333333333333333,
             "#9c179e"
            ],
            [
             0.4444444444444444,
             "#bd3786"
            ],
            [
             0.5555555555555556,
             "#d8576b"
            ],
            [
             0.6666666666666666,
             "#ed7953"
            ],
            [
             0.7777777777777778,
             "#fb9f3a"
            ],
            [
             0.8888888888888888,
             "#fdca26"
            ],
            [
             1.0,
             "#f0f921"
            ]
           ]
          },
          "colorway": [
           "#636efa",
           "#EF553B",
           "#00cc96",
           "#ab63fa",
           "#FFA15A",
           "#19d3f3",
           "#FF6692",
           "#B6E880",
           "#FF97FF",
           "#FECB52"
          ],
          "font": {
           "color": "#2a3f5f"
          },
          "geo": {
           "bgcolor": "white",
           "lakecolor": "white",
           "landcolor": "#E5ECF6",
           "showlakes": true,
           "showland": true,
           "subunitcolor": "white"
          },
          "hoverlabel": {
           "align": "left"
          },
          "hovermode": "closest",
          "mapbox": {
           "style": "light"
          },
          "paper_bgcolor": "white",
          "plot_bgcolor": "#E5ECF6",
          "polar": {
           "angularaxis": {
            "gridcolor": "white",
            "linecolor": "white",
            "ticks": ""
           },
           "bgcolor": "#E5ECF6",
           "radialaxis": {
            "gridcolor": "white",
            "linecolor": "white",
            "ticks": ""
           }
          },
          "scene": {
           "xaxis": {
            "backgroundcolor": "#E5ECF6",
            "gridcolor": "white",
            "gridwidth": 2,
            "linecolor": "white",
            "showbackground": true,
            "ticks": "",
            "zerolinecolor": "white"
           },
           "yaxis": {
            "backgroundcolor": "#E5ECF6",
            "gridcolor": "white",
            "gridwidth": 2,
            "linecolor": "white",
            "showbackground": true,
            "ticks": "",
            "zerolinecolor": "white"
           },
           "zaxis": {
            "backgroundcolor": "#E5ECF6",
            "gridcolor": "white",
            "gridwidth": 2,
            "linecolor": "white",
            "showbackground": true,
            "ticks": "",
            "zerolinecolor": "white"
           }
          },
          "shapedefaults": {
           "line": {
            "color": "#2a3f5f"
           }
          },
          "ternary": {
           "aaxis": {
            "gridcolor": "white",
            "linecolor": "white",
            "ticks": ""
           },
           "baxis": {
            "gridcolor": "white",
            "linecolor": "white",
            "ticks": ""
           },
           "bgcolor": "#E5ECF6",
           "caxis": {
            "gridcolor": "white",
            "linecolor": "white",
            "ticks": ""
           }
          },
          "title": {
           "x": 0.05
          },
          "xaxis": {
           "automargin": true,
           "gridcolor": "white",
           "linecolor": "white",
           "ticks": "",
           "title": {
            "standoff": 15
           },
           "zerolinecolor": "white",
           "zerolinewidth": 2
          },
          "yaxis": {
           "automargin": true,
           "gridcolor": "white",
           "linecolor": "white",
           "ticks": "",
           "title": {
            "standoff": 15
           },
           "zerolinecolor": "white",
           "zerolinewidth": 2
          }
         }
        },
        "title": {
         "text": "US Auto Sales Data in 2022"
        },
        "xaxis": {
         "title": {
          "text": "Brand"
         }
        },
        "yaxis": {
         "title": {
          "text": "US Sales"
         }
        }
       },
       "config": {
        "showLink": false,
        "linkText": "Export to plot.ly",
        "plotlyServerURL": "https://plot.ly"
       }
      },
      "text/html": "<div>                            <div id=\"c8b3b882-7cf7-4e05-a8ae-c55f5256a45f\" class=\"plotly-graph-div\" style=\"height:525px; width:100%;\"></div>            <script type=\"text/javascript\">                require([\"plotly\"], function(Plotly) {                    window.PLOTLYENV=window.PLOTLYENV || {};                                    if (document.getElementById(\"c8b3b882-7cf7-4e05-a8ae-c55f5256a45f\")) {                    Plotly.newPlot(                        \"c8b3b882-7cf7-4e05-a8ae-c55f5256a45f\",                        [{\"marker\":{\"color\":\"rgba(50, 171, 96, 0.6)\",\"line\":{\"color\":\"rgba(50, 171, 96, 1.0)\",\"width\":1}},\"opacity\":0.8,\"text\":[-9.0,-2.0,6.0,-33.0,-2.0,-1.0,-12.0,-25.0,-5.0,-16.0,7.0,7.0,-1.0,-20.0,-11.0,-15.0,-12.0,-5.0,14.0,-2.0,-42.0,-35.0,-16.0,-16.0,-4.0,0.0,14.0,-20.0,-1.0,-30.0,-10.0,0.0,3.0,-61.0,-35.0,7.0],\"textposition\":\"auto\",\"x\":[\"Toyota\",\"Ford\",\"Chevrolet\",\"Honda\",\"Hyundai\",\"Kia\",\"Jeep\",\"Nissan\",\"Subaru\",\"Ram Trucks\",\"GMC\",\"Mercedes-Benz\",\"BMW\",\"Volkswagen\",\"Mazda\",\"Lexus\",\"Dodge\",\"Audi\",\"Cadillac\",\"Chrysler\",\"Buick\",\"Acura\",\"Volvo\",\"Mitsubishi\",\"Lincoln\",\"Porsche\",\"Genesis\",\"INFINITI\",\"MINI\",\"Alfa Romeo\",\"Maserati\",\"Bentley\",\"Lamborghini\",\"Fiat\",\"McLaren\",\"Rolls-Royce\"],\"y\":[1849751,1767439,1502389,881201,724265,693549,684612,682731,556581,545194,517649,350949,332388,301069,294908,258704,190793,186875,134726,112713,103519,102306,102038,102037,83486,70065,56410,46619,29504,12845,6413,3975,3134,915,840,460],\"type\":\"bar\"}],                        {\"template\":{\"data\":{\"barpolar\":[{\"marker\":{\"line\":{\"color\":\"#E5ECF6\",\"width\":0.5},\"pattern\":{\"fillmode\":\"overlay\",\"size\":10,\"solidity\":0.2}},\"type\":\"barpolar\"}],\"bar\":[{\"error_x\":{\"color\":\"#2a3f5f\"},\"error_y\":{\"color\":\"#2a3f5f\"},\"marker\":{\"line\":{\"color\":\"#E5ECF6\",\"width\":0.5},\"pattern\":{\"fillmode\":\"overlay\",\"size\":10,\"solidity\":0.2}},\"type\":\"bar\"}],\"carpet\":[{\"aaxis\":{\"endlinecolor\":\"#2a3f5f\",\"gridcolor\":\"white\",\"linecolor\":\"white\",\"minorgridcolor\":\"white\",\"startlinecolor\":\"#2a3f5f\"},\"baxis\":{\"endlinecolor\":\"#2a3f5f\",\"gridcolor\":\"white\",\"linecolor\":\"white\",\"minorgridcolor\":\"white\",\"startlinecolor\":\"#2a3f5f\"},\"type\":\"carpet\"}],\"choropleth\":[{\"colorbar\":{\"outlinewidth\":0,\"ticks\":\"\"},\"type\":\"choropleth\"}],\"contourcarpet\":[{\"colorbar\":{\"outlinewidth\":0,\"ticks\":\"\"},\"type\":\"contourcarpet\"}],\"contour\":[{\"colorbar\":{\"outlinewidth\":0,\"ticks\":\"\"},\"colorscale\":[[0.0,\"#0d0887\"],[0.1111111111111111,\"#46039f\"],[0.2222222222222222,\"#7201a8\"],[0.3333333333333333,\"#9c179e\"],[0.4444444444444444,\"#bd3786\"],[0.5555555555555556,\"#d8576b\"],[0.6666666666666666,\"#ed7953\"],[0.7777777777777778,\"#fb9f3a\"],[0.8888888888888888,\"#fdca26\"],[1.0,\"#f0f921\"]],\"type\":\"contour\"}],\"heatmapgl\":[{\"colorbar\":{\"outlinewidth\":0,\"ticks\":\"\"},\"colorscale\":[[0.0,\"#0d0887\"],[0.1111111111111111,\"#46039f\"],[0.2222222222222222,\"#7201a8\"],[0.3333333333333333,\"#9c179e\"],[0.4444444444444444,\"#bd3786\"],[0.5555555555555556,\"#d8576b\"],[0.6666666666666666,\"#ed7953\"],[0.7777777777777778,\"#fb9f3a\"],[0.8888888888888888,\"#fdca26\"],[1.0,\"#f0f921\"]],\"type\":\"heatmapgl\"}],\"heatmap\":[{\"colorbar\":{\"outlinewidth\":0,\"ticks\":\"\"},\"colorscale\":[[0.0,\"#0d0887\"],[0.1111111111111111,\"#46039f\"],[0.2222222222222222,\"#7201a8\"],[0.3333333333333333,\"#9c179e\"],[0.4444444444444444,\"#bd3786\"],[0.5555555555555556,\"#d8576b\"],[0.6666666666666666,\"#ed7953\"],[0.7777777777777778,\"#fb9f3a\"],[0.8888888888888888,\"#fdca26\"],[1.0,\"#f0f921\"]],\"type\":\"heatmap\"}],\"histogram2dcontour\":[{\"colorbar\":{\"outlinewidth\":0,\"ticks\":\"\"},\"colorscale\":[[0.0,\"#0d0887\"],[0.1111111111111111,\"#46039f\"],[0.2222222222222222,\"#7201a8\"],[0.3333333333333333,\"#9c179e\"],[0.4444444444444444,\"#bd3786\"],[0.5555555555555556,\"#d8576b\"],[0.6666666666666666,\"#ed7953\"],[0.7777777777777778,\"#fb9f3a\"],[0.8888888888888888,\"#fdca26\"],[1.0,\"#f0f921\"]],\"type\":\"histogram2dcontour\"}],\"histogram2d\":[{\"colorbar\":{\"outlinewidth\":0,\"ticks\":\"\"},\"colorscale\":[[0.0,\"#0d0887\"],[0.1111111111111111,\"#46039f\"],[0.2222222222222222,\"#7201a8\"],[0.3333333333333333,\"#9c179e\"],[0.4444444444444444,\"#bd3786\"],[0.5555555555555556,\"#d8576b\"],[0.6666666666666666,\"#ed7953\"],[0.7777777777777778,\"#fb9f3a\"],[0.8888888888888888,\"#fdca26\"],[1.0,\"#f0f921\"]],\"type\":\"histogram2d\"}],\"histogram\":[{\"marker\":{\"pattern\":{\"fillmode\":\"overlay\",\"size\":10,\"solidity\":0.2}},\"type\":\"histogram\"}],\"mesh3d\":[{\"colorbar\":{\"outlinewidth\":0,\"ticks\":\"\"},\"type\":\"mesh3d\"}],\"parcoords\":[{\"line\":{\"colorbar\":{\"outlinewidth\":0,\"ticks\":\"\"}},\"type\":\"parcoords\"}],\"pie\":[{\"automargin\":true,\"type\":\"pie\"}],\"scatter3d\":[{\"line\":{\"colorbar\":{\"outlinewidth\":0,\"ticks\":\"\"}},\"marker\":{\"colorbar\":{\"outlinewidth\":0,\"ticks\":\"\"}},\"type\":\"scatter3d\"}],\"scattercarpet\":[{\"marker\":{\"colorbar\":{\"outlinewidth\":0,\"ticks\":\"\"}},\"type\":\"scattercarpet\"}],\"scattergeo\":[{\"marker\":{\"colorbar\":{\"outlinewidth\":0,\"ticks\":\"\"}},\"type\":\"scattergeo\"}],\"scattergl\":[{\"marker\":{\"colorbar\":{\"outlinewidth\":0,\"ticks\":\"\"}},\"type\":\"scattergl\"}],\"scattermapbox\":[{\"marker\":{\"colorbar\":{\"outlinewidth\":0,\"ticks\":\"\"}},\"type\":\"scattermapbox\"}],\"scatterpolargl\":[{\"marker\":{\"colorbar\":{\"outlinewidth\":0,\"ticks\":\"\"}},\"type\":\"scatterpolargl\"}],\"scatterpolar\":[{\"marker\":{\"colorbar\":{\"outlinewidth\":0,\"ticks\":\"\"}},\"type\":\"scatterpolar\"}],\"scatter\":[{\"fillpattern\":{\"fillmode\":\"overlay\",\"size\":10,\"solidity\":0.2},\"type\":\"scatter\"}],\"scatterternary\":[{\"marker\":{\"colorbar\":{\"outlinewidth\":0,\"ticks\":\"\"}},\"type\":\"scatterternary\"}],\"surface\":[{\"colorbar\":{\"outlinewidth\":0,\"ticks\":\"\"},\"colorscale\":[[0.0,\"#0d0887\"],[0.1111111111111111,\"#46039f\"],[0.2222222222222222,\"#7201a8\"],[0.3333333333333333,\"#9c179e\"],[0.4444444444444444,\"#bd3786\"],[0.5555555555555556,\"#d8576b\"],[0.6666666666666666,\"#ed7953\"],[0.7777777777777778,\"#fb9f3a\"],[0.8888888888888888,\"#fdca26\"],[1.0,\"#f0f921\"]],\"type\":\"surface\"}],\"table\":[{\"cells\":{\"fill\":{\"color\":\"#EBF0F8\"},\"line\":{\"color\":\"white\"}},\"header\":{\"fill\":{\"color\":\"#C8D4E3\"},\"line\":{\"color\":\"white\"}},\"type\":\"table\"}]},\"layout\":{\"annotationdefaults\":{\"arrowcolor\":\"#2a3f5f\",\"arrowhead\":0,\"arrowwidth\":1},\"autotypenumbers\":\"strict\",\"coloraxis\":{\"colorbar\":{\"outlinewidth\":0,\"ticks\":\"\"}},\"colorscale\":{\"diverging\":[[0,\"#8e0152\"],[0.1,\"#c51b7d\"],[0.2,\"#de77ae\"],[0.3,\"#f1b6da\"],[0.4,\"#fde0ef\"],[0.5,\"#f7f7f7\"],[0.6,\"#e6f5d0\"],[0.7,\"#b8e186\"],[0.8,\"#7fbc41\"],[0.9,\"#4d9221\"],[1,\"#276419\"]],\"sequential\":[[0.0,\"#0d0887\"],[0.1111111111111111,\"#46039f\"],[0.2222222222222222,\"#7201a8\"],[0.3333333333333333,\"#9c179e\"],[0.4444444444444444,\"#bd3786\"],[0.5555555555555556,\"#d8576b\"],[0.6666666666666666,\"#ed7953\"],[0.7777777777777778,\"#fb9f3a\"],[0.8888888888888888,\"#fdca26\"],[1.0,\"#f0f921\"]],\"sequentialminus\":[[0.0,\"#0d0887\"],[0.1111111111111111,\"#46039f\"],[0.2222222222222222,\"#7201a8\"],[0.3333333333333333,\"#9c179e\"],[0.4444444444444444,\"#bd3786\"],[0.5555555555555556,\"#d8576b\"],[0.6666666666666666,\"#ed7953\"],[0.7777777777777778,\"#fb9f3a\"],[0.8888888888888888,\"#fdca26\"],[1.0,\"#f0f921\"]]},\"colorway\":[\"#636efa\",\"#EF553B\",\"#00cc96\",\"#ab63fa\",\"#FFA15A\",\"#19d3f3\",\"#FF6692\",\"#B6E880\",\"#FF97FF\",\"#FECB52\"],\"font\":{\"color\":\"#2a3f5f\"},\"geo\":{\"bgcolor\":\"white\",\"lakecolor\":\"white\",\"landcolor\":\"#E5ECF6\",\"showlakes\":true,\"showland\":true,\"subunitcolor\":\"white\"},\"hoverlabel\":{\"align\":\"left\"},\"hovermode\":\"closest\",\"mapbox\":{\"style\":\"light\"},\"paper_bgcolor\":\"white\",\"plot_bgcolor\":\"#E5ECF6\",\"polar\":{\"angularaxis\":{\"gridcolor\":\"white\",\"linecolor\":\"white\",\"ticks\":\"\"},\"bgcolor\":\"#E5ECF6\",\"radialaxis\":{\"gridcolor\":\"white\",\"linecolor\":\"white\",\"ticks\":\"\"}},\"scene\":{\"xaxis\":{\"backgroundcolor\":\"#E5ECF6\",\"gridcolor\":\"white\",\"gridwidth\":2,\"linecolor\":\"white\",\"showbackground\":true,\"ticks\":\"\",\"zerolinecolor\":\"white\"},\"yaxis\":{\"backgroundcolor\":\"#E5ECF6\",\"gridcolor\":\"white\",\"gridwidth\":2,\"linecolor\":\"white\",\"showbackground\":true,\"ticks\":\"\",\"zerolinecolor\":\"white\"},\"zaxis\":{\"backgroundcolor\":\"#E5ECF6\",\"gridcolor\":\"white\",\"gridwidth\":2,\"linecolor\":\"white\",\"showbackground\":true,\"ticks\":\"\",\"zerolinecolor\":\"white\"}},\"shapedefaults\":{\"line\":{\"color\":\"#2a3f5f\"}},\"ternary\":{\"aaxis\":{\"gridcolor\":\"white\",\"linecolor\":\"white\",\"ticks\":\"\"},\"baxis\":{\"gridcolor\":\"white\",\"linecolor\":\"white\",\"ticks\":\"\"},\"bgcolor\":\"#E5ECF6\",\"caxis\":{\"gridcolor\":\"white\",\"linecolor\":\"white\",\"ticks\":\"\"}},\"title\":{\"x\":0.05},\"xaxis\":{\"automargin\":true,\"gridcolor\":\"white\",\"linecolor\":\"white\",\"ticks\":\"\",\"title\":{\"standoff\":15},\"zerolinecolor\":\"white\",\"zerolinewidth\":2},\"yaxis\":{\"automargin\":true,\"gridcolor\":\"white\",\"linecolor\":\"white\",\"ticks\":\"\",\"title\":{\"standoff\":15},\"zerolinecolor\":\"white\",\"zerolinewidth\":2}}},\"title\":{\"text\":\"US Auto Sales Data in 2022\"},\"xaxis\":{\"title\":{\"text\":\"Brand\"}},\"yaxis\":{\"title\":{\"text\":\"US Sales\"}}},                        {\"responsive\": true}                    ).then(function(){\n                            \nvar gd = document.getElementById('c8b3b882-7cf7-4e05-a8ae-c55f5256a45f');\nvar x = new MutationObserver(function (mutations, observer) {{\n        var display = window.getComputedStyle(gd).display;\n        if (!display || display === 'none') {{\n            console.log([gd, 'removed!']);\n            Plotly.purge(gd);\n            observer.disconnect();\n        }}\n}});\n\n// Listen for the removal of the full notebook cells\nvar notebookContainer = gd.closest('#notebook-container');\nif (notebookContainer) {{\n    x.observe(notebookContainer, {childList: true});\n}}\n\n// Listen for the clearing of the current output cell\nvar outputEl = gd.closest('.output');\nif (outputEl) {{\n    x.observe(outputEl, {childList: true});\n}}\n\n                        })                };                });            </script>        </div>"
     },
     "metadata": {},
     "output_type": "display_data"
    }
   ],
   "source": [
    "auto_df.llm.plot()"
   ]
  },
  {
   "cell_type": "code",
   "execution_count": 4,
   "metadata": {
    "collapsed": false,
    "jupyter": {
     "outputs_hidden": false
    }
   },
   "outputs": [
    {
     "name": "stdout",
     "output_type": "stream",
     "text": [
      "SQL query for the transform:\n",
      "SELECT brand, sales_change_percentage\n",
      "FROM temp_view_for_transform\n",
      "ORDER BY sales_change_percentage DESC\n",
      "LIMIT 1\n",
      "+--------+-----------------------+\n",
      "|   brand|sales_change_percentage|\n",
      "+--------+-----------------------+\n",
      "|Cadillac|                     14|\n",
      "+--------+-----------------------+\n",
      "\n"
     ]
    }
   ],
   "source": [
    "# Apply transforms to a Dataframe\n",
    "auto_top_growth_df=auto_df.llm.transform(\"top brand with the highest growth\")\n",
    "auto_top_growth_df.show()"
   ]
  },
  {
   "cell_type": "code",
   "execution_count": 5,
   "metadata": {
    "collapsed": false,
    "jupyter": {
     "outputs_hidden": false
    }
   },
   "outputs": [
    {
     "data": {
      "text/plain": "'In summary, this dataframe is retrieving the brand with the highest sales change percentage from the `temp_view_for_transform` view, which contains data on brand, US sales, and sales change percentage.'"
     },
     "execution_count": 5,
     "metadata": {},
     "output_type": "execute_result"
    }
   ],
   "source": [
    "# Explain what a DataFrame is retrieving.\n",
    "auto_top_growth_df.llm.explain()"
   ]
  },
  {
   "cell_type": "code",
   "execution_count": 6,
   "metadata": {},
   "outputs": [
    {
     "name": "stdout",
     "output_type": "stream",
     "text": [
      "Generated code:\n",
      "def valid_sales_change_percentage(df) -> bool:\n",
      "    # Check if the sales_change_percentage column exists in the DataFrame\n",
      "    if \"sales_change_percentage\" not in df.columns:\n",
      "        return False\n",
      "\n",
      "    # Check if the sales_change_percentage values are between -100 and 100\n",
      "    for value in df.select(\"sales_change_percentage\").collect():\n",
      "        if value.sales_change_percentage < -100 or value.sales_change_percentage > 100:\n",
      "            return False\n",
      "\n",
      "    return True\n",
      "\n",
      "result = valid_sales_change_percentage(df)\n",
      "\n",
      "Result: True\n"
     ]
    }
   ],
   "source": [
    "auto_top_growth_df.llm.verify(\"expect sales change percentage to be between -100 to 100\")"
   ]
  },
  {
   "cell_type": "markdown",
   "metadata": {
    "jupyter": {
     "outputs_hidden": false
    }
   },
   "source": [
    "## Example 2: USA Presidents"
   ]
  },
  {
   "cell_type": "code",
   "execution_count": 12,
   "metadata": {
    "collapsed": false,
    "jupyter": {
     "outputs_hidden": false
    }
   },
   "outputs": [
    {
     "name": "stdout",
     "output_type": "stream",
     "text": [
      "Parsing URL: https://en.wikipedia.org/wiki/List_of_presidents_of_the_United_States\n",
      "\n",
      "SQL query for the ingestion:\n",
      " CREATE OR REPLACE TEMP VIEW presidents AS SELECT * FROM VALUES\n",
      "('George Washington', 'John Adams'),\n",
      "('John Adams', 'Thomas Jefferson'),\n",
      "('Thomas Jefferson', 'Aaron Burr'),\n",
      "('Thomas Jefferson', 'George Clinton'),\n",
      "('James Madison', 'George Clinton'),\n",
      "('James Madison', 'Elbridge Gerry'),\n",
      "('James Monroe', 'Daniel D. Tompkins'),\n",
      "('John Quincy Adams', 'John C. Calhoun'),\n",
      "('Andrew Jackson', 'John C. Calhoun'),\n",
      "('Andrew Jackson', 'Martin Van Buren'),\n",
      "('Martin Van Buren', 'Richard Mentor Johnson'),\n",
      "('William Henry Harrison', 'John Tyler'),\n",
      "('John Tyler', NULL),\n",
      "('James K. Polk', 'George M. Dallas'),\n",
      "('Zachary Taylor', 'Millard Fillmore'),\n",
      "('Millard Fillmore', NULL),\n",
      "('Franklin Pierce', 'William R. King'),\n",
      "('James Buchanan', 'John C. Breckinridge'),\n",
      "('Abraham Lincoln', 'Hannibal Hamlin'),\n",
      "('Abraham Lincoln', 'Andrew Johnson'),\n",
      "('Andrew Johnson', NULL),\n",
      "('Ulysses S. Grant', 'Schuyler Colfax'),\n",
      "('Ulysses S. Grant', 'Henry Wilson'),\n",
      "('Rutherford B. Hayes', 'William A. Wheeler'),\n",
      "('James A. Garfield', 'Chester A. Arthur'),\n",
      "('Chester A. Arthur', NULL),\n",
      "('Grover Cleveland', 'Thomas A. Hendricks'),\n",
      "('Benjamin Harrison', 'Levi P. Morton'),\n",
      "('Grover Cleveland', 'Adlai Stevenson I'),\n",
      "('William McKinley', 'Garret Hobart'),\n",
      "('William McKinley', 'Theodore Roosevelt'),\n",
      "('Theodore Roosevelt', 'Charles W. Fairbanks'),\n",
      "('William Howard Taft', 'James S. Sherman'),\n",
      "('Woodrow Wilson', 'Thomas R. Marshall'),\n",
      "('Warren G. Harding', 'Calvin Coolidge'),\n",
      "('Calvin Coolidge', 'Charles G. Dawes'),\n",
      "('Herbert Hoover', 'Charles Curtis'),\n",
      "('Franklin D. Roosevelt', 'John Nance Garner'),\n",
      "('Franklin D. Roosevelt', 'Henry A. Wallace'),\n",
      "('Franklin D. Roosevelt', 'Harry S. Truman'),\n",
      "('Harry S. Truman', 'Alben W. Barkley'),\n",
      "('Dwight D. Eisenhower', 'Richard Nixon'),\n",
      "('John F. Kennedy', 'Lyndon B. Johnson')\n",
      "AS v1(president, vice_president);\n",
      "\n",
      "Storing data into temp view: presidents\n",
      "\n",
      "+--------------------+--------------------+\n",
      "|           president|      vice_president|\n",
      "+--------------------+--------------------+\n",
      "|   George Washington|          John Adams|\n",
      "|          John Adams|    Thomas Jefferson|\n",
      "|    Thomas Jefferson|          Aaron Burr|\n",
      "|    Thomas Jefferson|      George Clinton|\n",
      "|       James Madison|      George Clinton|\n",
      "|       James Madison|      Elbridge Gerry|\n",
      "|        James Monroe|  Daniel D. Tompkins|\n",
      "|   John Quincy Adams|     John C. Calhoun|\n",
      "|      Andrew Jackson|     John C. Calhoun|\n",
      "|      Andrew Jackson|    Martin Van Buren|\n",
      "|    Martin Van Buren|Richard Mentor Jo...|\n",
      "|William Henry Har...|          John Tyler|\n",
      "|          John Tyler|                null|\n",
      "|       James K. Polk|    George M. Dallas|\n",
      "|      Zachary Taylor|    Millard Fillmore|\n",
      "|    Millard Fillmore|                null|\n",
      "|     Franklin Pierce|     William R. King|\n",
      "|      James Buchanan|John C. Breckinridge|\n",
      "|     Abraham Lincoln|     Hannibal Hamlin|\n",
      "|     Abraham Lincoln|      Andrew Johnson|\n",
      "+--------------------+--------------------+\n",
      "only showing top 20 rows\n",
      "\n"
     ]
    }
   ],
   "source": [
    "# You can also specify the expected columns for the ingestion.\n",
    "df=assistant.create_df(\"USA presidents\", [\"president\", \"vice_president\"])\n",
    "df.show()"
   ]
  },
  {
   "cell_type": "code",
   "execution_count": 13,
   "metadata": {
    "collapsed": false,
    "jupyter": {
     "outputs_hidden": false
    }
   },
   "outputs": [
    {
     "name": "stdout",
     "output_type": "stream",
     "text": [
      "SQL query for the transform:\n",
      "SELECT DISTINCT president\n",
      "FROM temp_view_for_transform\n",
      "WHERE president IN (SELECT vice_president FROM temp_view_for_transform)\n",
      "+------------------+\n",
      "|         president|\n",
      "+------------------+\n",
      "|        John Adams|\n",
      "|  Thomas Jefferson|\n",
      "|  Martin Van Buren|\n",
      "|  Millard Fillmore|\n",
      "|        John Tyler|\n",
      "|    Andrew Johnson|\n",
      "| Chester A. Arthur|\n",
      "|Theodore Roosevelt|\n",
      "|   Calvin Coolidge|\n",
      "|   Harry S. Truman|\n",
      "+------------------+\n",
      "\n"
     ]
    }
   ],
   "source": [
    "presidents_who_were_vp = df.llm.transform(\"presidents who were also vice presidents\")\n",
    "presidents_who_were_vp.show()"
   ]
  },
  {
   "cell_type": "code",
   "execution_count": 14,
   "metadata": {
    "collapsed": false,
    "jupyter": {
     "outputs_hidden": false
    }
   },
   "outputs": [
    {
     "data": {
      "text/plain": "'In summary, this dataframe is retrieving a list of distinct presidents who have never been a vice-president from the `presidents` table. It does so by first creating a temporary view of the presidents table, and then filtering out presidents who also appear in the list of vice-presidents.'"
     },
     "execution_count": 14,
     "metadata": {},
     "output_type": "execute_result"
    }
   ],
   "source": [
    "presidents_who_were_vp.llm.explain()"
   ]
  },
  {
   "cell_type": "code",
   "execution_count": 16,
   "metadata": {},
   "outputs": [
    {
     "name": "stdout",
     "output_type": "stream",
     "text": [
      "Generated code:\n",
      "def no_null_values(df) -> bool:\n",
      "    # Check for NULL values in each column of the DataFrame\n",
      "    for column in df.columns:\n",
      "        if df.filter(df[column].isNull()).count() > 0:\n",
      "            return False\n",
      "    return True\n",
      "\n",
      "result = no_null_values(df)\n",
      "\n",
      "Result: True\n"
     ]
    }
   ],
   "source": [
    "presidents_who_were_vp.llm.verify(\"expect no NULL values\")"
   ]
  },
  {
   "cell_type": "markdown",
   "metadata": {
    "jupyter": {
     "outputs_hidden": false
    }
   },
   "source": [
    "# Example 3: Top 10 tech companies"
   ]
  },
  {
   "cell_type": "code",
   "execution_count": 17,
   "metadata": {
    "collapsed": false,
    "jupyter": {
     "outputs_hidden": false
    }
   },
   "outputs": [
    {
     "name": "stdout",
     "output_type": "stream",
     "text": [
      "Parsing URL: https://www.statista.com/statistics/1350976/leading-tech-companies-worldwide-by-market-cap/\n",
      "\n",
      "SQL query for the ingestion:\n",
      " CREATE OR REPLACE TEMP VIEW top_tech_companies AS SELECT * FROM VALUES\n",
      "('Apple', 2242, 'USA'),\n",
      "('Microsoft', 1821, 'USA'),\n",
      "('Alphabet (Google)', 1229, 'USA'),\n",
      "('Amazon', 902.4, 'USA'),\n",
      "('Tesla', 541.4, 'USA'),\n",
      "('TSMC', 410.9, 'Taiwan'),\n",
      "('NVIDIA', 401.7, 'USA'),\n",
      "('Tencent', 377.8, 'China'),\n",
      "('Meta Platforms (Facebook)', 302.1, 'USA'),\n",
      "('Samsung', 301.7, 'South Korea')\n",
      "AS v1(company, cap, country)\n",
      "\n",
      "Storing data into temp view: top_tech_companies\n",
      "\n",
      "+--------------------+------+-----------+\n",
      "|             company|   cap|    country|\n",
      "+--------------------+------+-----------+\n",
      "|               Apple|2242.0|        USA|\n",
      "|           Microsoft|1821.0|        USA|\n",
      "|   Alphabet (Google)|1229.0|        USA|\n",
      "|              Amazon| 902.4|        USA|\n",
      "|               Tesla| 541.4|        USA|\n",
      "|                TSMC| 410.9|     Taiwan|\n",
      "|              NVIDIA| 401.7|        USA|\n",
      "|             Tencent| 377.8|      China|\n",
      "|Meta Platforms (F...| 302.1|        USA|\n",
      "|             Samsung| 301.7|South Korea|\n",
      "+--------------------+------+-----------+\n",
      "\n"
     ]
    }
   ],
   "source": [
    "# Search and ingest web content into a DataFrame\n",
    "company_df=assistant.create_df(\"Top 10 tech companies by market cap\", ['company', 'cap', 'country'])\n",
    "company_df.show()"
   ]
  },
  {
   "cell_type": "code",
   "execution_count": 18,
   "metadata": {
    "collapsed": false,
    "jupyter": {
     "outputs_hidden": false
    }
   },
   "outputs": [
    {
     "name": "stdout",
     "output_type": "stream",
     "text": [
      "SQL query for the transform:\n",
      "SELECT company FROM temp_view_for_transform WHERE country = 'USA'\n",
      "+--------------------+\n",
      "|             company|\n",
      "+--------------------+\n",
      "|               Apple|\n",
      "|           Microsoft|\n",
      "|   Alphabet (Google)|\n",
      "|              Amazon|\n",
      "|               Tesla|\n",
      "|              NVIDIA|\n",
      "|Meta Platforms (F...|\n",
      "+--------------------+\n",
      "\n"
     ]
    }
   ],
   "source": [
    "us_company_df=company_df.llm.transform(\"companies in USA\")\n",
    "us_company_df.show()"
   ]
  },
  {
   "cell_type": "code",
   "execution_count": 19,
   "metadata": {
    "collapsed": false,
    "jupyter": {
     "outputs_hidden": false
    }
   },
   "outputs": [
    {
     "data": {
      "text/plain": "'In summary, this dataframe is retrieving the company names of the top tech companies in the USA.'"
     },
     "execution_count": 19,
     "metadata": {},
     "output_type": "execute_result"
    }
   ],
   "source": [
    "us_company_df.llm.explain()"
   ]
  },
  {
   "cell_type": "code",
   "execution_count": 20,
   "metadata": {},
   "outputs": [
    {
     "name": "stdout",
     "output_type": "stream",
     "text": [
      "Generated code:\n",
      "def has_unique_company_names(df) -> bool:\n",
      "    # Get the number of rows in the DataFrame\n",
      "    num_rows = df.count()\n",
      "\n",
      "    # Get the number of unique company names in the DataFrame\n",
      "    unique_company_names = df.select('company').distinct().count()\n",
      "\n",
      "    # Check if the number of unique company names is equal to the number of rows\n",
      "    if unique_company_names == num_rows:\n",
      "        return True\n",
      "    else:\n",
      "        return False\n",
      "\n",
      "result = has_unique_company_names(df)\n",
      "\n",
      "Result: True\n"
     ]
    }
   ],
   "source": [
    "us_company_df.llm.verify(\"expect all company names to be unique\")"
   ]
  },
  {
   "cell_type": "markdown",
   "metadata": {
    "jupyter": {
     "outputs_hidden": false
    }
   },
   "source": [
    "## Example 4: Ingestion from a URL\n",
    "Instead of searching for the web page, you can also ask the assistant to ingest from a URL."
   ]
  },
  {
   "cell_type": "code",
   "execution_count": 21,
   "metadata": {
    "collapsed": false,
    "jupyter": {
     "outputs_hidden": false
    }
   },
   "outputs": [
    {
     "name": "stdout",
     "output_type": "stream",
     "text": [
      "Parsing URL: https://time.com/6235186/best-albums-2022/\n",
      "\n",
      "SQL query for the ingestion:\n",
      " CREATE OR REPLACE TEMP VIEW best_albums_2022 AS SELECT * FROM VALUES\n",
      "('Motomami', 'Rosalía', 2022),\n",
      "('You Can’t Kill Me', '070 Shake', 2022),\n",
      "('Mr. Morale & The Big Steppers', 'Kendrick Lamar', 2022),\n",
      "('Big Time', 'Angel Olsen', 2022),\n",
      "('Electricity', 'Ibibio Sound Machine', 2022),\n",
      "('It’s Almost Dry', 'Pusha T', 2022),\n",
      "('Chloe and the Next 20th Century', 'Father John Misty', 2022),\n",
      "('Renaissance', 'Beyoncé', 2022),\n",
      "('19 Masters', 'Saya Gray', 2022),\n",
      "('Un Verano Sin Ti', 'Bad Bunny', 2022)\n",
      "AS v1(album, artist, year)\n",
      "\n",
      "Storing data into temp view: best_albums_2022\n",
      "\n",
      "+--------------------+--------------------+----+\n",
      "|               album|              artist|year|\n",
      "+--------------------+--------------------+----+\n",
      "|            Motomami|             Rosalía|2022|\n",
      "|   You Can’t Kill Me|           070 Shake|2022|\n",
      "|Mr. Morale & The ...|      Kendrick Lamar|2022|\n",
      "|            Big Time|         Angel Olsen|2022|\n",
      "|         Electricity|Ibibio Sound Machine|2022|\n",
      "|     It’s Almost Dry|             Pusha T|2022|\n",
      "|Chloe and the Nex...|   Father John Misty|2022|\n",
      "|         Renaissance|             Beyoncé|2022|\n",
      "|          19 Masters|           Saya Gray|2022|\n",
      "|    Un Verano Sin Ti|           Bad Bunny|2022|\n",
      "+--------------------+--------------------+----+\n",
      "\n"
     ]
    }
   ],
   "source": [
    "best_albums_df = assistant.create_df('https://time.com/6235186/best-albums-2022/', [\"album\", \"artist\", \"year\"])\n",
    "best_albums_df.show()"
   ]
  },
  {
   "cell_type": "code",
   "execution_count": 22,
   "metadata": {},
   "outputs": [
    {
     "name": "stdout",
     "output_type": "stream",
     "text": [
      "Generated code:\n",
      "def all_years_2022(df) -> bool:\n",
      "    # Filter the DataFrame to only contain rows where the year is not 2022\n",
      "    not_2022 = df.filter(df.year != 2022)\n",
      "\n",
      "    # Check if the filtered DataFrame is empty, meaning all years were 2022\n",
      "    if not_2022.count() == 0:\n",
      "        return True\n",
      "    else:\n",
      "        return False\n",
      "\n",
      "result = all_years_2022(df)\n",
      "\n",
      "Result: True\n"
     ]
    }
   ],
   "source": [
    "best_albums_df.llm.verify(\"expect each year to be 2022\")"
   ]
  },
  {
   "cell_type": "markdown",
   "source": [
    "# Cache\n",
    "The SparkLLMAssistant supports a simple in-memory and persistent cache system. It keeps an in-memory staging cache, which gets updated for LLM and web search results. The staging cache can be persisted through the commit() method. Cache lookup is always performed on the persistent cache only."
   ],
   "metadata": {
    "collapsed": false
   }
  },
  {
   "cell_type": "code",
   "execution_count": 23,
   "metadata": {},
   "outputs": [],
   "source": [
    "assistant.commit()"
   ]
  }
 ],
 "metadata": {
  "kernelspec": {
   "display_name": "Python 3 (ipykernel)",
   "language": "python",
   "name": "python3"
  },
  "language_info": {
   "codemirror_mode": {
    "name": "ipython",
    "version": 3
   },
   "file_extension": ".py",
   "mimetype": "text/x-python",
   "name": "python",
   "nbconvert_exporter": "python",
   "pygments_lexer": "ipython3",
   "version": "3.11.4"
  }
 },
 "nbformat": 4,
 "nbformat_minor": 4
}
