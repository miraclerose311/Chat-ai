{
 "cells": [
  {
   "cell_type": "markdown",
   "metadata": {
    "jupyter": {
     "outputs_hidden": false
    }
   },
   "source": [
    "# English SDK for Apache Spark"
   ]
  },
  {
   "cell_type": "markdown",
   "metadata": {
    "jupyter": {
     "outputs_hidden": false
    }
   },
   "source": [
    "## Initialization"
   ]
  },
  {
   "cell_type": "code",
   "execution_count": 1,
   "metadata": {
    "collapsed": false,
    "jupyter": {
     "outputs_hidden": false
    }
   },
   "outputs": [
    {
     "name": "stderr",
     "output_type": "stream",
     "text": [
      "Setting default log level to \"WARN\".\n",
      "To adjust logging level use sc.setLogLevel(newLevel). For SparkR, use setLogLevel(newLevel).\n",
      "23/07/25 14:21:09 WARN NativeCodeLoader: Unable to load native-hadoop library for your platform... using builtin-java classes where applicable\n"
     ]
    }
   ],
   "source": [
    "from pyspark_ai import SparkAI\n",
    "\n",
    "spark_ai = SparkAI(verbose=True)\n",
    "spark_ai.activate()  # active partial functions for Spark DataFrame"
   ]
  },
  {
   "cell_type": "markdown",
   "metadata": {
    "jupyter": {
     "outputs_hidden": false
    }
   },
   "source": [
    "## Example 1: Auto sales by brand in US 2022"
   ]
  },
  {
   "cell_type": "code",
   "execution_count": 2,
   "metadata": {},
   "outputs": [
    {
     "name": "stdout",
     "output_type": "stream",
     "text": [
      "\u001B[92mINFO: \u001B[0mParsing URL: https://www.carpro.com/blog/full-year-2022-national-auto-sales-by-brand\n",
      "\n",
      "\u001B[92mINFO: \u001B[0mSQL query for the ingestion:\n",
      "\u001B[34mCREATE\u001B[39;49;00m\u001B[37m \u001B[39;49;00m\u001B[34mOR\u001B[39;49;00m\u001B[37m \u001B[39;49;00m\u001B[34mREPLACE\u001B[39;49;00m\u001B[37m \u001B[39;49;00mTEMP\u001B[37m \u001B[39;49;00m\u001B[34mVIEW\u001B[39;49;00m\u001B[37m \u001B[39;49;00mspark_ai_temp_view_420000\u001B[37m \u001B[39;49;00m\u001B[34mAS\u001B[39;49;00m\u001B[37m \u001B[39;49;00m\u001B[34mSELECT\u001B[39;49;00m\u001B[37m \u001B[39;49;00m*\u001B[37m \u001B[39;49;00m\u001B[34mFROM\u001B[39;49;00m\u001B[37m \u001B[39;49;00m\u001B[34mVALUES\u001B[39;49;00m\u001B[37m\u001B[39;49;00m\n",
      "(\u001B[33m'Toyota'\u001B[39;49;00m,\u001B[37m \u001B[39;49;00m\u001B[34m1849751\u001B[39;49;00m,\u001B[37m \u001B[39;49;00m-\u001B[34m9\u001B[39;49;00m),\u001B[37m\u001B[39;49;00m\n",
      "(\u001B[33m'Ford'\u001B[39;49;00m,\u001B[37m \u001B[39;49;00m\u001B[34m1767439\u001B[39;49;00m,\u001B[37m \u001B[39;49;00m-\u001B[34m2\u001B[39;49;00m),\u001B[37m\u001B[39;49;00m\n",
      "(\u001B[33m'Chevrolet'\u001B[39;49;00m,\u001B[37m \u001B[39;49;00m\u001B[34m1502389\u001B[39;49;00m,\u001B[37m \u001B[39;49;00m\u001B[34m6\u001B[39;49;00m),\u001B[37m\u001B[39;49;00m\n",
      "(\u001B[33m'Honda'\u001B[39;49;00m,\u001B[37m \u001B[39;49;00m\u001B[34m881201\u001B[39;49;00m,\u001B[37m \u001B[39;49;00m-\u001B[34m33\u001B[39;49;00m),\u001B[37m\u001B[39;49;00m\n",
      "(\u001B[33m'Hyundai'\u001B[39;49;00m,\u001B[37m \u001B[39;49;00m\u001B[34m724265\u001B[39;49;00m,\u001B[37m \u001B[39;49;00m-\u001B[34m2\u001B[39;49;00m),\u001B[37m\u001B[39;49;00m\n",
      "(\u001B[33m'Kia'\u001B[39;49;00m,\u001B[37m \u001B[39;49;00m\u001B[34m693549\u001B[39;49;00m,\u001B[37m \u001B[39;49;00m-\u001B[34m1\u001B[39;49;00m),\u001B[37m\u001B[39;49;00m\n",
      "(\u001B[33m'Jeep'\u001B[39;49;00m,\u001B[37m \u001B[39;49;00m\u001B[34m684612\u001B[39;49;00m,\u001B[37m \u001B[39;49;00m-\u001B[34m12\u001B[39;49;00m),\u001B[37m\u001B[39;49;00m\n",
      "(\u001B[33m'Nissan'\u001B[39;49;00m,\u001B[37m \u001B[39;49;00m\u001B[34m682731\u001B[39;49;00m,\u001B[37m \u001B[39;49;00m-\u001B[34m25\u001B[39;49;00m),\u001B[37m\u001B[39;49;00m\n",
      "(\u001B[33m'Subaru'\u001B[39;49;00m,\u001B[37m \u001B[39;49;00m\u001B[34m556581\u001B[39;49;00m,\u001B[37m \u001B[39;49;00m-\u001B[34m5\u001B[39;49;00m),\u001B[37m\u001B[39;49;00m\n",
      "(\u001B[33m'Ram Trucks'\u001B[39;49;00m,\u001B[37m \u001B[39;49;00m\u001B[34m545194\u001B[39;49;00m,\u001B[37m \u001B[39;49;00m-\u001B[34m16\u001B[39;49;00m),\u001B[37m\u001B[39;49;00m\n",
      "(\u001B[33m'GMC'\u001B[39;49;00m,\u001B[37m \u001B[39;49;00m\u001B[34m517649\u001B[39;49;00m,\u001B[37m \u001B[39;49;00m\u001B[34m7\u001B[39;49;00m),\u001B[37m\u001B[39;49;00m\n",
      "(\u001B[33m'Mercedes-Benz'\u001B[39;49;00m,\u001B[37m \u001B[39;49;00m\u001B[34m350949\u001B[39;49;00m,\u001B[37m \u001B[39;49;00m\u001B[34m7\u001B[39;49;00m),\u001B[37m\u001B[39;49;00m\n",
      "(\u001B[33m'BMW'\u001B[39;49;00m,\u001B[37m \u001B[39;49;00m\u001B[34m332388\u001B[39;49;00m,\u001B[37m \u001B[39;49;00m-\u001B[34m1\u001B[39;49;00m),\u001B[37m\u001B[39;49;00m\n",
      "(\u001B[33m'Volkswagen'\u001B[39;49;00m,\u001B[37m \u001B[39;49;00m\u001B[34m301069\u001B[39;49;00m,\u001B[37m \u001B[39;49;00m-\u001B[34m20\u001B[39;49;00m),\u001B[37m\u001B[39;49;00m\n",
      "(\u001B[33m'Mazda'\u001B[39;49;00m,\u001B[37m \u001B[39;49;00m\u001B[34m294908\u001B[39;49;00m,\u001B[37m \u001B[39;49;00m-\u001B[34m11\u001B[39;49;00m),\u001B[37m\u001B[39;49;00m\n",
      "(\u001B[33m'Lexus'\u001B[39;49;00m,\u001B[37m \u001B[39;49;00m\u001B[34m258704\u001B[39;49;00m,\u001B[37m \u001B[39;49;00m-\u001B[34m15\u001B[39;49;00m),\u001B[37m\u001B[39;49;00m\n",
      "(\u001B[33m'Dodge'\u001B[39;49;00m,\u001B[37m \u001B[39;49;00m\u001B[34m190793\u001B[39;49;00m,\u001B[37m \u001B[39;49;00m-\u001B[34m12\u001B[39;49;00m),\u001B[37m\u001B[39;49;00m\n",
      "(\u001B[33m'Audi'\u001B[39;49;00m,\u001B[37m \u001B[39;49;00m\u001B[34m186875\u001B[39;49;00m,\u001B[37m \u001B[39;49;00m-\u001B[34m5\u001B[39;49;00m),\u001B[37m\u001B[39;49;00m\n",
      "(\u001B[33m'Cadillac'\u001B[39;49;00m,\u001B[37m \u001B[39;49;00m\u001B[34m134726\u001B[39;49;00m,\u001B[37m \u001B[39;49;00m\u001B[34m14\u001B[39;49;00m),\u001B[37m\u001B[39;49;00m\n",
      "(\u001B[33m'Chrysler'\u001B[39;49;00m,\u001B[37m \u001B[39;49;00m\u001B[34m112713\u001B[39;49;00m,\u001B[37m \u001B[39;49;00m-\u001B[34m2\u001B[39;49;00m),\u001B[37m\u001B[39;49;00m\n",
      "(\u001B[33m'Buick'\u001B[39;49;00m,\u001B[37m \u001B[39;49;00m\u001B[34m103519\u001B[39;49;00m,\u001B[37m \u001B[39;49;00m-\u001B[34m42\u001B[39;49;00m),\u001B[37m\u001B[39;49;00m\n",
      "(\u001B[33m'Acura'\u001B[39;49;00m,\u001B[37m \u001B[39;49;00m\u001B[34m102306\u001B[39;49;00m,\u001B[37m \u001B[39;49;00m-\u001B[34m35\u001B[39;49;00m),\u001B[37m\u001B[39;49;00m\n",
      "(\u001B[33m'Volvo'\u001B[39;49;00m,\u001B[37m \u001B[39;49;00m\u001B[34m102038\u001B[39;49;00m,\u001B[37m \u001B[39;49;00m-\u001B[34m16\u001B[39;49;00m),\u001B[37m\u001B[39;49;00m\n",
      "(\u001B[33m'Mitsubishi'\u001B[39;49;00m,\u001B[37m \u001B[39;49;00m\u001B[34m102037\u001B[39;49;00m,\u001B[37m \u001B[39;49;00m-\u001B[34m16\u001B[39;49;00m),\u001B[37m\u001B[39;49;00m\n",
      "(\u001B[33m'Lincoln'\u001B[39;49;00m,\u001B[37m \u001B[39;49;00m\u001B[34m83486\u001B[39;49;00m,\u001B[37m \u001B[39;49;00m-\u001B[34m4\u001B[39;49;00m),\u001B[37m\u001B[39;49;00m\n",
      "(\u001B[33m'Porsche'\u001B[39;49;00m,\u001B[37m \u001B[39;49;00m\u001B[34m70065\u001B[39;49;00m,\u001B[37m \u001B[39;49;00m\u001B[34m0\u001B[39;49;00m),\u001B[37m\u001B[39;49;00m\n",
      "(\u001B[33m'Genesis'\u001B[39;49;00m,\u001B[37m \u001B[39;49;00m\u001B[34m56410\u001B[39;49;00m,\u001B[37m \u001B[39;49;00m\u001B[34m14\u001B[39;49;00m),\u001B[37m\u001B[39;49;00m\n",
      "(\u001B[33m'INFINITI'\u001B[39;49;00m,\u001B[37m \u001B[39;49;00m\u001B[34m46619\u001B[39;49;00m,\u001B[37m \u001B[39;49;00m-\u001B[34m20\u001B[39;49;00m),\u001B[37m\u001B[39;49;00m\n",
      "(\u001B[33m'MINI'\u001B[39;49;00m,\u001B[37m \u001B[39;49;00m\u001B[34m29504\u001B[39;49;00m,\u001B[37m \u001B[39;49;00m-\u001B[34m1\u001B[39;49;00m),\u001B[37m\u001B[39;49;00m\n",
      "(\u001B[33m'Alfa Romeo'\u001B[39;49;00m,\u001B[37m \u001B[39;49;00m\u001B[34m12845\u001B[39;49;00m,\u001B[37m \u001B[39;49;00m-\u001B[34m30\u001B[39;49;00m),\u001B[37m\u001B[39;49;00m\n",
      "(\u001B[33m'Maserati'\u001B[39;49;00m,\u001B[37m \u001B[39;49;00m\u001B[34m6413\u001B[39;49;00m,\u001B[37m \u001B[39;49;00m-\u001B[34m10\u001B[39;49;00m),\u001B[37m\u001B[39;49;00m\n",
      "(\u001B[33m'Bentley'\u001B[39;49;00m,\u001B[37m \u001B[39;49;00m\u001B[34m3975\u001B[39;49;00m,\u001B[37m \u001B[39;49;00m\u001B[34m0\u001B[39;49;00m),\u001B[37m\u001B[39;49;00m\n",
      "(\u001B[33m'Lamborghini'\u001B[39;49;00m,\u001B[37m \u001B[39;49;00m\u001B[34m3134\u001B[39;49;00m,\u001B[37m \u001B[39;49;00m\u001B[34m3\u001B[39;49;00m),\u001B[37m\u001B[39;49;00m\n",
      "(\u001B[33m'Fiat'\u001B[39;49;00m,\u001B[37m \u001B[39;49;00m\u001B[34m915\u001B[39;49;00m,\u001B[37m \u001B[39;49;00m-\u001B[34m61\u001B[39;49;00m),\u001B[37m\u001B[39;49;00m\n",
      "(\u001B[33m'McLaren'\u001B[39;49;00m,\u001B[37m \u001B[39;49;00m\u001B[34m840\u001B[39;49;00m,\u001B[37m \u001B[39;49;00m-\u001B[34m35\u001B[39;49;00m),\u001B[37m\u001B[39;49;00m\n",
      "(\u001B[33m'Rolls-Royce'\u001B[39;49;00m,\u001B[37m \u001B[39;49;00m\u001B[34m460\u001B[39;49;00m,\u001B[37m \u001B[39;49;00m\u001B[34m7\u001B[39;49;00m)\u001B[37m\u001B[39;49;00m\n",
      "\u001B[34mAS\u001B[39;49;00m\u001B[37m \u001B[39;49;00mv1(Brand,\u001B[37m \u001B[39;49;00mUS_Sales_2022,\u001B[37m \u001B[39;49;00mSales_Change_Percentage)\u001B[37m\u001B[39;49;00m\n",
      "\n",
      "\u001B[92mINFO: \u001B[0mStoring data into temp view: spark_ai_temp_view_420000\n",
      "\n",
      "+-------------+-------------+-----------------------+\n",
      "|        Brand|US_Sales_2022|Sales_Change_Percentage|\n",
      "+-------------+-------------+-----------------------+\n",
      "|       Toyota|      1849751|                     -9|\n",
      "|         Ford|      1767439|                     -2|\n",
      "|    Chevrolet|      1502389|                      6|\n",
      "|        Honda|       881201|                    -33|\n",
      "|      Hyundai|       724265|                     -2|\n",
      "|          Kia|       693549|                     -1|\n",
      "|         Jeep|       684612|                    -12|\n",
      "|       Nissan|       682731|                    -25|\n",
      "|       Subaru|       556581|                     -5|\n",
      "|   Ram Trucks|       545194|                    -16|\n",
      "|          GMC|       517649|                      7|\n",
      "|Mercedes-Benz|       350949|                      7|\n",
      "|          BMW|       332388|                     -1|\n",
      "|   Volkswagen|       301069|                    -20|\n",
      "|        Mazda|       294908|                    -11|\n",
      "|        Lexus|       258704|                    -15|\n",
      "|        Dodge|       190793|                    -12|\n",
      "|         Audi|       186875|                     -5|\n",
      "|     Cadillac|       134726|                     14|\n",
      "|     Chrysler|       112713|                     -2|\n",
      "+-------------+-------------+-----------------------+\n",
      "only showing top 20 rows\n",
      "\n"
     ]
    }
   ],
   "source": [
    "# Search and ingest web content into a DataFrame\n",
    "# If you have set up google-api-python-client, you can just run\n",
    "auto_df = spark_ai.create_df(\"2022 USA national auto sales by brand\")\n",
    "auto_df.show()"
   ]
  },
  {
   "cell_type": "code",
   "execution_count": 6,
   "metadata": {},
   "outputs": [
    {
     "name": "stdout",
     "output_type": "stream",
     "text": [
      "\u001B[92mINFO: \u001B[0mLLM Output:\n",
      "def check_sales_change_percentage(df) -> bool:\n",
      "    from pyspark.sql.functions import col\n",
      "\n",
      "    # Check if the Sales_Change_Percentage column values are between -100 and 100\n",
      "    df_filtered = df.filter((col(\"Sales_Change_Percentage\") >= -100) & (col(\"Sales_Change_Percentage\") <= 100))\n",
      "\n",
      "    # If the number of rows in the filtered DataFrame is equal to the number of rows in the original DataFrame, return True\n",
      "    if df_filtered.count() == df.count():\n",
      "        return True\n",
      "    else:\n",
      "        return False\n",
      "\n",
      "result = check_sales_change_percentage(df)\n",
      "\u001B[92mINFO: \u001B[0mGenerated code:\n",
      "\u001B[34mdef\u001B[39;49;00m \u001B[32mcheck_sales_change_percentage\u001B[39;49;00m(df) -> \u001B[36mbool\u001B[39;49;00m:\u001B[37m\u001B[39;49;00m\n",
      "    \u001B[34mfrom\u001B[39;49;00m \u001B[04m\u001B[36mpyspark\u001B[39;49;00m\u001B[04m\u001B[36m.\u001B[39;49;00m\u001B[04m\u001B[36msql\u001B[39;49;00m\u001B[04m\u001B[36m.\u001B[39;49;00m\u001B[04m\u001B[36mfunctions\u001B[39;49;00m \u001B[34mimport\u001B[39;49;00m col\u001B[37m\u001B[39;49;00m\n",
      "\u001B[37m\u001B[39;49;00m\n",
      "    \u001B[37m# Check if the Sales_Change_Percentage column values are between -100 and 100\u001B[39;49;00m\u001B[37m\u001B[39;49;00m\n",
      "    df_filtered = df.filter((col(\u001B[33m\"\u001B[39;49;00m\u001B[33mSales_Change_Percentage\u001B[39;49;00m\u001B[33m\"\u001B[39;49;00m) >= -\u001B[34m100\u001B[39;49;00m) & (col(\u001B[33m\"\u001B[39;49;00m\u001B[33mSales_Change_Percentage\u001B[39;49;00m\u001B[33m\"\u001B[39;49;00m) <= \u001B[34m100\u001B[39;49;00m))\u001B[37m\u001B[39;49;00m\n",
      "\u001B[37m\u001B[39;49;00m\n",
      "    \u001B[37m# If the number of rows in the filtered DataFrame is equal to the number of rows in the original DataFrame, return True\u001B[39;49;00m\u001B[37m\u001B[39;49;00m\n",
      "    \u001B[34mif\u001B[39;49;00m df_filtered.count() == df.count():\u001B[37m\u001B[39;49;00m\n",
      "        \u001B[34mreturn\u001B[39;49;00m \u001B[34mTrue\u001B[39;49;00m\u001B[37m\u001B[39;49;00m\n",
      "    \u001B[34melse\u001B[39;49;00m:\u001B[37m\u001B[39;49;00m\n",
      "        \u001B[34mreturn\u001B[39;49;00m \u001B[34mFalse\u001B[39;49;00m\u001B[37m\u001B[39;49;00m\n",
      "\u001B[37m\u001B[39;49;00m\n",
      "result = check_sales_change_percentage(df)\u001B[37m\u001B[39;49;00m\n",
      "\n",
      "\u001B[92mINFO: \u001B[0m\n",
      "Result: True\n"
     ]
    }
   ],
   "source": [
    "auto_df.ai.verify(\"expect sales change percentage to be between -100 to 100\")"
   ]
  },
  {
   "cell_type": "code",
   "execution_count": 7,
   "metadata": {
    "collapsed": false,
    "jupyter": {
     "outputs_hidden": false
    }
   },
   "outputs": [
    {
     "name": "stdout",
     "output_type": "stream",
     "text": [
      "\u001B[92mINFO: \u001B[0mHere is the Python code to visualize the result of `df` using plotly:\n",
      "\n",
      "\n",
      "```\n",
      "\u001B[34mimport\u001B[39;49;00m \u001B[04m\u001B[36mplotly\u001B[39;49;00m\u001B[04m\u001B[36m.\u001B[39;49;00m\u001B[04m\u001B[36mgraph_objects\u001B[39;49;00m \u001B[34mas\u001B[39;49;00m \u001B[04m\u001B[36mgo\u001B[39;49;00m\u001B[37m\u001B[39;49;00m\n",
      "\u001B[34mfrom\u001B[39;49;00m \u001B[04m\u001B[36mpyspark\u001B[39;49;00m\u001B[04m\u001B[36m.\u001B[39;49;00m\u001B[04m\u001B[36msql\u001B[39;49;00m \u001B[34mimport\u001B[39;49;00m SparkSession\u001B[37m\u001B[39;49;00m\n",
      "\u001B[34mimport\u001B[39;49;00m \u001B[04m\u001B[36mpandas\u001B[39;49;00m \u001B[34mas\u001B[39;49;00m \u001B[04m\u001B[36mpd\u001B[39;49;00m\u001B[37m\u001B[39;49;00m\n",
      "\u001B[37m\u001B[39;49;00m\n",
      "\u001B[37m# Start Spark session\u001B[39;49;00m\u001B[37m\u001B[39;49;00m\n",
      "spark = SparkSession.builder.appName(\u001B[33m'\u001B[39;49;00m\u001B[33mexample\u001B[39;49;00m\u001B[33m'\u001B[39;49;00m).getOrCreate()\u001B[37m\u001B[39;49;00m\n",
      "\u001B[37m\u001B[39;49;00m\n",
      "\u001B[37m# Assuming df is a Spark DataFrame\u001B[39;49;00m\u001B[37m\u001B[39;49;00m\n",
      "\u001B[37m# Convert Spark DataFrame to Pandas DataFrame\u001B[39;49;00m\u001B[37m\u001B[39;49;00m\n",
      "pandas_df = df.toPandas()\u001B[37m\u001B[39;49;00m\n",
      "\u001B[37m\u001B[39;49;00m\n",
      "\u001B[37m# Create a bar chart for US_Sales_2022\u001B[39;49;00m\u001B[37m\u001B[39;49;00m\n",
      "trace1 = go.Bar(\u001B[37m\u001B[39;49;00m\n",
      "    x=pandas_df[\u001B[33m'\u001B[39;49;00m\u001B[33mBrand\u001B[39;49;00m\u001B[33m'\u001B[39;49;00m],\u001B[37m\u001B[39;49;00m\n",
      "    y=pandas_df[\u001B[33m'\u001B[39;49;00m\u001B[33mUS_Sales_2022\u001B[39;49;00m\u001B[33m'\u001B[39;49;00m],\u001B[37m\u001B[39;49;00m\n",
      "    name=\u001B[33m'\u001B[39;49;00m\u001B[33mUS Sales 2022\u001B[39;49;00m\u001B[33m'\u001B[39;49;00m\u001B[37m\u001B[39;49;00m\n",
      ")\u001B[37m\u001B[39;49;00m\n",
      "\u001B[37m\u001B[39;49;00m\n",
      "\u001B[37m# Create a line chart for Sales_Change_Percentage\u001B[39;49;00m\u001B[37m\u001B[39;49;00m\n",
      "trace2 = go.Scatter(\u001B[37m\u001B[39;49;00m\n",
      "    x=pandas_df[\u001B[33m'\u001B[39;49;00m\u001B[33mBrand\u001B[39;49;00m\u001B[33m'\u001B[39;49;00m],\u001B[37m\u001B[39;49;00m\n",
      "    y=pandas_df[\u001B[33m'\u001B[39;49;00m\u001B[33mSales_Change_Percentage\u001B[39;49;00m\u001B[33m'\u001B[39;49;00m],\u001B[37m\u001B[39;49;00m\n",
      "    name=\u001B[33m'\u001B[39;49;00m\u001B[33mSales Change Percentage\u001B[39;49;00m\u001B[33m'\u001B[39;49;00m,\u001B[37m\u001B[39;49;00m\n",
      "    yaxis=\u001B[33m'\u001B[39;49;00m\u001B[33my2\u001B[39;49;00m\u001B[33m'\u001B[39;49;00m\u001B[37m\u001B[39;49;00m\n",
      ")\u001B[37m\u001B[39;49;00m\n",
      "\u001B[37m\u001B[39;49;00m\n",
      "data = [trace1, trace2]\u001B[37m\u001B[39;49;00m\n",
      "\u001B[37m\u001B[39;49;00m\n",
      "layout = go.Layout(\u001B[37m\u001B[39;49;00m\n",
      "    title=\u001B[33m'\u001B[39;49;00m\u001B[33mBrand Sales Analysis\u001B[39;49;00m\u001B[33m'\u001B[39;49;00m,\u001B[37m\u001B[39;49;00m\n",
      "    yaxis=\u001B[36mdict\u001B[39;49;00m(\u001B[37m\u001B[39;49;00m\n",
      "        title=\u001B[33m'\u001B[39;49;00m\u001B[33mUS Sales 2022\u001B[39;49;00m\u001B[33m'\u001B[39;49;00m\u001B[37m\u001B[39;49;00m\n",
      "    ),\u001B[37m\u001B[39;49;00m\n",
      "    yaxis2=\u001B[36mdict\u001B[39;49;00m(\u001B[37m\u001B[39;49;00m\n",
      "        title=\u001B[33m'\u001B[39;49;00m\u001B[33mSales Change Percentage\u001B[39;49;00m\u001B[33m'\u001B[39;49;00m,\u001B[37m\u001B[39;49;00m\n",
      "        titlefont=\u001B[36mdict\u001B[39;49;00m(\u001B[37m\u001B[39;49;00m\n",
      "            color=\u001B[33m'\u001B[39;49;00m\u001B[33mrgb(148, 103, 189)\u001B[39;49;00m\u001B[33m'\u001B[39;49;00m\u001B[37m\u001B[39;49;00m\n",
      "        ),\u001B[37m\u001B[39;49;00m\n",
      "        tickfont=\u001B[36mdict\u001B[39;49;00m(\u001B[37m\u001B[39;49;00m\n",
      "            color=\u001B[33m'\u001B[39;49;00m\u001B[33mrgb(148, 103, 189)\u001B[39;49;00m\u001B[33m'\u001B[39;49;00m\u001B[37m\u001B[39;49;00m\n",
      "        ),\u001B[37m\u001B[39;49;00m\n",
      "        overlaying=\u001B[33m'\u001B[39;49;00m\u001B[33my\u001B[39;49;00m\u001B[33m'\u001B[39;49;00m,\u001B[37m\u001B[39;49;00m\n",
      "        side=\u001B[33m'\u001B[39;49;00m\u001B[33mright\u001B[39;49;00m\u001B[33m'\u001B[39;49;00m\u001B[37m\u001B[39;49;00m\n",
      "    )\u001B[37m\u001B[39;49;00m\n",
      ")\u001B[37m\u001B[39;49;00m\n",
      "\u001B[37m\u001B[39;49;00m\n",
      "fig = go.Figure(data=data, layout=layout)\u001B[37m\u001B[39;49;00m\n",
      "fig.show()\u001B[37m\u001B[39;49;00m\n",
      "```\n",
      "\n",
      "This code first converts the Spark DataFrame to a Pandas DataFrame. Then it creates a bar chart for 'US_Sales_2022' and a line chart for 'Sales_Change_Percentage'. Both charts share the same x-axis ('Brand'). The 'Sales_Change_Percentage' chart is displayed on a secondary y-axis on the right side of the plot. Finally, it displays the plot.\n"
     ]
    },
    {
     "data": {
      "application/vnd.plotly.v1+json": {
       "data": [
        {
         "name": "US Sales 2022",
         "x": [
          "Toyota",
          "Ford",
          "Chevrolet",
          "Honda",
          "Hyundai",
          "Kia",
          "Jeep",
          "Nissan",
          "Subaru",
          "Ram Trucks",
          "GMC",
          "Mercedes-Benz",
          "BMW",
          "Volkswagen",
          "Mazda",
          "Lexus",
          "Dodge",
          "Audi",
          "Cadillac",
          "Chrysler",
          "Buick",
          "Acura",
          "Volvo",
          "Mitsubishi",
          "Lincoln",
          "Porsche",
          "Genesis",
          "INFINITI",
          "MINI",
          "Alfa Romeo",
          "Maserati",
          "Bentley",
          "Lamborghini",
          "Fiat",
          "McLaren",
          "Rolls-Royce"
         ],
         "y": [
          1849751,
          1767439,
          1502389,
          881201,
          724265,
          693549,
          684612,
          682731,
          556581,
          545194,
          517649,
          350949,
          332388,
          301069,
          294908,
          258704,
          190793,
          186875,
          134726,
          112713,
          103519,
          102306,
          102038,
          102037,
          83486,
          70065,
          56410,
          46619,
          29504,
          12845,
          6413,
          3975,
          3134,
          915,
          840,
          460
         ],
         "type": "bar"
        },
        {
         "name": "Sales Change Percentage",
         "x": [
          "Toyota",
          "Ford",
          "Chevrolet",
          "Honda",
          "Hyundai",
          "Kia",
          "Jeep",
          "Nissan",
          "Subaru",
          "Ram Trucks",
          "GMC",
          "Mercedes-Benz",
          "BMW",
          "Volkswagen",
          "Mazda",
          "Lexus",
          "Dodge",
          "Audi",
          "Cadillac",
          "Chrysler",
          "Buick",
          "Acura",
          "Volvo",
          "Mitsubishi",
          "Lincoln",
          "Porsche",
          "Genesis",
          "INFINITI",
          "MINI",
          "Alfa Romeo",
          "Maserati",
          "Bentley",
          "Lamborghini",
          "Fiat",
          "McLaren",
          "Rolls-Royce"
         ],
         "y": [
          -9,
          -2,
          6,
          -33,
          -2,
          -1,
          -12,
          -25,
          -5,
          -16,
          7,
          7,
          -1,
          -20,
          -11,
          -15,
          -12,
          -5,
          14,
          -2,
          -42,
          -35,
          -16,
          -16,
          -4,
          0,
          14,
          -20,
          -1,
          -30,
          -10,
          0,
          3,
          -61,
          -35,
          7
         ],
         "yaxis": "y2",
         "type": "scatter"
        }
       ],
       "layout": {
        "title": {
         "text": "Brand Sales Analysis"
        },
        "yaxis": {
         "title": {
          "text": "US Sales 2022"
         }
        },
        "yaxis2": {
         "overlaying": "y",
         "side": "right",
         "tickfont": {
          "color": "rgb(148, 103, 189)"
         },
         "title": {
          "font": {
           "color": "rgb(148, 103, 189)"
          },
          "text": "Sales Change Percentage"
         }
        },
        "template": {
         "data": {
          "histogram2dcontour": [
           {
            "type": "histogram2dcontour",
            "colorbar": {
             "outlinewidth": 0,
             "ticks": ""
            },
            "colorscale": [
             [
              0.0,
              "#0d0887"
             ],
             [
              0.1111111111111111,
              "#46039f"
             ],
             [
              0.2222222222222222,
              "#7201a8"
             ],
             [
              0.3333333333333333,
              "#9c179e"
             ],
             [
              0.4444444444444444,
              "#bd3786"
             ],
             [
              0.5555555555555556,
              "#d8576b"
             ],
             [
              0.6666666666666666,
              "#ed7953"
             ],
             [
              0.7777777777777778,
              "#fb9f3a"
             ],
             [
              0.8888888888888888,
              "#fdca26"
             ],
             [
              1.0,
              "#f0f921"
             ]
            ]
           }
          ],
          "choropleth": [
           {
            "type": "choropleth",
            "colorbar": {
             "outlinewidth": 0,
             "ticks": ""
            }
           }
          ],
          "histogram2d": [
           {
            "type": "histogram2d",
            "colorbar": {
             "outlinewidth": 0,
             "ticks": ""
            },
            "colorscale": [
             [
              0.0,
              "#0d0887"
             ],
             [
              0.1111111111111111,
              "#46039f"
             ],
             [
              0.2222222222222222,
              "#7201a8"
             ],
             [
              0.3333333333333333,
              "#9c179e"
             ],
             [
              0.4444444444444444,
              "#bd3786"
             ],
             [
              0.5555555555555556,
              "#d8576b"
             ],
             [
              0.6666666666666666,
              "#ed7953"
             ],
             [
              0.7777777777777778,
              "#fb9f3a"
             ],
             [
              0.8888888888888888,
              "#fdca26"
             ],
             [
              1.0,
              "#f0f921"
             ]
            ]
           }
          ],
          "heatmap": [
           {
            "type": "heatmap",
            "colorbar": {
             "outlinewidth": 0,
             "ticks": ""
            },
            "colorscale": [
             [
              0.0,
              "#0d0887"
             ],
             [
              0.1111111111111111,
              "#46039f"
             ],
             [
              0.2222222222222222,
              "#7201a8"
             ],
             [
              0.3333333333333333,
              "#9c179e"
             ],
             [
              0.4444444444444444,
              "#bd3786"
             ],
             [
              0.5555555555555556,
              "#d8576b"
             ],
             [
              0.6666666666666666,
              "#ed7953"
             ],
             [
              0.7777777777777778,
              "#fb9f3a"
             ],
             [
              0.8888888888888888,
              "#fdca26"
             ],
             [
              1.0,
              "#f0f921"
             ]
            ]
           }
          ],
          "heatmapgl": [
           {
            "type": "heatmapgl",
            "colorbar": {
             "outlinewidth": 0,
             "ticks": ""
            },
            "colorscale": [
             [
              0.0,
              "#0d0887"
             ],
             [
              0.1111111111111111,
              "#46039f"
             ],
             [
              0.2222222222222222,
              "#7201a8"
             ],
             [
              0.3333333333333333,
              "#9c179e"
             ],
             [
              0.4444444444444444,
              "#bd3786"
             ],
             [
              0.5555555555555556,
              "#d8576b"
             ],
             [
              0.6666666666666666,
              "#ed7953"
             ],
             [
              0.7777777777777778,
              "#fb9f3a"
             ],
             [
              0.8888888888888888,
              "#fdca26"
             ],
             [
              1.0,
              "#f0f921"
             ]
            ]
           }
          ],
          "contourcarpet": [
           {
            "type": "contourcarpet",
            "colorbar": {
             "outlinewidth": 0,
             "ticks": ""
            }
           }
          ],
          "contour": [
           {
            "type": "contour",
            "colorbar": {
             "outlinewidth": 0,
             "ticks": ""
            },
            "colorscale": [
             [
              0.0,
              "#0d0887"
             ],
             [
              0.1111111111111111,
              "#46039f"
             ],
             [
              0.2222222222222222,
              "#7201a8"
             ],
             [
              0.3333333333333333,
              "#9c179e"
             ],
             [
              0.4444444444444444,
              "#bd3786"
             ],
             [
              0.5555555555555556,
              "#d8576b"
             ],
             [
              0.6666666666666666,
              "#ed7953"
             ],
             [
              0.7777777777777778,
              "#fb9f3a"
             ],
             [
              0.8888888888888888,
              "#fdca26"
             ],
             [
              1.0,
              "#f0f921"
             ]
            ]
           }
          ],
          "surface": [
           {
            "type": "surface",
            "colorbar": {
             "outlinewidth": 0,
             "ticks": ""
            },
            "colorscale": [
             [
              0.0,
              "#0d0887"
             ],
             [
              0.1111111111111111,
              "#46039f"
             ],
             [
              0.2222222222222222,
              "#7201a8"
             ],
             [
              0.3333333333333333,
              "#9c179e"
             ],
             [
              0.4444444444444444,
              "#bd3786"
             ],
             [
              0.5555555555555556,
              "#d8576b"
             ],
             [
              0.6666666666666666,
              "#ed7953"
             ],
             [
              0.7777777777777778,
              "#fb9f3a"
             ],
             [
              0.8888888888888888,
              "#fdca26"
             ],
             [
              1.0,
              "#f0f921"
             ]
            ]
           }
          ],
          "mesh3d": [
           {
            "type": "mesh3d",
            "colorbar": {
             "outlinewidth": 0,
             "ticks": ""
            }
           }
          ],
          "scatter": [
           {
            "fillpattern": {
             "fillmode": "overlay",
             "size": 10,
             "solidity": 0.2
            },
            "type": "scatter"
           }
          ],
          "parcoords": [
           {
            "type": "parcoords",
            "line": {
             "colorbar": {
              "outlinewidth": 0,
              "ticks": ""
             }
            }
           }
          ],
          "scatterpolargl": [
           {
            "type": "scatterpolargl",
            "marker": {
             "colorbar": {
              "outlinewidth": 0,
              "ticks": ""
             }
            }
           }
          ],
          "bar": [
           {
            "error_x": {
             "color": "#2a3f5f"
            },
            "error_y": {
             "color": "#2a3f5f"
            },
            "marker": {
             "line": {
              "color": "#E5ECF6",
              "width": 0.5
             },
             "pattern": {
              "fillmode": "overlay",
              "size": 10,
              "solidity": 0.2
             }
            },
            "type": "bar"
           }
          ],
          "scattergeo": [
           {
            "type": "scattergeo",
            "marker": {
             "colorbar": {
              "outlinewidth": 0,
              "ticks": ""
             }
            }
           }
          ],
          "scatterpolar": [
           {
            "type": "scatterpolar",
            "marker": {
             "colorbar": {
              "outlinewidth": 0,
              "ticks": ""
             }
            }
           }
          ],
          "histogram": [
           {
            "marker": {
             "pattern": {
              "fillmode": "overlay",
              "size": 10,
              "solidity": 0.2
             }
            },
            "type": "histogram"
           }
          ],
          "scattergl": [
           {
            "type": "scattergl",
            "marker": {
             "colorbar": {
              "outlinewidth": 0,
              "ticks": ""
             }
            }
           }
          ],
          "scatter3d": [
           {
            "type": "scatter3d",
            "line": {
             "colorbar": {
              "outlinewidth": 0,
              "ticks": ""
             }
            },
            "marker": {
             "colorbar": {
              "outlinewidth": 0,
              "ticks": ""
             }
            }
           }
          ],
          "scattermapbox": [
           {
            "type": "scattermapbox",
            "marker": {
             "colorbar": {
              "outlinewidth": 0,
              "ticks": ""
             }
            }
           }
          ],
          "scatterternary": [
           {
            "type": "scatterternary",
            "marker": {
             "colorbar": {
              "outlinewidth": 0,
              "ticks": ""
             }
            }
           }
          ],
          "scattercarpet": [
           {
            "type": "scattercarpet",
            "marker": {
             "colorbar": {
              "outlinewidth": 0,
              "ticks": ""
             }
            }
           }
          ],
          "carpet": [
           {
            "aaxis": {
             "endlinecolor": "#2a3f5f",
             "gridcolor": "white",
             "linecolor": "white",
             "minorgridcolor": "white",
             "startlinecolor": "#2a3f5f"
            },
            "baxis": {
             "endlinecolor": "#2a3f5f",
             "gridcolor": "white",
             "linecolor": "white",
             "minorgridcolor": "white",
             "startlinecolor": "#2a3f5f"
            },
            "type": "carpet"
           }
          ],
          "table": [
           {
            "cells": {
             "fill": {
              "color": "#EBF0F8"
             },
             "line": {
              "color": "white"
             }
            },
            "header": {
             "fill": {
              "color": "#C8D4E3"
             },
             "line": {
              "color": "white"
             }
            },
            "type": "table"
           }
          ],
          "barpolar": [
           {
            "marker": {
             "line": {
              "color": "#E5ECF6",
              "width": 0.5
             },
             "pattern": {
              "fillmode": "overlay",
              "size": 10,
              "solidity": 0.2
             }
            },
            "type": "barpolar"
           }
          ],
          "pie": [
           {
            "automargin": true,
            "type": "pie"
           }
          ]
         },
         "layout": {
          "autotypenumbers": "strict",
          "colorway": [
           "#636efa",
           "#EF553B",
           "#00cc96",
           "#ab63fa",
           "#FFA15A",
           "#19d3f3",
           "#FF6692",
           "#B6E880",
           "#FF97FF",
           "#FECB52"
          ],
          "font": {
           "color": "#2a3f5f"
          },
          "hovermode": "closest",
          "hoverlabel": {
           "align": "left"
          },
          "paper_bgcolor": "white",
          "plot_bgcolor": "#E5ECF6",
          "polar": {
           "bgcolor": "#E5ECF6",
           "angularaxis": {
            "gridcolor": "white",
            "linecolor": "white",
            "ticks": ""
           },
           "radialaxis": {
            "gridcolor": "white",
            "linecolor": "white",
            "ticks": ""
           }
          },
          "ternary": {
           "bgcolor": "#E5ECF6",
           "aaxis": {
            "gridcolor": "white",
            "linecolor": "white",
            "ticks": ""
           },
           "baxis": {
            "gridcolor": "white",
            "linecolor": "white",
            "ticks": ""
           },
           "caxis": {
            "gridcolor": "white",
            "linecolor": "white",
            "ticks": ""
           }
          },
          "coloraxis": {
           "colorbar": {
            "outlinewidth": 0,
            "ticks": ""
           }
          },
          "colorscale": {
           "sequential": [
            [
             0.0,
             "#0d0887"
            ],
            [
             0.1111111111111111,
             "#46039f"
            ],
            [
             0.2222222222222222,
             "#7201a8"
            ],
            [
             0.3333333333333333,
             "#9c179e"
            ],
            [
             0.4444444444444444,
             "#bd3786"
            ],
            [
             0.5555555555555556,
             "#d8576b"
            ],
            [
             0.6666666666666666,
             "#ed7953"
            ],
            [
             0.7777777777777778,
             "#fb9f3a"
            ],
            [
             0.8888888888888888,
             "#fdca26"
            ],
            [
             1.0,
             "#f0f921"
            ]
           ],
           "sequentialminus": [
            [
             0.0,
             "#0d0887"
            ],
            [
             0.1111111111111111,
             "#46039f"
            ],
            [
             0.2222222222222222,
             "#7201a8"
            ],
            [
             0.3333333333333333,
             "#9c179e"
            ],
            [
             0.4444444444444444,
             "#bd3786"
            ],
            [
             0.5555555555555556,
             "#d8576b"
            ],
            [
             0.6666666666666666,
             "#ed7953"
            ],
            [
             0.7777777777777778,
             "#fb9f3a"
            ],
            [
             0.8888888888888888,
             "#fdca26"
            ],
            [
             1.0,
             "#f0f921"
            ]
           ],
           "diverging": [
            [
             0,
             "#8e0152"
            ],
            [
             0.1,
             "#c51b7d"
            ],
            [
             0.2,
             "#de77ae"
            ],
            [
             0.3,
             "#f1b6da"
            ],
            [
             0.4,
             "#fde0ef"
            ],
            [
             0.5,
             "#f7f7f7"
            ],
            [
             0.6,
             "#e6f5d0"
            ],
            [
             0.7,
             "#b8e186"
            ],
            [
             0.8,
             "#7fbc41"
            ],
            [
             0.9,
             "#4d9221"
            ],
            [
             1,
             "#276419"
            ]
           ]
          },
          "xaxis": {
           "gridcolor": "white",
           "linecolor": "white",
           "ticks": "",
           "title": {
            "standoff": 15
           },
           "zerolinecolor": "white",
           "automargin": true,
           "zerolinewidth": 2
          },
          "yaxis": {
           "gridcolor": "white",
           "linecolor": "white",
           "ticks": "",
           "title": {
            "standoff": 15
           },
           "zerolinecolor": "white",
           "automargin": true,
           "zerolinewidth": 2
          },
          "scene": {
           "xaxis": {
            "backgroundcolor": "#E5ECF6",
            "gridcolor": "white",
            "linecolor": "white",
            "showbackground": true,
            "ticks": "",
            "zerolinecolor": "white",
            "gridwidth": 2
           },
           "yaxis": {
            "backgroundcolor": "#E5ECF6",
            "gridcolor": "white",
            "linecolor": "white",
            "showbackground": true,
            "ticks": "",
            "zerolinecolor": "white",
            "gridwidth": 2
           },
           "zaxis": {
            "backgroundcolor": "#E5ECF6",
            "gridcolor": "white",
            "linecolor": "white",
            "showbackground": true,
            "ticks": "",
            "zerolinecolor": "white",
            "gridwidth": 2
           }
          },
          "shapedefaults": {
           "line": {
            "color": "#2a3f5f"
           }
          },
          "annotationdefaults": {
           "arrowcolor": "#2a3f5f",
           "arrowhead": 0,
           "arrowwidth": 1
          },
          "geo": {
           "bgcolor": "white",
           "landcolor": "#E5ECF6",
           "subunitcolor": "white",
           "showland": true,
           "showlakes": true,
           "lakecolor": "white"
          },
          "title": {
           "x": 0.05
          },
          "mapbox": {
           "style": "light"
          }
         }
        }
       },
       "config": {
        "plotlyServerURL": "https://plot.ly"
       }
      },
      "text/html": "<div>                            <div id=\"db0dc90c-72e2-4271-a245-3d9667faeed6\" class=\"plotly-graph-div\" style=\"height:525px; width:100%;\"></div>            <script type=\"text/javascript\">                require([\"plotly\"], function(Plotly) {                    window.PLOTLYENV=window.PLOTLYENV || {};                                    if (document.getElementById(\"db0dc90c-72e2-4271-a245-3d9667faeed6\")) {                    Plotly.newPlot(                        \"db0dc90c-72e2-4271-a245-3d9667faeed6\",                        [{\"name\":\"US Sales 2022\",\"x\":[\"Toyota\",\"Ford\",\"Chevrolet\",\"Honda\",\"Hyundai\",\"Kia\",\"Jeep\",\"Nissan\",\"Subaru\",\"Ram Trucks\",\"GMC\",\"Mercedes-Benz\",\"BMW\",\"Volkswagen\",\"Mazda\",\"Lexus\",\"Dodge\",\"Audi\",\"Cadillac\",\"Chrysler\",\"Buick\",\"Acura\",\"Volvo\",\"Mitsubishi\",\"Lincoln\",\"Porsche\",\"Genesis\",\"INFINITI\",\"MINI\",\"Alfa Romeo\",\"Maserati\",\"Bentley\",\"Lamborghini\",\"Fiat\",\"McLaren\",\"Rolls-Royce\"],\"y\":[1849751,1767439,1502389,881201,724265,693549,684612,682731,556581,545194,517649,350949,332388,301069,294908,258704,190793,186875,134726,112713,103519,102306,102038,102037,83486,70065,56410,46619,29504,12845,6413,3975,3134,915,840,460],\"type\":\"bar\"},{\"name\":\"Sales Change Percentage\",\"x\":[\"Toyota\",\"Ford\",\"Chevrolet\",\"Honda\",\"Hyundai\",\"Kia\",\"Jeep\",\"Nissan\",\"Subaru\",\"Ram Trucks\",\"GMC\",\"Mercedes-Benz\",\"BMW\",\"Volkswagen\",\"Mazda\",\"Lexus\",\"Dodge\",\"Audi\",\"Cadillac\",\"Chrysler\",\"Buick\",\"Acura\",\"Volvo\",\"Mitsubishi\",\"Lincoln\",\"Porsche\",\"Genesis\",\"INFINITI\",\"MINI\",\"Alfa Romeo\",\"Maserati\",\"Bentley\",\"Lamborghini\",\"Fiat\",\"McLaren\",\"Rolls-Royce\"],\"y\":[-9,-2,6,-33,-2,-1,-12,-25,-5,-16,7,7,-1,-20,-11,-15,-12,-5,14,-2,-42,-35,-16,-16,-4,0,14,-20,-1,-30,-10,0,3,-61,-35,7],\"yaxis\":\"y2\",\"type\":\"scatter\"}],                        {\"title\":{\"text\":\"Brand Sales Analysis\"},\"yaxis\":{\"title\":{\"text\":\"US Sales 2022\"}},\"yaxis2\":{\"overlaying\":\"y\",\"side\":\"right\",\"tickfont\":{\"color\":\"rgb(148, 103, 189)\"},\"title\":{\"font\":{\"color\":\"rgb(148, 103, 189)\"},\"text\":\"Sales Change Percentage\"}},\"template\":{\"data\":{\"histogram2dcontour\":[{\"type\":\"histogram2dcontour\",\"colorbar\":{\"outlinewidth\":0,\"ticks\":\"\"},\"colorscale\":[[0.0,\"#0d0887\"],[0.1111111111111111,\"#46039f\"],[0.2222222222222222,\"#7201a8\"],[0.3333333333333333,\"#9c179e\"],[0.4444444444444444,\"#bd3786\"],[0.5555555555555556,\"#d8576b\"],[0.6666666666666666,\"#ed7953\"],[0.7777777777777778,\"#fb9f3a\"],[0.8888888888888888,\"#fdca26\"],[1.0,\"#f0f921\"]]}],\"choropleth\":[{\"type\":\"choropleth\",\"colorbar\":{\"outlinewidth\":0,\"ticks\":\"\"}}],\"histogram2d\":[{\"type\":\"histogram2d\",\"colorbar\":{\"outlinewidth\":0,\"ticks\":\"\"},\"colorscale\":[[0.0,\"#0d0887\"],[0.1111111111111111,\"#46039f\"],[0.2222222222222222,\"#7201a8\"],[0.3333333333333333,\"#9c179e\"],[0.4444444444444444,\"#bd3786\"],[0.5555555555555556,\"#d8576b\"],[0.6666666666666666,\"#ed7953\"],[0.7777777777777778,\"#fb9f3a\"],[0.8888888888888888,\"#fdca26\"],[1.0,\"#f0f921\"]]}],\"heatmap\":[{\"type\":\"heatmap\",\"colorbar\":{\"outlinewidth\":0,\"ticks\":\"\"},\"colorscale\":[[0.0,\"#0d0887\"],[0.1111111111111111,\"#46039f\"],[0.2222222222222222,\"#7201a8\"],[0.3333333333333333,\"#9c179e\"],[0.4444444444444444,\"#bd3786\"],[0.5555555555555556,\"#d8576b\"],[0.6666666666666666,\"#ed7953\"],[0.7777777777777778,\"#fb9f3a\"],[0.8888888888888888,\"#fdca26\"],[1.0,\"#f0f921\"]]}],\"heatmapgl\":[{\"type\":\"heatmapgl\",\"colorbar\":{\"outlinewidth\":0,\"ticks\":\"\"},\"colorscale\":[[0.0,\"#0d0887\"],[0.1111111111111111,\"#46039f\"],[0.2222222222222222,\"#7201a8\"],[0.3333333333333333,\"#9c179e\"],[0.4444444444444444,\"#bd3786\"],[0.5555555555555556,\"#d8576b\"],[0.6666666666666666,\"#ed7953\"],[0.7777777777777778,\"#fb9f3a\"],[0.8888888888888888,\"#fdca26\"],[1.0,\"#f0f921\"]]}],\"contourcarpet\":[{\"type\":\"contourcarpet\",\"colorbar\":{\"outlinewidth\":0,\"ticks\":\"\"}}],\"contour\":[{\"type\":\"contour\",\"colorbar\":{\"outlinewidth\":0,\"ticks\":\"\"},\"colorscale\":[[0.0,\"#0d0887\"],[0.1111111111111111,\"#46039f\"],[0.2222222222222222,\"#7201a8\"],[0.3333333333333333,\"#9c179e\"],[0.4444444444444444,\"#bd3786\"],[0.5555555555555556,\"#d8576b\"],[0.6666666666666666,\"#ed7953\"],[0.7777777777777778,\"#fb9f3a\"],[0.8888888888888888,\"#fdca26\"],[1.0,\"#f0f921\"]]}],\"surface\":[{\"type\":\"surface\",\"colorbar\":{\"outlinewidth\":0,\"ticks\":\"\"},\"colorscale\":[[0.0,\"#0d0887\"],[0.1111111111111111,\"#46039f\"],[0.2222222222222222,\"#7201a8\"],[0.3333333333333333,\"#9c179e\"],[0.4444444444444444,\"#bd3786\"],[0.5555555555555556,\"#d8576b\"],[0.6666666666666666,\"#ed7953\"],[0.7777777777777778,\"#fb9f3a\"],[0.8888888888888888,\"#fdca26\"],[1.0,\"#f0f921\"]]}],\"mesh3d\":[{\"type\":\"mesh3d\",\"colorbar\":{\"outlinewidth\":0,\"ticks\":\"\"}}],\"scatter\":[{\"fillpattern\":{\"fillmode\":\"overlay\",\"size\":10,\"solidity\":0.2},\"type\":\"scatter\"}],\"parcoords\":[{\"type\":\"parcoords\",\"line\":{\"colorbar\":{\"outlinewidth\":0,\"ticks\":\"\"}}}],\"scatterpolargl\":[{\"type\":\"scatterpolargl\",\"marker\":{\"colorbar\":{\"outlinewidth\":0,\"ticks\":\"\"}}}],\"bar\":[{\"error_x\":{\"color\":\"#2a3f5f\"},\"error_y\":{\"color\":\"#2a3f5f\"},\"marker\":{\"line\":{\"color\":\"#E5ECF6\",\"width\":0.5},\"pattern\":{\"fillmode\":\"overlay\",\"size\":10,\"solidity\":0.2}},\"type\":\"bar\"}],\"scattergeo\":[{\"type\":\"scattergeo\",\"marker\":{\"colorbar\":{\"outlinewidth\":0,\"ticks\":\"\"}}}],\"scatterpolar\":[{\"type\":\"scatterpolar\",\"marker\":{\"colorbar\":{\"outlinewidth\":0,\"ticks\":\"\"}}}],\"histogram\":[{\"marker\":{\"pattern\":{\"fillmode\":\"overlay\",\"size\":10,\"solidity\":0.2}},\"type\":\"histogram\"}],\"scattergl\":[{\"type\":\"scattergl\",\"marker\":{\"colorbar\":{\"outlinewidth\":0,\"ticks\":\"\"}}}],\"scatter3d\":[{\"type\":\"scatter3d\",\"line\":{\"colorbar\":{\"outlinewidth\":0,\"ticks\":\"\"}},\"marker\":{\"colorbar\":{\"outlinewidth\":0,\"ticks\":\"\"}}}],\"scattermapbox\":[{\"type\":\"scattermapbox\",\"marker\":{\"colorbar\":{\"outlinewidth\":0,\"ticks\":\"\"}}}],\"scatterternary\":[{\"type\":\"scatterternary\",\"marker\":{\"colorbar\":{\"outlinewidth\":0,\"ticks\":\"\"}}}],\"scattercarpet\":[{\"type\":\"scattercarpet\",\"marker\":{\"colorbar\":{\"outlinewidth\":0,\"ticks\":\"\"}}}],\"carpet\":[{\"aaxis\":{\"endlinecolor\":\"#2a3f5f\",\"gridcolor\":\"white\",\"linecolor\":\"white\",\"minorgridcolor\":\"white\",\"startlinecolor\":\"#2a3f5f\"},\"baxis\":{\"endlinecolor\":\"#2a3f5f\",\"gridcolor\":\"white\",\"linecolor\":\"white\",\"minorgridcolor\":\"white\",\"startlinecolor\":\"#2a3f5f\"},\"type\":\"carpet\"}],\"table\":[{\"cells\":{\"fill\":{\"color\":\"#EBF0F8\"},\"line\":{\"color\":\"white\"}},\"header\":{\"fill\":{\"color\":\"#C8D4E3\"},\"line\":{\"color\":\"white\"}},\"type\":\"table\"}],\"barpolar\":[{\"marker\":{\"line\":{\"color\":\"#E5ECF6\",\"width\":0.5},\"pattern\":{\"fillmode\":\"overlay\",\"size\":10,\"solidity\":0.2}},\"type\":\"barpolar\"}],\"pie\":[{\"automargin\":true,\"type\":\"pie\"}]},\"layout\":{\"autotypenumbers\":\"strict\",\"colorway\":[\"#636efa\",\"#EF553B\",\"#00cc96\",\"#ab63fa\",\"#FFA15A\",\"#19d3f3\",\"#FF6692\",\"#B6E880\",\"#FF97FF\",\"#FECB52\"],\"font\":{\"color\":\"#2a3f5f\"},\"hovermode\":\"closest\",\"hoverlabel\":{\"align\":\"left\"},\"paper_bgcolor\":\"white\",\"plot_bgcolor\":\"#E5ECF6\",\"polar\":{\"bgcolor\":\"#E5ECF6\",\"angularaxis\":{\"gridcolor\":\"white\",\"linecolor\":\"white\",\"ticks\":\"\"},\"radialaxis\":{\"gridcolor\":\"white\",\"linecolor\":\"white\",\"ticks\":\"\"}},\"ternary\":{\"bgcolor\":\"#E5ECF6\",\"aaxis\":{\"gridcolor\":\"white\",\"linecolor\":\"white\",\"ticks\":\"\"},\"baxis\":{\"gridcolor\":\"white\",\"linecolor\":\"white\",\"ticks\":\"\"},\"caxis\":{\"gridcolor\":\"white\",\"linecolor\":\"white\",\"ticks\":\"\"}},\"coloraxis\":{\"colorbar\":{\"outlinewidth\":0,\"ticks\":\"\"}},\"colorscale\":{\"sequential\":[[0.0,\"#0d0887\"],[0.1111111111111111,\"#46039f\"],[0.2222222222222222,\"#7201a8\"],[0.3333333333333333,\"#9c179e\"],[0.4444444444444444,\"#bd3786\"],[0.5555555555555556,\"#d8576b\"],[0.6666666666666666,\"#ed7953\"],[0.7777777777777778,\"#fb9f3a\"],[0.8888888888888888,\"#fdca26\"],[1.0,\"#f0f921\"]],\"sequentialminus\":[[0.0,\"#0d0887\"],[0.1111111111111111,\"#46039f\"],[0.2222222222222222,\"#7201a8\"],[0.3333333333333333,\"#9c179e\"],[0.4444444444444444,\"#bd3786\"],[0.5555555555555556,\"#d8576b\"],[0.6666666666666666,\"#ed7953\"],[0.7777777777777778,\"#fb9f3a\"],[0.8888888888888888,\"#fdca26\"],[1.0,\"#f0f921\"]],\"diverging\":[[0,\"#8e0152\"],[0.1,\"#c51b7d\"],[0.2,\"#de77ae\"],[0.3,\"#f1b6da\"],[0.4,\"#fde0ef\"],[0.5,\"#f7f7f7\"],[0.6,\"#e6f5d0\"],[0.7,\"#b8e186\"],[0.8,\"#7fbc41\"],[0.9,\"#4d9221\"],[1,\"#276419\"]]},\"xaxis\":{\"gridcolor\":\"white\",\"linecolor\":\"white\",\"ticks\":\"\",\"title\":{\"standoff\":15},\"zerolinecolor\":\"white\",\"automargin\":true,\"zerolinewidth\":2},\"yaxis\":{\"gridcolor\":\"white\",\"linecolor\":\"white\",\"ticks\":\"\",\"title\":{\"standoff\":15},\"zerolinecolor\":\"white\",\"automargin\":true,\"zerolinewidth\":2},\"scene\":{\"xaxis\":{\"backgroundcolor\":\"#E5ECF6\",\"gridcolor\":\"white\",\"linecolor\":\"white\",\"showbackground\":true,\"ticks\":\"\",\"zerolinecolor\":\"white\",\"gridwidth\":2},\"yaxis\":{\"backgroundcolor\":\"#E5ECF6\",\"gridcolor\":\"white\",\"linecolor\":\"white\",\"showbackground\":true,\"ticks\":\"\",\"zerolinecolor\":\"white\",\"gridwidth\":2},\"zaxis\":{\"backgroundcolor\":\"#E5ECF6\",\"gridcolor\":\"white\",\"linecolor\":\"white\",\"showbackground\":true,\"ticks\":\"\",\"zerolinecolor\":\"white\",\"gridwidth\":2}},\"shapedefaults\":{\"line\":{\"color\":\"#2a3f5f\"}},\"annotationdefaults\":{\"arrowcolor\":\"#2a3f5f\",\"arrowhead\":0,\"arrowwidth\":1},\"geo\":{\"bgcolor\":\"white\",\"landcolor\":\"#E5ECF6\",\"subunitcolor\":\"white\",\"showland\":true,\"showlakes\":true,\"lakecolor\":\"white\"},\"title\":{\"x\":0.05},\"mapbox\":{\"style\":\"light\"}}}},                        {\"responsive\": true}                    ).then(function(){\n                            \nvar gd = document.getElementById('db0dc90c-72e2-4271-a245-3d9667faeed6');\nvar x = new MutationObserver(function (mutations, observer) {{\n        var display = window.getComputedStyle(gd).display;\n        if (!display || display === 'none') {{\n            console.log([gd, 'removed!']);\n            Plotly.purge(gd);\n            observer.disconnect();\n        }}\n}});\n\n// Listen for the removal of the full notebook cells\nvar notebookContainer = gd.closest('#notebook-container');\nif (notebookContainer) {{\n    x.observe(notebookContainer, {childList: true});\n}}\n\n// Listen for the clearing of the current output cell\nvar outputEl = gd.closest('.output');\nif (outputEl) {{\n    x.observe(outputEl, {childList: true});\n}}\n\n                        })                };                });            </script>        </div>"
     },
     "metadata": {},
     "output_type": "display_data"
    }
   ],
   "source": [
    "auto_df.ai.plot()"
   ]
  },
  {
   "cell_type": "code",
   "execution_count": 8,
   "metadata": {
    "collapsed": false,
    "jupyter": {
     "outputs_hidden": false
    }
   },
   "outputs": [
    {
     "name": "stdout",
     "output_type": "stream",
     "text": [
      "\u001B[92mINFO: \u001B[0mHere is the Python code to visualize the result of `df` using plotly:\n",
      "\n",
      "\n",
      "```\n",
      "\u001B[34mimport\u001B[39;49;00m \u001B[04m\u001B[36mplotly\u001B[39;49;00m\u001B[04m\u001B[36m.\u001B[39;49;00m\u001B[04m\u001B[36mgraph_objects\u001B[39;49;00m \u001B[34mas\u001B[39;49;00m \u001B[04m\u001B[36mgo\u001B[39;49;00m\u001B[37m\u001B[39;49;00m\n",
      "\u001B[34mfrom\u001B[39;49;00m \u001B[04m\u001B[36mpyspark\u001B[39;49;00m\u001B[04m\u001B[36m.\u001B[39;49;00m\u001B[04m\u001B[36msql\u001B[39;49;00m \u001B[34mimport\u001B[39;49;00m SparkSession\u001B[37m\u001B[39;49;00m\n",
      "\u001B[34mimport\u001B[39;49;00m \u001B[04m\u001B[36mpandas\u001B[39;49;00m \u001B[34mas\u001B[39;49;00m \u001B[04m\u001B[36mpd\u001B[39;49;00m\u001B[37m\u001B[39;49;00m\n",
      "\u001B[37m\u001B[39;49;00m\n",
      "\u001B[37m# Start Spark session\u001B[39;49;00m\u001B[37m\u001B[39;49;00m\n",
      "spark = SparkSession.builder.getOrCreate()\u001B[37m\u001B[39;49;00m\n",
      "\u001B[37m\u001B[39;49;00m\n",
      "\u001B[37m# Assuming df is a Spark DataFrame\u001B[39;49;00m\u001B[37m\u001B[39;49;00m\n",
      "df_pd = df.toPandas()\u001B[37m\u001B[39;49;00m\n",
      "\u001B[37m\u001B[39;49;00m\n",
      "\u001B[37m# Calculate the total sales\u001B[39;49;00m\u001B[37m\u001B[39;49;00m\n",
      "total_sales = df_pd[\u001B[33m'\u001B[39;49;00m\u001B[33mUS_Sales_2022\u001B[39;49;00m\u001B[33m'\u001B[39;49;00m].sum()\u001B[37m\u001B[39;49;00m\n",
      "\u001B[37m\u001B[39;49;00m\n",
      "\u001B[37m# Calculate the sales percentage for each brand\u001B[39;49;00m\u001B[37m\u001B[39;49;00m\n",
      "df_pd[\u001B[33m'\u001B[39;49;00m\u001B[33mSales_Percentage\u001B[39;49;00m\u001B[33m'\u001B[39;49;00m] = df_pd[\u001B[33m'\u001B[39;49;00m\u001B[33mUS_Sales_2022\u001B[39;49;00m\u001B[33m'\u001B[39;49;00m] / total_sales * \u001B[34m100\u001B[39;49;00m\u001B[37m\u001B[39;49;00m\n",
      "\u001B[37m\u001B[39;49;00m\n",
      "\u001B[37m# Sort the dataframe by sales percentage in descending order\u001B[39;49;00m\u001B[37m\u001B[39;49;00m\n",
      "df_pd = df_pd.sort_values(\u001B[33m'\u001B[39;49;00m\u001B[33mSales_Percentage\u001B[39;49;00m\u001B[33m'\u001B[39;49;00m, ascending=\u001B[34mFalse\u001B[39;49;00m)\u001B[37m\u001B[39;49;00m\n",
      "\u001B[37m\u001B[39;49;00m\n",
      "\u001B[37m# Get the top 5 brands\u001B[39;49;00m\u001B[37m\u001B[39;49;00m\n",
      "top_5_brands = df_pd.head(\u001B[34m5\u001B[39;49;00m)\u001B[37m\u001B[39;49;00m\n",
      "\u001B[37m\u001B[39;49;00m\n",
      "\u001B[37m# Calculate the sum of sales percentage for other brands\u001B[39;49;00m\u001B[37m\u001B[39;49;00m\n",
      "other_brands = pd.DataFrame([[\u001B[33m'\u001B[39;49;00m\u001B[33mOthers\u001B[39;49;00m\u001B[33m'\u001B[39;49;00m, df_pd[\u001B[34m5\u001B[39;49;00m:][\u001B[33m'\u001B[39;49;00m\u001B[33mSales_Percentage\u001B[39;49;00m\u001B[33m'\u001B[39;49;00m].sum()]], columns=[\u001B[33m'\u001B[39;49;00m\u001B[33mBrand\u001B[39;49;00m\u001B[33m'\u001B[39;49;00m, \u001B[33m'\u001B[39;49;00m\u001B[33mSales_Percentage\u001B[39;49;00m\u001B[33m'\u001B[39;49;00m])\u001B[37m\u001B[39;49;00m\n",
      "\u001B[37m\u001B[39;49;00m\n",
      "\u001B[37m# Concatenate the top 5 brands and other brands\u001B[39;49;00m\u001B[37m\u001B[39;49;00m\n",
      "final_df = pd.concat([top_5_brands, other_brands], ignore_index=\u001B[34mTrue\u001B[39;49;00m)\u001B[37m\u001B[39;49;00m\n",
      "\u001B[37m\u001B[39;49;00m\n",
      "\u001B[37m# Create a pie chart\u001B[39;49;00m\u001B[37m\u001B[39;49;00m\n",
      "fig = go.Figure(data=[go.Pie(labels=final_df[\u001B[33m'\u001B[39;49;00m\u001B[33mBrand\u001B[39;49;00m\u001B[33m'\u001B[39;49;00m], values=final_df[\u001B[33m'\u001B[39;49;00m\u001B[33mSales_Percentage\u001B[39;49;00m\u001B[33m'\u001B[39;49;00m], hole=\u001B[34m.3\u001B[39;49;00m)])\u001B[37m\u001B[39;49;00m\n",
      "\u001B[37m\u001B[39;49;00m\n",
      "\u001B[37m# Display the plot\u001B[39;49;00m\u001B[37m\u001B[39;49;00m\n",
      "fig.show()\u001B[37m\u001B[39;49;00m\n",
      "```\n",
      "\n",
      "This code first converts the Spark DataFrame to a pandas DataFrame. Then, it calculates the sales percentage for each brand and sorts the DataFrame by sales percentage in descending order. It gets the top 5 brands and calculates the sum of sales percentage for other brands. It concatenates the top 5 brands and other brands into a final DataFrame. Finally, it creates a pie chart using plotly and displays the plot.\n"
     ]
    },
    {
     "data": {
      "application/vnd.plotly.v1+json": {
       "data": [
        {
         "hole": 0.3,
         "labels": [
          "Toyota",
          "Ford",
          "Chevrolet",
          "Honda",
          "Hyundai",
          "Others"
         ],
         "values": [
          13.915171624996276,
          13.295960927558244,
          11.30206215999155,
          6.629034476055612,
          5.448447805665697,
          49.409323005732624
         ],
         "type": "pie"
        }
       ],
       "layout": {
        "template": {
         "data": {
          "histogram2dcontour": [
           {
            "type": "histogram2dcontour",
            "colorbar": {
             "outlinewidth": 0,
             "ticks": ""
            },
            "colorscale": [
             [
              0.0,
              "#0d0887"
             ],
             [
              0.1111111111111111,
              "#46039f"
             ],
             [
              0.2222222222222222,
              "#7201a8"
             ],
             [
              0.3333333333333333,
              "#9c179e"
             ],
             [
              0.4444444444444444,
              "#bd3786"
             ],
             [
              0.5555555555555556,
              "#d8576b"
             ],
             [
              0.6666666666666666,
              "#ed7953"
             ],
             [
              0.7777777777777778,
              "#fb9f3a"
             ],
             [
              0.8888888888888888,
              "#fdca26"
             ],
             [
              1.0,
              "#f0f921"
             ]
            ]
           }
          ],
          "choropleth": [
           {
            "type": "choropleth",
            "colorbar": {
             "outlinewidth": 0,
             "ticks": ""
            }
           }
          ],
          "histogram2d": [
           {
            "type": "histogram2d",
            "colorbar": {
             "outlinewidth": 0,
             "ticks": ""
            },
            "colorscale": [
             [
              0.0,
              "#0d0887"
             ],
             [
              0.1111111111111111,
              "#46039f"
             ],
             [
              0.2222222222222222,
              "#7201a8"
             ],
             [
              0.3333333333333333,
              "#9c179e"
             ],
             [
              0.4444444444444444,
              "#bd3786"
             ],
             [
              0.5555555555555556,
              "#d8576b"
             ],
             [
              0.6666666666666666,
              "#ed7953"
             ],
             [
              0.7777777777777778,
              "#fb9f3a"
             ],
             [
              0.8888888888888888,
              "#fdca26"
             ],
             [
              1.0,
              "#f0f921"
             ]
            ]
           }
          ],
          "heatmap": [
           {
            "type": "heatmap",
            "colorbar": {
             "outlinewidth": 0,
             "ticks": ""
            },
            "colorscale": [
             [
              0.0,
              "#0d0887"
             ],
             [
              0.1111111111111111,
              "#46039f"
             ],
             [
              0.2222222222222222,
              "#7201a8"
             ],
             [
              0.3333333333333333,
              "#9c179e"
             ],
             [
              0.4444444444444444,
              "#bd3786"
             ],
             [
              0.5555555555555556,
              "#d8576b"
             ],
             [
              0.6666666666666666,
              "#ed7953"
             ],
             [
              0.7777777777777778,
              "#fb9f3a"
             ],
             [
              0.8888888888888888,
              "#fdca26"
             ],
             [
              1.0,
              "#f0f921"
             ]
            ]
           }
          ],
          "heatmapgl": [
           {
            "type": "heatmapgl",
            "colorbar": {
             "outlinewidth": 0,
             "ticks": ""
            },
            "colorscale": [
             [
              0.0,
              "#0d0887"
             ],
             [
              0.1111111111111111,
              "#46039f"
             ],
             [
              0.2222222222222222,
              "#7201a8"
             ],
             [
              0.3333333333333333,
              "#9c179e"
             ],
             [
              0.4444444444444444,
              "#bd3786"
             ],
             [
              0.5555555555555556,
              "#d8576b"
             ],
             [
              0.6666666666666666,
              "#ed7953"
             ],
             [
              0.7777777777777778,
              "#fb9f3a"
             ],
             [
              0.8888888888888888,
              "#fdca26"
             ],
             [
              1.0,
              "#f0f921"
             ]
            ]
           }
          ],
          "contourcarpet": [
           {
            "type": "contourcarpet",
            "colorbar": {
             "outlinewidth": 0,
             "ticks": ""
            }
           }
          ],
          "contour": [
           {
            "type": "contour",
            "colorbar": {
             "outlinewidth": 0,
             "ticks": ""
            },
            "colorscale": [
             [
              0.0,
              "#0d0887"
             ],
             [
              0.1111111111111111,
              "#46039f"
             ],
             [
              0.2222222222222222,
              "#7201a8"
             ],
             [
              0.3333333333333333,
              "#9c179e"
             ],
             [
              0.4444444444444444,
              "#bd3786"
             ],
             [
              0.5555555555555556,
              "#d8576b"
             ],
             [
              0.6666666666666666,
              "#ed7953"
             ],
             [
              0.7777777777777778,
              "#fb9f3a"
             ],
             [
              0.8888888888888888,
              "#fdca26"
             ],
             [
              1.0,
              "#f0f921"
             ]
            ]
           }
          ],
          "surface": [
           {
            "type": "surface",
            "colorbar": {
             "outlinewidth": 0,
             "ticks": ""
            },
            "colorscale": [
             [
              0.0,
              "#0d0887"
             ],
             [
              0.1111111111111111,
              "#46039f"
             ],
             [
              0.2222222222222222,
              "#7201a8"
             ],
             [
              0.3333333333333333,
              "#9c179e"
             ],
             [
              0.4444444444444444,
              "#bd3786"
             ],
             [
              0.5555555555555556,
              "#d8576b"
             ],
             [
              0.6666666666666666,
              "#ed7953"
             ],
             [
              0.7777777777777778,
              "#fb9f3a"
             ],
             [
              0.8888888888888888,
              "#fdca26"
             ],
             [
              1.0,
              "#f0f921"
             ]
            ]
           }
          ],
          "mesh3d": [
           {
            "type": "mesh3d",
            "colorbar": {
             "outlinewidth": 0,
             "ticks": ""
            }
           }
          ],
          "scatter": [
           {
            "fillpattern": {
             "fillmode": "overlay",
             "size": 10,
             "solidity": 0.2
            },
            "type": "scatter"
           }
          ],
          "parcoords": [
           {
            "type": "parcoords",
            "line": {
             "colorbar": {
              "outlinewidth": 0,
              "ticks": ""
             }
            }
           }
          ],
          "scatterpolargl": [
           {
            "type": "scatterpolargl",
            "marker": {
             "colorbar": {
              "outlinewidth": 0,
              "ticks": ""
             }
            }
           }
          ],
          "bar": [
           {
            "error_x": {
             "color": "#2a3f5f"
            },
            "error_y": {
             "color": "#2a3f5f"
            },
            "marker": {
             "line": {
              "color": "#E5ECF6",
              "width": 0.5
             },
             "pattern": {
              "fillmode": "overlay",
              "size": 10,
              "solidity": 0.2
             }
            },
            "type": "bar"
           }
          ],
          "scattergeo": [
           {
            "type": "scattergeo",
            "marker": {
             "colorbar": {
              "outlinewidth": 0,
              "ticks": ""
             }
            }
           }
          ],
          "scatterpolar": [
           {
            "type": "scatterpolar",
            "marker": {
             "colorbar": {
              "outlinewidth": 0,
              "ticks": ""
             }
            }
           }
          ],
          "histogram": [
           {
            "marker": {
             "pattern": {
              "fillmode": "overlay",
              "size": 10,
              "solidity": 0.2
             }
            },
            "type": "histogram"
           }
          ],
          "scattergl": [
           {
            "type": "scattergl",
            "marker": {
             "colorbar": {
              "outlinewidth": 0,
              "ticks": ""
             }
            }
           }
          ],
          "scatter3d": [
           {
            "type": "scatter3d",
            "line": {
             "colorbar": {
              "outlinewidth": 0,
              "ticks": ""
             }
            },
            "marker": {
             "colorbar": {
              "outlinewidth": 0,
              "ticks": ""
             }
            }
           }
          ],
          "scattermapbox": [
           {
            "type": "scattermapbox",
            "marker": {
             "colorbar": {
              "outlinewidth": 0,
              "ticks": ""
             }
            }
           }
          ],
          "scatterternary": [
           {
            "type": "scatterternary",
            "marker": {
             "colorbar": {
              "outlinewidth": 0,
              "ticks": ""
             }
            }
           }
          ],
          "scattercarpet": [
           {
            "type": "scattercarpet",
            "marker": {
             "colorbar": {
              "outlinewidth": 0,
              "ticks": ""
             }
            }
           }
          ],
          "carpet": [
           {
            "aaxis": {
             "endlinecolor": "#2a3f5f",
             "gridcolor": "white",
             "linecolor": "white",
             "minorgridcolor": "white",
             "startlinecolor": "#2a3f5f"
            },
            "baxis": {
             "endlinecolor": "#2a3f5f",
             "gridcolor": "white",
             "linecolor": "white",
             "minorgridcolor": "white",
             "startlinecolor": "#2a3f5f"
            },
            "type": "carpet"
           }
          ],
          "table": [
           {
            "cells": {
             "fill": {
              "color": "#EBF0F8"
             },
             "line": {
              "color": "white"
             }
            },
            "header": {
             "fill": {
              "color": "#C8D4E3"
             },
             "line": {
              "color": "white"
             }
            },
            "type": "table"
           }
          ],
          "barpolar": [
           {
            "marker": {
             "line": {
              "color": "#E5ECF6",
              "width": 0.5
             },
             "pattern": {
              "fillmode": "overlay",
              "size": 10,
              "solidity": 0.2
             }
            },
            "type": "barpolar"
           }
          ],
          "pie": [
           {
            "automargin": true,
            "type": "pie"
           }
          ]
         },
         "layout": {
          "autotypenumbers": "strict",
          "colorway": [
           "#636efa",
           "#EF553B",
           "#00cc96",
           "#ab63fa",
           "#FFA15A",
           "#19d3f3",
           "#FF6692",
           "#B6E880",
           "#FF97FF",
           "#FECB52"
          ],
          "font": {
           "color": "#2a3f5f"
          },
          "hovermode": "closest",
          "hoverlabel": {
           "align": "left"
          },
          "paper_bgcolor": "white",
          "plot_bgcolor": "#E5ECF6",
          "polar": {
           "bgcolor": "#E5ECF6",
           "angularaxis": {
            "gridcolor": "white",
            "linecolor": "white",
            "ticks": ""
           },
           "radialaxis": {
            "gridcolor": "white",
            "linecolor": "white",
            "ticks": ""
           }
          },
          "ternary": {
           "bgcolor": "#E5ECF6",
           "aaxis": {
            "gridcolor": "white",
            "linecolor": "white",
            "ticks": ""
           },
           "baxis": {
            "gridcolor": "white",
            "linecolor": "white",
            "ticks": ""
           },
           "caxis": {
            "gridcolor": "white",
            "linecolor": "white",
            "ticks": ""
           }
          },
          "coloraxis": {
           "colorbar": {
            "outlinewidth": 0,
            "ticks": ""
           }
          },
          "colorscale": {
           "sequential": [
            [
             0.0,
             "#0d0887"
            ],
            [
             0.1111111111111111,
             "#46039f"
            ],
            [
             0.2222222222222222,
             "#7201a8"
            ],
            [
             0.3333333333333333,
             "#9c179e"
            ],
            [
             0.4444444444444444,
             "#bd3786"
            ],
            [
             0.5555555555555556,
             "#d8576b"
            ],
            [
             0.6666666666666666,
             "#ed7953"
            ],
            [
             0.7777777777777778,
             "#fb9f3a"
            ],
            [
             0.8888888888888888,
             "#fdca26"
            ],
            [
             1.0,
             "#f0f921"
            ]
           ],
           "sequentialminus": [
            [
             0.0,
             "#0d0887"
            ],
            [
             0.1111111111111111,
             "#46039f"
            ],
            [
             0.2222222222222222,
             "#7201a8"
            ],
            [
             0.3333333333333333,
             "#9c179e"
            ],
            [
             0.4444444444444444,
             "#bd3786"
            ],
            [
             0.5555555555555556,
             "#d8576b"
            ],
            [
             0.6666666666666666,
             "#ed7953"
            ],
            [
             0.7777777777777778,
             "#fb9f3a"
            ],
            [
             0.8888888888888888,
             "#fdca26"
            ],
            [
             1.0,
             "#f0f921"
            ]
           ],
           "diverging": [
            [
             0,
             "#8e0152"
            ],
            [
             0.1,
             "#c51b7d"
            ],
            [
             0.2,
             "#de77ae"
            ],
            [
             0.3,
             "#f1b6da"
            ],
            [
             0.4,
             "#fde0ef"
            ],
            [
             0.5,
             "#f7f7f7"
            ],
            [
             0.6,
             "#e6f5d0"
            ],
            [
             0.7,
             "#b8e186"
            ],
            [
             0.8,
             "#7fbc41"
            ],
            [
             0.9,
             "#4d9221"
            ],
            [
             1,
             "#276419"
            ]
           ]
          },
          "xaxis": {
           "gridcolor": "white",
           "linecolor": "white",
           "ticks": "",
           "title": {
            "standoff": 15
           },
           "zerolinecolor": "white",
           "automargin": true,
           "zerolinewidth": 2
          },
          "yaxis": {
           "gridcolor": "white",
           "linecolor": "white",
           "ticks": "",
           "title": {
            "standoff": 15
           },
           "zerolinecolor": "white",
           "automargin": true,
           "zerolinewidth": 2
          },
          "scene": {
           "xaxis": {
            "backgroundcolor": "#E5ECF6",
            "gridcolor": "white",
            "linecolor": "white",
            "showbackground": true,
            "ticks": "",
            "zerolinecolor": "white",
            "gridwidth": 2
           },
           "yaxis": {
            "backgroundcolor": "#E5ECF6",
            "gridcolor": "white",
            "linecolor": "white",
            "showbackground": true,
            "ticks": "",
            "zerolinecolor": "white",
            "gridwidth": 2
           },
           "zaxis": {
            "backgroundcolor": "#E5ECF6",
            "gridcolor": "white",
            "linecolor": "white",
            "showbackground": true,
            "ticks": "",
            "zerolinecolor": "white",
            "gridwidth": 2
           }
          },
          "shapedefaults": {
           "line": {
            "color": "#2a3f5f"
           }
          },
          "annotationdefaults": {
           "arrowcolor": "#2a3f5f",
           "arrowhead": 0,
           "arrowwidth": 1
          },
          "geo": {
           "bgcolor": "white",
           "landcolor": "#E5ECF6",
           "subunitcolor": "white",
           "showland": true,
           "showlakes": true,
           "lakecolor": "white"
          },
          "title": {
           "x": 0.05
          },
          "mapbox": {
           "style": "light"
          }
         }
        }
       },
       "config": {
        "plotlyServerURL": "https://plot.ly"
       }
      },
      "text/html": "<div>                            <div id=\"f8792d4d-4b49-4621-a438-2bb5e96e410f\" class=\"plotly-graph-div\" style=\"height:525px; width:100%;\"></div>            <script type=\"text/javascript\">                require([\"plotly\"], function(Plotly) {                    window.PLOTLYENV=window.PLOTLYENV || {};                                    if (document.getElementById(\"f8792d4d-4b49-4621-a438-2bb5e96e410f\")) {                    Plotly.newPlot(                        \"f8792d4d-4b49-4621-a438-2bb5e96e410f\",                        [{\"hole\":0.3,\"labels\":[\"Toyota\",\"Ford\",\"Chevrolet\",\"Honda\",\"Hyundai\",\"Others\"],\"values\":[13.915171624996276,13.295960927558244,11.30206215999155,6.629034476055612,5.448447805665697,49.409323005732624],\"type\":\"pie\"}],                        {\"template\":{\"data\":{\"histogram2dcontour\":[{\"type\":\"histogram2dcontour\",\"colorbar\":{\"outlinewidth\":0,\"ticks\":\"\"},\"colorscale\":[[0.0,\"#0d0887\"],[0.1111111111111111,\"#46039f\"],[0.2222222222222222,\"#7201a8\"],[0.3333333333333333,\"#9c179e\"],[0.4444444444444444,\"#bd3786\"],[0.5555555555555556,\"#d8576b\"],[0.6666666666666666,\"#ed7953\"],[0.7777777777777778,\"#fb9f3a\"],[0.8888888888888888,\"#fdca26\"],[1.0,\"#f0f921\"]]}],\"choropleth\":[{\"type\":\"choropleth\",\"colorbar\":{\"outlinewidth\":0,\"ticks\":\"\"}}],\"histogram2d\":[{\"type\":\"histogram2d\",\"colorbar\":{\"outlinewidth\":0,\"ticks\":\"\"},\"colorscale\":[[0.0,\"#0d0887\"],[0.1111111111111111,\"#46039f\"],[0.2222222222222222,\"#7201a8\"],[0.3333333333333333,\"#9c179e\"],[0.4444444444444444,\"#bd3786\"],[0.5555555555555556,\"#d8576b\"],[0.6666666666666666,\"#ed7953\"],[0.7777777777777778,\"#fb9f3a\"],[0.8888888888888888,\"#fdca26\"],[1.0,\"#f0f921\"]]}],\"heatmap\":[{\"type\":\"heatmap\",\"colorbar\":{\"outlinewidth\":0,\"ticks\":\"\"},\"colorscale\":[[0.0,\"#0d0887\"],[0.1111111111111111,\"#46039f\"],[0.2222222222222222,\"#7201a8\"],[0.3333333333333333,\"#9c179e\"],[0.4444444444444444,\"#bd3786\"],[0.5555555555555556,\"#d8576b\"],[0.6666666666666666,\"#ed7953\"],[0.7777777777777778,\"#fb9f3a\"],[0.8888888888888888,\"#fdca26\"],[1.0,\"#f0f921\"]]}],\"heatmapgl\":[{\"type\":\"heatmapgl\",\"colorbar\":{\"outlinewidth\":0,\"ticks\":\"\"},\"colorscale\":[[0.0,\"#0d0887\"],[0.1111111111111111,\"#46039f\"],[0.2222222222222222,\"#7201a8\"],[0.3333333333333333,\"#9c179e\"],[0.4444444444444444,\"#bd3786\"],[0.5555555555555556,\"#d8576b\"],[0.6666666666666666,\"#ed7953\"],[0.7777777777777778,\"#fb9f3a\"],[0.8888888888888888,\"#fdca26\"],[1.0,\"#f0f921\"]]}],\"contourcarpet\":[{\"type\":\"contourcarpet\",\"colorbar\":{\"outlinewidth\":0,\"ticks\":\"\"}}],\"contour\":[{\"type\":\"contour\",\"colorbar\":{\"outlinewidth\":0,\"ticks\":\"\"},\"colorscale\":[[0.0,\"#0d0887\"],[0.1111111111111111,\"#46039f\"],[0.2222222222222222,\"#7201a8\"],[0.3333333333333333,\"#9c179e\"],[0.4444444444444444,\"#bd3786\"],[0.5555555555555556,\"#d8576b\"],[0.6666666666666666,\"#ed7953\"],[0.7777777777777778,\"#fb9f3a\"],[0.8888888888888888,\"#fdca26\"],[1.0,\"#f0f921\"]]}],\"surface\":[{\"type\":\"surface\",\"colorbar\":{\"outlinewidth\":0,\"ticks\":\"\"},\"colorscale\":[[0.0,\"#0d0887\"],[0.1111111111111111,\"#46039f\"],[0.2222222222222222,\"#7201a8\"],[0.3333333333333333,\"#9c179e\"],[0.4444444444444444,\"#bd3786\"],[0.5555555555555556,\"#d8576b\"],[0.6666666666666666,\"#ed7953\"],[0.7777777777777778,\"#fb9f3a\"],[0.8888888888888888,\"#fdca26\"],[1.0,\"#f0f921\"]]}],\"mesh3d\":[{\"type\":\"mesh3d\",\"colorbar\":{\"outlinewidth\":0,\"ticks\":\"\"}}],\"scatter\":[{\"fillpattern\":{\"fillmode\":\"overlay\",\"size\":10,\"solidity\":0.2},\"type\":\"scatter\"}],\"parcoords\":[{\"type\":\"parcoords\",\"line\":{\"colorbar\":{\"outlinewidth\":0,\"ticks\":\"\"}}}],\"scatterpolargl\":[{\"type\":\"scatterpolargl\",\"marker\":{\"colorbar\":{\"outlinewidth\":0,\"ticks\":\"\"}}}],\"bar\":[{\"error_x\":{\"color\":\"#2a3f5f\"},\"error_y\":{\"color\":\"#2a3f5f\"},\"marker\":{\"line\":{\"color\":\"#E5ECF6\",\"width\":0.5},\"pattern\":{\"fillmode\":\"overlay\",\"size\":10,\"solidity\":0.2}},\"type\":\"bar\"}],\"scattergeo\":[{\"type\":\"scattergeo\",\"marker\":{\"colorbar\":{\"outlinewidth\":0,\"ticks\":\"\"}}}],\"scatterpolar\":[{\"type\":\"scatterpolar\",\"marker\":{\"colorbar\":{\"outlinewidth\":0,\"ticks\":\"\"}}}],\"histogram\":[{\"marker\":{\"pattern\":{\"fillmode\":\"overlay\",\"size\":10,\"solidity\":0.2}},\"type\":\"histogram\"}],\"scattergl\":[{\"type\":\"scattergl\",\"marker\":{\"colorbar\":{\"outlinewidth\":0,\"ticks\":\"\"}}}],\"scatter3d\":[{\"type\":\"scatter3d\",\"line\":{\"colorbar\":{\"outlinewidth\":0,\"ticks\":\"\"}},\"marker\":{\"colorbar\":{\"outlinewidth\":0,\"ticks\":\"\"}}}],\"scattermapbox\":[{\"type\":\"scattermapbox\",\"marker\":{\"colorbar\":{\"outlinewidth\":0,\"ticks\":\"\"}}}],\"scatterternary\":[{\"type\":\"scatterternary\",\"marker\":{\"colorbar\":{\"outlinewidth\":0,\"ticks\":\"\"}}}],\"scattercarpet\":[{\"type\":\"scattercarpet\",\"marker\":{\"colorbar\":{\"outlinewidth\":0,\"ticks\":\"\"}}}],\"carpet\":[{\"aaxis\":{\"endlinecolor\":\"#2a3f5f\",\"gridcolor\":\"white\",\"linecolor\":\"white\",\"minorgridcolor\":\"white\",\"startlinecolor\":\"#2a3f5f\"},\"baxis\":{\"endlinecolor\":\"#2a3f5f\",\"gridcolor\":\"white\",\"linecolor\":\"white\",\"minorgridcolor\":\"white\",\"startlinecolor\":\"#2a3f5f\"},\"type\":\"carpet\"}],\"table\":[{\"cells\":{\"fill\":{\"color\":\"#EBF0F8\"},\"line\":{\"color\":\"white\"}},\"header\":{\"fill\":{\"color\":\"#C8D4E3\"},\"line\":{\"color\":\"white\"}},\"type\":\"table\"}],\"barpolar\":[{\"marker\":{\"line\":{\"color\":\"#E5ECF6\",\"width\":0.5},\"pattern\":{\"fillmode\":\"overlay\",\"size\":10,\"solidity\":0.2}},\"type\":\"barpolar\"}],\"pie\":[{\"automargin\":true,\"type\":\"pie\"}]},\"layout\":{\"autotypenumbers\":\"strict\",\"colorway\":[\"#636efa\",\"#EF553B\",\"#00cc96\",\"#ab63fa\",\"#FFA15A\",\"#19d3f3\",\"#FF6692\",\"#B6E880\",\"#FF97FF\",\"#FECB52\"],\"font\":{\"color\":\"#2a3f5f\"},\"hovermode\":\"closest\",\"hoverlabel\":{\"align\":\"left\"},\"paper_bgcolor\":\"white\",\"plot_bgcolor\":\"#E5ECF6\",\"polar\":{\"bgcolor\":\"#E5ECF6\",\"angularaxis\":{\"gridcolor\":\"white\",\"linecolor\":\"white\",\"ticks\":\"\"},\"radialaxis\":{\"gridcolor\":\"white\",\"linecolor\":\"white\",\"ticks\":\"\"}},\"ternary\":{\"bgcolor\":\"#E5ECF6\",\"aaxis\":{\"gridcolor\":\"white\",\"linecolor\":\"white\",\"ticks\":\"\"},\"baxis\":{\"gridcolor\":\"white\",\"linecolor\":\"white\",\"ticks\":\"\"},\"caxis\":{\"gridcolor\":\"white\",\"linecolor\":\"white\",\"ticks\":\"\"}},\"coloraxis\":{\"colorbar\":{\"outlinewidth\":0,\"ticks\":\"\"}},\"colorscale\":{\"sequential\":[[0.0,\"#0d0887\"],[0.1111111111111111,\"#46039f\"],[0.2222222222222222,\"#7201a8\"],[0.3333333333333333,\"#9c179e\"],[0.4444444444444444,\"#bd3786\"],[0.5555555555555556,\"#d8576b\"],[0.6666666666666666,\"#ed7953\"],[0.7777777777777778,\"#fb9f3a\"],[0.8888888888888888,\"#fdca26\"],[1.0,\"#f0f921\"]],\"sequentialminus\":[[0.0,\"#0d0887\"],[0.1111111111111111,\"#46039f\"],[0.2222222222222222,\"#7201a8\"],[0.3333333333333333,\"#9c179e\"],[0.4444444444444444,\"#bd3786\"],[0.5555555555555556,\"#d8576b\"],[0.6666666666666666,\"#ed7953\"],[0.7777777777777778,\"#fb9f3a\"],[0.8888888888888888,\"#fdca26\"],[1.0,\"#f0f921\"]],\"diverging\":[[0,\"#8e0152\"],[0.1,\"#c51b7d\"],[0.2,\"#de77ae\"],[0.3,\"#f1b6da\"],[0.4,\"#fde0ef\"],[0.5,\"#f7f7f7\"],[0.6,\"#e6f5d0\"],[0.7,\"#b8e186\"],[0.8,\"#7fbc41\"],[0.9,\"#4d9221\"],[1,\"#276419\"]]},\"xaxis\":{\"gridcolor\":\"white\",\"linecolor\":\"white\",\"ticks\":\"\",\"title\":{\"standoff\":15},\"zerolinecolor\":\"white\",\"automargin\":true,\"zerolinewidth\":2},\"yaxis\":{\"gridcolor\":\"white\",\"linecolor\":\"white\",\"ticks\":\"\",\"title\":{\"standoff\":15},\"zerolinecolor\":\"white\",\"automargin\":true,\"zerolinewidth\":2},\"scene\":{\"xaxis\":{\"backgroundcolor\":\"#E5ECF6\",\"gridcolor\":\"white\",\"linecolor\":\"white\",\"showbackground\":true,\"ticks\":\"\",\"zerolinecolor\":\"white\",\"gridwidth\":2},\"yaxis\":{\"backgroundcolor\":\"#E5ECF6\",\"gridcolor\":\"white\",\"linecolor\":\"white\",\"showbackground\":true,\"ticks\":\"\",\"zerolinecolor\":\"white\",\"gridwidth\":2},\"zaxis\":{\"backgroundcolor\":\"#E5ECF6\",\"gridcolor\":\"white\",\"linecolor\":\"white\",\"showbackground\":true,\"ticks\":\"\",\"zerolinecolor\":\"white\",\"gridwidth\":2}},\"shapedefaults\":{\"line\":{\"color\":\"#2a3f5f\"}},\"annotationdefaults\":{\"arrowcolor\":\"#2a3f5f\",\"arrowhead\":0,\"arrowwidth\":1},\"geo\":{\"bgcolor\":\"white\",\"landcolor\":\"#E5ECF6\",\"subunitcolor\":\"white\",\"showland\":true,\"showlakes\":true,\"lakecolor\":\"white\"},\"title\":{\"x\":0.05},\"mapbox\":{\"style\":\"light\"}}}},                        {\"responsive\": true}                    ).then(function(){\n                            \nvar gd = document.getElementById('f8792d4d-4b49-4621-a438-2bb5e96e410f');\nvar x = new MutationObserver(function (mutations, observer) {{\n        var display = window.getComputedStyle(gd).display;\n        if (!display || display === 'none') {{\n            console.log([gd, 'removed!']);\n            Plotly.purge(gd);\n            observer.disconnect();\n        }}\n}});\n\n// Listen for the removal of the full notebook cells\nvar notebookContainer = gd.closest('#notebook-container');\nif (notebookContainer) {{\n    x.observe(notebookContainer, {childList: true});\n}}\n\n// Listen for the clearing of the current output cell\nvar outputEl = gd.closest('.output');\nif (outputEl) {{\n    x.observe(outputEl, {childList: true});\n}}\n\n                        })                };                });            </script>        </div>"
     },
     "metadata": {},
     "output_type": "display_data"
    }
   ],
   "source": [
    "auto_df.ai.plot(\"pie chart for US sales market shares, show the top 5 brands and the sum of others\")"
   ]
  },
  {
   "cell_type": "code",
   "execution_count": 9,
   "metadata": {
    "collapsed": false,
    "jupyter": {
     "outputs_hidden": false
    }
   },
   "outputs": [
    {
     "name": "stdout",
     "output_type": "stream",
     "text": [
      "\u001B[92mINFO: \u001B[0mCreating temp view for the transform:\n",
      "df.createOrReplaceTempView(\u001B[33m\"\u001B[39;49;00m\u001B[33mspark_ai_temp_view_88e94e\u001B[39;49;00m\u001B[33m\"\u001B[39;49;00m)\u001B[37m\u001B[39;49;00m\n",
      "\n",
      "\u001B[92mINFO: \u001B[0mSQL query for the transform:\n",
      "\u001B[34mSELECT\u001B[39;49;00m\u001B[37m \u001B[39;49;00mBrand\u001B[37m \u001B[39;49;00m\n",
      "\u001B[34mFROM\u001B[39;49;00m\u001B[37m \u001B[39;49;00mspark_ai_temp_view_88e94e\u001B[37m \u001B[39;49;00m\n",
      "\u001B[34mORDER\u001B[39;49;00m\u001B[37m \u001B[39;49;00m\u001B[34mBY\u001B[39;49;00m\u001B[37m \u001B[39;49;00mSales_Change_Percentage\u001B[37m \u001B[39;49;00m\u001B[34mDESC\u001B[39;49;00m\u001B[37m \u001B[39;49;00m\n",
      "\u001B[34mLIMIT\u001B[39;49;00m\u001B[37m \u001B[39;49;00m\u001B[34m1\u001B[39;49;00m\u001B[37m\u001B[39;49;00m\n",
      "\n",
      "+-------+\n",
      "|  Brand|\n",
      "+-------+\n",
      "|Genesis|\n",
      "+-------+\n",
      "\n"
     ]
    }
   ],
   "source": [
    "# Apply transforms to a Dataframe\n",
    "auto_top_growth_df=auto_df.ai.transform(\"brand with the highest growth\")\n",
    "auto_top_growth_df.show()"
   ]
  },
  {
   "cell_type": "code",
   "execution_count": 10,
   "metadata": {
    "collapsed": false,
    "jupyter": {
     "outputs_hidden": false
    }
   },
   "outputs": [
    {
     "data": {
      "text/plain": "'In summary, this dataframe is retrieving the brand with the highest sales change percentage. It presents the results sorted by sales change percentage in descending order and limits the result to the top brand.'"
     },
     "execution_count": 10,
     "metadata": {},
     "output_type": "execute_result"
    }
   ],
   "source": [
    "# Explain what a DataFrame is retrieving.\n",
    "auto_top_growth_df.ai.explain()"
   ]
  },
  {
   "cell_type": "markdown",
   "metadata": {
    "jupyter": {
     "outputs_hidden": false
    }
   },
   "source": [
    "## Example 2: USA Presidents"
   ]
  },
  {
   "cell_type": "code",
   "execution_count": 7,
   "metadata": {
    "collapsed": false,
    "jupyter": {
     "outputs_hidden": false
    }
   },
   "outputs": [
    {
     "name": "stdout",
     "output_type": "stream",
     "text": [
      "\u001B[92mINFO: \u001B[0mParsing URL: https://www.loc.gov/rr/print/list/057_chron.html\n",
      "\n",
      "\u001B[92mINFO: \u001B[0mSQL query for the ingestion:\n",
      "\u001B[34mCREATE\u001B[39;49;00m\u001B[37m \u001B[39;49;00m\u001B[34mOR\u001B[39;49;00m\u001B[37m \u001B[39;49;00m\u001B[34mREPLACE\u001B[39;49;00m\u001B[37m \u001B[39;49;00mTEMP\u001B[37m \u001B[39;49;00m\u001B[34mVIEW\u001B[39;49;00m\u001B[37m \u001B[39;49;00mtemp_view_0451bc\u001B[37m \u001B[39;49;00m\u001B[34mAS\u001B[39;49;00m\u001B[37m \u001B[39;49;00m\u001B[34mSELECT\u001B[39;49;00m\u001B[37m \u001B[39;49;00m*\u001B[37m \u001B[39;49;00m\u001B[34mFROM\u001B[39;49;00m\u001B[37m \u001B[39;49;00m\u001B[34mVALUES\u001B[39;49;00m\u001B[37m\u001B[39;49;00m\n",
      "(\u001B[33m'George Washington'\u001B[39;49;00m,\u001B[37m \u001B[39;49;00m\u001B[33m'John Adams'\u001B[39;49;00m),\u001B[37m\u001B[39;49;00m\n",
      "(\u001B[33m'John Adams'\u001B[39;49;00m,\u001B[37m \u001B[39;49;00m\u001B[33m'Thomas Jefferson'\u001B[39;49;00m),\u001B[37m\u001B[39;49;00m\n",
      "(\u001B[33m'Thomas Jefferson'\u001B[39;49;00m,\u001B[37m \u001B[39;49;00m\u001B[33m'Aaron Burr'\u001B[39;49;00m),\u001B[37m\u001B[39;49;00m\n",
      "(\u001B[33m'Thomas Jefferson'\u001B[39;49;00m,\u001B[37m \u001B[39;49;00m\u001B[33m'George Clinton'\u001B[39;49;00m),\u001B[37m\u001B[39;49;00m\n",
      "(\u001B[33m'James Madison'\u001B[39;49;00m,\u001B[37m \u001B[39;49;00m\u001B[33m'George Clinton'\u001B[39;49;00m),\u001B[37m\u001B[39;49;00m\n",
      "(\u001B[33m'James Madison'\u001B[39;49;00m,\u001B[37m \u001B[39;49;00m\u001B[33m'Elbridge Gerry'\u001B[39;49;00m),\u001B[37m\u001B[39;49;00m\n",
      "(\u001B[33m'James Monroe'\u001B[39;49;00m,\u001B[37m \u001B[39;49;00m\u001B[33m'Daniel D. Tompkins'\u001B[39;49;00m),\u001B[37m\u001B[39;49;00m\n",
      "(\u001B[33m'John Quincy Adams'\u001B[39;49;00m,\u001B[37m \u001B[39;49;00m\u001B[33m'John C. Calhoun'\u001B[39;49;00m),\u001B[37m\u001B[39;49;00m\n",
      "(\u001B[33m'Andrew Jackson'\u001B[39;49;00m,\u001B[37m \u001B[39;49;00m\u001B[33m'John C. Calhoun'\u001B[39;49;00m),\u001B[37m\u001B[39;49;00m\n",
      "(\u001B[33m'Andrew Jackson'\u001B[39;49;00m,\u001B[37m \u001B[39;49;00m\u001B[33m'Martin Van Buren'\u001B[39;49;00m),\u001B[37m\u001B[39;49;00m\n",
      "(\u001B[33m'Martin Van Buren'\u001B[39;49;00m,\u001B[37m \u001B[39;49;00m\u001B[33m'Richard M. Johnson'\u001B[39;49;00m),\u001B[37m\u001B[39;49;00m\n",
      "(\u001B[33m'William Henry Harrison'\u001B[39;49;00m,\u001B[37m \u001B[39;49;00m\u001B[33m'John Tyler'\u001B[39;49;00m),\u001B[37m\u001B[39;49;00m\n",
      "(\u001B[33m'John Tyler'\u001B[39;49;00m,\u001B[37m \u001B[39;49;00m\u001B[34mNULL\u001B[39;49;00m),\u001B[37m\u001B[39;49;00m\n",
      "(\u001B[33m'James K. Polk'\u001B[39;49;00m,\u001B[37m \u001B[39;49;00m\u001B[33m'George M. Dallas'\u001B[39;49;00m),\u001B[37m\u001B[39;49;00m\n",
      "(\u001B[33m'Zachary Taylor'\u001B[39;49;00m,\u001B[37m \u001B[39;49;00m\u001B[33m'Millard Fillmore'\u001B[39;49;00m),\u001B[37m\u001B[39;49;00m\n",
      "(\u001B[33m'Millard Fillmore'\u001B[39;49;00m,\u001B[37m \u001B[39;49;00m\u001B[34mNULL\u001B[39;49;00m),\u001B[37m\u001B[39;49;00m\n",
      "(\u001B[33m'Franklin Pierce'\u001B[39;49;00m,\u001B[37m \u001B[39;49;00m\u001B[33m'William R. King'\u001B[39;49;00m),\u001B[37m\u001B[39;49;00m\n",
      "(\u001B[33m'Franklin Pierce'\u001B[39;49;00m,\u001B[37m \u001B[39;49;00m\u001B[34mNULL\u001B[39;49;00m),\u001B[37m\u001B[39;49;00m\n",
      "(\u001B[33m'James Buchanan'\u001B[39;49;00m,\u001B[37m \u001B[39;49;00m\u001B[33m'John C. Breckinridge'\u001B[39;49;00m),\u001B[37m\u001B[39;49;00m\n",
      "(\u001B[33m'Abraham Lincoln'\u001B[39;49;00m,\u001B[37m \u001B[39;49;00m\u001B[33m'Hannibal Hamlin'\u001B[39;49;00m),\u001B[37m\u001B[39;49;00m\n",
      "(\u001B[33m'Abraham Lincoln'\u001B[39;49;00m,\u001B[37m \u001B[39;49;00m\u001B[33m'Andrew Johnson'\u001B[39;49;00m),\u001B[37m\u001B[39;49;00m\n",
      "(\u001B[33m'Andrew Johnson'\u001B[39;49;00m,\u001B[37m \u001B[39;49;00m\u001B[34mNULL\u001B[39;49;00m),\u001B[37m\u001B[39;49;00m\n",
      "(\u001B[33m'Ulysses S. Grant'\u001B[39;49;00m,\u001B[37m \u001B[39;49;00m\u001B[33m'Schuyler Colfax'\u001B[39;49;00m),\u001B[37m\u001B[39;49;00m\n",
      "(\u001B[33m'Ulysses S. Grant'\u001B[39;49;00m,\u001B[37m \u001B[39;49;00m\u001B[33m'Henry Wilson'\u001B[39;49;00m),\u001B[37m\u001B[39;49;00m\n",
      "(\u001B[33m'Ulysses S. Grant'\u001B[39;49;00m,\u001B[37m \u001B[39;49;00m\u001B[34mNULL\u001B[39;49;00m),\u001B[37m\u001B[39;49;00m\n",
      "(\u001B[33m'Rutherford Birchard Hayes'\u001B[39;49;00m,\u001B[37m \u001B[39;49;00m\u001B[33m'William A. Wheeler'\u001B[39;49;00m),\u001B[37m\u001B[39;49;00m\n",
      "(\u001B[33m'James A. Garfield'\u001B[39;49;00m,\u001B[37m \u001B[39;49;00m\u001B[33m'Chester A. Arthur'\u001B[39;49;00m),\u001B[37m\u001B[39;49;00m\n",
      "(\u001B[33m'Chester A. Arthur'\u001B[39;49;00m,\u001B[37m \u001B[39;49;00m\u001B[34mNULL\u001B[39;49;00m),\u001B[37m\u001B[39;49;00m\n",
      "(\u001B[33m'Grover Cleveland'\u001B[39;49;00m,\u001B[37m \u001B[39;49;00m\u001B[33m'Thomas A. Hendricks'\u001B[39;49;00m),\u001B[37m\u001B[39;49;00m\n",
      "(\u001B[33m'Grover Cleveland'\u001B[39;49;00m,\u001B[37m \u001B[39;49;00m\u001B[34mNULL\u001B[39;49;00m),\u001B[37m\u001B[39;49;00m\n",
      "(\u001B[33m'Benjamin Harrison'\u001B[39;49;00m,\u001B[37m \u001B[39;49;00m\u001B[33m'Levi P. Morton'\u001B[39;49;00m),\u001B[37m\u001B[39;49;00m\n",
      "(\u001B[33m'Grover Cleveland'\u001B[39;49;00m,\u001B[37m \u001B[39;49;00m\u001B[33m'Adlai E. Stevenson'\u001B[39;49;00m),\u001B[37m\u001B[39;49;00m\n",
      "(\u001B[33m'William McKinley'\u001B[39;49;00m,\u001B[37m \u001B[39;49;00m\u001B[33m'Garret A. Hobart'\u001B[39;49;00m),\u001B[37m\u001B[39;49;00m\n",
      "(\u001B[33m'William McKinley'\u001B[39;49;00m,\u001B[37m \u001B[39;49;00m\u001B[34mNULL\u001B[39;49;00m),\u001B[37m\u001B[39;49;00m\n",
      "(\u001B[33m'William McKinley'\u001B[39;49;00m,\u001B[37m \u001B[39;49;00m\u001B[33m'Theodore Roosevelt'\u001B[39;49;00m),\u001B[37m\u001B[39;49;00m\n",
      "(\u001B[33m'Theodore Roosevelt'\u001B[39;49;00m,\u001B[37m \u001B[39;49;00m\u001B[34mNULL\u001B[39;49;00m),\u001B[37m\u001B[39;49;00m\n",
      "(\u001B[33m'Theodore Roosevelt'\u001B[39;49;00m,\u001B[37m \u001B[39;49;00m\u001B[33m'Charles W. Fairbanks'\u001B[39;49;00m),\u001B[37m\u001B[39;49;00m\n",
      "(\u001B[33m'William H. Taft'\u001B[39;49;00m,\u001B[37m \u001B[39;49;00m\u001B[33m'James S. Sherman'\u001B[39;49;00m),\u001B[37m\u001B[39;49;00m\n",
      "(\u001B[33m'William H. Taft'\u001B[39;49;00m,\u001B[37m \u001B[39;49;00m\u001B[34mNULL\u001B[39;49;00m),\u001B[37m\u001B[39;49;00m\n",
      "(\u001B[33m'Woodrow Wilson'\u001B[39;49;00m,\u001B[37m \u001B[39;49;00m\u001B[33m'Thomas R. Marshall'\u001B[39;49;00m),\u001B[37m\u001B[39;49;00m\n",
      "(\u001B[33m'Warren G. Harding'\u001B[39;49;00m,\u001B[37m \u001B[39;49;00m\u001B[33m'Calvin Coolidge'\u001B[39;49;00m),\u001B[37m\u001B[39;49;00m\n",
      "(\u001B[33m'Calvin Coolidge'\u001B[39;49;00m,\u001B[37m \u001B[39;49;00m\u001B[34mNULL\u001B[39;49;00m),\u001B[37m\u001B[39;49;00m\n",
      "(\u001B[33m'Calvin Coolidge'\u001B[39;49;00m,\u001B[37m \u001B[39;49;00m\u001B[33m'Charles G. Dawes'\u001B[39;49;00m),\u001B[37m\u001B[39;49;00m\n",
      "(\u001B[33m'Herbert Hoover'\u001B[39;49;00m,\u001B[37m \u001B[39;49;00m\u001B[33m'Charles Curtis'\u001B[39;49;00m),\u001B[37m\u001B[39;49;00m\n",
      "(\u001B[33m'Franklin D. Roosevelt'\u001B[39;49;00m,\u001B[37m \u001B[39;49;00m\u001B[33m'John N. Garner'\u001B[39;49;00m),\u001B[37m\u001B[39;49;00m\n",
      "(\u001B[33m'Franklin D. Roosevelt'\u001B[39;49;00m,\u001B[37m \u001B[39;49;00m\u001B[33m'Henry A. Wallace'\u001B[39;49;00m),\u001B[37m\u001B[39;49;00m\n",
      "(\u001B[33m'Franklin D. Roosevelt'\u001B[39;49;00m,\u001B[37m \u001B[39;49;00m\u001B[33m'Harry S. Truman'\u001B[39;49;00m),\u001B[37m\u001B[39;49;00m\n",
      "(\u001B[33m'Harry S. Truman'\u001B[39;49;00m,\u001B[37m \u001B[39;49;00m\u001B[34mNULL\u001B[39;49;00m),\u001B[37m\u001B[39;49;00m\n",
      "(\u001B[33m'Harry S. Truman'\u001B[39;49;00m,\u001B[37m \u001B[39;49;00m\u001B[33m'Barkley, Alben W.'\u001B[39;49;00m),\u001B[37m\u001B[39;49;00m\n",
      "(\u001B[33m'Dwight D. Eisenhower'\u001B[39;49;00m,\u001B[37m \u001B[39;49;00m\u001B[33m'Richard M. Nixon'\u001B[39;49;00m),\u001B[37m\u001B[39;49;00m\n",
      "(\u001B[33m'John F. Kennedy'\u001B[39;49;00m,\u001B[37m \u001B[39;49;00m\u001B[33m'Lyndon B. Johnson'\u001B[39;49;00m),\u001B[37m\u001B[39;49;00m\n",
      "(\u001B[33m'Lyndon B. Johnson'\u001B[39;49;00m,\u001B[37m \u001B[39;49;00m\u001B[34mNULL\u001B[39;49;00m),\u001B[37m\u001B[39;49;00m\n",
      "(\u001B[33m'Lyndon B. Johnson'\u001B[39;49;00m,\u001B[37m \u001B[39;49;00m\u001B[33m'Hubert H. Humphrey'\u001B[39;49;00m),\u001B[37m\u001B[39;49;00m\n",
      "(\u001B[33m'Richard M. Nixon'\u001B[39;49;00m,\u001B[37m \u001B[39;49;00m\u001B[33m'Spiro T. Agnew'\u001B[39;49;00m),\u001B[37m\u001B[39;49;00m\n",
      "(\u001B[33m'Richard M. Nixon'\u001B[39;49;00m,\u001B[37m \u001B[39;49;00m\u001B[33m'Gerald R. Ford'\u001B[39;49;00m),\u001B[37m\u001B[39;49;00m\n",
      "(\u001B[33m'Gerald R. Ford'\u001B[39;49;00m,\u001B[37m \u001B[39;49;00m\u001B[33m'Nelson Rockefeller'\u001B[39;49;00m),\u001B[37m\u001B[39;49;00m\n",
      "(\u001B[33m'Jimmy Carter'\u001B[39;49;00m,\u001B[37m \u001B[39;49;00m\u001B[33m'Walter F. Mondale'\u001B[39;49;00m),\u001B[37m\u001B[39;49;00m\n",
      "(\u001B[33m'Ronald Reagan'\u001B[39;49;00m,\u001B[37m \u001B[39;49;00m\u001B[33m'George Bush'\u001B[39;49;00m),\u001B[37m\u001B[39;49;00m\n",
      "(\u001B[33m'George Bush'\u001B[39;49;00m,\u001B[37m \u001B[39;49;00m\u001B[33m'Dan Quayle'\u001B[39;49;00m),\u001B[37m\u001B[39;49;00m\n",
      "(\u001B[33m'Bill Clinton'\u001B[39;49;00m,\u001B[37m \u001B[39;49;00m\u001B[33m'Albert Gore'\u001B[39;49;00m),\u001B[37m\u001B[39;49;00m\n",
      "(\u001B[33m'George W. Bush'\u001B[39;49;00m,\u001B[37m \u001B[39;49;00m\u001B[33m'Richard Cheney'\u001B[39;49;00m),\u001B[37m\u001B[39;49;00m\n",
      "(\u001B[33m'Barack Obama'\u001B[39;49;00m,\u001B[37m \u001B[39;49;00m\u001B[33m'Joseph R. Biden'\u001B[39;49;00m),\u001B[37m\u001B[39;49;00m\n",
      "(\u001B[33m'Donald J. Trump'\u001B[39;49;00m,\u001B[37m \u001B[39;49;00m\u001B[33m'Mike Pence'\u001B[39;49;00m),\u001B[37m\u001B[39;49;00m\n",
      "(\u001B[33m'Joseph R. Biden'\u001B[39;49;00m,\u001B[37m \u001B[39;49;00m\u001B[33m'Kamala Harris'\u001B[39;49;00m)\u001B[37m\u001B[39;49;00m\n",
      "\u001B[34mAS\u001B[39;49;00m\u001B[37m \u001B[39;49;00mv1(president,\u001B[37m \u001B[39;49;00mvice_president)\u001B[37m\u001B[39;49;00m\n",
      "\n",
      "\u001B[92mINFO: \u001B[0mStoring data into temp view: temp_view_0451bc\n",
      "\n",
      "+--------------------+--------------------+\n",
      "|           president|      vice_president|\n",
      "+--------------------+--------------------+\n",
      "|   George Washington|          John Adams|\n",
      "|          John Adams|    Thomas Jefferson|\n",
      "|    Thomas Jefferson|          Aaron Burr|\n",
      "|    Thomas Jefferson|      George Clinton|\n",
      "|       James Madison|      George Clinton|\n",
      "|       James Madison|      Elbridge Gerry|\n",
      "|        James Monroe|  Daniel D. Tompkins|\n",
      "|   John Quincy Adams|     John C. Calhoun|\n",
      "|      Andrew Jackson|     John C. Calhoun|\n",
      "|      Andrew Jackson|    Martin Van Buren|\n",
      "|    Martin Van Buren|  Richard M. Johnson|\n",
      "|William Henry Har...|          John Tyler|\n",
      "|          John Tyler|                null|\n",
      "|       James K. Polk|    George M. Dallas|\n",
      "|      Zachary Taylor|    Millard Fillmore|\n",
      "|    Millard Fillmore|                null|\n",
      "|     Franklin Pierce|     William R. King|\n",
      "|     Franklin Pierce|                null|\n",
      "|      James Buchanan|John C. Breckinridge|\n",
      "|     Abraham Lincoln|     Hannibal Hamlin|\n",
      "+--------------------+--------------------+\n",
      "only showing top 20 rows\n",
      "\n"
     ]
    }
   ],
   "source": [
    "# You can also specify the expected columns for the ingestion.\n",
    "df=spark_ai.create_df(\"USA presidents\", [\"president\", \"vice_president\"])\n",
    "df.show()"
   ]
  },
  {
   "cell_type": "code",
   "execution_count": 8,
   "metadata": {
    "collapsed": false,
    "jupyter": {
     "outputs_hidden": false
    }
   },
   "outputs": [
    {
     "name": "stdout",
     "output_type": "stream",
     "text": [
      "\u001B[92mINFO: \u001B[0mCreating temp view for the transform:\n",
      "df.createOrReplaceTempView(\u001B[33m\"\u001B[39;49;00m\u001B[33mtemp_view_a6e278\u001B[39;49;00m\u001B[33m\"\u001B[39;49;00m)\u001B[37m\u001B[39;49;00m\n",
      "\n",
      "\u001B[92mINFO: \u001B[0mSQL query for the transform:\n",
      "\u001B[34mSELECT\u001B[39;49;00m\u001B[37m \u001B[39;49;00m\u001B[34mDISTINCT\u001B[39;49;00m\u001B[37m \u001B[39;49;00mpresident\u001B[37m \u001B[39;49;00m\n",
      "\u001B[34mFROM\u001B[39;49;00m\u001B[37m \u001B[39;49;00mtemp_view_a6e278\u001B[37m \u001B[39;49;00m\n",
      "\u001B[34mWHERE\u001B[39;49;00m\u001B[37m \u001B[39;49;00mpresident\u001B[37m \u001B[39;49;00m\u001B[34mIN\u001B[39;49;00m\u001B[37m \u001B[39;49;00m(\u001B[34mSELECT\u001B[39;49;00m\u001B[37m \u001B[39;49;00mvice_president\u001B[37m \u001B[39;49;00m\u001B[34mFROM\u001B[39;49;00m\u001B[37m \u001B[39;49;00mtemp_view_a6e278)\u001B[37m\u001B[39;49;00m\n",
      "\n",
      "+------------------+\n",
      "|         president|\n",
      "+------------------+\n",
      "|        John Adams|\n",
      "|  Thomas Jefferson|\n",
      "|  Martin Van Buren|\n",
      "|  Millard Fillmore|\n",
      "|        John Tyler|\n",
      "|    Andrew Johnson|\n",
      "| Chester A. Arthur|\n",
      "|Theodore Roosevelt|\n",
      "|   Calvin Coolidge|\n",
      "|   Harry S. Truman|\n",
      "|    Gerald R. Ford|\n",
      "| Lyndon B. Johnson|\n",
      "|  Richard M. Nixon|\n",
      "|       George Bush|\n",
      "|   Joseph R. Biden|\n",
      "+------------------+\n",
      "\n"
     ]
    }
   ],
   "source": [
    "presidents_who_were_vp = df.ai.transform(\"presidents who were also vice presidents\")\n",
    "presidents_who_were_vp.show()"
   ]
  },
  {
   "cell_type": "code",
   "execution_count": 9,
   "metadata": {
    "collapsed": false,
    "jupyter": {
     "outputs_hidden": false
    }
   },
   "outputs": [
    {
     "data": {
      "text/plain": "'In summary, this dataframe is retrieving the distinct presidents who have also served as vice presidents. The data is sourced from a temporary view named `temp_view_a6e278`.'"
     },
     "execution_count": 9,
     "metadata": {},
     "output_type": "execute_result"
    }
   ],
   "source": [
    "presidents_who_were_vp.ai.explain()"
   ]
  },
  {
   "cell_type": "code",
   "execution_count": 10,
   "metadata": {},
   "outputs": [
    {
     "name": "stdout",
     "output_type": "stream",
     "text": [
      "\u001B[92mINFO: \u001B[0mLLM Output:\n",
      "def has_no_nulls(df) -> bool:\n",
      "    from pyspark.sql.functions import col, sum as _sum\n",
      "\n",
      "    # Check if any column has null values\n",
      "    for column in df.columns:\n",
      "        nulls = df.where(col(column).isNull()).count()\n",
      "        if nulls > 0:\n",
      "            return False\n",
      "    return True\n",
      "\n",
      "result = has_no_nulls(df)\n",
      "\u001B[92mINFO: \u001B[0mGenerated code:\n",
      "\u001B[34mdef\u001B[39;49;00m \u001B[32mhas_no_nulls\u001B[39;49;00m(df) -> \u001B[36mbool\u001B[39;49;00m:\u001B[37m\u001B[39;49;00m\n",
      "    \u001B[34mfrom\u001B[39;49;00m \u001B[04m\u001B[36mpyspark\u001B[39;49;00m\u001B[04m\u001B[36m.\u001B[39;49;00m\u001B[04m\u001B[36msql\u001B[39;49;00m\u001B[04m\u001B[36m.\u001B[39;49;00m\u001B[04m\u001B[36mfunctions\u001B[39;49;00m \u001B[34mimport\u001B[39;49;00m col, \u001B[36msum\u001B[39;49;00m \u001B[34mas\u001B[39;49;00m _sum\u001B[37m\u001B[39;49;00m\n",
      "\u001B[37m\u001B[39;49;00m\n",
      "    \u001B[37m# Check if any column has null values\u001B[39;49;00m\u001B[37m\u001B[39;49;00m\n",
      "    \u001B[34mfor\u001B[39;49;00m column \u001B[35min\u001B[39;49;00m df.columns:\u001B[37m\u001B[39;49;00m\n",
      "        nulls = df.where(col(column).isNull()).count()\u001B[37m\u001B[39;49;00m\n",
      "        \u001B[34mif\u001B[39;49;00m nulls > \u001B[34m0\u001B[39;49;00m:\u001B[37m\u001B[39;49;00m\n",
      "            \u001B[34mreturn\u001B[39;49;00m \u001B[34mFalse\u001B[39;49;00m\u001B[37m\u001B[39;49;00m\n",
      "    \u001B[34mreturn\u001B[39;49;00m \u001B[34mTrue\u001B[39;49;00m\u001B[37m\u001B[39;49;00m\n",
      "\u001B[37m\u001B[39;49;00m\n",
      "result = has_no_nulls(df)\u001B[37m\u001B[39;49;00m\n",
      "\n",
      "\u001B[92mINFO: \u001B[0m\n",
      "Result: True\n"
     ]
    }
   ],
   "source": [
    "presidents_who_were_vp.ai.verify(\"expect no NULL values\")"
   ]
  },
  {
   "cell_type": "markdown",
   "metadata": {
    "jupyter": {
     "outputs_hidden": false
    }
   },
   "source": [
    "# Example 3: Top 10 tech companies"
   ]
  },
  {
   "cell_type": "code",
   "execution_count": 11,
   "metadata": {
    "collapsed": false,
    "jupyter": {
     "outputs_hidden": false
    }
   },
   "outputs": [
    {
     "name": "stdout",
     "output_type": "stream",
     "text": [
      "\u001B[92mINFO: \u001B[0mParsing URL: https://www.statista.com/statistics/1350976/leading-tech-companies-worldwide-by-market-cap/\n",
      "\n",
      "\u001B[92mINFO: \u001B[0mSQL query for the ingestion:\n",
      "\u001B[34mCREATE\u001B[39;49;00m\u001B[37m \u001B[39;49;00m\u001B[34mOR\u001B[39;49;00m\u001B[37m \u001B[39;49;00m\u001B[34mREPLACE\u001B[39;49;00m\u001B[37m \u001B[39;49;00mTEMP\u001B[37m \u001B[39;49;00m\u001B[34mVIEW\u001B[39;49;00m\u001B[37m \u001B[39;49;00mtemp_view_a58845\u001B[37m \u001B[39;49;00m\u001B[34mAS\u001B[39;49;00m\u001B[37m \u001B[39;49;00m\n",
      "\u001B[34mSELECT\u001B[39;49;00m\u001B[37m \u001B[39;49;00m*\u001B[37m \u001B[39;49;00m\u001B[34mFROM\u001B[39;49;00m\u001B[37m \u001B[39;49;00m\u001B[34mVALUES\u001B[39;49;00m\u001B[37m\u001B[39;49;00m\n",
      "(\u001B[33m'Apple'\u001B[39;49;00m,\u001B[37m \u001B[39;49;00m\u001B[34m2242\u001B[39;49;00m,\u001B[37m \u001B[39;49;00m\u001B[33m'USA'\u001B[39;49;00m),\u001B[37m\u001B[39;49;00m\n",
      "(\u001B[33m'Microsoft'\u001B[39;49;00m,\u001B[37m \u001B[39;49;00m\u001B[34m1821\u001B[39;49;00m,\u001B[37m \u001B[39;49;00m\u001B[33m'USA'\u001B[39;49;00m),\u001B[37m\u001B[39;49;00m\n",
      "(\u001B[33m'Alphabet (Google)'\u001B[39;49;00m,\u001B[37m \u001B[39;49;00m\u001B[34m1229\u001B[39;49;00m,\u001B[37m \u001B[39;49;00m\u001B[33m'USA'\u001B[39;49;00m),\u001B[37m\u001B[39;49;00m\n",
      "(\u001B[33m'Amazon'\u001B[39;49;00m,\u001B[37m \u001B[39;49;00m\u001B[34m902\u001B[39;49;00m.\u001B[34m4\u001B[39;49;00m,\u001B[37m \u001B[39;49;00m\u001B[33m'USA'\u001B[39;49;00m),\u001B[37m\u001B[39;49;00m\n",
      "(\u001B[33m'Tesla'\u001B[39;49;00m,\u001B[37m \u001B[39;49;00m\u001B[34m541\u001B[39;49;00m.\u001B[34m4\u001B[39;49;00m,\u001B[37m \u001B[39;49;00m\u001B[33m'USA'\u001B[39;49;00m),\u001B[37m\u001B[39;49;00m\n",
      "(\u001B[33m'TSMC'\u001B[39;49;00m,\u001B[37m \u001B[39;49;00m\u001B[34m410\u001B[39;49;00m.\u001B[34m9\u001B[39;49;00m,\u001B[37m \u001B[39;49;00m\u001B[33m'Taiwan'\u001B[39;49;00m),\u001B[37m\u001B[39;49;00m\n",
      "(\u001B[33m'NVIDIA'\u001B[39;49;00m,\u001B[37m \u001B[39;49;00m\u001B[34m401\u001B[39;49;00m.\u001B[34m7\u001B[39;49;00m,\u001B[37m \u001B[39;49;00m\u001B[33m'USA'\u001B[39;49;00m),\u001B[37m\u001B[39;49;00m\n",
      "(\u001B[33m'Tencent'\u001B[39;49;00m,\u001B[37m \u001B[39;49;00m\u001B[34m377\u001B[39;49;00m.\u001B[34m8\u001B[39;49;00m,\u001B[37m \u001B[39;49;00m\u001B[33m'China'\u001B[39;49;00m),\u001B[37m\u001B[39;49;00m\n",
      "(\u001B[33m'Meta Platforms (Facebook)'\u001B[39;49;00m,\u001B[37m \u001B[39;49;00m\u001B[34m302\u001B[39;49;00m.\u001B[34m1\u001B[39;49;00m,\u001B[37m \u001B[39;49;00m\u001B[33m'USA'\u001B[39;49;00m),\u001B[37m\u001B[39;49;00m\n",
      "(\u001B[33m'Samsung'\u001B[39;49;00m,\u001B[37m \u001B[39;49;00m\u001B[34m301\u001B[39;49;00m.\u001B[34m7\u001B[39;49;00m,\u001B[37m \u001B[39;49;00m\u001B[33m'South Korea'\u001B[39;49;00m)\u001B[37m\u001B[39;49;00m\n",
      "\u001B[34mAS\u001B[39;49;00m\u001B[37m \u001B[39;49;00mv1(company,\u001B[37m \u001B[39;49;00mcap,\u001B[37m \u001B[39;49;00mcountry)\u001B[37m\u001B[39;49;00m\n",
      "\n",
      "\u001B[92mINFO: \u001B[0mStoring data into temp view: temp_view_a58845\n",
      "\n",
      "+--------------------+------+-----------+\n",
      "|             company|   cap|    country|\n",
      "+--------------------+------+-----------+\n",
      "|               Apple|2242.0|        USA|\n",
      "|           Microsoft|1821.0|        USA|\n",
      "|   Alphabet (Google)|1229.0|        USA|\n",
      "|              Amazon| 902.4|        USA|\n",
      "|               Tesla| 541.4|        USA|\n",
      "|                TSMC| 410.9|     Taiwan|\n",
      "|              NVIDIA| 401.7|        USA|\n",
      "|             Tencent| 377.8|      China|\n",
      "|Meta Platforms (F...| 302.1|        USA|\n",
      "|             Samsung| 301.7|South Korea|\n",
      "+--------------------+------+-----------+\n",
      "\n"
     ]
    }
   ],
   "source": [
    "# Search and ingest web content into a DataFrame\n",
    "company_df=spark_ai.create_df(\"Top 10 tech companies by market cap\", ['company', 'cap', 'country'])\n",
    "company_df.show()"
   ]
  },
  {
   "cell_type": "code",
   "execution_count": 17,
   "metadata": {
    "collapsed": false,
    "jupyter": {
     "outputs_hidden": false
    }
   },
   "outputs": [
    {
     "name": "stdout",
     "output_type": "stream",
     "text": [
      "\u001B[92mINFO: \u001B[0mCreating temp view for the transform:\n",
      "df.createOrReplaceTempView(\u001B[33m\"\u001B[39;49;00m\u001B[33mtemp_view_c4176b\u001B[39;49;00m\u001B[33m\"\u001B[39;49;00m)\u001B[37m\u001B[39;49;00m\n",
      "\n",
      "\u001B[92mINFO: \u001B[0mSQL query for the transform:\n",
      "\u001B[34mSELECT\u001B[39;49;00m\u001B[37m \u001B[39;49;00m*\u001B[37m \u001B[39;49;00m\u001B[34mFROM\u001B[39;49;00m\u001B[37m \u001B[39;49;00mtemp_view_c4176b\u001B[37m \u001B[39;49;00m\u001B[34mWHERE\u001B[39;49;00m\u001B[37m \u001B[39;49;00mcountry\u001B[37m \u001B[39;49;00m=\u001B[37m \u001B[39;49;00m\u001B[33m'USA'\u001B[39;49;00m\u001B[37m\u001B[39;49;00m\n",
      "\n",
      "+--------------------+------+-------+\n",
      "|             company|   cap|country|\n",
      "+--------------------+------+-------+\n",
      "|               Apple|2242.0|    USA|\n",
      "|           Microsoft|1821.0|    USA|\n",
      "|   Alphabet (Google)|1229.0|    USA|\n",
      "|              Amazon| 902.4|    USA|\n",
      "|               Tesla| 541.4|    USA|\n",
      "|              NVIDIA| 401.7|    USA|\n",
      "|Meta Platforms (F...| 302.1|    USA|\n",
      "+--------------------+------+-------+\n",
      "\n"
     ]
    }
   ],
   "source": [
    "us_company_df=company_df.ai.transform(\"companies in USA\")\n",
    "us_company_df.show()"
   ]
  },
  {
   "cell_type": "code",
   "execution_count": 13,
   "metadata": {
    "collapsed": false,
    "jupyter": {
     "outputs_hidden": false
    }
   },
   "outputs": [
    {
     "data": {
      "text/plain": "'In summary, this dataframe is retrieving the company, capitalization, and country information for companies located in the United States from a temporary view named `temp_view_826eb9`.'"
     },
     "execution_count": 13,
     "metadata": {},
     "output_type": "execute_result"
    }
   ],
   "source": [
    "us_company_df.ai.explain()"
   ]
  },
  {
   "cell_type": "code",
   "execution_count": 14,
   "metadata": {},
   "outputs": [
    {
     "name": "stdout",
     "output_type": "stream",
     "text": [
      "\u001B[92mINFO: \u001B[0mLLM Output:\n",
      "def has_unique_company_names(df) -> bool:\n",
      "    from pyspark.sql import functions as F\n",
      "\n",
      "    # Count the number of unique company names\n",
      "    unique_company_names = df.select(F.countDistinct(\"company\")).collect()[0][0]\n",
      "\n",
      "    # Check if the number of unique company names is equal to the total number of rows\n",
      "    if unique_company_names == df.count():\n",
      "        return True\n",
      "    else:\n",
      "        return False\n",
      "\n",
      "result = has_unique_company_names(df)\n",
      "\u001B[92mINFO: \u001B[0mGenerated code:\n",
      "\u001B[34mdef\u001B[39;49;00m \u001B[32mhas_unique_company_names\u001B[39;49;00m(df) -> \u001B[36mbool\u001B[39;49;00m:\u001B[37m\u001B[39;49;00m\n",
      "    \u001B[34mfrom\u001B[39;49;00m \u001B[04m\u001B[36mpyspark\u001B[39;49;00m\u001B[04m\u001B[36m.\u001B[39;49;00m\u001B[04m\u001B[36msql\u001B[39;49;00m \u001B[34mimport\u001B[39;49;00m functions \u001B[34mas\u001B[39;49;00m F\u001B[37m\u001B[39;49;00m\n",
      "\u001B[37m\u001B[39;49;00m\n",
      "    \u001B[37m# Count the number of unique company names\u001B[39;49;00m\u001B[37m\u001B[39;49;00m\n",
      "    unique_company_names = df.select(F.countDistinct(\u001B[33m\"\u001B[39;49;00m\u001B[33mcompany\u001B[39;49;00m\u001B[33m\"\u001B[39;49;00m)).collect()[\u001B[34m0\u001B[39;49;00m][\u001B[34m0\u001B[39;49;00m]\u001B[37m\u001B[39;49;00m\n",
      "\u001B[37m\u001B[39;49;00m\n",
      "    \u001B[37m# Check if the number of unique company names is equal to the total number of rows\u001B[39;49;00m\u001B[37m\u001B[39;49;00m\n",
      "    \u001B[34mif\u001B[39;49;00m unique_company_names == df.count():\u001B[37m\u001B[39;49;00m\n",
      "        \u001B[34mreturn\u001B[39;49;00m \u001B[34mTrue\u001B[39;49;00m\u001B[37m\u001B[39;49;00m\n",
      "    \u001B[34melse\u001B[39;49;00m:\u001B[37m\u001B[39;49;00m\n",
      "        \u001B[34mreturn\u001B[39;49;00m \u001B[34mFalse\u001B[39;49;00m\u001B[37m\u001B[39;49;00m\n",
      "\u001B[37m\u001B[39;49;00m\n",
      "result = has_unique_company_names(df)\u001B[37m\u001B[39;49;00m\n",
      "\n",
      "\u001B[92mINFO: \u001B[0m\n",
      "Result: True\n"
     ]
    }
   ],
   "source": [
    "us_company_df.ai.verify(\"expect all company names to be unique\")"
   ]
  },
  {
   "cell_type": "markdown",
   "metadata": {
    "jupyter": {
     "outputs_hidden": false
    }
   },
   "source": [
    "## Example 4: Ingestion from a URL\n",
    "Instead of searching for the web page, you can also ask the SparkAI to ingest from a URL."
   ]
  },
  {
   "cell_type": "code",
   "execution_count": 15,
   "metadata": {
    "collapsed": false,
    "jupyter": {
     "outputs_hidden": false
    }
   },
   "outputs": [
    {
     "name": "stdout",
     "output_type": "stream",
     "text": [
      "\u001B[92mINFO: \u001B[0mParsing URL: https://time.com/6235186/best-albums-2022/\n",
      "\n",
      "\u001B[92mINFO: \u001B[0mSQL query for the ingestion:\n",
      "\u001B[34mCREATE\u001B[39;49;00m\u001B[37m \u001B[39;49;00m\u001B[34mOR\u001B[39;49;00m\u001B[37m \u001B[39;49;00m\u001B[34mREPLACE\u001B[39;49;00m\u001B[37m \u001B[39;49;00mTEMP\u001B[37m \u001B[39;49;00m\u001B[34mVIEW\u001B[39;49;00m\u001B[37m \u001B[39;49;00mtemp_view_854ff1\u001B[37m \u001B[39;49;00m\u001B[34mAS\u001B[39;49;00m\u001B[37m \u001B[39;49;00m\u001B[34mSELECT\u001B[39;49;00m\u001B[37m \u001B[39;49;00m*\u001B[37m \u001B[39;49;00m\u001B[34mFROM\u001B[39;49;00m\u001B[37m \u001B[39;49;00m\u001B[34mVALUES\u001B[39;49;00m\u001B[37m\u001B[39;49;00m\n",
      "(\u001B[33m'Motomami'\u001B[39;49;00m,\u001B[37m \u001B[39;49;00m\u001B[33m'Rosalía'\u001B[39;49;00m,\u001B[37m \u001B[39;49;00m\u001B[34m2022\u001B[39;49;00m),\u001B[37m\u001B[39;49;00m\n",
      "(\u001B[33m'You Can’t Kill Me'\u001B[39;49;00m,\u001B[37m \u001B[39;49;00m\u001B[33m'070 Shake'\u001B[39;49;00m,\u001B[37m \u001B[39;49;00m\u001B[34m2022\u001B[39;49;00m),\u001B[37m\u001B[39;49;00m\n",
      "(\u001B[33m'Mr. Morale & The Big Steppers'\u001B[39;49;00m,\u001B[37m \u001B[39;49;00m\u001B[33m'Kendrick Lamar'\u001B[39;49;00m,\u001B[37m \u001B[39;49;00m\u001B[34m2022\u001B[39;49;00m),\u001B[37m\u001B[39;49;00m\n",
      "(\u001B[33m'Big Time'\u001B[39;49;00m,\u001B[37m \u001B[39;49;00m\u001B[33m'Angel Olsen'\u001B[39;49;00m,\u001B[37m \u001B[39;49;00m\u001B[34m2022\u001B[39;49;00m),\u001B[37m\u001B[39;49;00m\n",
      "(\u001B[33m'Electricity'\u001B[39;49;00m,\u001B[37m \u001B[39;49;00m\u001B[33m'Ibibio Sound Machine'\u001B[39;49;00m,\u001B[37m \u001B[39;49;00m\u001B[34m2022\u001B[39;49;00m),\u001B[37m\u001B[39;49;00m\n",
      "(\u001B[33m'It’s Almost Dry'\u001B[39;49;00m,\u001B[37m \u001B[39;49;00m\u001B[33m'Pusha T'\u001B[39;49;00m,\u001B[37m \u001B[39;49;00m\u001B[34m2022\u001B[39;49;00m),\u001B[37m\u001B[39;49;00m\n",
      "(\u001B[33m'Chloe and the Next 20th Century'\u001B[39;49;00m,\u001B[37m \u001B[39;49;00m\u001B[33m'Father John Misty'\u001B[39;49;00m,\u001B[37m \u001B[39;49;00m\u001B[34m2022\u001B[39;49;00m),\u001B[37m\u001B[39;49;00m\n",
      "(\u001B[33m'Renaissance'\u001B[39;49;00m,\u001B[37m \u001B[39;49;00m\u001B[33m'Beyoncé'\u001B[39;49;00m,\u001B[37m \u001B[39;49;00m\u001B[34m2022\u001B[39;49;00m),\u001B[37m\u001B[39;49;00m\n",
      "(\u001B[33m'19 Masters'\u001B[39;49;00m,\u001B[37m \u001B[39;49;00m\u001B[33m'Saya Gray'\u001B[39;49;00m,\u001B[37m \u001B[39;49;00m\u001B[34m2022\u001B[39;49;00m),\u001B[37m\u001B[39;49;00m\n",
      "(\u001B[33m'Un Verano Sin Ti'\u001B[39;49;00m,\u001B[37m \u001B[39;49;00m\u001B[33m'Bad Bunny'\u001B[39;49;00m,\u001B[37m \u001B[39;49;00m\u001B[34m2022\u001B[39;49;00m)\u001B[37m\u001B[39;49;00m\n",
      "\u001B[34mAS\u001B[39;49;00m\u001B[37m \u001B[39;49;00mv1(album,\u001B[37m \u001B[39;49;00martist,\u001B[37m \u001B[39;49;00m\u001B[34myear\u001B[39;49;00m)\u001B[37m\u001B[39;49;00m\n",
      "\n",
      "\u001B[92mINFO: \u001B[0mStoring data into temp view: temp_view_854ff1\n",
      "\n",
      "+--------------------+--------------------+----+\n",
      "|               album|              artist|year|\n",
      "+--------------------+--------------------+----+\n",
      "|            Motomami|             Rosalía|2022|\n",
      "|   You Can’t Kill Me|           070 Shake|2022|\n",
      "|Mr. Morale & The ...|      Kendrick Lamar|2022|\n",
      "|            Big Time|         Angel Olsen|2022|\n",
      "|         Electricity|Ibibio Sound Machine|2022|\n",
      "|     It’s Almost Dry|             Pusha T|2022|\n",
      "|Chloe and the Nex...|   Father John Misty|2022|\n",
      "|         Renaissance|             Beyoncé|2022|\n",
      "|          19 Masters|           Saya Gray|2022|\n",
      "|    Un Verano Sin Ti|           Bad Bunny|2022|\n",
      "+--------------------+--------------------+----+\n",
      "\n"
     ]
    }
   ],
   "source": [
    "best_albums_df = spark_ai.create_df('https://time.com/6235186/best-albums-2022/', [\"album\", \"artist\", \"year\"])\n",
    "best_albums_df.show()"
   ]
  },
  {
   "cell_type": "code",
   "execution_count": 16,
   "metadata": {},
   "outputs": [
    {
     "name": "stdout",
     "output_type": "stream",
     "text": [
      "\u001B[92mINFO: \u001B[0mLLM Output:\n",
      "Here is your output:\n",
      "\n",
      "def check_year(df) -> bool:\n",
      "    from pyspark.sql.functions import col\n",
      "    # Check if all years are 2022\n",
      "    if df.filter(col('year') != 2022).count() == 0:\n",
      "        return True\n",
      "    else:\n",
      "        return False\n",
      "\n",
      "result = check_year(df)\n",
      "\u001B[92mINFO: \u001B[0mGenerated code:\n",
      "Here \u001B[35mis\u001B[39;49;00m your output:\u001B[37m\u001B[39;49;00m\n",
      "\u001B[37m\u001B[39;49;00m\n",
      "\u001B[34mdef\u001B[39;49;00m \u001B[32mcheck_year\u001B[39;49;00m(df) -> \u001B[36mbool\u001B[39;49;00m:\u001B[37m\u001B[39;49;00m\n",
      "    \u001B[34mfrom\u001B[39;49;00m \u001B[04m\u001B[36mpyspark\u001B[39;49;00m\u001B[04m\u001B[36m.\u001B[39;49;00m\u001B[04m\u001B[36msql\u001B[39;49;00m\u001B[04m\u001B[36m.\u001B[39;49;00m\u001B[04m\u001B[36mfunctions\u001B[39;49;00m \u001B[34mimport\u001B[39;49;00m col\u001B[37m\u001B[39;49;00m\n",
      "    \u001B[37m# Check if all years are 2022\u001B[39;49;00m\u001B[37m\u001B[39;49;00m\n",
      "    \u001B[34mif\u001B[39;49;00m df.filter(col(\u001B[33m'\u001B[39;49;00m\u001B[33myear\u001B[39;49;00m\u001B[33m'\u001B[39;49;00m) != \u001B[34m2022\u001B[39;49;00m).count() == \u001B[34m0\u001B[39;49;00m:\u001B[37m\u001B[39;49;00m\n",
      "        \u001B[34mreturn\u001B[39;49;00m \u001B[34mTrue\u001B[39;49;00m\u001B[37m\u001B[39;49;00m\n",
      "    \u001B[34melse\u001B[39;49;00m:\u001B[37m\u001B[39;49;00m\n",
      "        \u001B[34mreturn\u001B[39;49;00m \u001B[34mFalse\u001B[39;49;00m\u001B[37m\u001B[39;49;00m\n",
      "\u001B[37m\u001B[39;49;00m\n",
      "result = check_year(df)\u001B[37m\u001B[39;49;00m\n",
      "\n"
     ]
    },
    {
     "ename": "Exception",
     "evalue": "('Could not evaluate Python code', SyntaxError('invalid syntax', ('verify_df-CodeGen', 1, 14, 'Here is your output:\\n')))",
     "output_type": "error",
     "traceback": [
      "\u001B[0;31m---------------------------------------------------------------------------\u001B[0m",
      "\u001B[0;31mSyntaxError\u001B[0m                               Traceback (most recent call last)",
      "File \u001B[0;32m~/projects/spark-llm/pyspark_ai/pyspark_ai.py:416\u001B[0m, in \u001B[0;36mSparkAI.verify_df\u001B[0;34m(self, df, desc, cache)\u001B[0m\n\u001B[1;32m    415\u001B[0m \u001B[38;5;28;01mtry\u001B[39;00m:\n\u001B[0;32m--> 416\u001B[0m     exec(\u001B[38;5;28;43mcompile\u001B[39;49m\u001B[43m(\u001B[49m\u001B[43mllm_output\u001B[49m\u001B[43m,\u001B[49m\u001B[43m \u001B[49m\u001B[38;5;124;43m\"\u001B[39;49m\u001B[38;5;124;43mverify_df-CodeGen\u001B[39;49m\u001B[38;5;124;43m\"\u001B[39;49m\u001B[43m,\u001B[49m\u001B[43m \u001B[49m\u001B[38;5;124;43m\"\u001B[39;49m\u001B[38;5;124;43mexec\u001B[39;49m\u001B[38;5;124;43m\"\u001B[39;49m\u001B[43m)\u001B[49m, {\u001B[38;5;124m\"\u001B[39m\u001B[38;5;124mdf\u001B[39m\u001B[38;5;124m\"\u001B[39m: df}, locals_)\n\u001B[1;32m    417\u001B[0m \u001B[38;5;28;01mexcept\u001B[39;00m \u001B[38;5;167;01mException\u001B[39;00m \u001B[38;5;28;01mas\u001B[39;00m e:\n",
      "\u001B[0;31mSyntaxError\u001B[0m: invalid syntax (verify_df-CodeGen, line 1)",
      "\nDuring handling of the above exception, another exception occurred:\n",
      "\u001B[0;31mException\u001B[0m                                 Traceback (most recent call last)",
      "Cell \u001B[0;32mIn[16], line 1\u001B[0m\n\u001B[0;32m----> 1\u001B[0m \u001B[43mbest_albums_df\u001B[49m\u001B[38;5;241;43m.\u001B[39;49m\u001B[43mai\u001B[49m\u001B[38;5;241;43m.\u001B[39;49m\u001B[43mverify\u001B[49m\u001B[43m(\u001B[49m\u001B[38;5;124;43m\"\u001B[39;49m\u001B[38;5;124;43mexpect each year to be 2022\u001B[39;49m\u001B[38;5;124;43m\"\u001B[39;49m\u001B[43m)\u001B[49m\n",
      "File \u001B[0;32m~/projects/spark-llm/pyspark_ai/ai_utils.py:76\u001B[0m, in \u001B[0;36mAIMethodWrapper.verify\u001B[0;34m(self, desc, cache)\u001B[0m\n\u001B[1;32m     66\u001B[0m \u001B[38;5;28;01mdef\u001B[39;00m \u001B[38;5;21mverify\u001B[39m(\u001B[38;5;28mself\u001B[39m, desc: \u001B[38;5;28mstr\u001B[39m, cache: \u001B[38;5;28mbool\u001B[39m \u001B[38;5;241m=\u001B[39m \u001B[38;5;28;01mTrue\u001B[39;00m) \u001B[38;5;241m-\u001B[39m\u001B[38;5;241m>\u001B[39m \u001B[38;5;28;01mNone\u001B[39;00m:\n\u001B[1;32m     67\u001B[0m \u001B[38;5;250m    \u001B[39m\u001B[38;5;124;03m\"\"\"\u001B[39;00m\n\u001B[1;32m     68\u001B[0m \u001B[38;5;124;03m    Verify the DataFrame using the given description.\u001B[39;00m\n\u001B[1;32m     69\u001B[0m \n\u001B[0;32m   (...)\u001B[0m\n\u001B[1;32m     74\u001B[0m \u001B[38;5;124;03m            If `False`, retrieves fresh data and updates cache.\u001B[39;00m\n\u001B[1;32m     75\u001B[0m \u001B[38;5;124;03m    \"\"\"\u001B[39;00m\n\u001B[0;32m---> 76\u001B[0m     \u001B[38;5;28;01mreturn\u001B[39;00m \u001B[38;5;28;43mself\u001B[39;49m\u001B[38;5;241;43m.\u001B[39;49m\u001B[43mspark_ai\u001B[49m\u001B[38;5;241;43m.\u001B[39;49m\u001B[43mverify_df\u001B[49m\u001B[43m(\u001B[49m\u001B[38;5;28;43mself\u001B[39;49m\u001B[38;5;241;43m.\u001B[39;49m\u001B[43mdf_instance\u001B[49m\u001B[43m,\u001B[49m\u001B[43m \u001B[49m\u001B[43mdesc\u001B[49m\u001B[43m,\u001B[49m\u001B[43m \u001B[49m\u001B[43mcache\u001B[49m\u001B[43m)\u001B[49m\n",
      "File \u001B[0;32m~/projects/spark-llm/pyspark_ai/pyspark_ai.py:418\u001B[0m, in \u001B[0;36mSparkAI.verify_df\u001B[0;34m(self, df, desc, cache)\u001B[0m\n\u001B[1;32m    416\u001B[0m     exec(\u001B[38;5;28mcompile\u001B[39m(llm_output, \u001B[38;5;124m\"\u001B[39m\u001B[38;5;124mverify_df-CodeGen\u001B[39m\u001B[38;5;124m\"\u001B[39m, \u001B[38;5;124m\"\u001B[39m\u001B[38;5;124mexec\u001B[39m\u001B[38;5;124m\"\u001B[39m), {\u001B[38;5;124m\"\u001B[39m\u001B[38;5;124mdf\u001B[39m\u001B[38;5;124m\"\u001B[39m: df}, locals_)\n\u001B[1;32m    417\u001B[0m \u001B[38;5;28;01mexcept\u001B[39;00m \u001B[38;5;167;01mException\u001B[39;00m \u001B[38;5;28;01mas\u001B[39;00m e:\n\u001B[0;32m--> 418\u001B[0m     \u001B[38;5;28;01mraise\u001B[39;00m \u001B[38;5;167;01mException\u001B[39;00m(\u001B[38;5;124m\"\u001B[39m\u001B[38;5;124mCould not evaluate Python code\u001B[39m\u001B[38;5;124m\"\u001B[39m, e)\n\u001B[1;32m    419\u001B[0m \u001B[38;5;28mself\u001B[39m\u001B[38;5;241m.\u001B[39mlog(\u001B[38;5;124mf\u001B[39m\u001B[38;5;124m\"\u001B[39m\u001B[38;5;130;01m\\n\u001B[39;00m\u001B[38;5;124mResult: \u001B[39m\u001B[38;5;132;01m{\u001B[39;00mlocals_[\u001B[38;5;124m'\u001B[39m\u001B[38;5;124mresult\u001B[39m\u001B[38;5;124m'\u001B[39m]\u001B[38;5;132;01m}\u001B[39;00m\u001B[38;5;124m\"\u001B[39m)\n",
      "\u001B[0;31mException\u001B[0m: ('Could not evaluate Python code', SyntaxError('invalid syntax', ('verify_df-CodeGen', 1, 14, 'Here is your output:\\n')))"
     ]
    }
   ],
   "source": [
    "best_albums_df.ai.verify(\"expect each year to be 2022\")"
   ]
  },
  {
   "cell_type": "markdown",
   "metadata": {},
   "source": [
    "## Example 5: UDF Generation\n",
    "\n",
    "You can also ask the SparkAI to generate code for a Spark UDF by providing."
   ]
  },
  {
   "cell_type": "code",
   "execution_count": 12,
   "metadata": {},
   "outputs": [
    {
     "name": "stdout",
     "output_type": "stream",
     "text": [
      "\u001B[92mINFO: \u001B[0mCreating following Python UDF:\n",
      "\u001B[34mdef\u001B[39;49;00m \u001B[32mconvert_grades\u001B[39;49;00m(grade_percent) -> \u001B[36mstr\u001B[39;49;00m:\u001B[37m\u001B[39;49;00m\n",
      "    \u001B[34mif\u001B[39;49;00m grade_percent \u001B[35mis\u001B[39;49;00m \u001B[35mnot\u001B[39;49;00m \u001B[34mNone\u001B[39;49;00m:\u001B[37m\u001B[39;49;00m\n",
      "        \u001B[34mif\u001B[39;49;00m grade_percent >= \u001B[34m90.0\u001B[39;49;00m:\u001B[37m\u001B[39;49;00m\n",
      "            \u001B[34mreturn\u001B[39;49;00m \u001B[33m'\u001B[39;49;00m\u001B[33mA\u001B[39;49;00m\u001B[33m'\u001B[39;49;00m\u001B[37m\u001B[39;49;00m\n",
      "        \u001B[34melif\u001B[39;49;00m grade_percent >= \u001B[34m80.0\u001B[39;49;00m:\u001B[37m\u001B[39;49;00m\n",
      "            \u001B[34mreturn\u001B[39;49;00m \u001B[33m'\u001B[39;49;00m\u001B[33mB\u001B[39;49;00m\u001B[33m'\u001B[39;49;00m\u001B[37m\u001B[39;49;00m\n",
      "        \u001B[34melif\u001B[39;49;00m grade_percent >= \u001B[34m70.0\u001B[39;49;00m:\u001B[37m\u001B[39;49;00m\n",
      "            \u001B[34mreturn\u001B[39;49;00m \u001B[33m'\u001B[39;49;00m\u001B[33mC\u001B[39;49;00m\u001B[33m'\u001B[39;49;00m\u001B[37m\u001B[39;49;00m\n",
      "        \u001B[34melif\u001B[39;49;00m grade_percent >= \u001B[34m60.0\u001B[39;49;00m:\u001B[37m\u001B[39;49;00m\n",
      "            \u001B[34mreturn\u001B[39;49;00m \u001B[33m'\u001B[39;49;00m\u001B[33mD\u001B[39;49;00m\u001B[33m'\u001B[39;49;00m\u001B[37m\u001B[39;49;00m\n",
      "        \u001B[34melse\u001B[39;49;00m:\u001B[37m\u001B[39;49;00m\n",
      "            \u001B[34mreturn\u001B[39;49;00m \u001B[33m'\u001B[39;49;00m\u001B[33mF\u001B[39;49;00m\u001B[33m'\u001B[39;49;00m\u001B[37m\u001B[39;49;00m\n",
      "\n"
     ]
    }
   ],
   "source": [
    "@spark_ai.udf\n",
    "def convert_grades(grade_percent: float) -> str:\n",
    "    \"\"\"Convert the grade percent to a letter grade using standard cutoffs\"\"\"\n",
    "    ..."
   ]
  },
  {
   "cell_type": "code",
   "execution_count": 13,
   "metadata": {},
   "outputs": [
    {
     "name": "stderr",
     "output_type": "stream",
     "text": [
      "[Stage 13:>                                                         (0 + 1) / 1]\r"
     ]
    },
    {
     "name": "stdout",
     "output_type": "stream",
     "text": [
      "+----------+-----------------------------+\n",
      "|student_id|convert_grades(grade_percent)|\n",
      "+----------+-----------------------------+\n",
      "|         1|                            A|\n",
      "|         2|                            C|\n",
      "|         3|                            B|\n",
      "+----------+-----------------------------+\n",
      "\n"
     ]
    },
    {
     "name": "stderr",
     "output_type": "stream",
     "text": [
      "                                                                                \r"
     ]
    }
   ],
   "source": [
    "from pyspark.sql import SparkSession\n",
    "\n",
    "spark = SparkSession.builder.getOrCreate()\n",
    "spark.udf.register(\"convert_grades\", convert_grades)\n",
    "percentGrades = [(1, 97.8), (2, 72.3), (3, 81.2)]\n",
    "df = spark.createDataFrame(percentGrades, [\"student_id\", \"grade_percent\"])\n",
    "df.selectExpr(\"student_id\", \"convert_grades(grade_percent)\").show()"
   ]
  },
  {
   "cell_type": "markdown",
   "metadata": {},
   "source": [
    "# Cache\n",
    "The SparkAI supports a simple in-memory and persistent cache system. It keeps an in-memory staging cache, which gets updated for LLM and web search results. The staging cache can be persisted through the commit() method. Cache lookup is always performed on both in-memory staging cache and persistent cache."
   ]
  },
  {
   "cell_type": "code",
   "execution_count": 14,
   "metadata": {},
   "outputs": [],
   "source": [
    "spark_ai.commit()"
   ]
  },
  {
   "cell_type": "code",
   "execution_count": null,
   "outputs": [],
   "source": [],
   "metadata": {
    "collapsed": false
   }
  }
 ],
 "metadata": {
  "kernelspec": {
   "display_name": "Python 3 (ipykernel)",
   "language": "python",
   "name": "python3"
  },
  "language_info": {
   "codemirror_mode": {
    "name": "ipython",
    "version": 3
   },
   "file_extension": ".py",
   "mimetype": "text/x-python",
   "name": "python",
   "nbconvert_exporter": "python",
   "pygments_lexer": "ipython3",
   "version": "3.11.4"
  }
 },
 "nbformat": 4,
 "nbformat_minor": 4
}
