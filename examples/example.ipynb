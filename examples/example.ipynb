{
 "cells": [
  {
   "cell_type": "markdown",
   "metadata": {
    "jupyter": {
     "outputs_hidden": false
    }
   },
   "source": [
    "# Spark LLM Assistant"
   ]
  },
  {
   "cell_type": "markdown",
   "metadata": {
    "jupyter": {
     "outputs_hidden": false
    }
   },
   "source": [
    "## Initialization"
   ]
  },
  {
   "cell_type": "code",
   "execution_count": 1,
   "metadata": {
    "collapsed": false,
    "jupyter": {
     "outputs_hidden": false
    }
   },
   "outputs": [
    {
     "name": "stderr",
     "output_type": "stream",
     "text": [
      "Setting default log level to \"WARN\".\n",
      "To adjust logging level use sc.setLogLevel(newLevel). For SparkR, use setLogLevel(newLevel).\n",
      "23/06/21 12:02:36 WARN NativeCodeLoader: Unable to load native-hadoop library for your platform... using builtin-java classes where applicable\n"
     ]
    }
   ],
   "source": [
    "from langchain.chat_models import ChatOpenAI\n",
    "from spark_llm import SparkLLMAssistant\n",
    "\n",
    "llm = ChatOpenAI(model_name='gpt-4') # using gpt-4 can achieve better results\n",
    "assistant=SparkLLMAssistant(llm=llm, verbose=True)\n",
    "assistant.activate() # active partial functions for Spark DataFrame"
   ]
  },
  {
   "cell_type": "markdown",
   "metadata": {
    "jupyter": {
     "outputs_hidden": false
    }
   },
   "source": [
    "## Example 1: Auto sales by brand in US 2022"
   ]
  },
  {
   "cell_type": "code",
   "execution_count": 2,
   "metadata": {
    "collapsed": false,
    "jupyter": {
     "outputs_hidden": false
    }
   },
   "outputs": [
    {
     "name": "stderr",
     "output_type": "stream",
     "text": [
      "\u001B[92mINFO: \u001B[0mParsing URL: https://www.carpro.com/blog/full-year-2022-national-auto-sales-by-brand\n",
      "\n",
      "\u001B[92mINFO: \u001B[0mSQL query for the ingestion:\n",
      "\n",
      "\u001B[92mINFO: \u001B[0m\u001B[34mCREATE\u001B[39;49;00m\u001B[37m \u001B[39;49;00m\u001B[34mOR\u001B[39;49;00m\u001B[37m \u001B[39;49;00m\u001B[34mREPLACE\u001B[39;49;00m\u001B[37m \u001B[39;49;00mTEMP\u001B[37m \u001B[39;49;00m\u001B[34mVIEW\u001B[39;49;00m\u001B[37m \u001B[39;49;00mauto_sales_2022\u001B[37m \u001B[39;49;00m\u001B[34mAS\u001B[39;49;00m\u001B[37m \u001B[39;49;00m\u001B[34mSELECT\u001B[39;49;00m\u001B[37m \u001B[39;49;00m*\u001B[37m \u001B[39;49;00m\u001B[34mFROM\u001B[39;49;00m\u001B[37m \u001B[39;49;00m\u001B[34mVALUES\u001B[39;49;00m\u001B[37m\u001B[39;49;00m\n",
      "(\u001B[34m1\u001B[39;49;00m,\u001B[37m \u001B[39;49;00m\u001B[33m'Toyota'\u001B[39;49;00m,\u001B[37m \u001B[39;49;00m\u001B[34m1849751\u001B[39;49;00m,\u001B[37m \u001B[39;49;00m-\u001B[34m9\u001B[39;49;00m),\u001B[37m\u001B[39;49;00m\n",
      "(\u001B[34m2\u001B[39;49;00m,\u001B[37m \u001B[39;49;00m\u001B[33m'Ford'\u001B[39;49;00m,\u001B[37m \u001B[39;49;00m\u001B[34m1767439\u001B[39;49;00m,\u001B[37m \u001B[39;49;00m-\u001B[34m2\u001B[39;49;00m),\u001B[37m\u001B[39;49;00m\n",
      "(\u001B[34m3\u001B[39;49;00m,\u001B[37m \u001B[39;49;00m\u001B[33m'Chevrolet'\u001B[39;49;00m,\u001B[37m \u001B[39;49;00m\u001B[34m1502389\u001B[39;49;00m,\u001B[37m \u001B[39;49;00m\u001B[34m6\u001B[39;49;00m),\u001B[37m\u001B[39;49;00m\n",
      "(\u001B[34m4\u001B[39;49;00m,\u001B[37m \u001B[39;49;00m\u001B[33m'Honda'\u001B[39;49;00m,\u001B[37m \u001B[39;49;00m\u001B[34m881201\u001B[39;49;00m,\u001B[37m \u001B[39;49;00m-\u001B[34m33\u001B[39;49;00m),\u001B[37m\u001B[39;49;00m\n",
      "(\u001B[34m5\u001B[39;49;00m,\u001B[37m \u001B[39;49;00m\u001B[33m'Hyundai'\u001B[39;49;00m,\u001B[37m \u001B[39;49;00m\u001B[34m724265\u001B[39;49;00m,\u001B[37m \u001B[39;49;00m-\u001B[34m2\u001B[39;49;00m),\u001B[37m\u001B[39;49;00m\n",
      "(\u001B[34m6\u001B[39;49;00m,\u001B[37m \u001B[39;49;00m\u001B[33m'Kia'\u001B[39;49;00m,\u001B[37m \u001B[39;49;00m\u001B[34m693549\u001B[39;49;00m,\u001B[37m \u001B[39;49;00m-\u001B[34m1\u001B[39;49;00m),\u001B[37m\u001B[39;49;00m\n",
      "(\u001B[34m7\u001B[39;49;00m,\u001B[37m \u001B[39;49;00m\u001B[33m'Jeep'\u001B[39;49;00m,\u001B[37m \u001B[39;49;00m\u001B[34m684612\u001B[39;49;00m,\u001B[37m \u001B[39;49;00m-\u001B[34m12\u001B[39;49;00m),\u001B[37m\u001B[39;49;00m\n",
      "(\u001B[34m8\u001B[39;49;00m,\u001B[37m \u001B[39;49;00m\u001B[33m'Nissan'\u001B[39;49;00m,\u001B[37m \u001B[39;49;00m\u001B[34m682731\u001B[39;49;00m,\u001B[37m \u001B[39;49;00m-\u001B[34m25\u001B[39;49;00m),\u001B[37m\u001B[39;49;00m\n",
      "(\u001B[34m9\u001B[39;49;00m,\u001B[37m \u001B[39;49;00m\u001B[33m'Subaru'\u001B[39;49;00m,\u001B[37m \u001B[39;49;00m\u001B[34m556581\u001B[39;49;00m,\u001B[37m \u001B[39;49;00m-\u001B[34m5\u001B[39;49;00m),\u001B[37m\u001B[39;49;00m\n",
      "(\u001B[34m10\u001B[39;49;00m,\u001B[37m \u001B[39;49;00m\u001B[33m'Ram Trucks'\u001B[39;49;00m,\u001B[37m \u001B[39;49;00m\u001B[34m545194\u001B[39;49;00m,\u001B[37m \u001B[39;49;00m-\u001B[34m16\u001B[39;49;00m),\u001B[37m\u001B[39;49;00m\n",
      "(\u001B[34m11\u001B[39;49;00m,\u001B[37m \u001B[39;49;00m\u001B[33m'GMC'\u001B[39;49;00m,\u001B[37m \u001B[39;49;00m\u001B[34m517649\u001B[39;49;00m,\u001B[37m \u001B[39;49;00m\u001B[34m7\u001B[39;49;00m),\u001B[37m\u001B[39;49;00m\n",
      "(\u001B[34m12\u001B[39;49;00m,\u001B[37m \u001B[39;49;00m\u001B[33m'Mercedes-Benz'\u001B[39;49;00m,\u001B[37m \u001B[39;49;00m\u001B[34m350949\u001B[39;49;00m,\u001B[37m \u001B[39;49;00m\u001B[34m7\u001B[39;49;00m),\u001B[37m\u001B[39;49;00m\n",
      "(\u001B[34m13\u001B[39;49;00m,\u001B[37m \u001B[39;49;00m\u001B[33m'BMW'\u001B[39;49;00m,\u001B[37m \u001B[39;49;00m\u001B[34m332388\u001B[39;49;00m,\u001B[37m \u001B[39;49;00m-\u001B[34m1\u001B[39;49;00m),\u001B[37m\u001B[39;49;00m\n",
      "(\u001B[34m14\u001B[39;49;00m,\u001B[37m \u001B[39;49;00m\u001B[33m'Volkswagen'\u001B[39;49;00m,\u001B[37m \u001B[39;49;00m\u001B[34m301069\u001B[39;49;00m,\u001B[37m \u001B[39;49;00m-\u001B[34m20\u001B[39;49;00m),\u001B[37m\u001B[39;49;00m\n",
      "(\u001B[34m15\u001B[39;49;00m,\u001B[37m \u001B[39;49;00m\u001B[33m'Mazda'\u001B[39;49;00m,\u001B[37m \u001B[39;49;00m\u001B[34m294908\u001B[39;49;00m,\u001B[37m \u001B[39;49;00m-\u001B[34m11\u001B[39;49;00m),\u001B[37m\u001B[39;49;00m\n",
      "(\u001B[34m16\u001B[39;49;00m,\u001B[37m \u001B[39;49;00m\u001B[33m'Lexus'\u001B[39;49;00m,\u001B[37m \u001B[39;49;00m\u001B[34m258704\u001B[39;49;00m,\u001B[37m \u001B[39;49;00m-\u001B[34m15\u001B[39;49;00m),\u001B[37m\u001B[39;49;00m\n",
      "(\u001B[34m17\u001B[39;49;00m,\u001B[37m \u001B[39;49;00m\u001B[33m'Dodge'\u001B[39;49;00m,\u001B[37m \u001B[39;49;00m\u001B[34m190793\u001B[39;49;00m,\u001B[37m \u001B[39;49;00m-\u001B[34m12\u001B[39;49;00m),\u001B[37m\u001B[39;49;00m\n",
      "(\u001B[34m18\u001B[39;49;00m,\u001B[37m \u001B[39;49;00m\u001B[33m'Audi'\u001B[39;49;00m,\u001B[37m \u001B[39;49;00m\u001B[34m186875\u001B[39;49;00m,\u001B[37m \u001B[39;49;00m-\u001B[34m5\u001B[39;49;00m),\u001B[37m\u001B[39;49;00m\n",
      "(\u001B[34m19\u001B[39;49;00m,\u001B[37m \u001B[39;49;00m\u001B[33m'Cadillac'\u001B[39;49;00m,\u001B[37m \u001B[39;49;00m\u001B[34m134726\u001B[39;49;00m,\u001B[37m \u001B[39;49;00m\u001B[34m14\u001B[39;49;00m),\u001B[37m\u001B[39;49;00m\n",
      "(\u001B[34m20\u001B[39;49;00m,\u001B[37m \u001B[39;49;00m\u001B[33m'Chrysler'\u001B[39;49;00m,\u001B[37m \u001B[39;49;00m\u001B[34m112713\u001B[39;49;00m,\u001B[37m \u001B[39;49;00m-\u001B[34m2\u001B[39;49;00m),\u001B[37m\u001B[39;49;00m\n",
      "(\u001B[34m21\u001B[39;49;00m,\u001B[37m \u001B[39;49;00m\u001B[33m'Buick'\u001B[39;49;00m,\u001B[37m \u001B[39;49;00m\u001B[34m103519\u001B[39;49;00m,\u001B[37m \u001B[39;49;00m-\u001B[34m42\u001B[39;49;00m),\u001B[37m\u001B[39;49;00m\n",
      "(\u001B[34m22\u001B[39;49;00m,\u001B[37m \u001B[39;49;00m\u001B[33m'Acura'\u001B[39;49;00m,\u001B[37m \u001B[39;49;00m\u001B[34m102306\u001B[39;49;00m,\u001B[37m \u001B[39;49;00m-\u001B[34m35\u001B[39;49;00m),\u001B[37m\u001B[39;49;00m\n",
      "(\u001B[34m23\u001B[39;49;00m,\u001B[37m \u001B[39;49;00m\u001B[33m'Volvo'\u001B[39;49;00m,\u001B[37m \u001B[39;49;00m\u001B[34m102038\u001B[39;49;00m,\u001B[37m \u001B[39;49;00m-\u001B[34m16\u001B[39;49;00m),\u001B[37m\u001B[39;49;00m\n",
      "(\u001B[34m24\u001B[39;49;00m,\u001B[37m \u001B[39;49;00m\u001B[33m'Mitsubishi'\u001B[39;49;00m,\u001B[37m \u001B[39;49;00m\u001B[34m102037\u001B[39;49;00m,\u001B[37m \u001B[39;49;00m-\u001B[34m16\u001B[39;49;00m),\u001B[37m\u001B[39;49;00m\n",
      "(\u001B[34m25\u001B[39;49;00m,\u001B[37m \u001B[39;49;00m\u001B[33m'Lincoln'\u001B[39;49;00m,\u001B[37m \u001B[39;49;00m\u001B[34m83486\u001B[39;49;00m,\u001B[37m \u001B[39;49;00m-\u001B[34m4\u001B[39;49;00m),\u001B[37m\u001B[39;49;00m\n",
      "(\u001B[34m26\u001B[39;49;00m,\u001B[37m \u001B[39;49;00m\u001B[33m'Porsche'\u001B[39;49;00m,\u001B[37m \u001B[39;49;00m\u001B[34m70065\u001B[39;49;00m,\u001B[37m \u001B[39;49;00m\u001B[34m0\u001B[39;49;00m),\u001B[37m\u001B[39;49;00m\n",
      "(\u001B[34m27\u001B[39;49;00m,\u001B[37m \u001B[39;49;00m\u001B[33m'Genesis'\u001B[39;49;00m,\u001B[37m \u001B[39;49;00m\u001B[34m56410\u001B[39;49;00m,\u001B[37m \u001B[39;49;00m\u001B[34m14\u001B[39;49;00m),\u001B[37m\u001B[39;49;00m\n",
      "(\u001B[34m28\u001B[39;49;00m,\u001B[37m \u001B[39;49;00m\u001B[33m'INFINITI'\u001B[39;49;00m,\u001B[37m \u001B[39;49;00m\u001B[34m46619\u001B[39;49;00m,\u001B[37m \u001B[39;49;00m-\u001B[34m20\u001B[39;49;00m),\u001B[37m\u001B[39;49;00m\n",
      "(\u001B[34m29\u001B[39;49;00m,\u001B[37m \u001B[39;49;00m\u001B[33m'MINI'\u001B[39;49;00m,\u001B[37m \u001B[39;49;00m\u001B[34m29504\u001B[39;49;00m,\u001B[37m \u001B[39;49;00m-\u001B[34m1\u001B[39;49;00m),\u001B[37m\u001B[39;49;00m\n",
      "(\u001B[34m30\u001B[39;49;00m,\u001B[37m \u001B[39;49;00m\u001B[33m'Alfa Romeo'\u001B[39;49;00m,\u001B[37m \u001B[39;49;00m\u001B[34m12845\u001B[39;49;00m,\u001B[37m \u001B[39;49;00m-\u001B[34m30\u001B[39;49;00m),\u001B[37m\u001B[39;49;00m\n",
      "(\u001B[34m31\u001B[39;49;00m,\u001B[37m \u001B[39;49;00m\u001B[33m'Maserati'\u001B[39;49;00m,\u001B[37m \u001B[39;49;00m\u001B[34m6413\u001B[39;49;00m,\u001B[37m \u001B[39;49;00m-\u001B[34m10\u001B[39;49;00m),\u001B[37m\u001B[39;49;00m\n",
      "(\u001B[34m32\u001B[39;49;00m,\u001B[37m \u001B[39;49;00m\u001B[33m'Bentley'\u001B[39;49;00m,\u001B[37m \u001B[39;49;00m\u001B[34m3975\u001B[39;49;00m,\u001B[37m \u001B[39;49;00m\u001B[34m0\u001B[39;49;00m),\u001B[37m\u001B[39;49;00m\n",
      "(\u001B[34m33\u001B[39;49;00m,\u001B[37m \u001B[39;49;00m\u001B[33m'Lamborghini'\u001B[39;49;00m,\u001B[37m \u001B[39;49;00m\u001B[34m3134\u001B[39;49;00m,\u001B[37m \u001B[39;49;00m\u001B[34m3\u001B[39;49;00m),\u001B[37m\u001B[39;49;00m\n",
      "(\u001B[34m34\u001B[39;49;00m,\u001B[37m \u001B[39;49;00m\u001B[33m'Fiat'\u001B[39;49;00m,\u001B[37m \u001B[39;49;00m\u001B[34m915\u001B[39;49;00m,\u001B[37m \u001B[39;49;00m-\u001B[34m61\u001B[39;49;00m),\u001B[37m\u001B[39;49;00m\n",
      "(\u001B[34m35\u001B[39;49;00m,\u001B[37m \u001B[39;49;00m\u001B[33m'McLaren'\u001B[39;49;00m,\u001B[37m \u001B[39;49;00m\u001B[34m840\u001B[39;49;00m,\u001B[37m \u001B[39;49;00m-\u001B[34m35\u001B[39;49;00m),\u001B[37m\u001B[39;49;00m\n",
      "(\u001B[34m36\u001B[39;49;00m,\u001B[37m \u001B[39;49;00m\u001B[33m'Rolls-Royce'\u001B[39;49;00m,\u001B[37m \u001B[39;49;00m\u001B[34m460\u001B[39;49;00m,\u001B[37m \u001B[39;49;00m\u001B[34m7\u001B[39;49;00m)\u001B[37m\u001B[39;49;00m\n",
      "\u001B[34mAS\u001B[39;49;00m\u001B[37m \u001B[39;49;00mv1(rank,\u001B[37m \u001B[39;49;00mbrand,\u001B[37m \u001B[39;49;00mus_sales,\u001B[37m \u001B[39;49;00mvs_2021);\u001B[37m\u001B[39;49;00m\n",
      "\n",
      "\u001B[92mINFO: \u001B[0mStoring data into temp view: auto_sales_2022\n",
      "\n"
     ]
    },
    {
     "name": "stdout",
     "output_type": "stream",
     "text": [
      "+----+-------------+--------+-------+\n",
      "|rank|        brand|us_sales|vs_2021|\n",
      "+----+-------------+--------+-------+\n",
      "|   1|       Toyota| 1849751|     -9|\n",
      "|   2|         Ford| 1767439|     -2|\n",
      "|   3|    Chevrolet| 1502389|      6|\n",
      "|   4|        Honda|  881201|    -33|\n",
      "|   5|      Hyundai|  724265|     -2|\n",
      "|   6|          Kia|  693549|     -1|\n",
      "|   7|         Jeep|  684612|    -12|\n",
      "|   8|       Nissan|  682731|    -25|\n",
      "|   9|       Subaru|  556581|     -5|\n",
      "|  10|   Ram Trucks|  545194|    -16|\n",
      "|  11|          GMC|  517649|      7|\n",
      "|  12|Mercedes-Benz|  350949|      7|\n",
      "|  13|          BMW|  332388|     -1|\n",
      "|  14|   Volkswagen|  301069|    -20|\n",
      "|  15|        Mazda|  294908|    -11|\n",
      "|  16|        Lexus|  258704|    -15|\n",
      "|  17|        Dodge|  190793|    -12|\n",
      "|  18|         Audi|  186875|     -5|\n",
      "|  19|     Cadillac|  134726|     14|\n",
      "|  20|     Chrysler|  112713|     -2|\n",
      "+----+-------------+--------+-------+\n",
      "only showing top 20 rows\n",
      "\n"
     ]
    }
   ],
   "source": [
    "# Search and ingest web content into a DataFrame\n",
    "auto_df = assistant.create_df(\"2022 USA national auto sales by brand\")\n",
    "auto_df.show()"
   ]
  },
  {
   "cell_type": "code",
   "execution_count": 5,
   "metadata": {
    "collapsed": false,
    "jupyter": {
     "outputs_hidden": false
    }
   },
   "outputs": [
    {
     "name": "stderr",
     "output_type": "stream",
     "text": [
      "\u001B[92mINFO: \u001B[0mTo visualize the result of `df` using Plotly, you can follow these steps:\n",
      "\n",
      "1. First, make sure you have the Plotly package installed. You can install it using `!pip install plotly` if you are using Jupyter Notebook or `pip install plotly` in your terminal.\n",
      "\n",
      "2. Convert the PySpark DataFrame to a Pandas DataFrame.\n",
      "\n",
      "3. Create a plot using Plotly's graph objects.\n",
      "\n",
      "Here's the code:\n",
      "\n",
      "\n",
      "```\n",
      "\u001B[34mimport\u001B[39;49;00m \u001B[04m\u001B[36mplotly\u001B[39;49;00m\u001B[04m\u001B[36m.\u001B[39;49;00m\u001B[04m\u001B[36mgraph_objects\u001B[39;49;00m \u001B[34mas\u001B[39;49;00m \u001B[04m\u001B[36mgo\u001B[39;49;00m\n",
      "\u001B[34mimport\u001B[39;49;00m \u001B[04m\u001B[36mplotly\u001B[39;49;00m\u001B[04m\u001B[36m.\u001B[39;49;00m\u001B[04m\u001B[36mexpress\u001B[39;49;00m \u001B[34mas\u001B[39;49;00m \u001B[04m\u001B[36mpx\u001B[39;49;00m\n",
      "\n",
      "\u001B[37m# Convert the PySpark DataFrame to a Pandas DataFrame\u001B[39;49;00m\n",
      "pdf = df.toPandas()\n",
      "\n",
      "\u001B[37m# Create a bar plot using Plotly\u001B[39;49;00m\n",
      "fig = px.bar(pdf, x=\u001B[33m'\u001B[39;49;00m\u001B[33mbrand\u001B[39;49;00m\u001B[33m'\u001B[39;49;00m, y=\u001B[33m'\u001B[39;49;00m\u001B[33mus_sales\u001B[39;49;00m\u001B[33m'\u001B[39;49;00m, text=\u001B[33m'\u001B[39;49;00m\u001B[33mrank\u001B[39;49;00m\u001B[33m'\u001B[39;49;00m, title=\u001B[33m'\u001B[39;49;00m\u001B[33mUS Auto Sales 2022\u001B[39;49;00m\u001B[33m'\u001B[39;49;00m)\n",
      "\n",
      "\u001B[37m# Customize the plot\u001B[39;49;00m\n",
      "fig.update_traces(texttemplate=\u001B[33m'\u001B[39;49;00m\u001B[33m%\u001B[39;49;00m\u001B[33m{text}\u001B[39;49;00m\u001B[33m'\u001B[39;49;00m, textposition=\u001B[33m'\u001B[39;49;00m\u001B[33moutside\u001B[39;49;00m\u001B[33m'\u001B[39;49;00m)\n",
      "fig.update_layout(xaxis_title=\u001B[33m'\u001B[39;49;00m\u001B[33mBrand\u001B[39;49;00m\u001B[33m'\u001B[39;49;00m, yaxis_title=\u001B[33m'\u001B[39;49;00m\u001B[33mUS Sales\u001B[39;49;00m\u001B[33m'\u001B[39;49;00m)\n",
      "\n",
      "\u001B[37m# Show the plot\u001B[39;49;00m\n",
      "fig.show()\n",
      "```\n",
      "\n",
      "This code will create a bar plot with the brand on the x-axis and US sales on the y-axis. The rank of each brand will be displayed above each bar. The plot will be directly displayed instead of being saved as an HTML file.\n"
     ]
    },
    {
     "data": {
      "application/vnd.plotly.v1+json": {
       "data": [
        {
         "alignmentgroup": "True",
         "hovertemplate": "brand=%{x}<br>us_sales=%{y}<br>rank=%{text}<extra></extra>",
         "legendgroup": "",
         "marker": {
          "color": "#636efa",
          "pattern": {
           "shape": ""
          }
         },
         "name": "",
         "offsetgroup": "",
         "orientation": "v",
         "showlegend": false,
         "text": [
          1.0,
          2.0,
          3.0,
          4.0,
          5.0,
          6.0,
          7.0,
          8.0,
          9.0,
          10.0,
          11.0,
          12.0,
          13.0,
          14.0,
          15.0,
          16.0,
          17.0,
          18.0,
          19.0,
          20.0,
          21.0,
          22.0,
          23.0,
          24.0,
          25.0,
          26.0,
          27.0,
          28.0,
          29.0,
          30.0,
          31.0,
          32.0,
          33.0,
          34.0,
          35.0,
          36.0
         ],
         "textposition": "outside",
         "x": [
          "Toyota",
          "Ford",
          "Chevrolet",
          "Honda",
          "Hyundai",
          "Kia",
          "Jeep",
          "Nissan",
          "Subaru",
          "Ram Trucks",
          "GMC",
          "Mercedes-Benz",
          "BMW",
          "Volkswagen",
          "Mazda",
          "Lexus",
          "Dodge",
          "Audi",
          "Cadillac",
          "Chrysler",
          "Buick",
          "Acura",
          "Volvo",
          "Mitsubishi",
          "Lincoln",
          "Porsche",
          "Genesis",
          "INFINITI",
          "MINI",
          "Alfa Romeo",
          "Maserati",
          "Bentley",
          "Lamborghini",
          "Fiat",
          "McLaren",
          "Rolls-Royce"
         ],
         "xaxis": "x",
         "y": [
          1849751,
          1767439,
          1502389,
          881201,
          724265,
          693549,
          684612,
          682731,
          556581,
          545194,
          517649,
          350949,
          332388,
          301069,
          294908,
          258704,
          190793,
          186875,
          134726,
          112713,
          103519,
          102306,
          102038,
          102037,
          83486,
          70065,
          56410,
          46619,
          29504,
          12845,
          6413,
          3975,
          3134,
          915,
          840,
          460
         ],
         "yaxis": "y",
         "type": "bar",
         "texttemplate": "%{text}"
        }
       ],
       "layout": {
        "template": {
         "data": {
          "histogram2dcontour": [
           {
            "type": "histogram2dcontour",
            "colorbar": {
             "outlinewidth": 0,
             "ticks": ""
            },
            "colorscale": [
             [
              0.0,
              "#0d0887"
             ],
             [
              0.1111111111111111,
              "#46039f"
             ],
             [
              0.2222222222222222,
              "#7201a8"
             ],
             [
              0.3333333333333333,
              "#9c179e"
             ],
             [
              0.4444444444444444,
              "#bd3786"
             ],
             [
              0.5555555555555556,
              "#d8576b"
             ],
             [
              0.6666666666666666,
              "#ed7953"
             ],
             [
              0.7777777777777778,
              "#fb9f3a"
             ],
             [
              0.8888888888888888,
              "#fdca26"
             ],
             [
              1.0,
              "#f0f921"
             ]
            ]
           }
          ],
          "choropleth": [
           {
            "type": "choropleth",
            "colorbar": {
             "outlinewidth": 0,
             "ticks": ""
            }
           }
          ],
          "histogram2d": [
           {
            "type": "histogram2d",
            "colorbar": {
             "outlinewidth": 0,
             "ticks": ""
            },
            "colorscale": [
             [
              0.0,
              "#0d0887"
             ],
             [
              0.1111111111111111,
              "#46039f"
             ],
             [
              0.2222222222222222,
              "#7201a8"
             ],
             [
              0.3333333333333333,
              "#9c179e"
             ],
             [
              0.4444444444444444,
              "#bd3786"
             ],
             [
              0.5555555555555556,
              "#d8576b"
             ],
             [
              0.6666666666666666,
              "#ed7953"
             ],
             [
              0.7777777777777778,
              "#fb9f3a"
             ],
             [
              0.8888888888888888,
              "#fdca26"
             ],
             [
              1.0,
              "#f0f921"
             ]
            ]
           }
          ],
          "heatmap": [
           {
            "type": "heatmap",
            "colorbar": {
             "outlinewidth": 0,
             "ticks": ""
            },
            "colorscale": [
             [
              0.0,
              "#0d0887"
             ],
             [
              0.1111111111111111,
              "#46039f"
             ],
             [
              0.2222222222222222,
              "#7201a8"
             ],
             [
              0.3333333333333333,
              "#9c179e"
             ],
             [
              0.4444444444444444,
              "#bd3786"
             ],
             [
              0.5555555555555556,
              "#d8576b"
             ],
             [
              0.6666666666666666,
              "#ed7953"
             ],
             [
              0.7777777777777778,
              "#fb9f3a"
             ],
             [
              0.8888888888888888,
              "#fdca26"
             ],
             [
              1.0,
              "#f0f921"
             ]
            ]
           }
          ],
          "heatmapgl": [
           {
            "type": "heatmapgl",
            "colorbar": {
             "outlinewidth": 0,
             "ticks": ""
            },
            "colorscale": [
             [
              0.0,
              "#0d0887"
             ],
             [
              0.1111111111111111,
              "#46039f"
             ],
             [
              0.2222222222222222,
              "#7201a8"
             ],
             [
              0.3333333333333333,
              "#9c179e"
             ],
             [
              0.4444444444444444,
              "#bd3786"
             ],
             [
              0.5555555555555556,
              "#d8576b"
             ],
             [
              0.6666666666666666,
              "#ed7953"
             ],
             [
              0.7777777777777778,
              "#fb9f3a"
             ],
             [
              0.8888888888888888,
              "#fdca26"
             ],
             [
              1.0,
              "#f0f921"
             ]
            ]
           }
          ],
          "contourcarpet": [
           {
            "type": "contourcarpet",
            "colorbar": {
             "outlinewidth": 0,
             "ticks": ""
            }
           }
          ],
          "contour": [
           {
            "type": "contour",
            "colorbar": {
             "outlinewidth": 0,
             "ticks": ""
            },
            "colorscale": [
             [
              0.0,
              "#0d0887"
             ],
             [
              0.1111111111111111,
              "#46039f"
             ],
             [
              0.2222222222222222,
              "#7201a8"
             ],
             [
              0.3333333333333333,
              "#9c179e"
             ],
             [
              0.4444444444444444,
              "#bd3786"
             ],
             [
              0.5555555555555556,
              "#d8576b"
             ],
             [
              0.6666666666666666,
              "#ed7953"
             ],
             [
              0.7777777777777778,
              "#fb9f3a"
             ],
             [
              0.8888888888888888,
              "#fdca26"
             ],
             [
              1.0,
              "#f0f921"
             ]
            ]
           }
          ],
          "surface": [
           {
            "type": "surface",
            "colorbar": {
             "outlinewidth": 0,
             "ticks": ""
            },
            "colorscale": [
             [
              0.0,
              "#0d0887"
             ],
             [
              0.1111111111111111,
              "#46039f"
             ],
             [
              0.2222222222222222,
              "#7201a8"
             ],
             [
              0.3333333333333333,
              "#9c179e"
             ],
             [
              0.4444444444444444,
              "#bd3786"
             ],
             [
              0.5555555555555556,
              "#d8576b"
             ],
             [
              0.6666666666666666,
              "#ed7953"
             ],
             [
              0.7777777777777778,
              "#fb9f3a"
             ],
             [
              0.8888888888888888,
              "#fdca26"
             ],
             [
              1.0,
              "#f0f921"
             ]
            ]
           }
          ],
          "mesh3d": [
           {
            "type": "mesh3d",
            "colorbar": {
             "outlinewidth": 0,
             "ticks": ""
            }
           }
          ],
          "scatter": [
           {
            "fillpattern": {
             "fillmode": "overlay",
             "size": 10,
             "solidity": 0.2
            },
            "type": "scatter"
           }
          ],
          "parcoords": [
           {
            "type": "parcoords",
            "line": {
             "colorbar": {
              "outlinewidth": 0,
              "ticks": ""
             }
            }
           }
          ],
          "scatterpolargl": [
           {
            "type": "scatterpolargl",
            "marker": {
             "colorbar": {
              "outlinewidth": 0,
              "ticks": ""
             }
            }
           }
          ],
          "bar": [
           {
            "error_x": {
             "color": "#2a3f5f"
            },
            "error_y": {
             "color": "#2a3f5f"
            },
            "marker": {
             "line": {
              "color": "#E5ECF6",
              "width": 0.5
             },
             "pattern": {
              "fillmode": "overlay",
              "size": 10,
              "solidity": 0.2
             }
            },
            "type": "bar"
           }
          ],
          "scattergeo": [
           {
            "type": "scattergeo",
            "marker": {
             "colorbar": {
              "outlinewidth": 0,
              "ticks": ""
             }
            }
           }
          ],
          "scatterpolar": [
           {
            "type": "scatterpolar",
            "marker": {
             "colorbar": {
              "outlinewidth": 0,
              "ticks": ""
             }
            }
           }
          ],
          "histogram": [
           {
            "marker": {
             "pattern": {
              "fillmode": "overlay",
              "size": 10,
              "solidity": 0.2
             }
            },
            "type": "histogram"
           }
          ],
          "scattergl": [
           {
            "type": "scattergl",
            "marker": {
             "colorbar": {
              "outlinewidth": 0,
              "ticks": ""
             }
            }
           }
          ],
          "scatter3d": [
           {
            "type": "scatter3d",
            "line": {
             "colorbar": {
              "outlinewidth": 0,
              "ticks": ""
             }
            },
            "marker": {
             "colorbar": {
              "outlinewidth": 0,
              "ticks": ""
             }
            }
           }
          ],
          "scattermapbox": [
           {
            "type": "scattermapbox",
            "marker": {
             "colorbar": {
              "outlinewidth": 0,
              "ticks": ""
             }
            }
           }
          ],
          "scatterternary": [
           {
            "type": "scatterternary",
            "marker": {
             "colorbar": {
              "outlinewidth": 0,
              "ticks": ""
             }
            }
           }
          ],
          "scattercarpet": [
           {
            "type": "scattercarpet",
            "marker": {
             "colorbar": {
              "outlinewidth": 0,
              "ticks": ""
             }
            }
           }
          ],
          "carpet": [
           {
            "aaxis": {
             "endlinecolor": "#2a3f5f",
             "gridcolor": "white",
             "linecolor": "white",
             "minorgridcolor": "white",
             "startlinecolor": "#2a3f5f"
            },
            "baxis": {
             "endlinecolor": "#2a3f5f",
             "gridcolor": "white",
             "linecolor": "white",
             "minorgridcolor": "white",
             "startlinecolor": "#2a3f5f"
            },
            "type": "carpet"
           }
          ],
          "table": [
           {
            "cells": {
             "fill": {
              "color": "#EBF0F8"
             },
             "line": {
              "color": "white"
             }
            },
            "header": {
             "fill": {
              "color": "#C8D4E3"
             },
             "line": {
              "color": "white"
             }
            },
            "type": "table"
           }
          ],
          "barpolar": [
           {
            "marker": {
             "line": {
              "color": "#E5ECF6",
              "width": 0.5
             },
             "pattern": {
              "fillmode": "overlay",
              "size": 10,
              "solidity": 0.2
             }
            },
            "type": "barpolar"
           }
          ],
          "pie": [
           {
            "automargin": true,
            "type": "pie"
           }
          ]
         },
         "layout": {
          "autotypenumbers": "strict",
          "colorway": [
           "#636efa",
           "#EF553B",
           "#00cc96",
           "#ab63fa",
           "#FFA15A",
           "#19d3f3",
           "#FF6692",
           "#B6E880",
           "#FF97FF",
           "#FECB52"
          ],
          "font": {
           "color": "#2a3f5f"
          },
          "hovermode": "closest",
          "hoverlabel": {
           "align": "left"
          },
          "paper_bgcolor": "white",
          "plot_bgcolor": "#E5ECF6",
          "polar": {
           "bgcolor": "#E5ECF6",
           "angularaxis": {
            "gridcolor": "white",
            "linecolor": "white",
            "ticks": ""
           },
           "radialaxis": {
            "gridcolor": "white",
            "linecolor": "white",
            "ticks": ""
           }
          },
          "ternary": {
           "bgcolor": "#E5ECF6",
           "aaxis": {
            "gridcolor": "white",
            "linecolor": "white",
            "ticks": ""
           },
           "baxis": {
            "gridcolor": "white",
            "linecolor": "white",
            "ticks": ""
           },
           "caxis": {
            "gridcolor": "white",
            "linecolor": "white",
            "ticks": ""
           }
          },
          "coloraxis": {
           "colorbar": {
            "outlinewidth": 0,
            "ticks": ""
           }
          },
          "colorscale": {
           "sequential": [
            [
             0.0,
             "#0d0887"
            ],
            [
             0.1111111111111111,
             "#46039f"
            ],
            [
             0.2222222222222222,
             "#7201a8"
            ],
            [
             0.3333333333333333,
             "#9c179e"
            ],
            [
             0.4444444444444444,
             "#bd3786"
            ],
            [
             0.5555555555555556,
             "#d8576b"
            ],
            [
             0.6666666666666666,
             "#ed7953"
            ],
            [
             0.7777777777777778,
             "#fb9f3a"
            ],
            [
             0.8888888888888888,
             "#fdca26"
            ],
            [
             1.0,
             "#f0f921"
            ]
           ],
           "sequentialminus": [
            [
             0.0,
             "#0d0887"
            ],
            [
             0.1111111111111111,
             "#46039f"
            ],
            [
             0.2222222222222222,
             "#7201a8"
            ],
            [
             0.3333333333333333,
             "#9c179e"
            ],
            [
             0.4444444444444444,
             "#bd3786"
            ],
            [
             0.5555555555555556,
             "#d8576b"
            ],
            [
             0.6666666666666666,
             "#ed7953"
            ],
            [
             0.7777777777777778,
             "#fb9f3a"
            ],
            [
             0.8888888888888888,
             "#fdca26"
            ],
            [
             1.0,
             "#f0f921"
            ]
           ],
           "diverging": [
            [
             0,
             "#8e0152"
            ],
            [
             0.1,
             "#c51b7d"
            ],
            [
             0.2,
             "#de77ae"
            ],
            [
             0.3,
             "#f1b6da"
            ],
            [
             0.4,
             "#fde0ef"
            ],
            [
             0.5,
             "#f7f7f7"
            ],
            [
             0.6,
             "#e6f5d0"
            ],
            [
             0.7,
             "#b8e186"
            ],
            [
             0.8,
             "#7fbc41"
            ],
            [
             0.9,
             "#4d9221"
            ],
            [
             1,
             "#276419"
            ]
           ]
          },
          "xaxis": {
           "gridcolor": "white",
           "linecolor": "white",
           "ticks": "",
           "title": {
            "standoff": 15
           },
           "zerolinecolor": "white",
           "automargin": true,
           "zerolinewidth": 2
          },
          "yaxis": {
           "gridcolor": "white",
           "linecolor": "white",
           "ticks": "",
           "title": {
            "standoff": 15
           },
           "zerolinecolor": "white",
           "automargin": true,
           "zerolinewidth": 2
          },
          "scene": {
           "xaxis": {
            "backgroundcolor": "#E5ECF6",
            "gridcolor": "white",
            "linecolor": "white",
            "showbackground": true,
            "ticks": "",
            "zerolinecolor": "white",
            "gridwidth": 2
           },
           "yaxis": {
            "backgroundcolor": "#E5ECF6",
            "gridcolor": "white",
            "linecolor": "white",
            "showbackground": true,
            "ticks": "",
            "zerolinecolor": "white",
            "gridwidth": 2
           },
           "zaxis": {
            "backgroundcolor": "#E5ECF6",
            "gridcolor": "white",
            "linecolor": "white",
            "showbackground": true,
            "ticks": "",
            "zerolinecolor": "white",
            "gridwidth": 2
           }
          },
          "shapedefaults": {
           "line": {
            "color": "#2a3f5f"
           }
          },
          "annotationdefaults": {
           "arrowcolor": "#2a3f5f",
           "arrowhead": 0,
           "arrowwidth": 1
          },
          "geo": {
           "bgcolor": "white",
           "landcolor": "#E5ECF6",
           "subunitcolor": "white",
           "showland": true,
           "showlakes": true,
           "lakecolor": "white"
          },
          "title": {
           "x": 0.05
          },
          "mapbox": {
           "style": "light"
          }
         }
        },
        "xaxis": {
         "anchor": "y",
         "domain": [
          0.0,
          1.0
         ],
         "title": {
          "text": "Brand"
         }
        },
        "yaxis": {
         "anchor": "x",
         "domain": [
          0.0,
          1.0
         ],
         "title": {
          "text": "US Sales"
         }
        },
        "legend": {
         "tracegroupgap": 0
        },
        "title": {
         "text": "US Auto Sales 2022"
        },
        "barmode": "relative"
       },
       "config": {
        "plotlyServerURL": "https://plot.ly"
       }
      },
      "text/html": "<div>                            <div id=\"3761d41f-bf8f-463f-bfde-a39582c22f04\" class=\"plotly-graph-div\" style=\"height:525px; width:100%;\"></div>            <script type=\"text/javascript\">                require([\"plotly\"], function(Plotly) {                    window.PLOTLYENV=window.PLOTLYENV || {};                                    if (document.getElementById(\"3761d41f-bf8f-463f-bfde-a39582c22f04\")) {                    Plotly.newPlot(                        \"3761d41f-bf8f-463f-bfde-a39582c22f04\",                        [{\"alignmentgroup\":\"True\",\"hovertemplate\":\"brand=%{x}\\u003cbr\\u003eus_sales=%{y}\\u003cbr\\u003erank=%{text}\\u003cextra\\u003e\\u003c\\u002fextra\\u003e\",\"legendgroup\":\"\",\"marker\":{\"color\":\"#636efa\",\"pattern\":{\"shape\":\"\"}},\"name\":\"\",\"offsetgroup\":\"\",\"orientation\":\"v\",\"showlegend\":false,\"text\":[1.0,2.0,3.0,4.0,5.0,6.0,7.0,8.0,9.0,10.0,11.0,12.0,13.0,14.0,15.0,16.0,17.0,18.0,19.0,20.0,21.0,22.0,23.0,24.0,25.0,26.0,27.0,28.0,29.0,30.0,31.0,32.0,33.0,34.0,35.0,36.0],\"textposition\":\"outside\",\"x\":[\"Toyota\",\"Ford\",\"Chevrolet\",\"Honda\",\"Hyundai\",\"Kia\",\"Jeep\",\"Nissan\",\"Subaru\",\"Ram Trucks\",\"GMC\",\"Mercedes-Benz\",\"BMW\",\"Volkswagen\",\"Mazda\",\"Lexus\",\"Dodge\",\"Audi\",\"Cadillac\",\"Chrysler\",\"Buick\",\"Acura\",\"Volvo\",\"Mitsubishi\",\"Lincoln\",\"Porsche\",\"Genesis\",\"INFINITI\",\"MINI\",\"Alfa Romeo\",\"Maserati\",\"Bentley\",\"Lamborghini\",\"Fiat\",\"McLaren\",\"Rolls-Royce\"],\"xaxis\":\"x\",\"y\":[1849751,1767439,1502389,881201,724265,693549,684612,682731,556581,545194,517649,350949,332388,301069,294908,258704,190793,186875,134726,112713,103519,102306,102038,102037,83486,70065,56410,46619,29504,12845,6413,3975,3134,915,840,460],\"yaxis\":\"y\",\"type\":\"bar\",\"texttemplate\":\"%{text}\"}],                        {\"template\":{\"data\":{\"histogram2dcontour\":[{\"type\":\"histogram2dcontour\",\"colorbar\":{\"outlinewidth\":0,\"ticks\":\"\"},\"colorscale\":[[0.0,\"#0d0887\"],[0.1111111111111111,\"#46039f\"],[0.2222222222222222,\"#7201a8\"],[0.3333333333333333,\"#9c179e\"],[0.4444444444444444,\"#bd3786\"],[0.5555555555555556,\"#d8576b\"],[0.6666666666666666,\"#ed7953\"],[0.7777777777777778,\"#fb9f3a\"],[0.8888888888888888,\"#fdca26\"],[1.0,\"#f0f921\"]]}],\"choropleth\":[{\"type\":\"choropleth\",\"colorbar\":{\"outlinewidth\":0,\"ticks\":\"\"}}],\"histogram2d\":[{\"type\":\"histogram2d\",\"colorbar\":{\"outlinewidth\":0,\"ticks\":\"\"},\"colorscale\":[[0.0,\"#0d0887\"],[0.1111111111111111,\"#46039f\"],[0.2222222222222222,\"#7201a8\"],[0.3333333333333333,\"#9c179e\"],[0.4444444444444444,\"#bd3786\"],[0.5555555555555556,\"#d8576b\"],[0.6666666666666666,\"#ed7953\"],[0.7777777777777778,\"#fb9f3a\"],[0.8888888888888888,\"#fdca26\"],[1.0,\"#f0f921\"]]}],\"heatmap\":[{\"type\":\"heatmap\",\"colorbar\":{\"outlinewidth\":0,\"ticks\":\"\"},\"colorscale\":[[0.0,\"#0d0887\"],[0.1111111111111111,\"#46039f\"],[0.2222222222222222,\"#7201a8\"],[0.3333333333333333,\"#9c179e\"],[0.4444444444444444,\"#bd3786\"],[0.5555555555555556,\"#d8576b\"],[0.6666666666666666,\"#ed7953\"],[0.7777777777777778,\"#fb9f3a\"],[0.8888888888888888,\"#fdca26\"],[1.0,\"#f0f921\"]]}],\"heatmapgl\":[{\"type\":\"heatmapgl\",\"colorbar\":{\"outlinewidth\":0,\"ticks\":\"\"},\"colorscale\":[[0.0,\"#0d0887\"],[0.1111111111111111,\"#46039f\"],[0.2222222222222222,\"#7201a8\"],[0.3333333333333333,\"#9c179e\"],[0.4444444444444444,\"#bd3786\"],[0.5555555555555556,\"#d8576b\"],[0.6666666666666666,\"#ed7953\"],[0.7777777777777778,\"#fb9f3a\"],[0.8888888888888888,\"#fdca26\"],[1.0,\"#f0f921\"]]}],\"contourcarpet\":[{\"type\":\"contourcarpet\",\"colorbar\":{\"outlinewidth\":0,\"ticks\":\"\"}}],\"contour\":[{\"type\":\"contour\",\"colorbar\":{\"outlinewidth\":0,\"ticks\":\"\"},\"colorscale\":[[0.0,\"#0d0887\"],[0.1111111111111111,\"#46039f\"],[0.2222222222222222,\"#7201a8\"],[0.3333333333333333,\"#9c179e\"],[0.4444444444444444,\"#bd3786\"],[0.5555555555555556,\"#d8576b\"],[0.6666666666666666,\"#ed7953\"],[0.7777777777777778,\"#fb9f3a\"],[0.8888888888888888,\"#fdca26\"],[1.0,\"#f0f921\"]]}],\"surface\":[{\"type\":\"surface\",\"colorbar\":{\"outlinewidth\":0,\"ticks\":\"\"},\"colorscale\":[[0.0,\"#0d0887\"],[0.1111111111111111,\"#46039f\"],[0.2222222222222222,\"#7201a8\"],[0.3333333333333333,\"#9c179e\"],[0.4444444444444444,\"#bd3786\"],[0.5555555555555556,\"#d8576b\"],[0.6666666666666666,\"#ed7953\"],[0.7777777777777778,\"#fb9f3a\"],[0.8888888888888888,\"#fdca26\"],[1.0,\"#f0f921\"]]}],\"mesh3d\":[{\"type\":\"mesh3d\",\"colorbar\":{\"outlinewidth\":0,\"ticks\":\"\"}}],\"scatter\":[{\"fillpattern\":{\"fillmode\":\"overlay\",\"size\":10,\"solidity\":0.2},\"type\":\"scatter\"}],\"parcoords\":[{\"type\":\"parcoords\",\"line\":{\"colorbar\":{\"outlinewidth\":0,\"ticks\":\"\"}}}],\"scatterpolargl\":[{\"type\":\"scatterpolargl\",\"marker\":{\"colorbar\":{\"outlinewidth\":0,\"ticks\":\"\"}}}],\"bar\":[{\"error_x\":{\"color\":\"#2a3f5f\"},\"error_y\":{\"color\":\"#2a3f5f\"},\"marker\":{\"line\":{\"color\":\"#E5ECF6\",\"width\":0.5},\"pattern\":{\"fillmode\":\"overlay\",\"size\":10,\"solidity\":0.2}},\"type\":\"bar\"}],\"scattergeo\":[{\"type\":\"scattergeo\",\"marker\":{\"colorbar\":{\"outlinewidth\":0,\"ticks\":\"\"}}}],\"scatterpolar\":[{\"type\":\"scatterpolar\",\"marker\":{\"colorbar\":{\"outlinewidth\":0,\"ticks\":\"\"}}}],\"histogram\":[{\"marker\":{\"pattern\":{\"fillmode\":\"overlay\",\"size\":10,\"solidity\":0.2}},\"type\":\"histogram\"}],\"scattergl\":[{\"type\":\"scattergl\",\"marker\":{\"colorbar\":{\"outlinewidth\":0,\"ticks\":\"\"}}}],\"scatter3d\":[{\"type\":\"scatter3d\",\"line\":{\"colorbar\":{\"outlinewidth\":0,\"ticks\":\"\"}},\"marker\":{\"colorbar\":{\"outlinewidth\":0,\"ticks\":\"\"}}}],\"scattermapbox\":[{\"type\":\"scattermapbox\",\"marker\":{\"colorbar\":{\"outlinewidth\":0,\"ticks\":\"\"}}}],\"scatterternary\":[{\"type\":\"scatterternary\",\"marker\":{\"colorbar\":{\"outlinewidth\":0,\"ticks\":\"\"}}}],\"scattercarpet\":[{\"type\":\"scattercarpet\",\"marker\":{\"colorbar\":{\"outlinewidth\":0,\"ticks\":\"\"}}}],\"carpet\":[{\"aaxis\":{\"endlinecolor\":\"#2a3f5f\",\"gridcolor\":\"white\",\"linecolor\":\"white\",\"minorgridcolor\":\"white\",\"startlinecolor\":\"#2a3f5f\"},\"baxis\":{\"endlinecolor\":\"#2a3f5f\",\"gridcolor\":\"white\",\"linecolor\":\"white\",\"minorgridcolor\":\"white\",\"startlinecolor\":\"#2a3f5f\"},\"type\":\"carpet\"}],\"table\":[{\"cells\":{\"fill\":{\"color\":\"#EBF0F8\"},\"line\":{\"color\":\"white\"}},\"header\":{\"fill\":{\"color\":\"#C8D4E3\"},\"line\":{\"color\":\"white\"}},\"type\":\"table\"}],\"barpolar\":[{\"marker\":{\"line\":{\"color\":\"#E5ECF6\",\"width\":0.5},\"pattern\":{\"fillmode\":\"overlay\",\"size\":10,\"solidity\":0.2}},\"type\":\"barpolar\"}],\"pie\":[{\"automargin\":true,\"type\":\"pie\"}]},\"layout\":{\"autotypenumbers\":\"strict\",\"colorway\":[\"#636efa\",\"#EF553B\",\"#00cc96\",\"#ab63fa\",\"#FFA15A\",\"#19d3f3\",\"#FF6692\",\"#B6E880\",\"#FF97FF\",\"#FECB52\"],\"font\":{\"color\":\"#2a3f5f\"},\"hovermode\":\"closest\",\"hoverlabel\":{\"align\":\"left\"},\"paper_bgcolor\":\"white\",\"plot_bgcolor\":\"#E5ECF6\",\"polar\":{\"bgcolor\":\"#E5ECF6\",\"angularaxis\":{\"gridcolor\":\"white\",\"linecolor\":\"white\",\"ticks\":\"\"},\"radialaxis\":{\"gridcolor\":\"white\",\"linecolor\":\"white\",\"ticks\":\"\"}},\"ternary\":{\"bgcolor\":\"#E5ECF6\",\"aaxis\":{\"gridcolor\":\"white\",\"linecolor\":\"white\",\"ticks\":\"\"},\"baxis\":{\"gridcolor\":\"white\",\"linecolor\":\"white\",\"ticks\":\"\"},\"caxis\":{\"gridcolor\":\"white\",\"linecolor\":\"white\",\"ticks\":\"\"}},\"coloraxis\":{\"colorbar\":{\"outlinewidth\":0,\"ticks\":\"\"}},\"colorscale\":{\"sequential\":[[0.0,\"#0d0887\"],[0.1111111111111111,\"#46039f\"],[0.2222222222222222,\"#7201a8\"],[0.3333333333333333,\"#9c179e\"],[0.4444444444444444,\"#bd3786\"],[0.5555555555555556,\"#d8576b\"],[0.6666666666666666,\"#ed7953\"],[0.7777777777777778,\"#fb9f3a\"],[0.8888888888888888,\"#fdca26\"],[1.0,\"#f0f921\"]],\"sequentialminus\":[[0.0,\"#0d0887\"],[0.1111111111111111,\"#46039f\"],[0.2222222222222222,\"#7201a8\"],[0.3333333333333333,\"#9c179e\"],[0.4444444444444444,\"#bd3786\"],[0.5555555555555556,\"#d8576b\"],[0.6666666666666666,\"#ed7953\"],[0.7777777777777778,\"#fb9f3a\"],[0.8888888888888888,\"#fdca26\"],[1.0,\"#f0f921\"]],\"diverging\":[[0,\"#8e0152\"],[0.1,\"#c51b7d\"],[0.2,\"#de77ae\"],[0.3,\"#f1b6da\"],[0.4,\"#fde0ef\"],[0.5,\"#f7f7f7\"],[0.6,\"#e6f5d0\"],[0.7,\"#b8e186\"],[0.8,\"#7fbc41\"],[0.9,\"#4d9221\"],[1,\"#276419\"]]},\"xaxis\":{\"gridcolor\":\"white\",\"linecolor\":\"white\",\"ticks\":\"\",\"title\":{\"standoff\":15},\"zerolinecolor\":\"white\",\"automargin\":true,\"zerolinewidth\":2},\"yaxis\":{\"gridcolor\":\"white\",\"linecolor\":\"white\",\"ticks\":\"\",\"title\":{\"standoff\":15},\"zerolinecolor\":\"white\",\"automargin\":true,\"zerolinewidth\":2},\"scene\":{\"xaxis\":{\"backgroundcolor\":\"#E5ECF6\",\"gridcolor\":\"white\",\"linecolor\":\"white\",\"showbackground\":true,\"ticks\":\"\",\"zerolinecolor\":\"white\",\"gridwidth\":2},\"yaxis\":{\"backgroundcolor\":\"#E5ECF6\",\"gridcolor\":\"white\",\"linecolor\":\"white\",\"showbackground\":true,\"ticks\":\"\",\"zerolinecolor\":\"white\",\"gridwidth\":2},\"zaxis\":{\"backgroundcolor\":\"#E5ECF6\",\"gridcolor\":\"white\",\"linecolor\":\"white\",\"showbackground\":true,\"ticks\":\"\",\"zerolinecolor\":\"white\",\"gridwidth\":2}},\"shapedefaults\":{\"line\":{\"color\":\"#2a3f5f\"}},\"annotationdefaults\":{\"arrowcolor\":\"#2a3f5f\",\"arrowhead\":0,\"arrowwidth\":1},\"geo\":{\"bgcolor\":\"white\",\"landcolor\":\"#E5ECF6\",\"subunitcolor\":\"white\",\"showland\":true,\"showlakes\":true,\"lakecolor\":\"white\"},\"title\":{\"x\":0.05},\"mapbox\":{\"style\":\"light\"}}},\"xaxis\":{\"anchor\":\"y\",\"domain\":[0.0,1.0],\"title\":{\"text\":\"Brand\"}},\"yaxis\":{\"anchor\":\"x\",\"domain\":[0.0,1.0],\"title\":{\"text\":\"US Sales\"}},\"legend\":{\"tracegroupgap\":0},\"title\":{\"text\":\"US Auto Sales 2022\"},\"barmode\":\"relative\"},                        {\"responsive\": true}                    ).then(function(){\n                            \nvar gd = document.getElementById('3761d41f-bf8f-463f-bfde-a39582c22f04');\nvar x = new MutationObserver(function (mutations, observer) {{\n        var display = window.getComputedStyle(gd).display;\n        if (!display || display === 'none') {{\n            console.log([gd, 'removed!']);\n            Plotly.purge(gd);\n            observer.disconnect();\n        }}\n}});\n\n// Listen for the removal of the full notebook cells\nvar notebookContainer = gd.closest('#notebook-container');\nif (notebookContainer) {{\n    x.observe(notebookContainer, {childList: true});\n}}\n\n// Listen for the clearing of the current output cell\nvar outputEl = gd.closest('.output');\nif (outputEl) {{\n    x.observe(outputEl, {childList: true});\n}}\n\n                        })                };                });            </script>        </div>"
     },
     "metadata": {},
     "output_type": "display_data"
    }
   ],
   "source": [
    "auto_df.llm.plot()"
   ]
  },
  {
   "cell_type": "code",
   "execution_count": 6,
   "outputs": [
    {
     "name": "stderr",
     "output_type": "stream",
     "text": [
      "\u001B[92mINFO: \u001B[0mTo visualize the result of the `df` using Plotly, you can follow these steps:\n",
      "\n",
      "1. Convert the PySpark DataFrame to a Pandas DataFrame.\n",
      "2. Filter the top 5 brands and calculate the sum of others.\n",
      "3. Create a pie chart using Plotly and show the market shares.\n",
      "\n",
      "Here's the code to achieve that:\n",
      "\n",
      "\n",
      "```\n",
      "\u001B[34mimport\u001B[39;49;00m \u001B[04m\u001B[36mpandas\u001B[39;49;00m \u001B[34mas\u001B[39;49;00m \u001B[04m\u001B[36mpd\u001B[39;49;00m\n",
      "\u001B[34mimport\u001B[39;49;00m \u001B[04m\u001B[36mplotly\u001B[39;49;00m\u001B[04m\u001B[36m.\u001B[39;49;00m\u001B[04m\u001B[36mgraph_objs\u001B[39;49;00m \u001B[34mas\u001B[39;49;00m \u001B[04m\u001B[36mgo\u001B[39;49;00m\n",
      "\n",
      "\u001B[37m# Convert the PySpark DataFrame to a Pandas DataFrame\u001B[39;49;00m\n",
      "df_pd = df.toPandas()\n",
      "\n",
      "\u001B[37m# Filter the top 5 brands and calculate the sum of others\u001B[39;49;00m\n",
      "top_5_brands = df_pd.nlargest(\u001B[34m5\u001B[39;49;00m, \u001B[33m'\u001B[39;49;00m\u001B[33mus_sales\u001B[39;49;00m\u001B[33m'\u001B[39;49;00m)\n",
      "other_brands_total = df_pd[~df_pd.index.isin(top_5_brands.index)][\u001B[33m'\u001B[39;49;00m\u001B[33mus_sales\u001B[39;49;00m\u001B[33m'\u001B[39;49;00m].sum()\n",
      "\n",
      "\u001B[37m# Create a pie chart using Plotly\u001B[39;49;00m\n",
      "labels = \u001B[36mlist\u001B[39;49;00m(top_5_brands[\u001B[33m'\u001B[39;49;00m\u001B[33mbrand\u001B[39;49;00m\u001B[33m'\u001B[39;49;00m]) + [\u001B[33m'\u001B[39;49;00m\u001B[33mOthers\u001B[39;49;00m\u001B[33m'\u001B[39;49;00m]\n",
      "values = \u001B[36mlist\u001B[39;49;00m(top_5_brands[\u001B[33m'\u001B[39;49;00m\u001B[33mus_sales\u001B[39;49;00m\u001B[33m'\u001B[39;49;00m]) + [other_brands_total]\n",
      "\n",
      "fig = go.Figure(data=[go.Pie(labels=labels, values=values, hole=\u001B[34m.3\u001B[39;49;00m)])\n",
      "fig.update_layout(title=\u001B[33m'\u001B[39;49;00m\u001B[33mMarket Shares of Top 5 Auto Brands in 2022\u001B[39;49;00m\u001B[33m'\u001B[39;49;00m)\n",
      "\n",
      "\u001B[37m# Show the plot directly\u001B[39;49;00m\n",
      "fig.show()\n",
      "```\n",
      "\n",
      "This code will create a pie chart that shows the market shares of the top 5 auto brands in 2022 and the sum of others. The plot will be displayed directly without saving it to an HTML file.\n"
     ]
    },
    {
     "data": {
      "application/vnd.plotly.v1+json": {
       "data": [
        {
         "hole": 0.3,
         "labels": [
          "Toyota",
          "Ford",
          "Chevrolet",
          "Honda",
          "Hyundai",
          "Others"
         ],
         "values": [
          1849751,
          1767439,
          1502389,
          881201,
          724265,
          6568007
         ],
         "type": "pie"
        }
       ],
       "layout": {
        "template": {
         "data": {
          "histogram2dcontour": [
           {
            "type": "histogram2dcontour",
            "colorbar": {
             "outlinewidth": 0,
             "ticks": ""
            },
            "colorscale": [
             [
              0.0,
              "#0d0887"
             ],
             [
              0.1111111111111111,
              "#46039f"
             ],
             [
              0.2222222222222222,
              "#7201a8"
             ],
             [
              0.3333333333333333,
              "#9c179e"
             ],
             [
              0.4444444444444444,
              "#bd3786"
             ],
             [
              0.5555555555555556,
              "#d8576b"
             ],
             [
              0.6666666666666666,
              "#ed7953"
             ],
             [
              0.7777777777777778,
              "#fb9f3a"
             ],
             [
              0.8888888888888888,
              "#fdca26"
             ],
             [
              1.0,
              "#f0f921"
             ]
            ]
           }
          ],
          "choropleth": [
           {
            "type": "choropleth",
            "colorbar": {
             "outlinewidth": 0,
             "ticks": ""
            }
           }
          ],
          "histogram2d": [
           {
            "type": "histogram2d",
            "colorbar": {
             "outlinewidth": 0,
             "ticks": ""
            },
            "colorscale": [
             [
              0.0,
              "#0d0887"
             ],
             [
              0.1111111111111111,
              "#46039f"
             ],
             [
              0.2222222222222222,
              "#7201a8"
             ],
             [
              0.3333333333333333,
              "#9c179e"
             ],
             [
              0.4444444444444444,
              "#bd3786"
             ],
             [
              0.5555555555555556,
              "#d8576b"
             ],
             [
              0.6666666666666666,
              "#ed7953"
             ],
             [
              0.7777777777777778,
              "#fb9f3a"
             ],
             [
              0.8888888888888888,
              "#fdca26"
             ],
             [
              1.0,
              "#f0f921"
             ]
            ]
           }
          ],
          "heatmap": [
           {
            "type": "heatmap",
            "colorbar": {
             "outlinewidth": 0,
             "ticks": ""
            },
            "colorscale": [
             [
              0.0,
              "#0d0887"
             ],
             [
              0.1111111111111111,
              "#46039f"
             ],
             [
              0.2222222222222222,
              "#7201a8"
             ],
             [
              0.3333333333333333,
              "#9c179e"
             ],
             [
              0.4444444444444444,
              "#bd3786"
             ],
             [
              0.5555555555555556,
              "#d8576b"
             ],
             [
              0.6666666666666666,
              "#ed7953"
             ],
             [
              0.7777777777777778,
              "#fb9f3a"
             ],
             [
              0.8888888888888888,
              "#fdca26"
             ],
             [
              1.0,
              "#f0f921"
             ]
            ]
           }
          ],
          "heatmapgl": [
           {
            "type": "heatmapgl",
            "colorbar": {
             "outlinewidth": 0,
             "ticks": ""
            },
            "colorscale": [
             [
              0.0,
              "#0d0887"
             ],
             [
              0.1111111111111111,
              "#46039f"
             ],
             [
              0.2222222222222222,
              "#7201a8"
             ],
             [
              0.3333333333333333,
              "#9c179e"
             ],
             [
              0.4444444444444444,
              "#bd3786"
             ],
             [
              0.5555555555555556,
              "#d8576b"
             ],
             [
              0.6666666666666666,
              "#ed7953"
             ],
             [
              0.7777777777777778,
              "#fb9f3a"
             ],
             [
              0.8888888888888888,
              "#fdca26"
             ],
             [
              1.0,
              "#f0f921"
             ]
            ]
           }
          ],
          "contourcarpet": [
           {
            "type": "contourcarpet",
            "colorbar": {
             "outlinewidth": 0,
             "ticks": ""
            }
           }
          ],
          "contour": [
           {
            "type": "contour",
            "colorbar": {
             "outlinewidth": 0,
             "ticks": ""
            },
            "colorscale": [
             [
              0.0,
              "#0d0887"
             ],
             [
              0.1111111111111111,
              "#46039f"
             ],
             [
              0.2222222222222222,
              "#7201a8"
             ],
             [
              0.3333333333333333,
              "#9c179e"
             ],
             [
              0.4444444444444444,
              "#bd3786"
             ],
             [
              0.5555555555555556,
              "#d8576b"
             ],
             [
              0.6666666666666666,
              "#ed7953"
             ],
             [
              0.7777777777777778,
              "#fb9f3a"
             ],
             [
              0.8888888888888888,
              "#fdca26"
             ],
             [
              1.0,
              "#f0f921"
             ]
            ]
           }
          ],
          "surface": [
           {
            "type": "surface",
            "colorbar": {
             "outlinewidth": 0,
             "ticks": ""
            },
            "colorscale": [
             [
              0.0,
              "#0d0887"
             ],
             [
              0.1111111111111111,
              "#46039f"
             ],
             [
              0.2222222222222222,
              "#7201a8"
             ],
             [
              0.3333333333333333,
              "#9c179e"
             ],
             [
              0.4444444444444444,
              "#bd3786"
             ],
             [
              0.5555555555555556,
              "#d8576b"
             ],
             [
              0.6666666666666666,
              "#ed7953"
             ],
             [
              0.7777777777777778,
              "#fb9f3a"
             ],
             [
              0.8888888888888888,
              "#fdca26"
             ],
             [
              1.0,
              "#f0f921"
             ]
            ]
           }
          ],
          "mesh3d": [
           {
            "type": "mesh3d",
            "colorbar": {
             "outlinewidth": 0,
             "ticks": ""
            }
           }
          ],
          "scatter": [
           {
            "fillpattern": {
             "fillmode": "overlay",
             "size": 10,
             "solidity": 0.2
            },
            "type": "scatter"
           }
          ],
          "parcoords": [
           {
            "type": "parcoords",
            "line": {
             "colorbar": {
              "outlinewidth": 0,
              "ticks": ""
             }
            }
           }
          ],
          "scatterpolargl": [
           {
            "type": "scatterpolargl",
            "marker": {
             "colorbar": {
              "outlinewidth": 0,
              "ticks": ""
             }
            }
           }
          ],
          "bar": [
           {
            "error_x": {
             "color": "#2a3f5f"
            },
            "error_y": {
             "color": "#2a3f5f"
            },
            "marker": {
             "line": {
              "color": "#E5ECF6",
              "width": 0.5
             },
             "pattern": {
              "fillmode": "overlay",
              "size": 10,
              "solidity": 0.2
             }
            },
            "type": "bar"
           }
          ],
          "scattergeo": [
           {
            "type": "scattergeo",
            "marker": {
             "colorbar": {
              "outlinewidth": 0,
              "ticks": ""
             }
            }
           }
          ],
          "scatterpolar": [
           {
            "type": "scatterpolar",
            "marker": {
             "colorbar": {
              "outlinewidth": 0,
              "ticks": ""
             }
            }
           }
          ],
          "histogram": [
           {
            "marker": {
             "pattern": {
              "fillmode": "overlay",
              "size": 10,
              "solidity": 0.2
             }
            },
            "type": "histogram"
           }
          ],
          "scattergl": [
           {
            "type": "scattergl",
            "marker": {
             "colorbar": {
              "outlinewidth": 0,
              "ticks": ""
             }
            }
           }
          ],
          "scatter3d": [
           {
            "type": "scatter3d",
            "line": {
             "colorbar": {
              "outlinewidth": 0,
              "ticks": ""
             }
            },
            "marker": {
             "colorbar": {
              "outlinewidth": 0,
              "ticks": ""
             }
            }
           }
          ],
          "scattermapbox": [
           {
            "type": "scattermapbox",
            "marker": {
             "colorbar": {
              "outlinewidth": 0,
              "ticks": ""
             }
            }
           }
          ],
          "scatterternary": [
           {
            "type": "scatterternary",
            "marker": {
             "colorbar": {
              "outlinewidth": 0,
              "ticks": ""
             }
            }
           }
          ],
          "scattercarpet": [
           {
            "type": "scattercarpet",
            "marker": {
             "colorbar": {
              "outlinewidth": 0,
              "ticks": ""
             }
            }
           }
          ],
          "carpet": [
           {
            "aaxis": {
             "endlinecolor": "#2a3f5f",
             "gridcolor": "white",
             "linecolor": "white",
             "minorgridcolor": "white",
             "startlinecolor": "#2a3f5f"
            },
            "baxis": {
             "endlinecolor": "#2a3f5f",
             "gridcolor": "white",
             "linecolor": "white",
             "minorgridcolor": "white",
             "startlinecolor": "#2a3f5f"
            },
            "type": "carpet"
           }
          ],
          "table": [
           {
            "cells": {
             "fill": {
              "color": "#EBF0F8"
             },
             "line": {
              "color": "white"
             }
            },
            "header": {
             "fill": {
              "color": "#C8D4E3"
             },
             "line": {
              "color": "white"
             }
            },
            "type": "table"
           }
          ],
          "barpolar": [
           {
            "marker": {
             "line": {
              "color": "#E5ECF6",
              "width": 0.5
             },
             "pattern": {
              "fillmode": "overlay",
              "size": 10,
              "solidity": 0.2
             }
            },
            "type": "barpolar"
           }
          ],
          "pie": [
           {
            "automargin": true,
            "type": "pie"
           }
          ]
         },
         "layout": {
          "autotypenumbers": "strict",
          "colorway": [
           "#636efa",
           "#EF553B",
           "#00cc96",
           "#ab63fa",
           "#FFA15A",
           "#19d3f3",
           "#FF6692",
           "#B6E880",
           "#FF97FF",
           "#FECB52"
          ],
          "font": {
           "color": "#2a3f5f"
          },
          "hovermode": "closest",
          "hoverlabel": {
           "align": "left"
          },
          "paper_bgcolor": "white",
          "plot_bgcolor": "#E5ECF6",
          "polar": {
           "bgcolor": "#E5ECF6",
           "angularaxis": {
            "gridcolor": "white",
            "linecolor": "white",
            "ticks": ""
           },
           "radialaxis": {
            "gridcolor": "white",
            "linecolor": "white",
            "ticks": ""
           }
          },
          "ternary": {
           "bgcolor": "#E5ECF6",
           "aaxis": {
            "gridcolor": "white",
            "linecolor": "white",
            "ticks": ""
           },
           "baxis": {
            "gridcolor": "white",
            "linecolor": "white",
            "ticks": ""
           },
           "caxis": {
            "gridcolor": "white",
            "linecolor": "white",
            "ticks": ""
           }
          },
          "coloraxis": {
           "colorbar": {
            "outlinewidth": 0,
            "ticks": ""
           }
          },
          "colorscale": {
           "sequential": [
            [
             0.0,
             "#0d0887"
            ],
            [
             0.1111111111111111,
             "#46039f"
            ],
            [
             0.2222222222222222,
             "#7201a8"
            ],
            [
             0.3333333333333333,
             "#9c179e"
            ],
            [
             0.4444444444444444,
             "#bd3786"
            ],
            [
             0.5555555555555556,
             "#d8576b"
            ],
            [
             0.6666666666666666,
             "#ed7953"
            ],
            [
             0.7777777777777778,
             "#fb9f3a"
            ],
            [
             0.8888888888888888,
             "#fdca26"
            ],
            [
             1.0,
             "#f0f921"
            ]
           ],
           "sequentialminus": [
            [
             0.0,
             "#0d0887"
            ],
            [
             0.1111111111111111,
             "#46039f"
            ],
            [
             0.2222222222222222,
             "#7201a8"
            ],
            [
             0.3333333333333333,
             "#9c179e"
            ],
            [
             0.4444444444444444,
             "#bd3786"
            ],
            [
             0.5555555555555556,
             "#d8576b"
            ],
            [
             0.6666666666666666,
             "#ed7953"
            ],
            [
             0.7777777777777778,
             "#fb9f3a"
            ],
            [
             0.8888888888888888,
             "#fdca26"
            ],
            [
             1.0,
             "#f0f921"
            ]
           ],
           "diverging": [
            [
             0,
             "#8e0152"
            ],
            [
             0.1,
             "#c51b7d"
            ],
            [
             0.2,
             "#de77ae"
            ],
            [
             0.3,
             "#f1b6da"
            ],
            [
             0.4,
             "#fde0ef"
            ],
            [
             0.5,
             "#f7f7f7"
            ],
            [
             0.6,
             "#e6f5d0"
            ],
            [
             0.7,
             "#b8e186"
            ],
            [
             0.8,
             "#7fbc41"
            ],
            [
             0.9,
             "#4d9221"
            ],
            [
             1,
             "#276419"
            ]
           ]
          },
          "xaxis": {
           "gridcolor": "white",
           "linecolor": "white",
           "ticks": "",
           "title": {
            "standoff": 15
           },
           "zerolinecolor": "white",
           "automargin": true,
           "zerolinewidth": 2
          },
          "yaxis": {
           "gridcolor": "white",
           "linecolor": "white",
           "ticks": "",
           "title": {
            "standoff": 15
           },
           "zerolinecolor": "white",
           "automargin": true,
           "zerolinewidth": 2
          },
          "scene": {
           "xaxis": {
            "backgroundcolor": "#E5ECF6",
            "gridcolor": "white",
            "linecolor": "white",
            "showbackground": true,
            "ticks": "",
            "zerolinecolor": "white",
            "gridwidth": 2
           },
           "yaxis": {
            "backgroundcolor": "#E5ECF6",
            "gridcolor": "white",
            "linecolor": "white",
            "showbackground": true,
            "ticks": "",
            "zerolinecolor": "white",
            "gridwidth": 2
           },
           "zaxis": {
            "backgroundcolor": "#E5ECF6",
            "gridcolor": "white",
            "linecolor": "white",
            "showbackground": true,
            "ticks": "",
            "zerolinecolor": "white",
            "gridwidth": 2
           }
          },
          "shapedefaults": {
           "line": {
            "color": "#2a3f5f"
           }
          },
          "annotationdefaults": {
           "arrowcolor": "#2a3f5f",
           "arrowhead": 0,
           "arrowwidth": 1
          },
          "geo": {
           "bgcolor": "white",
           "landcolor": "#E5ECF6",
           "subunitcolor": "white",
           "showland": true,
           "showlakes": true,
           "lakecolor": "white"
          },
          "title": {
           "x": 0.05
          },
          "mapbox": {
           "style": "light"
          }
         }
        },
        "title": {
         "text": "Market Shares of Top 5 Auto Brands in 2022"
        }
       },
       "config": {
        "plotlyServerURL": "https://plot.ly"
       }
      },
      "text/html": "<div>                            <div id=\"406091c1-f7ac-4f51-860a-3bf49f472b2e\" class=\"plotly-graph-div\" style=\"height:525px; width:100%;\"></div>            <script type=\"text/javascript\">                require([\"plotly\"], function(Plotly) {                    window.PLOTLYENV=window.PLOTLYENV || {};                                    if (document.getElementById(\"406091c1-f7ac-4f51-860a-3bf49f472b2e\")) {                    Plotly.newPlot(                        \"406091c1-f7ac-4f51-860a-3bf49f472b2e\",                        [{\"hole\":0.3,\"labels\":[\"Toyota\",\"Ford\",\"Chevrolet\",\"Honda\",\"Hyundai\",\"Others\"],\"values\":[1849751,1767439,1502389,881201,724265,6568007],\"type\":\"pie\"}],                        {\"template\":{\"data\":{\"histogram2dcontour\":[{\"type\":\"histogram2dcontour\",\"colorbar\":{\"outlinewidth\":0,\"ticks\":\"\"},\"colorscale\":[[0.0,\"#0d0887\"],[0.1111111111111111,\"#46039f\"],[0.2222222222222222,\"#7201a8\"],[0.3333333333333333,\"#9c179e\"],[0.4444444444444444,\"#bd3786\"],[0.5555555555555556,\"#d8576b\"],[0.6666666666666666,\"#ed7953\"],[0.7777777777777778,\"#fb9f3a\"],[0.8888888888888888,\"#fdca26\"],[1.0,\"#f0f921\"]]}],\"choropleth\":[{\"type\":\"choropleth\",\"colorbar\":{\"outlinewidth\":0,\"ticks\":\"\"}}],\"histogram2d\":[{\"type\":\"histogram2d\",\"colorbar\":{\"outlinewidth\":0,\"ticks\":\"\"},\"colorscale\":[[0.0,\"#0d0887\"],[0.1111111111111111,\"#46039f\"],[0.2222222222222222,\"#7201a8\"],[0.3333333333333333,\"#9c179e\"],[0.4444444444444444,\"#bd3786\"],[0.5555555555555556,\"#d8576b\"],[0.6666666666666666,\"#ed7953\"],[0.7777777777777778,\"#fb9f3a\"],[0.8888888888888888,\"#fdca26\"],[1.0,\"#f0f921\"]]}],\"heatmap\":[{\"type\":\"heatmap\",\"colorbar\":{\"outlinewidth\":0,\"ticks\":\"\"},\"colorscale\":[[0.0,\"#0d0887\"],[0.1111111111111111,\"#46039f\"],[0.2222222222222222,\"#7201a8\"],[0.3333333333333333,\"#9c179e\"],[0.4444444444444444,\"#bd3786\"],[0.5555555555555556,\"#d8576b\"],[0.6666666666666666,\"#ed7953\"],[0.7777777777777778,\"#fb9f3a\"],[0.8888888888888888,\"#fdca26\"],[1.0,\"#f0f921\"]]}],\"heatmapgl\":[{\"type\":\"heatmapgl\",\"colorbar\":{\"outlinewidth\":0,\"ticks\":\"\"},\"colorscale\":[[0.0,\"#0d0887\"],[0.1111111111111111,\"#46039f\"],[0.2222222222222222,\"#7201a8\"],[0.3333333333333333,\"#9c179e\"],[0.4444444444444444,\"#bd3786\"],[0.5555555555555556,\"#d8576b\"],[0.6666666666666666,\"#ed7953\"],[0.7777777777777778,\"#fb9f3a\"],[0.8888888888888888,\"#fdca26\"],[1.0,\"#f0f921\"]]}],\"contourcarpet\":[{\"type\":\"contourcarpet\",\"colorbar\":{\"outlinewidth\":0,\"ticks\":\"\"}}],\"contour\":[{\"type\":\"contour\",\"colorbar\":{\"outlinewidth\":0,\"ticks\":\"\"},\"colorscale\":[[0.0,\"#0d0887\"],[0.1111111111111111,\"#46039f\"],[0.2222222222222222,\"#7201a8\"],[0.3333333333333333,\"#9c179e\"],[0.4444444444444444,\"#bd3786\"],[0.5555555555555556,\"#d8576b\"],[0.6666666666666666,\"#ed7953\"],[0.7777777777777778,\"#fb9f3a\"],[0.8888888888888888,\"#fdca26\"],[1.0,\"#f0f921\"]]}],\"surface\":[{\"type\":\"surface\",\"colorbar\":{\"outlinewidth\":0,\"ticks\":\"\"},\"colorscale\":[[0.0,\"#0d0887\"],[0.1111111111111111,\"#46039f\"],[0.2222222222222222,\"#7201a8\"],[0.3333333333333333,\"#9c179e\"],[0.4444444444444444,\"#bd3786\"],[0.5555555555555556,\"#d8576b\"],[0.6666666666666666,\"#ed7953\"],[0.7777777777777778,\"#fb9f3a\"],[0.8888888888888888,\"#fdca26\"],[1.0,\"#f0f921\"]]}],\"mesh3d\":[{\"type\":\"mesh3d\",\"colorbar\":{\"outlinewidth\":0,\"ticks\":\"\"}}],\"scatter\":[{\"fillpattern\":{\"fillmode\":\"overlay\",\"size\":10,\"solidity\":0.2},\"type\":\"scatter\"}],\"parcoords\":[{\"type\":\"parcoords\",\"line\":{\"colorbar\":{\"outlinewidth\":0,\"ticks\":\"\"}}}],\"scatterpolargl\":[{\"type\":\"scatterpolargl\",\"marker\":{\"colorbar\":{\"outlinewidth\":0,\"ticks\":\"\"}}}],\"bar\":[{\"error_x\":{\"color\":\"#2a3f5f\"},\"error_y\":{\"color\":\"#2a3f5f\"},\"marker\":{\"line\":{\"color\":\"#E5ECF6\",\"width\":0.5},\"pattern\":{\"fillmode\":\"overlay\",\"size\":10,\"solidity\":0.2}},\"type\":\"bar\"}],\"scattergeo\":[{\"type\":\"scattergeo\",\"marker\":{\"colorbar\":{\"outlinewidth\":0,\"ticks\":\"\"}}}],\"scatterpolar\":[{\"type\":\"scatterpolar\",\"marker\":{\"colorbar\":{\"outlinewidth\":0,\"ticks\":\"\"}}}],\"histogram\":[{\"marker\":{\"pattern\":{\"fillmode\":\"overlay\",\"size\":10,\"solidity\":0.2}},\"type\":\"histogram\"}],\"scattergl\":[{\"type\":\"scattergl\",\"marker\":{\"colorbar\":{\"outlinewidth\":0,\"ticks\":\"\"}}}],\"scatter3d\":[{\"type\":\"scatter3d\",\"line\":{\"colorbar\":{\"outlinewidth\":0,\"ticks\":\"\"}},\"marker\":{\"colorbar\":{\"outlinewidth\":0,\"ticks\":\"\"}}}],\"scattermapbox\":[{\"type\":\"scattermapbox\",\"marker\":{\"colorbar\":{\"outlinewidth\":0,\"ticks\":\"\"}}}],\"scatterternary\":[{\"type\":\"scatterternary\",\"marker\":{\"colorbar\":{\"outlinewidth\":0,\"ticks\":\"\"}}}],\"scattercarpet\":[{\"type\":\"scattercarpet\",\"marker\":{\"colorbar\":{\"outlinewidth\":0,\"ticks\":\"\"}}}],\"carpet\":[{\"aaxis\":{\"endlinecolor\":\"#2a3f5f\",\"gridcolor\":\"white\",\"linecolor\":\"white\",\"minorgridcolor\":\"white\",\"startlinecolor\":\"#2a3f5f\"},\"baxis\":{\"endlinecolor\":\"#2a3f5f\",\"gridcolor\":\"white\",\"linecolor\":\"white\",\"minorgridcolor\":\"white\",\"startlinecolor\":\"#2a3f5f\"},\"type\":\"carpet\"}],\"table\":[{\"cells\":{\"fill\":{\"color\":\"#EBF0F8\"},\"line\":{\"color\":\"white\"}},\"header\":{\"fill\":{\"color\":\"#C8D4E3\"},\"line\":{\"color\":\"white\"}},\"type\":\"table\"}],\"barpolar\":[{\"marker\":{\"line\":{\"color\":\"#E5ECF6\",\"width\":0.5},\"pattern\":{\"fillmode\":\"overlay\",\"size\":10,\"solidity\":0.2}},\"type\":\"barpolar\"}],\"pie\":[{\"automargin\":true,\"type\":\"pie\"}]},\"layout\":{\"autotypenumbers\":\"strict\",\"colorway\":[\"#636efa\",\"#EF553B\",\"#00cc96\",\"#ab63fa\",\"#FFA15A\",\"#19d3f3\",\"#FF6692\",\"#B6E880\",\"#FF97FF\",\"#FECB52\"],\"font\":{\"color\":\"#2a3f5f\"},\"hovermode\":\"closest\",\"hoverlabel\":{\"align\":\"left\"},\"paper_bgcolor\":\"white\",\"plot_bgcolor\":\"#E5ECF6\",\"polar\":{\"bgcolor\":\"#E5ECF6\",\"angularaxis\":{\"gridcolor\":\"white\",\"linecolor\":\"white\",\"ticks\":\"\"},\"radialaxis\":{\"gridcolor\":\"white\",\"linecolor\":\"white\",\"ticks\":\"\"}},\"ternary\":{\"bgcolor\":\"#E5ECF6\",\"aaxis\":{\"gridcolor\":\"white\",\"linecolor\":\"white\",\"ticks\":\"\"},\"baxis\":{\"gridcolor\":\"white\",\"linecolor\":\"white\",\"ticks\":\"\"},\"caxis\":{\"gridcolor\":\"white\",\"linecolor\":\"white\",\"ticks\":\"\"}},\"coloraxis\":{\"colorbar\":{\"outlinewidth\":0,\"ticks\":\"\"}},\"colorscale\":{\"sequential\":[[0.0,\"#0d0887\"],[0.1111111111111111,\"#46039f\"],[0.2222222222222222,\"#7201a8\"],[0.3333333333333333,\"#9c179e\"],[0.4444444444444444,\"#bd3786\"],[0.5555555555555556,\"#d8576b\"],[0.6666666666666666,\"#ed7953\"],[0.7777777777777778,\"#fb9f3a\"],[0.8888888888888888,\"#fdca26\"],[1.0,\"#f0f921\"]],\"sequentialminus\":[[0.0,\"#0d0887\"],[0.1111111111111111,\"#46039f\"],[0.2222222222222222,\"#7201a8\"],[0.3333333333333333,\"#9c179e\"],[0.4444444444444444,\"#bd3786\"],[0.5555555555555556,\"#d8576b\"],[0.6666666666666666,\"#ed7953\"],[0.7777777777777778,\"#fb9f3a\"],[0.8888888888888888,\"#fdca26\"],[1.0,\"#f0f921\"]],\"diverging\":[[0,\"#8e0152\"],[0.1,\"#c51b7d\"],[0.2,\"#de77ae\"],[0.3,\"#f1b6da\"],[0.4,\"#fde0ef\"],[0.5,\"#f7f7f7\"],[0.6,\"#e6f5d0\"],[0.7,\"#b8e186\"],[0.8,\"#7fbc41\"],[0.9,\"#4d9221\"],[1,\"#276419\"]]},\"xaxis\":{\"gridcolor\":\"white\",\"linecolor\":\"white\",\"ticks\":\"\",\"title\":{\"standoff\":15},\"zerolinecolor\":\"white\",\"automargin\":true,\"zerolinewidth\":2},\"yaxis\":{\"gridcolor\":\"white\",\"linecolor\":\"white\",\"ticks\":\"\",\"title\":{\"standoff\":15},\"zerolinecolor\":\"white\",\"automargin\":true,\"zerolinewidth\":2},\"scene\":{\"xaxis\":{\"backgroundcolor\":\"#E5ECF6\",\"gridcolor\":\"white\",\"linecolor\":\"white\",\"showbackground\":true,\"ticks\":\"\",\"zerolinecolor\":\"white\",\"gridwidth\":2},\"yaxis\":{\"backgroundcolor\":\"#E5ECF6\",\"gridcolor\":\"white\",\"linecolor\":\"white\",\"showbackground\":true,\"ticks\":\"\",\"zerolinecolor\":\"white\",\"gridwidth\":2},\"zaxis\":{\"backgroundcolor\":\"#E5ECF6\",\"gridcolor\":\"white\",\"linecolor\":\"white\",\"showbackground\":true,\"ticks\":\"\",\"zerolinecolor\":\"white\",\"gridwidth\":2}},\"shapedefaults\":{\"line\":{\"color\":\"#2a3f5f\"}},\"annotationdefaults\":{\"arrowcolor\":\"#2a3f5f\",\"arrowhead\":0,\"arrowwidth\":1},\"geo\":{\"bgcolor\":\"white\",\"landcolor\":\"#E5ECF6\",\"subunitcolor\":\"white\",\"showland\":true,\"showlakes\":true,\"lakecolor\":\"white\"},\"title\":{\"x\":0.05},\"mapbox\":{\"style\":\"light\"}}},\"title\":{\"text\":\"Market Shares of Top 5 Auto Brands in 2022\"}},                        {\"responsive\": true}                    ).then(function(){\n                            \nvar gd = document.getElementById('406091c1-f7ac-4f51-860a-3bf49f472b2e');\nvar x = new MutationObserver(function (mutations, observer) {{\n        var display = window.getComputedStyle(gd).display;\n        if (!display || display === 'none') {{\n            console.log([gd, 'removed!']);\n            Plotly.purge(gd);\n            observer.disconnect();\n        }}\n}});\n\n// Listen for the removal of the full notebook cells\nvar notebookContainer = gd.closest('#notebook-container');\nif (notebookContainer) {{\n    x.observe(notebookContainer, {childList: true});\n}}\n\n// Listen for the clearing of the current output cell\nvar outputEl = gd.closest('.output');\nif (outputEl) {{\n    x.observe(outputEl, {childList: true});\n}}\n\n                        })                };                });            </script>        </div>"
     },
     "metadata": {},
     "output_type": "display_data"
    }
   ],
   "source": [
    "auto_df.llm.plot(\"pie char for market shares, show the top 5 brands and the sum of others\")"
   ],
   "metadata": {
    "collapsed": false
   }
  },
  {
   "cell_type": "code",
   "execution_count": 9,
   "metadata": {
    "collapsed": false,
    "jupyter": {
     "outputs_hidden": false
    }
   },
   "outputs": [
    {
     "name": "stderr",
     "output_type": "stream",
     "text": [
      "\u001B[92mINFO: \u001B[0mSQL query for the transform:\n",
      "\u001B[92mINFO: \u001B[0m\u001B[34mSELECT\u001B[39;49;00m\u001B[37m \u001B[39;49;00mbrand\u001B[37m\u001B[39;49;00m\n",
      "\u001B[34mFROM\u001B[39;49;00m\u001B[37m \u001B[39;49;00mtemp_view_for_transform\u001B[37m\u001B[39;49;00m\n",
      "\u001B[34mORDER\u001B[39;49;00m\u001B[37m \u001B[39;49;00m\u001B[34mBY\u001B[39;49;00m\u001B[37m \u001B[39;49;00mvs_2021\u001B[37m \u001B[39;49;00m\u001B[34mDESC\u001B[39;49;00m\u001B[37m\u001B[39;49;00m\n",
      "\u001B[34mLIMIT\u001B[39;49;00m\u001B[37m \u001B[39;49;00m\u001B[34m1\u001B[39;49;00m\u001B[37m\u001B[39;49;00m\n",
      "\n"
     ]
    },
    {
     "name": "stdout",
     "output_type": "stream",
     "text": [
      "+-------+\n",
      "|  brand|\n",
      "+-------+\n",
      "|Genesis|\n",
      "+-------+\n",
      "\n"
     ]
    }
   ],
   "source": [
    "# Apply transforms to a Dataframe\n",
    "auto_top_growth_df=auto_df.llm.transform(\"top brand with the highest growth\")\n",
    "auto_top_growth_df.show()"
   ]
  },
  {
   "cell_type": "code",
   "execution_count": 10,
   "metadata": {
    "collapsed": false,
    "jupyter": {
     "outputs_hidden": false
    }
   },
   "outputs": [
    {
     "data": {
      "text/plain": "'In summary, this dataframe is retrieving the brand with the highest value for the `vs_2021` metric from a temporary view named `temp_view_for_transform`. The result will only include the top brand based on the `vs_2021` value.'"
     },
     "execution_count": 10,
     "metadata": {},
     "output_type": "execute_result"
    }
   ],
   "source": [
    "# Explain what a DataFrame is retrieving.\n",
    "auto_top_growth_df.llm.explain()"
   ]
  },
  {
   "cell_type": "code",
   "execution_count": 11,
   "metadata": {},
   "outputs": [
    {
     "name": "stderr",
     "output_type": "stream",
     "text": [
      "\u001B[92mINFO: \u001B[0mGenerated code:\n",
      "\u001B[92mINFO: \u001B[0m\u001B[34mdef\u001B[39;49;00m \u001B[32mhas_sales_change_in_range\u001B[39;49;00m(df) -> \u001B[36mbool\u001B[39;49;00m:\n",
      "    \u001B[34mfrom\u001B[39;49;00m \u001B[04m\u001B[36mpyspark\u001B[39;49;00m\u001B[04m\u001B[36m.\u001B[39;49;00m\u001B[04m\u001B[36msql\u001B[39;49;00m\u001B[04m\u001B[36m.\u001B[39;49;00m\u001B[04m\u001B[36mfunctions\u001B[39;49;00m \u001B[34mimport\u001B[39;49;00m col\n",
      "\n",
      "    \u001B[37m# Check if the dataframe has the column \"sales_change_percentage\"\u001B[39;49;00m\n",
      "    \u001B[34mif\u001B[39;49;00m \u001B[33m\"\u001B[39;49;00m\u001B[33msales_change_percentage\u001B[39;49;00m\u001B[33m\"\u001B[39;49;00m \u001B[35mnot\u001B[39;49;00m \u001B[35min\u001B[39;49;00m df.columns:\n",
      "        \u001B[34mreturn\u001B[39;49;00m \u001B[34mFalse\u001B[39;49;00m\n",
      "\n",
      "    \u001B[37m# Check if the sales change percentage is between -100 and 100\u001B[39;49;00m\n",
      "    df_filtered = df.filter((col(\u001B[33m\"\u001B[39;49;00m\u001B[33msales_change_percentage\u001B[39;49;00m\u001B[33m\"\u001B[39;49;00m) >= -\u001B[34m100\u001B[39;49;00m) & (col(\u001B[33m\"\u001B[39;49;00m\u001B[33msales_change_percentage\u001B[39;49;00m\u001B[33m\"\u001B[39;49;00m) <= \u001B[34m100\u001B[39;49;00m))\n",
      "\n",
      "    \u001B[37m# If the number of rows in the filtered dataframe is equal to the number of rows in the original dataframe,\u001B[39;49;00m\n",
      "    \u001B[37m# it means all the sales change percentages are in the valid range\u001B[39;49;00m\n",
      "    \u001B[34mif\u001B[39;49;00m df_filtered.count() == df.count():\n",
      "        \u001B[34mreturn\u001B[39;49;00m \u001B[34mTrue\u001B[39;49;00m\n",
      "    \u001B[34melse\u001B[39;49;00m:\n",
      "        \u001B[34mreturn\u001B[39;49;00m \u001B[34mFalse\u001B[39;49;00m\n",
      "\n",
      "result = has_sales_change_in_range(df)\n",
      "\n",
      "\u001B[92mINFO: \u001B[0m\n",
      "Result: False\n"
     ]
    }
   ],
   "source": [
    "auto_top_growth_df.llm.verify(\"expect sales change percentage to be between -100 to 100\")"
   ]
  },
  {
   "cell_type": "markdown",
   "metadata": {
    "jupyter": {
     "outputs_hidden": false
    }
   },
   "source": [
    "## Example 2: USA Presidents"
   ]
  },
  {
   "cell_type": "code",
   "execution_count": 12,
   "metadata": {
    "collapsed": false,
    "jupyter": {
     "outputs_hidden": false
    }
   },
   "outputs": [
    {
     "name": "stderr",
     "output_type": "stream",
     "text": [
      "\u001B[92mINFO: \u001B[0mParsing URL: https://en.wikipedia.org/wiki/List_of_presidents_of_the_United_States\n",
      "\n",
      "\u001B[92mINFO: \u001B[0mSQL query for the ingestion:\n",
      "\n",
      "\u001B[92mINFO: \u001B[0m\u001B[34mCREATE\u001B[39;49;00m\u001B[37m \u001B[39;49;00m\u001B[34mOR\u001B[39;49;00m\u001B[37m \u001B[39;49;00m\u001B[34mREPLACE\u001B[39;49;00m\u001B[37m \u001B[39;49;00mTEMP\u001B[37m \u001B[39;49;00m\u001B[34mVIEW\u001B[39;49;00m\u001B[37m \u001B[39;49;00mpresidents\u001B[37m \u001B[39;49;00m\u001B[34mAS\u001B[39;49;00m\u001B[37m \u001B[39;49;00m\u001B[34mSELECT\u001B[39;49;00m\u001B[37m \u001B[39;49;00m*\u001B[37m \u001B[39;49;00m\u001B[34mFROM\u001B[39;49;00m\u001B[37m \u001B[39;49;00m\u001B[34mVALUES\u001B[39;49;00m\u001B[37m \u001B[39;49;00m\n",
      "(\u001B[33m'George Washington'\u001B[39;49;00m,\u001B[37m \u001B[39;49;00m\u001B[33m'John Adams'\u001B[39;49;00m),\u001B[37m\u001B[39;49;00m\n",
      "(\u001B[33m'John Adams'\u001B[39;49;00m,\u001B[37m \u001B[39;49;00m\u001B[33m'Thomas Jefferson'\u001B[39;49;00m),\u001B[37m\u001B[39;49;00m\n",
      "(\u001B[33m'Thomas Jefferson'\u001B[39;49;00m,\u001B[37m \u001B[39;49;00m\u001B[33m'Aaron Burr'\u001B[39;49;00m),\u001B[37m\u001B[39;49;00m\n",
      "(\u001B[33m'Thomas Jefferson'\u001B[39;49;00m,\u001B[37m \u001B[39;49;00m\u001B[33m'George Clinton'\u001B[39;49;00m),\u001B[37m\u001B[39;49;00m\n",
      "(\u001B[33m'James Madison'\u001B[39;49;00m,\u001B[37m \u001B[39;49;00m\u001B[33m'George Clinton'\u001B[39;49;00m),\u001B[37m\u001B[39;49;00m\n",
      "(\u001B[33m'James Madison'\u001B[39;49;00m,\u001B[37m \u001B[39;49;00m\u001B[33m'Elbridge Gerry'\u001B[39;49;00m),\u001B[37m\u001B[39;49;00m\n",
      "(\u001B[33m'James Monroe'\u001B[39;49;00m,\u001B[37m \u001B[39;49;00m\u001B[33m'Daniel D. Tompkins'\u001B[39;49;00m),\u001B[37m\u001B[39;49;00m\n",
      "(\u001B[33m'John Quincy Adams'\u001B[39;49;00m,\u001B[37m \u001B[39;49;00m\u001B[33m'John C. Calhoun'\u001B[39;49;00m),\u001B[37m\u001B[39;49;00m\n",
      "(\u001B[33m'Andrew Jackson'\u001B[39;49;00m,\u001B[37m \u001B[39;49;00m\u001B[33m'John C. Calhoun'\u001B[39;49;00m),\u001B[37m\u001B[39;49;00m\n",
      "(\u001B[33m'Andrew Jackson'\u001B[39;49;00m,\u001B[37m \u001B[39;49;00m\u001B[33m'Martin Van Buren'\u001B[39;49;00m),\u001B[37m\u001B[39;49;00m\n",
      "(\u001B[33m'Martin Van Buren'\u001B[39;49;00m,\u001B[37m \u001B[39;49;00m\u001B[33m'Richard Mentor Johnson'\u001B[39;49;00m),\u001B[37m\u001B[39;49;00m\n",
      "(\u001B[33m'William Henry Harrison'\u001B[39;49;00m,\u001B[37m \u001B[39;49;00m\u001B[33m'John Tyler'\u001B[39;49;00m),\u001B[37m\u001B[39;49;00m\n",
      "(\u001B[33m'John Tyler'\u001B[39;49;00m,\u001B[37m \u001B[39;49;00m\u001B[34mNULL\u001B[39;49;00m),\u001B[37m\u001B[39;49;00m\n",
      "(\u001B[33m'James K. Polk'\u001B[39;49;00m,\u001B[37m \u001B[39;49;00m\u001B[33m'George M. Dallas'\u001B[39;49;00m),\u001B[37m\u001B[39;49;00m\n",
      "(\u001B[33m'Zachary Taylor'\u001B[39;49;00m,\u001B[37m \u001B[39;49;00m\u001B[33m'Millard Fillmore'\u001B[39;49;00m),\u001B[37m\u001B[39;49;00m\n",
      "(\u001B[33m'Millard Fillmore'\u001B[39;49;00m,\u001B[37m \u001B[39;49;00m\u001B[34mNULL\u001B[39;49;00m),\u001B[37m\u001B[39;49;00m\n",
      "(\u001B[33m'Franklin Pierce'\u001B[39;49;00m,\u001B[37m \u001B[39;49;00m\u001B[33m'William R. King'\u001B[39;49;00m),\u001B[37m\u001B[39;49;00m\n",
      "(\u001B[33m'James Buchanan'\u001B[39;49;00m,\u001B[37m \u001B[39;49;00m\u001B[33m'John C. Breckinridge'\u001B[39;49;00m),\u001B[37m\u001B[39;49;00m\n",
      "(\u001B[33m'Abraham Lincoln'\u001B[39;49;00m,\u001B[37m \u001B[39;49;00m\u001B[33m'Hannibal Hamlin'\u001B[39;49;00m),\u001B[37m\u001B[39;49;00m\n",
      "(\u001B[33m'Abraham Lincoln'\u001B[39;49;00m,\u001B[37m \u001B[39;49;00m\u001B[33m'Andrew Johnson'\u001B[39;49;00m),\u001B[37m\u001B[39;49;00m\n",
      "(\u001B[33m'Andrew Johnson'\u001B[39;49;00m,\u001B[37m \u001B[39;49;00m\u001B[34mNULL\u001B[39;49;00m),\u001B[37m\u001B[39;49;00m\n",
      "(\u001B[33m'Ulysses S. Grant'\u001B[39;49;00m,\u001B[37m \u001B[39;49;00m\u001B[33m'Schuyler Colfax'\u001B[39;49;00m),\u001B[37m\u001B[39;49;00m\n",
      "(\u001B[33m'Ulysses S. Grant'\u001B[39;49;00m,\u001B[37m \u001B[39;49;00m\u001B[33m'Henry Wilson'\u001B[39;49;00m),\u001B[37m\u001B[39;49;00m\n",
      "(\u001B[33m'Rutherford B. Hayes'\u001B[39;49;00m,\u001B[37m \u001B[39;49;00m\u001B[33m'William A. Wheeler'\u001B[39;49;00m),\u001B[37m\u001B[39;49;00m\n",
      "(\u001B[33m'James A. Garfield'\u001B[39;49;00m,\u001B[37m \u001B[39;49;00m\u001B[33m'Chester A. Arthur'\u001B[39;49;00m),\u001B[37m\u001B[39;49;00m\n",
      "(\u001B[33m'Chester A. Arthur'\u001B[39;49;00m,\u001B[37m \u001B[39;49;00m\u001B[34mNULL\u001B[39;49;00m),\u001B[37m\u001B[39;49;00m\n",
      "(\u001B[33m'Grover Cleveland'\u001B[39;49;00m,\u001B[37m \u001B[39;49;00m\u001B[33m'Thomas A. Hendricks'\u001B[39;49;00m),\u001B[37m\u001B[39;49;00m\n",
      "(\u001B[33m'Benjamin Harrison'\u001B[39;49;00m,\u001B[37m \u001B[39;49;00m\u001B[33m'Levi P. Morton'\u001B[39;49;00m),\u001B[37m\u001B[39;49;00m\n",
      "(\u001B[33m'Grover Cleveland'\u001B[39;49;00m,\u001B[37m \u001B[39;49;00m\u001B[33m'Adlai Stevenson I'\u001B[39;49;00m),\u001B[37m\u001B[39;49;00m\n",
      "(\u001B[33m'William McKinley'\u001B[39;49;00m,\u001B[37m \u001B[39;49;00m\u001B[33m'Garret Hobart'\u001B[39;49;00m),\u001B[37m\u001B[39;49;00m\n",
      "(\u001B[33m'William McKinley'\u001B[39;49;00m,\u001B[37m \u001B[39;49;00m\u001B[33m'Theodore Roosevelt'\u001B[39;49;00m),\u001B[37m\u001B[39;49;00m\n",
      "(\u001B[33m'Theodore Roosevelt'\u001B[39;49;00m,\u001B[37m \u001B[39;49;00m\u001B[33m'Charles W. Fairbanks'\u001B[39;49;00m),\u001B[37m\u001B[39;49;00m\n",
      "(\u001B[33m'William Howard Taft'\u001B[39;49;00m,\u001B[37m \u001B[39;49;00m\u001B[33m'James S. Sherman'\u001B[39;49;00m),\u001B[37m\u001B[39;49;00m\n",
      "(\u001B[33m'Woodrow Wilson'\u001B[39;49;00m,\u001B[37m \u001B[39;49;00m\u001B[33m'Thomas R. Marshall'\u001B[39;49;00m),\u001B[37m\u001B[39;49;00m\n",
      "(\u001B[33m'Warren G. Harding'\u001B[39;49;00m,\u001B[37m \u001B[39;49;00m\u001B[33m'Calvin Coolidge'\u001B[39;49;00m),\u001B[37m\u001B[39;49;00m\n",
      "(\u001B[33m'Calvin Coolidge'\u001B[39;49;00m,\u001B[37m \u001B[39;49;00m\u001B[33m'Charles G. Dawes'\u001B[39;49;00m),\u001B[37m\u001B[39;49;00m\n",
      "(\u001B[33m'Herbert Hoover'\u001B[39;49;00m,\u001B[37m \u001B[39;49;00m\u001B[33m'Charles Curtis'\u001B[39;49;00m),\u001B[37m\u001B[39;49;00m\n",
      "(\u001B[33m'Franklin D. Roosevelt'\u001B[39;49;00m,\u001B[37m \u001B[39;49;00m\u001B[33m'John Nance Garner'\u001B[39;49;00m),\u001B[37m\u001B[39;49;00m\n",
      "(\u001B[33m'Franklin D. Roosevelt'\u001B[39;49;00m,\u001B[37m \u001B[39;49;00m\u001B[33m'Henry A. Wallace'\u001B[39;49;00m),\u001B[37m\u001B[39;49;00m\n",
      "(\u001B[33m'Franklin D. Roosevelt'\u001B[39;49;00m,\u001B[37m \u001B[39;49;00m\u001B[33m'Harry S. Truman'\u001B[39;49;00m),\u001B[37m\u001B[39;49;00m\n",
      "(\u001B[33m'Harry S. Truman'\u001B[39;49;00m,\u001B[37m \u001B[39;49;00m\u001B[33m'Alben W. Barkley'\u001B[39;49;00m),\u001B[37m\u001B[39;49;00m\n",
      "(\u001B[33m'Dwight D. Eisenhower'\u001B[39;49;00m,\u001B[37m \u001B[39;49;00m\u001B[33m'Richard Nixon'\u001B[39;49;00m),\u001B[37m\u001B[39;49;00m\n",
      "(\u001B[33m'John F. Kennedy'\u001B[39;49;00m,\u001B[37m \u001B[39;49;00m\u001B[33m'Lyndon B. Johnson'\u001B[39;49;00m)\u001B[37m\u001B[39;49;00m\n",
      "\u001B[34mAS\u001B[39;49;00m\u001B[37m \u001B[39;49;00mv1(president,\u001B[37m \u001B[39;49;00mvice_president)\u001B[37m\u001B[39;49;00m\n",
      "\n",
      "\u001B[92mINFO: \u001B[0mStoring data into temp view: presidents\n",
      "\n"
     ]
    },
    {
     "name": "stdout",
     "output_type": "stream",
     "text": [
      "+--------------------+--------------------+\n",
      "|           president|      vice_president|\n",
      "+--------------------+--------------------+\n",
      "|   George Washington|          John Adams|\n",
      "|          John Adams|    Thomas Jefferson|\n",
      "|    Thomas Jefferson|          Aaron Burr|\n",
      "|    Thomas Jefferson|      George Clinton|\n",
      "|       James Madison|      George Clinton|\n",
      "|       James Madison|      Elbridge Gerry|\n",
      "|        James Monroe|  Daniel D. Tompkins|\n",
      "|   John Quincy Adams|     John C. Calhoun|\n",
      "|      Andrew Jackson|     John C. Calhoun|\n",
      "|      Andrew Jackson|    Martin Van Buren|\n",
      "|    Martin Van Buren|Richard Mentor Jo...|\n",
      "|William Henry Har...|          John Tyler|\n",
      "|          John Tyler|                null|\n",
      "|       James K. Polk|    George M. Dallas|\n",
      "|      Zachary Taylor|    Millard Fillmore|\n",
      "|    Millard Fillmore|                null|\n",
      "|     Franklin Pierce|     William R. King|\n",
      "|      James Buchanan|John C. Breckinridge|\n",
      "|     Abraham Lincoln|     Hannibal Hamlin|\n",
      "|     Abraham Lincoln|      Andrew Johnson|\n",
      "+--------------------+--------------------+\n",
      "only showing top 20 rows\n",
      "\n"
     ]
    }
   ],
   "source": [
    "# You can also specify the expected columns for the ingestion.\n",
    "df=assistant.create_df(\"USA presidents\", [\"president\", \"vice_president\"])\n",
    "df.show()"
   ]
  },
  {
   "cell_type": "code",
   "execution_count": 13,
   "metadata": {
    "collapsed": false,
    "jupyter": {
     "outputs_hidden": false
    }
   },
   "outputs": [
    {
     "name": "stderr",
     "output_type": "stream",
     "text": [
      "\u001B[92mINFO: \u001B[0mSQL query for the transform:\n",
      "\u001B[92mINFO: \u001B[0m\u001B[34mSELECT\u001B[39;49;00m\u001B[37m \u001B[39;49;00m\u001B[34mDISTINCT\u001B[39;49;00m\u001B[37m \u001B[39;49;00mpresident\u001B[37m\u001B[39;49;00m\n",
      "\u001B[34mFROM\u001B[39;49;00m\u001B[37m \u001B[39;49;00mtemp_view_for_transform\u001B[37m\u001B[39;49;00m\n",
      "\u001B[34mWHERE\u001B[39;49;00m\u001B[37m \u001B[39;49;00mpresident\u001B[37m \u001B[39;49;00m\u001B[34mIN\u001B[39;49;00m\u001B[37m \u001B[39;49;00m(\u001B[34mSELECT\u001B[39;49;00m\u001B[37m \u001B[39;49;00mvice_president\u001B[37m \u001B[39;49;00m\u001B[34mFROM\u001B[39;49;00m\u001B[37m \u001B[39;49;00mtemp_view_for_transform)\u001B[37m\u001B[39;49;00m\n",
      "\n"
     ]
    },
    {
     "name": "stdout",
     "output_type": "stream",
     "text": [
      "+------------------+\n",
      "|         president|\n",
      "+------------------+\n",
      "|        John Adams|\n",
      "|  Thomas Jefferson|\n",
      "|  Martin Van Buren|\n",
      "|  Millard Fillmore|\n",
      "|        John Tyler|\n",
      "|    Andrew Johnson|\n",
      "| Chester A. Arthur|\n",
      "|Theodore Roosevelt|\n",
      "|   Calvin Coolidge|\n",
      "|   Harry S. Truman|\n",
      "+------------------+\n",
      "\n"
     ]
    }
   ],
   "source": [
    "presidents_who_were_vp = df.llm.transform(\"presidents who were also vice presidents\")\n",
    "presidents_who_were_vp.show()"
   ]
  },
  {
   "cell_type": "code",
   "execution_count": 14,
   "metadata": {
    "collapsed": false,
    "jupyter": {
     "outputs_hidden": false
    }
   },
   "outputs": [
    {
     "data": {
      "text/plain": "'In summary, this dataframe is retrieving the distinct list of presidents who have never been vice presidents from the `presidents` table.'"
     },
     "execution_count": 14,
     "metadata": {},
     "output_type": "execute_result"
    }
   ],
   "source": [
    "presidents_who_were_vp.llm.explain()"
   ]
  },
  {
   "cell_type": "code",
   "execution_count": 15,
   "metadata": {},
   "outputs": [
    {
     "name": "stderr",
     "output_type": "stream",
     "text": [
      "\u001B[92mINFO: \u001B[0mGenerated code:\n",
      "\u001B[92mINFO: \u001B[0m\u001B[34mdef\u001B[39;49;00m \u001B[32mhas_no_null_values\u001B[39;49;00m(df) -> \u001B[36mbool\u001B[39;49;00m:\n",
      "    \u001B[34mfrom\u001B[39;49;00m \u001B[04m\u001B[36mpyspark\u001B[39;49;00m\u001B[04m\u001B[36m.\u001B[39;49;00m\u001B[04m\u001B[36msql\u001B[39;49;00m\u001B[04m\u001B[36m.\u001B[39;49;00m\u001B[04m\u001B[36mfunctions\u001B[39;49;00m \u001B[34mimport\u001B[39;49;00m col\n",
      "    \n",
      "    \u001B[37m# Check if there are any NULL values in the DataFrame\u001B[39;49;00m\n",
      "    null_counts = df.select([col(c).isNull().alias(c) \u001B[34mfor\u001B[39;49;00m c \u001B[35min\u001B[39;49;00m df.columns]).filter(\u001B[33m\"\u001B[39;49;00m\u001B[33m or \u001B[39;49;00m\u001B[33m\"\u001B[39;49;00m.join(df.columns)).count()\n",
      "\n",
      "    \u001B[37m# If there are no NULL values, return True, otherwise return False\u001B[39;49;00m\n",
      "    \u001B[34mif\u001B[39;49;00m null_counts == \u001B[34m0\u001B[39;49;00m:\n",
      "        \u001B[34mreturn\u001B[39;49;00m \u001B[34mTrue\u001B[39;49;00m\n",
      "    \u001B[34melse\u001B[39;49;00m:\n",
      "        \u001B[34mreturn\u001B[39;49;00m \u001B[34mFalse\u001B[39;49;00m\n",
      "\n",
      "result = has_no_null_values(df)\n",
      "\n",
      "\u001B[92mINFO: \u001B[0m\n",
      "Result: True\n"
     ]
    }
   ],
   "source": [
    "presidents_who_were_vp.llm.verify(\"expect no NULL values\")"
   ]
  },
  {
   "cell_type": "markdown",
   "metadata": {
    "jupyter": {
     "outputs_hidden": false
    }
   },
   "source": [
    "# Example 3: Top 10 tech companies"
   ]
  },
  {
   "cell_type": "code",
   "execution_count": 16,
   "metadata": {
    "collapsed": false,
    "jupyter": {
     "outputs_hidden": false
    }
   },
   "outputs": [
    {
     "name": "stderr",
     "output_type": "stream",
     "text": [
      "\u001B[92mINFO: \u001B[0mParsing URL: https://www.statista.com/statistics/1350976/leading-tech-companies-worldwide-by-market-cap/\n",
      "\n",
      "\u001B[92mINFO: \u001B[0mSQL query for the ingestion:\n",
      "\n",
      "\u001B[92mINFO: \u001B[0m\u001B[34mCREATE\u001B[39;49;00m\u001B[37m \u001B[39;49;00m\u001B[34mOR\u001B[39;49;00m\u001B[37m \u001B[39;49;00m\u001B[34mREPLACE\u001B[39;49;00m\u001B[37m \u001B[39;49;00mTEMP\u001B[37m \u001B[39;49;00m\u001B[34mVIEW\u001B[39;49;00m\u001B[37m \u001B[39;49;00mtop_tech_companies\u001B[37m \u001B[39;49;00m\u001B[34mAS\u001B[39;49;00m\u001B[37m \u001B[39;49;00m\u001B[34mSELECT\u001B[39;49;00m\u001B[37m \u001B[39;49;00m*\u001B[37m \u001B[39;49;00m\u001B[34mFROM\u001B[39;49;00m\u001B[37m \u001B[39;49;00m\u001B[34mVALUES\u001B[39;49;00m\u001B[37m\u001B[39;49;00m\n",
      "(\u001B[33m'Apple'\u001B[39;49;00m,\u001B[37m \u001B[39;49;00m\u001B[34m2242\u001B[39;49;00m,\u001B[37m \u001B[39;49;00m\u001B[33m'United States'\u001B[39;49;00m),\u001B[37m\u001B[39;49;00m\n",
      "(\u001B[33m'Microsoft'\u001B[39;49;00m,\u001B[37m \u001B[39;49;00m\u001B[34m1821\u001B[39;49;00m,\u001B[37m \u001B[39;49;00m\u001B[33m'United States'\u001B[39;49;00m),\u001B[37m\u001B[39;49;00m\n",
      "(\u001B[33m'Alphabet (Google)'\u001B[39;49;00m,\u001B[37m \u001B[39;49;00m\u001B[34m1229\u001B[39;49;00m,\u001B[37m \u001B[39;49;00m\u001B[33m'United States'\u001B[39;49;00m),\u001B[37m\u001B[39;49;00m\n",
      "(\u001B[33m'Amazon'\u001B[39;49;00m,\u001B[37m \u001B[39;49;00m\u001B[34m902\u001B[39;49;00m.\u001B[34m4\u001B[39;49;00m,\u001B[37m \u001B[39;49;00m\u001B[33m'United States'\u001B[39;49;00m),\u001B[37m\u001B[39;49;00m\n",
      "(\u001B[33m'Tesla'\u001B[39;49;00m,\u001B[37m \u001B[39;49;00m\u001B[34m541\u001B[39;49;00m.\u001B[34m4\u001B[39;49;00m,\u001B[37m \u001B[39;49;00m\u001B[33m'United States'\u001B[39;49;00m),\u001B[37m\u001B[39;49;00m\n",
      "(\u001B[33m'TSMC'\u001B[39;49;00m,\u001B[37m \u001B[39;49;00m\u001B[34m410\u001B[39;49;00m.\u001B[34m9\u001B[39;49;00m,\u001B[37m \u001B[39;49;00m\u001B[33m'Taiwan'\u001B[39;49;00m),\u001B[37m\u001B[39;49;00m\n",
      "(\u001B[33m'NVIDIA'\u001B[39;49;00m,\u001B[37m \u001B[39;49;00m\u001B[34m401\u001B[39;49;00m.\u001B[34m7\u001B[39;49;00m,\u001B[37m \u001B[39;49;00m\u001B[33m'United States'\u001B[39;49;00m),\u001B[37m\u001B[39;49;00m\n",
      "(\u001B[33m'Tencent'\u001B[39;49;00m,\u001B[37m \u001B[39;49;00m\u001B[34m377\u001B[39;49;00m.\u001B[34m8\u001B[39;49;00m,\u001B[37m \u001B[39;49;00m\u001B[33m'China'\u001B[39;49;00m),\u001B[37m\u001B[39;49;00m\n",
      "(\u001B[33m'Meta Platforms (Facebook)'\u001B[39;49;00m,\u001B[37m \u001B[39;49;00m\u001B[34m302\u001B[39;49;00m.\u001B[34m1\u001B[39;49;00m,\u001B[37m \u001B[39;49;00m\u001B[33m'United States'\u001B[39;49;00m),\u001B[37m\u001B[39;49;00m\n",
      "(\u001B[33m'Samsung'\u001B[39;49;00m,\u001B[37m \u001B[39;49;00m\u001B[34m301\u001B[39;49;00m.\u001B[34m7\u001B[39;49;00m,\u001B[37m \u001B[39;49;00m\u001B[33m'South Korea'\u001B[39;49;00m)\u001B[37m\u001B[39;49;00m\n",
      "\u001B[34mAS\u001B[39;49;00m\u001B[37m \u001B[39;49;00mtop_tech_companies(company,\u001B[37m \u001B[39;49;00mcap,\u001B[37m \u001B[39;49;00mcountry)\u001B[37m\u001B[39;49;00m\n",
      "\n",
      "\u001B[92mINFO: \u001B[0mStoring data into temp view: top_tech_companies\n",
      "\n"
     ]
    },
    {
     "name": "stdout",
     "output_type": "stream",
     "text": [
      "+--------------------+------+-------------+\n",
      "|             company|   cap|      country|\n",
      "+--------------------+------+-------------+\n",
      "|               Apple|2242.0|United States|\n",
      "|           Microsoft|1821.0|United States|\n",
      "|   Alphabet (Google)|1229.0|United States|\n",
      "|              Amazon| 902.4|United States|\n",
      "|               Tesla| 541.4|United States|\n",
      "|                TSMC| 410.9|       Taiwan|\n",
      "|              NVIDIA| 401.7|United States|\n",
      "|             Tencent| 377.8|        China|\n",
      "|Meta Platforms (F...| 302.1|United States|\n",
      "|             Samsung| 301.7|  South Korea|\n",
      "+--------------------+------+-------------+\n",
      "\n"
     ]
    }
   ],
   "source": [
    "# Search and ingest web content into a DataFrame\n",
    "company_df=assistant.create_df(\"Top 10 tech companies by market cap\", ['company', 'cap', 'country'])\n",
    "company_df.show()"
   ]
  },
  {
   "cell_type": "code",
   "execution_count": 17,
   "metadata": {
    "collapsed": false,
    "jupyter": {
     "outputs_hidden": false
    }
   },
   "outputs": [
    {
     "name": "stderr",
     "output_type": "stream",
     "text": [
      "\u001B[92mINFO: \u001B[0mSQL query for the transform:\n",
      "\u001B[92mINFO: \u001B[0m\u001B[34mSELECT\u001B[39;49;00m\u001B[37m \u001B[39;49;00mcompany,\u001B[37m \u001B[39;49;00mcap,\u001B[37m \u001B[39;49;00mcountry\u001B[37m\u001B[39;49;00m\n",
      "\u001B[34mFROM\u001B[39;49;00m\u001B[37m \u001B[39;49;00mtemp_view_for_transform\u001B[37m\u001B[39;49;00m\n",
      "\u001B[34mWHERE\u001B[39;49;00m\u001B[37m \u001B[39;49;00mcountry\u001B[37m \u001B[39;49;00m=\u001B[37m \u001B[39;49;00m\u001B[33m'United States'\u001B[39;49;00m\u001B[37m\u001B[39;49;00m\n",
      "\n"
     ]
    },
    {
     "name": "stdout",
     "output_type": "stream",
     "text": [
      "+--------------------+------+-------------+\n",
      "|             company|   cap|      country|\n",
      "+--------------------+------+-------------+\n",
      "|               Apple|2242.0|United States|\n",
      "|           Microsoft|1821.0|United States|\n",
      "|   Alphabet (Google)|1229.0|United States|\n",
      "|              Amazon| 902.4|United States|\n",
      "|               Tesla| 541.4|United States|\n",
      "|              NVIDIA| 401.7|United States|\n",
      "|Meta Platforms (F...| 302.1|United States|\n",
      "+--------------------+------+-------------+\n",
      "\n"
     ]
    }
   ],
   "source": [
    "us_company_df=company_df.llm.transform(\"companies in United States\")\n",
    "us_company_df.show()"
   ]
  },
  {
   "cell_type": "code",
   "execution_count": 18,
   "metadata": {
    "collapsed": false,
    "jupyter": {
     "outputs_hidden": false
    }
   },
   "outputs": [
    {
     "data": {
      "text/plain": "'In summary, this dataframe is retrieving the company name, market capitalization, and country for all the top tech companies that are based in the United States.'"
     },
     "execution_count": 18,
     "metadata": {},
     "output_type": "execute_result"
    }
   ],
   "source": [
    "us_company_df.llm.explain()"
   ]
  },
  {
   "cell_type": "code",
   "execution_count": 19,
   "metadata": {},
   "outputs": [
    {
     "name": "stderr",
     "output_type": "stream",
     "text": [
      "\u001B[92mINFO: \u001B[0mGenerated code:\n",
      "\u001B[92mINFO: \u001B[0m\u001B[34mdef\u001B[39;49;00m \u001B[32mhas_unique_company_names\u001B[39;49;00m(df) -> \u001B[36mbool\u001B[39;49;00m:\n",
      "    \u001B[34mfrom\u001B[39;49;00m \u001B[04m\u001B[36mpyspark\u001B[39;49;00m\u001B[04m\u001B[36m.\u001B[39;49;00m\u001B[04m\u001B[36msql\u001B[39;49;00m\u001B[04m\u001B[36m.\u001B[39;49;00m\u001B[04m\u001B[36mfunctions\u001B[39;49;00m \u001B[34mimport\u001B[39;49;00m countDistinct\n",
      "\n",
      "    \u001B[37m# Get the number of unique company names\u001B[39;49;00m\n",
      "    unique_companies = df.agg(countDistinct(\u001B[33m\"\u001B[39;49;00m\u001B[33mcompany\u001B[39;49;00m\u001B[33m\"\u001B[39;49;00m)).collect()[\u001B[34m0\u001B[39;49;00m][\u001B[34m0\u001B[39;49;00m]\n",
      "\n",
      "    \u001B[37m# Get the total number of rows in the DataFrame\u001B[39;49;00m\n",
      "    total_rows = df.count()\n",
      "\n",
      "    \u001B[37m# Check if the number of unique company names is equal to the total number of rows\u001B[39;49;00m\n",
      "    \u001B[34mif\u001B[39;49;00m unique_companies == total_rows:\n",
      "        \u001B[34mreturn\u001B[39;49;00m \u001B[34mTrue\u001B[39;49;00m\n",
      "    \u001B[34melse\u001B[39;49;00m:\n",
      "        \u001B[34mreturn\u001B[39;49;00m \u001B[34mFalse\u001B[39;49;00m\n",
      "\n",
      "result = has_unique_company_names(df)\n",
      "\n",
      "\u001B[92mINFO: \u001B[0m\n",
      "Result: True\n"
     ]
    }
   ],
   "source": [
    "us_company_df.llm.verify(\"expect all company names to be unique\")"
   ]
  },
  {
   "cell_type": "markdown",
   "metadata": {
    "jupyter": {
     "outputs_hidden": false
    }
   },
   "source": [
    "## Example 4: Ingestion from a URL\n",
    "Instead of searching for the web page, you can also ask the assistant to ingest from a URL."
   ]
  },
  {
   "cell_type": "code",
   "execution_count": 20,
   "metadata": {
    "collapsed": false,
    "jupyter": {
     "outputs_hidden": false
    }
   },
   "outputs": [
    {
     "name": "stderr",
     "output_type": "stream",
     "text": [
      "\u001B[92mINFO: \u001B[0mParsing URL: https://time.com/6235186/best-albums-2022/\n",
      "\n",
      "\u001B[92mINFO: \u001B[0mSQL query for the ingestion:\n",
      "\n",
      "\u001B[92mINFO: \u001B[0m\u001B[34mCREATE\u001B[39;49;00m\u001B[37m \u001B[39;49;00m\u001B[34mOR\u001B[39;49;00m\u001B[37m \u001B[39;49;00m\u001B[34mREPLACE\u001B[39;49;00m\u001B[37m \u001B[39;49;00mTEMP\u001B[37m \u001B[39;49;00m\u001B[34mVIEW\u001B[39;49;00m\u001B[37m \u001B[39;49;00mbest_albums_2022\u001B[37m \u001B[39;49;00m\u001B[34mAS\u001B[39;49;00m\u001B[37m \u001B[39;49;00m\u001B[34mSELECT\u001B[39;49;00m\u001B[37m \u001B[39;49;00m*\u001B[37m \u001B[39;49;00m\u001B[34mFROM\u001B[39;49;00m\u001B[37m \u001B[39;49;00m\u001B[34mVALUES\u001B[39;49;00m\u001B[37m\u001B[39;49;00m\n",
      "(\u001B[33m'Motomami'\u001B[39;49;00m,\u001B[37m \u001B[39;49;00m\u001B[33m'Rosalía'\u001B[39;49;00m,\u001B[37m \u001B[39;49;00m\u001B[34m2022\u001B[39;49;00m),\u001B[37m\u001B[39;49;00m\n",
      "(\u001B[33m'You Can\\'\u001B[39;49;00mt\u001B[37m \u001B[39;49;00mKill\u001B[37m \u001B[39;49;00mMe\u001B[33m', '\u001B[39;49;00m\u001B[34m070\u001B[39;49;00m\u001B[37m \u001B[39;49;00mShake\u001B[33m', 2022),\u001B[39;49;00m\n",
      "\u001B[33m('\u001B[39;49;00mMr.\u001B[37m \u001B[39;49;00mMorale\u001B[37m \u001B[39;49;00m&\u001B[37m \u001B[39;49;00mThe\u001B[37m \u001B[39;49;00mBig\u001B[37m \u001B[39;49;00mSteppers\u001B[33m', '\u001B[39;49;00mKendrick\u001B[37m \u001B[39;49;00mLamar\u001B[33m', 2022),\u001B[39;49;00m\n",
      "\u001B[33m('\u001B[39;49;00mBig\u001B[37m \u001B[39;49;00m\u001B[34mTime\u001B[39;49;00m\u001B[33m', '\u001B[39;49;00mAngel\u001B[37m \u001B[39;49;00mOlsen\u001B[33m', 2022),\u001B[39;49;00m\n",
      "\u001B[33m('\u001B[39;49;00mElectricity\u001B[33m', '\u001B[39;49;00mIbibio\u001B[37m \u001B[39;49;00mSound\u001B[37m \u001B[39;49;00mMachine\u001B[33m', 2022),\u001B[39;49;00m\n",
      "\u001B[33m('\u001B[39;49;00mIt\u001B[04m\u001B[91m\\\u001B[39;49;00m\u001B[33m's Almost Dry'\u001B[39;49;00m,\u001B[37m \u001B[39;49;00m\u001B[33m'Pusha T'\u001B[39;49;00m,\u001B[37m \u001B[39;49;00m\u001B[34m2022\u001B[39;49;00m),\u001B[37m\u001B[39;49;00m\n",
      "(\u001B[33m'Chloe and the Next 20th Century'\u001B[39;49;00m,\u001B[37m \u001B[39;49;00m\u001B[33m'Father John Misty'\u001B[39;49;00m,\u001B[37m \u001B[39;49;00m\u001B[34m2022\u001B[39;49;00m),\u001B[37m\u001B[39;49;00m\n",
      "(\u001B[33m'Renaissance'\u001B[39;49;00m,\u001B[37m \u001B[39;49;00m\u001B[33m'Beyoncé'\u001B[39;49;00m,\u001B[37m \u001B[39;49;00m\u001B[34m2022\u001B[39;49;00m),\u001B[37m\u001B[39;49;00m\n",
      "(\u001B[33m'19 Masters'\u001B[39;49;00m,\u001B[37m \u001B[39;49;00m\u001B[33m'Saya Gray'\u001B[39;49;00m,\u001B[37m \u001B[39;49;00m\u001B[34m2022\u001B[39;49;00m),\u001B[37m\u001B[39;49;00m\n",
      "(\u001B[33m'Un Verano Sin Ti'\u001B[39;49;00m,\u001B[37m \u001B[39;49;00m\u001B[33m'Bad Bunny'\u001B[39;49;00m,\u001B[37m \u001B[39;49;00m\u001B[34m2022\u001B[39;49;00m)\u001B[37m\u001B[39;49;00m\n",
      "\u001B[34mAS\u001B[39;49;00m\u001B[37m \u001B[39;49;00mv1(album,\u001B[37m \u001B[39;49;00martist,\u001B[37m \u001B[39;49;00m\u001B[34myear\u001B[39;49;00m)\u001B[37m\u001B[39;49;00m\n",
      "\n",
      "\u001B[92mINFO: \u001B[0mStoring data into temp view: best_albums_2022\n",
      "\n"
     ]
    },
    {
     "name": "stdout",
     "output_type": "stream",
     "text": [
      "+--------------------+--------------------+----+\n",
      "|               album|              artist|year|\n",
      "+--------------------+--------------------+----+\n",
      "|            Motomami|             Rosalía|2022|\n",
      "|   You Can't Kill Me|           070 Shake|2022|\n",
      "|Mr. Morale & The ...|      Kendrick Lamar|2022|\n",
      "|            Big Time|         Angel Olsen|2022|\n",
      "|         Electricity|Ibibio Sound Machine|2022|\n",
      "|     It's Almost Dry|             Pusha T|2022|\n",
      "|Chloe and the Nex...|   Father John Misty|2022|\n",
      "|         Renaissance|             Beyoncé|2022|\n",
      "|          19 Masters|           Saya Gray|2022|\n",
      "|    Un Verano Sin Ti|           Bad Bunny|2022|\n",
      "+--------------------+--------------------+----+\n",
      "\n"
     ]
    }
   ],
   "source": [
    "best_albums_df = assistant.create_df('https://time.com/6235186/best-albums-2022/', [\"album\", \"artist\", \"year\"])\n",
    "best_albums_df.show()"
   ]
  },
  {
   "cell_type": "code",
   "execution_count": 21,
   "metadata": {},
   "outputs": [
    {
     "name": "stderr",
     "output_type": "stream",
     "text": [
      "\u001B[92mINFO: \u001B[0mGenerated code:\n",
      "\u001B[92mINFO: \u001B[0m\u001B[34mdef\u001B[39;49;00m \u001B[32mhas_2022_years\u001B[39;49;00m(df) -> \u001B[36mbool\u001B[39;49;00m:\n",
      "    \u001B[34mfrom\u001B[39;49;00m \u001B[04m\u001B[36mpyspark\u001B[39;49;00m\u001B[04m\u001B[36m.\u001B[39;49;00m\u001B[04m\u001B[36msql\u001B[39;49;00m\u001B[04m\u001B[36m.\u001B[39;49;00m\u001B[04m\u001B[36mfunctions\u001B[39;49;00m \u001B[34mimport\u001B[39;49;00m col\n",
      "\n",
      "    \u001B[37m# Filter the rows where the year is not 2022\u001B[39;49;00m\n",
      "    not_2022_rows = df.filter(col(\u001B[33m\"\u001B[39;49;00m\u001B[33myear\u001B[39;49;00m\u001B[33m\"\u001B[39;49;00m) != \u001B[34m2022\u001B[39;49;00m)\n",
      "\n",
      "    \u001B[37m# Check if there are any rows with a year other than 2022\u001B[39;49;00m\n",
      "    \u001B[34mif\u001B[39;49;00m not_2022_rows.count() == \u001B[34m0\u001B[39;49;00m:\n",
      "        \u001B[34mreturn\u001B[39;49;00m \u001B[34mTrue\u001B[39;49;00m\n",
      "    \u001B[34melse\u001B[39;49;00m:\n",
      "        \u001B[34mreturn\u001B[39;49;00m \u001B[34mFalse\u001B[39;49;00m\n",
      "\n",
      "result = has_2022_years(df)\n",
      "\n",
      "\u001B[92mINFO: \u001B[0m\n",
      "Result: True\n"
     ]
    }
   ],
   "source": [
    "best_albums_df.llm.verify(\"expect each year to be 2022\")"
   ]
  },
  {
   "cell_type": "markdown",
   "metadata": {},
   "source": [
    "## Example 5: UDF Generation\n",
    "\n",
    "You can also ask the assistant to generate code for a Spark UDF by providing."
   ]
  },
  {
   "cell_type": "code",
   "execution_count": 22,
   "metadata": {},
   "outputs": [
    {
     "name": "stderr",
     "output_type": "stream",
     "text": [
      "\u001B[92mINFO: \u001B[0mCreating following Python UDF:\n",
      "\u001B[92mINFO: \u001B[0m\u001B[34mdef\u001B[39;49;00m \u001B[32mconvert_grades\u001B[39;49;00m(grade_percent: \u001B[36mfloat\u001B[39;49;00m) -> \u001B[36mstr\u001B[39;49;00m:\n",
      "    \u001B[34mif\u001B[39;49;00m grade_percent \u001B[35mis\u001B[39;49;00m \u001B[35mnot\u001B[39;49;00m \u001B[34mNone\u001B[39;49;00m:\n",
      "        \u001B[34mif\u001B[39;49;00m grade_percent >= \u001B[34m90.0\u001B[39;49;00m:\n",
      "            \u001B[34mreturn\u001B[39;49;00m \u001B[33m\"\u001B[39;49;00m\u001B[33mA\u001B[39;49;00m\u001B[33m\"\u001B[39;49;00m\n",
      "        \u001B[34melif\u001B[39;49;00m grade_percent >= \u001B[34m80.0\u001B[39;49;00m:\n",
      "            \u001B[34mreturn\u001B[39;49;00m \u001B[33m\"\u001B[39;49;00m\u001B[33mB\u001B[39;49;00m\u001B[33m\"\u001B[39;49;00m\n",
      "        \u001B[34melif\u001B[39;49;00m grade_percent >= \u001B[34m70.0\u001B[39;49;00m:\n",
      "            \u001B[34mreturn\u001B[39;49;00m \u001B[33m\"\u001B[39;49;00m\u001B[33mC\u001B[39;49;00m\u001B[33m\"\u001B[39;49;00m\n",
      "        \u001B[34melif\u001B[39;49;00m grade_percent >= \u001B[34m60.0\u001B[39;49;00m:\n",
      "            \u001B[34mreturn\u001B[39;49;00m \u001B[33m\"\u001B[39;49;00m\u001B[33mD\u001B[39;49;00m\u001B[33m\"\u001B[39;49;00m\n",
      "        \u001B[34melse\u001B[39;49;00m:\n",
      "            \u001B[34mreturn\u001B[39;49;00m \u001B[33m\"\u001B[39;49;00m\u001B[33mF\u001B[39;49;00m\u001B[33m\"\u001B[39;49;00m\n",
      "\n"
     ]
    }
   ],
   "source": [
    "@assistant.udf\n",
    "def convert_grades(grade_percent: float) -> str:\n",
    "    \"\"\"Convert the grade percent to a letter grade using standard cutoffs\"\"\"\n",
    "    ..."
   ]
  },
  {
   "cell_type": "code",
   "execution_count": 23,
   "metadata": {},
   "outputs": [
    {
     "name": "stderr",
     "output_type": "stream",
     "text": [
      "[Stage 18:>                                                         (0 + 1) / 1]\r"
     ]
    },
    {
     "name": "stdout",
     "output_type": "stream",
     "text": [
      "+----------+-----------------------------+\n",
      "|student_id|convert_grades(grade_percent)|\n",
      "+----------+-----------------------------+\n",
      "|         1|                            A|\n",
      "|         2|                            C|\n",
      "|         3|                            B|\n",
      "+----------+-----------------------------+\n",
      "\n"
     ]
    },
    {
     "name": "stderr",
     "output_type": "stream",
     "text": [
      "                                                                                \r"
     ]
    }
   ],
   "source": [
    "from pyspark.sql import SparkSession\n",
    "\n",
    "spark = SparkSession.builder.getOrCreate()\n",
    "spark.udf.register(\"convert_grades\", convert_grades)\n",
    "percentGrades = [(1, 97.8), (2, 72.3), (3, 81.2)]\n",
    "df = spark.createDataFrame(percentGrades, [\"student_id\", \"grade_percent\"])\n",
    "df.selectExpr(\"student_id\", \"convert_grades(grade_percent)\").show()"
   ]
  },
  {
   "cell_type": "markdown",
   "source": [
    "# Cache\n",
    "The SparkLLMAssistant supports a simple in-memory and persistent cache system. It keeps an in-memory staging cache, which gets updated for LLM and web search results. The staging cache can be persisted through the commit() method. Cache lookup is always performed on the persistent cache only."
   ],
   "metadata": {
    "collapsed": false
   }
  },
  {
   "cell_type": "code",
   "execution_count": 7,
   "metadata": {},
   "outputs": [],
   "source": [
    "assistant.commit()"
   ]
  }
 ],
 "metadata": {
  "kernelspec": {
   "display_name": "Python 3 (ipykernel)",
   "language": "python",
   "name": "python3"
  },
  "language_info": {
   "codemirror_mode": {
    "name": "ipython",
    "version": 3
   },
   "file_extension": ".py",
   "mimetype": "text/x-python",
   "name": "python",
   "nbconvert_exporter": "python",
   "pygments_lexer": "ipython3",
   "version": "3.11.4"
  }
 },
 "nbformat": 4,
 "nbformat_minor": 4
}
