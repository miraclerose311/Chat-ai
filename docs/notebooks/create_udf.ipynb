{
 "cells": [
  {
   "cell_type": "markdown",
   "id": "2227e466-f9e4-4882-9a21-da2b1824b301",
   "metadata": {},
   "source": [
    "# Generate Python UDFs for different cases"
   ]
  },
  {
   "cell_type": "markdown",
   "id": "86b69eae-351d-45f4-ac16-f3bd8eb2bd42",
   "metadata": {},
   "source": [
    "## Initialization"
   ]
  },
  {
   "cell_type": "code",
   "execution_count": 1,
   "id": "c7519a9c-0657-4aac-b3da-0e3e41995fdb",
   "metadata": {},
   "outputs": [
    {
     "name": "stderr",
     "output_type": "stream",
     "text": [
      "23/10/28 08:19:42 WARN Utils: Your hostname, nixos resolves to a loopback address: 127.0.0.2; using 192.168.0.15 instead (on interface wlp0s20f3)\n",
      "23/10/28 08:19:42 WARN Utils: Set SPARK_LOCAL_IP if you need to bind to another address\n",
      "Setting default log level to \"WARN\".\n",
      "To adjust logging level use sc.setLogLevel(newLevel). For SparkR, use setLogLevel(newLevel).\n",
      "23/10/28 08:19:42 WARN NativeCodeLoader: Unable to load native-hadoop library for your platform... using builtin-java classes where applicable\n"
     ]
    }
   ],
   "source": [
    "from pyspark.sql import SparkSession\n",
    "from pyspark_ai import SparkAI\n",
    "\n",
    "spark_ai = SparkAI(verbose=True)\n",
    "spark_ai.activate()  # active partial functions for Spark DataFrame\n",
    "spark = SparkSession.builder.getOrCreate()"
   ]
  },
  {
   "cell_type": "markdown",
   "id": "d1a67d8e-6205-4b94-a6db-a3acf7c3f2e8",
   "metadata": {},
   "source": [
    "## Example 1: parsing heterogeneous JSON text\n",
    "\n",
    "It is a common problem when we are getting data in the from of JSON text. We know expected schema of JSON, but there is no guarantees about fields order and even missing keys are possible by the contract. Built-int spark functions are not well suited for such a case because `from_json` expected strict schema. Sometimes it is simpler to resolve such a problem with [PythonUDF](https://spark.apache.org/docs/latest/api/python/reference/pyspark.sql/api/pyspark.sql.functions.udf.html). With `pyspark-ai` we can simplify the procoess of creation such a function."
   ]
  },
  {
   "cell_type": "markdown",
   "id": "2f8a2172-0a62-4d39-95a3-68f42256a948",
   "metadata": {},
   "source": [
    "### Generation of Data\n",
    "\n",
    "But at first we need to generate a test sample of data. Let's do it by mutatin one single JSON."
   ]
  },
  {
   "cell_type": "code",
   "execution_count": 2,
   "id": "5cc4204a-64f4-4d21-8b52-bfa5c1c500a3",
   "metadata": {},
   "outputs": [
    {
     "name": "stderr",
     "output_type": "stream",
     "text": [
      "                                                                                \r"
     ]
    },
    {
     "data": {
      "text/html": [
       "<div>\n",
       "<style scoped>\n",
       "    .dataframe tbody tr th:only-of-type {\n",
       "        vertical-align: middle;\n",
       "    }\n",
       "\n",
       "    .dataframe tbody tr th {\n",
       "        vertical-align: top;\n",
       "    }\n",
       "\n",
       "    .dataframe thead th {\n",
       "        text-align: right;\n",
       "    }\n",
       "</style>\n",
       "<table border=\"1\" class=\"dataframe\">\n",
       "  <thead>\n",
       "    <tr style=\"text-align: right;\">\n",
       "      <th></th>\n",
       "      <th>json_field</th>\n",
       "      <th>schema</th>\n",
       "    </tr>\n",
       "  </thead>\n",
       "  <tbody>\n",
       "    <tr>\n",
       "      <th>0</th>\n",
       "      <td>{\"username\": \"johndoe\", \"phone_number\": \"+1 23...</td>\n",
       "      <td>[id, first_name, last_name, username, email, p...</td>\n",
       "    </tr>\n",
       "    <tr>\n",
       "      <th>1</th>\n",
       "      <td>{\"username\": \"johndoe\", \"phone_number\": \"+1 23...</td>\n",
       "      <td>[id, first_name, last_name, username, email, p...</td>\n",
       "    </tr>\n",
       "    <tr>\n",
       "      <th>2</th>\n",
       "      <td>{\"last_login\": \"2022-03-21T07:25:34Z\", \"userna...</td>\n",
       "      <td>[id, first_name, last_name, username, email, p...</td>\n",
       "    </tr>\n",
       "    <tr>\n",
       "      <th>3</th>\n",
       "      <td>{\"phone_number\": \"+1 234 567 8900\", \"last_logi...</td>\n",
       "      <td>[id, first_name, last_name, username, email, p...</td>\n",
       "    </tr>\n",
       "    <tr>\n",
       "      <th>4</th>\n",
       "      <td>{\"username\": \"johndoe\", \"registration_date\": \"...</td>\n",
       "      <td>[id, first_name, last_name, username, email, p...</td>\n",
       "    </tr>\n",
       "    <tr>\n",
       "      <th>5</th>\n",
       "      <td>{\"age\": 32, \"last_name\": \"Doe\", \"last_login\": ...</td>\n",
       "      <td>[id, first_name, last_name, username, email, p...</td>\n",
       "    </tr>\n",
       "    <tr>\n",
       "      <th>6</th>\n",
       "      <td>{\"age\": 32, \"phone_number\": \"+1 234 567 8900\",...</td>\n",
       "      <td>[id, first_name, last_name, username, email, p...</td>\n",
       "    </tr>\n",
       "    <tr>\n",
       "      <th>7</th>\n",
       "      <td>{\"first_name\": \"John\", \"registration_date\": \"2...</td>\n",
       "      <td>[id, first_name, last_name, username, email, p...</td>\n",
       "    </tr>\n",
       "    <tr>\n",
       "      <th>8</th>\n",
       "      <td>{\"phone_number\": \"+1 234 567 8900\", \"age\": 32,...</td>\n",
       "      <td>[id, first_name, last_name, username, email, p...</td>\n",
       "    </tr>\n",
       "    <tr>\n",
       "      <th>9</th>\n",
       "      <td>{\"age\": 32, \"phone_number\": \"+1 234 567 8900\",...</td>\n",
       "      <td>[id, first_name, last_name, username, email, p...</td>\n",
       "    </tr>\n",
       "    <tr>\n",
       "      <th>10</th>\n",
       "      <td>{\"age\": 32, \"username\": \"johndoe\", \"registrati...</td>\n",
       "      <td>[id, first_name, last_name, username, email, p...</td>\n",
       "    </tr>\n",
       "    <tr>\n",
       "      <th>11</th>\n",
       "      <td>{\"last_name\": \"Doe\", \"address\": \"123 Main St, ...</td>\n",
       "      <td>[id, first_name, last_name, username, email, p...</td>\n",
       "    </tr>\n",
       "  </tbody>\n",
       "</table>\n",
       "</div>"
      ],
      "text/plain": [
       "                                           json_field  \\\n",
       "0   {\"username\": \"johndoe\", \"phone_number\": \"+1 23...   \n",
       "1   {\"username\": \"johndoe\", \"phone_number\": \"+1 23...   \n",
       "2   {\"last_login\": \"2022-03-21T07:25:34Z\", \"userna...   \n",
       "3   {\"phone_number\": \"+1 234 567 8900\", \"last_logi...   \n",
       "4   {\"username\": \"johndoe\", \"registration_date\": \"...   \n",
       "5   {\"age\": 32, \"last_name\": \"Doe\", \"last_login\": ...   \n",
       "6   {\"age\": 32, \"phone_number\": \"+1 234 567 8900\",...   \n",
       "7   {\"first_name\": \"John\", \"registration_date\": \"2...   \n",
       "8   {\"phone_number\": \"+1 234 567 8900\", \"age\": 32,...   \n",
       "9   {\"age\": 32, \"phone_number\": \"+1 234 567 8900\",...   \n",
       "10  {\"age\": 32, \"username\": \"johndoe\", \"registrati...   \n",
       "11  {\"last_name\": \"Doe\", \"address\": \"123 Main St, ...   \n",
       "\n",
       "                                               schema  \n",
       "0   [id, first_name, last_name, username, email, p...  \n",
       "1   [id, first_name, last_name, username, email, p...  \n",
       "2   [id, first_name, last_name, username, email, p...  \n",
       "3   [id, first_name, last_name, username, email, p...  \n",
       "4   [id, first_name, last_name, username, email, p...  \n",
       "5   [id, first_name, last_name, username, email, p...  \n",
       "6   [id, first_name, last_name, username, email, p...  \n",
       "7   [id, first_name, last_name, username, email, p...  \n",
       "8   [id, first_name, last_name, username, email, p...  \n",
       "9   [id, first_name, last_name, username, email, p...  \n",
       "10  [id, first_name, last_name, username, email, p...  \n",
       "11  [id, first_name, last_name, username, email, p...  "
      ]
     },
     "execution_count": 2,
     "metadata": {},
     "output_type": "execute_result"
    }
   ],
   "source": [
    "random_dict = {\n",
    "    \"id\": 1279,\n",
    "    \"first_name\": \"John\",\n",
    "    \"last_name\": \"Doe\",\n",
    "    \"username\": \"johndoe\",\n",
    "    \"email\": \"john_doe@example.com\",\n",
    "    \"phone_number\": \"+1 234 567 8900\",\n",
    "    \"address\": \"123 Main St, Springfield, OH, 45503, USA\",\n",
    "    \"age\": 32,\n",
    "    \"registration_date\": \"2020-01-20T12:12:12Z\",\n",
    "    \"last_login\": \"2022-03-21T07:25:34Z\",\n",
    "}\n",
    "original_keys = list(random_dict.keys())\n",
    "\n",
    "from random import random, shuffle\n",
    "# Generate 20 mutated version of this dictionary\n",
    "mutaded_rows = []\n",
    "for _ in range(20):\n",
    "    keys = [k for k in original_keys]\n",
    "    shuffle(keys)\n",
    "    # With 0.4 chance drop each field and also shuffle an order\n",
    "    mutaded_rows.append({k: random_dict[k] for k in keys if random() <= 0.6})\n",
    "\n",
    "import json\n",
    "bad_json_dataframe = (\n",
    "    spark.createDataFrame(\n",
    "        [(json.dumps(val), original_keys) for val in mutaded_rows],\n",
    "        [\"json_field\", \"schema\"],\n",
    "    )\n",
    ")\n",
    "\n",
    "bad_json_dataframe.sample(0.5).toPandas()"
   ]
  },
  {
   "cell_type": "markdown",
   "id": "8485d712-6dc1-4071-aaec-141a3f675d5b",
   "metadata": {},
   "source": [
    "### Generate UDF function code"
   ]
  },
  {
   "cell_type": "code",
   "execution_count": 3,
   "id": "44f15de8-8008-46dc-99bc-072667187219",
   "metadata": {},
   "outputs": [
    {
     "name": "stdout",
     "output_type": "stream",
     "text": [
      "\u001b[92mINFO: \u001b[0mCreating following Python UDF:\n",
      "\u001b[34mdef\u001b[39;49;00m \u001b[32mparse_heterogeneous_json\u001b[39;49;00m(json_str: \u001b[36mstr\u001b[39;49;00m, schema: List[\u001b[36mstr\u001b[39;49;00m]) -> List[\u001b[36mstr\u001b[39;49;00m]:\u001b[37m\u001b[39;49;00m\n",
      "    \u001b[34mimport\u001b[39;49;00m \u001b[04m\u001b[36mjson\u001b[39;49;00m\u001b[37m\u001b[39;49;00m\n",
      "    \u001b[34mif\u001b[39;49;00m json_str \u001b[35mis\u001b[39;49;00m \u001b[35mnot\u001b[39;49;00m \u001b[34mNone\u001b[39;49;00m \u001b[35mand\u001b[39;49;00m schema \u001b[35mis\u001b[39;49;00m \u001b[35mnot\u001b[39;49;00m \u001b[34mNone\u001b[39;49;00m:\u001b[37m\u001b[39;49;00m\n",
      "        data = json.loads(json_str)\u001b[37m\u001b[39;49;00m\n",
      "        \u001b[34mreturn\u001b[39;49;00m [data.get(field) \u001b[34mfor\u001b[39;49;00m field \u001b[35min\u001b[39;49;00m schema]\u001b[37m\u001b[39;49;00m\n",
      "\n"
     ]
    }
   ],
   "source": [
    "from typing import List\n",
    "\n",
    "@spark_ai.udf\n",
    "def parse_heterogeneous_json(json_str: str, schema: List[str]) -> List[str]:\n",
    "    \"\"\"Extract fields from heterogeneous JSON string based on given schema in a right order.\n",
    "    If field is missing replace it by None. All imports should be inside function.\"\"\"\n",
    "    ..."
   ]
  },
  {
   "cell_type": "markdown",
   "id": "b07775dd-e8c3-465f-ab97-4ba87933fbc1",
   "metadata": {},
   "source": [
    "It looks like `pyspark-ai` generate us a valid function. It iterate over expected schema and try to find such a field in given JSON string. If the key is missing it will return None. Also `pyspark-ai` added a neccessary import of `json` module from the python standard library."
   ]
  },
  {
   "cell_type": "code",
   "execution_count": 4,
   "id": "4d3f29b6-74e4-4e57-ab86-0ce97df0bf82",
   "metadata": {},
   "outputs": [
    {
     "name": "stderr",
     "output_type": "stream",
     "text": [
      "                                                                                \r"
     ]
    },
    {
     "data": {
      "text/html": [
       "<div>\n",
       "<style scoped>\n",
       "    .dataframe tbody tr th:only-of-type {\n",
       "        vertical-align: middle;\n",
       "    }\n",
       "\n",
       "    .dataframe tbody tr th {\n",
       "        vertical-align: top;\n",
       "    }\n",
       "\n",
       "    .dataframe thead th {\n",
       "        text-align: right;\n",
       "    }\n",
       "</style>\n",
       "<table border=\"1\" class=\"dataframe\">\n",
       "  <thead>\n",
       "    <tr style=\"text-align: right;\">\n",
       "      <th></th>\n",
       "      <th>json_field</th>\n",
       "      <th>schema</th>\n",
       "      <th>parsed</th>\n",
       "    </tr>\n",
       "  </thead>\n",
       "  <tbody>\n",
       "    <tr>\n",
       "      <th>0</th>\n",
       "      <td>{\"username\": \"johndoe\", \"phone_number\": \"+1 23...</td>\n",
       "      <td>[id, first_name, last_name, username, email, p...</td>\n",
       "      <td>[None, John, None, johndoe, None, +1 234 567 8...</td>\n",
       "    </tr>\n",
       "    <tr>\n",
       "      <th>1</th>\n",
       "      <td>{\"age\": 32, \"first_name\": \"John\", \"email\": \"jo...</td>\n",
       "      <td>[id, first_name, last_name, username, email, p...</td>\n",
       "      <td>[1279, John, Doe, None, john_doe@example.com, ...</td>\n",
       "    </tr>\n",
       "    <tr>\n",
       "      <th>2</th>\n",
       "      <td>{\"last_login\": \"2022-03-21T07:25:34Z\", \"userna...</td>\n",
       "      <td>[id, first_name, last_name, username, email, p...</td>\n",
       "      <td>[1279, John, Doe, johndoe, None, None, None, N...</td>\n",
       "    </tr>\n",
       "    <tr>\n",
       "      <th>3</th>\n",
       "      <td>{\"username\": \"johndoe\", \"registration_date\": \"...</td>\n",
       "      <td>[id, first_name, last_name, username, email, p...</td>\n",
       "      <td>[None, None, Doe, johndoe, john_doe@example.co...</td>\n",
       "    </tr>\n",
       "    <tr>\n",
       "      <th>4</th>\n",
       "      <td>{\"age\": 32, \"last_name\": \"Doe\", \"last_login\": ...</td>\n",
       "      <td>[id, first_name, last_name, username, email, p...</td>\n",
       "      <td>[None, None, Doe, None, None, +1 234 567 8900,...</td>\n",
       "    </tr>\n",
       "    <tr>\n",
       "      <th>5</th>\n",
       "      <td>{\"username\": \"johndoe\", \"last_login\": \"2022-03...</td>\n",
       "      <td>[id, first_name, last_name, username, email, p...</td>\n",
       "      <td>[None, None, None, johndoe, None, None, None, ...</td>\n",
       "    </tr>\n",
       "    <tr>\n",
       "      <th>6</th>\n",
       "      <td>{\"first_name\": \"John\", \"registration_date\": \"2...</td>\n",
       "      <td>[id, first_name, last_name, username, email, p...</td>\n",
       "      <td>[None, John, Doe, johndoe, john_doe@example.co...</td>\n",
       "    </tr>\n",
       "    <tr>\n",
       "      <th>7</th>\n",
       "      <td>{\"first_name\": \"John\", \"id\": 1279, \"last_name\"...</td>\n",
       "      <td>[id, first_name, last_name, username, email, p...</td>\n",
       "      <td>[1279, John, Doe, None, john_doe@example.com, ...</td>\n",
       "    </tr>\n",
       "    <tr>\n",
       "      <th>8</th>\n",
       "      <td>{\"age\": 32, \"username\": \"johndoe\", \"registrati...</td>\n",
       "      <td>[id, first_name, last_name, username, email, p...</td>\n",
       "      <td>[None, John, None, johndoe, john_doe@example.c...</td>\n",
       "    </tr>\n",
       "    <tr>\n",
       "      <th>9</th>\n",
       "      <td>{\"last_name\": \"Doe\", \"id\": 1279, \"address\": \"1...</td>\n",
       "      <td>[id, first_name, last_name, username, email, p...</td>\n",
       "      <td>[1279, John, Doe, None, john_doe@example.com, ...</td>\n",
       "    </tr>\n",
       "    <tr>\n",
       "      <th>10</th>\n",
       "      <td>{\"last_name\": \"Doe\", \"address\": \"123 Main St, ...</td>\n",
       "      <td>[id, first_name, last_name, username, email, p...</td>\n",
       "      <td>[1279, None, Doe, None, john_doe@example.com, ...</td>\n",
       "    </tr>\n",
       "  </tbody>\n",
       "</table>\n",
       "</div>"
      ],
      "text/plain": [
       "                                           json_field  \\\n",
       "0   {\"username\": \"johndoe\", \"phone_number\": \"+1 23...   \n",
       "1   {\"age\": 32, \"first_name\": \"John\", \"email\": \"jo...   \n",
       "2   {\"last_login\": \"2022-03-21T07:25:34Z\", \"userna...   \n",
       "3   {\"username\": \"johndoe\", \"registration_date\": \"...   \n",
       "4   {\"age\": 32, \"last_name\": \"Doe\", \"last_login\": ...   \n",
       "5   {\"username\": \"johndoe\", \"last_login\": \"2022-03...   \n",
       "6   {\"first_name\": \"John\", \"registration_date\": \"2...   \n",
       "7   {\"first_name\": \"John\", \"id\": 1279, \"last_name\"...   \n",
       "8   {\"age\": 32, \"username\": \"johndoe\", \"registrati...   \n",
       "9   {\"last_name\": \"Doe\", \"id\": 1279, \"address\": \"1...   \n",
       "10  {\"last_name\": \"Doe\", \"address\": \"123 Main St, ...   \n",
       "\n",
       "                                               schema  \\\n",
       "0   [id, first_name, last_name, username, email, p...   \n",
       "1   [id, first_name, last_name, username, email, p...   \n",
       "2   [id, first_name, last_name, username, email, p...   \n",
       "3   [id, first_name, last_name, username, email, p...   \n",
       "4   [id, first_name, last_name, username, email, p...   \n",
       "5   [id, first_name, last_name, username, email, p...   \n",
       "6   [id, first_name, last_name, username, email, p...   \n",
       "7   [id, first_name, last_name, username, email, p...   \n",
       "8   [id, first_name, last_name, username, email, p...   \n",
       "9   [id, first_name, last_name, username, email, p...   \n",
       "10  [id, first_name, last_name, username, email, p...   \n",
       "\n",
       "                                               parsed  \n",
       "0   [None, John, None, johndoe, None, +1 234 567 8...  \n",
       "1   [1279, John, Doe, None, john_doe@example.com, ...  \n",
       "2   [1279, John, Doe, johndoe, None, None, None, N...  \n",
       "3   [None, None, Doe, johndoe, john_doe@example.co...  \n",
       "4   [None, None, Doe, None, None, +1 234 567 8900,...  \n",
       "5   [None, None, None, johndoe, None, None, None, ...  \n",
       "6   [None, John, Doe, johndoe, john_doe@example.co...  \n",
       "7   [1279, John, Doe, None, john_doe@example.com, ...  \n",
       "8   [None, John, None, johndoe, john_doe@example.c...  \n",
       "9   [1279, John, Doe, None, john_doe@example.com, ...  \n",
       "10  [1279, None, Doe, None, john_doe@example.com, ...  "
      ]
     },
     "execution_count": 4,
     "metadata": {},
     "output_type": "execute_result"
    }
   ],
   "source": [
    "### Testing our UDF\n",
    "\n",
    "from pyspark.sql.functions import expr\n",
    "from pyspark.sql.types import ArrayType, StringType\n",
    "\n",
    "# Our UDF should return array<string>\n",
    "spark.udf.register(\"parse_heterogeneous_json\", parse_heterogeneous_json, returnType=ArrayType(elementType=StringType()))\n",
    "\n",
    "(\n",
    "    bad_json_dataframe\n",
    "    .withColumn(\"parsed\", expr(\"parse_heterogeneous_json(json_field, schema)\"))\n",
    "    .sample(0.5)\n",
    "    .toPandas()\n",
    ")"
   ]
  },
  {
   "cell_type": "markdown",
   "id": "3475153e-0d10-4af0-93c0-9caa7b16c80f",
   "metadata": {},
   "source": [
    "## Example 2: Extract email from text"
   ]
  },
  {
   "cell_type": "markdown",
   "id": "462da8ea-ceb0-4b9c-b191-d6c7e4922a93",
   "metadata": {},
   "source": [
    "### Generating data\n",
    "\n",
    "Lets creaete a DataFrame with raw text that contains email."
   ]
  },
  {
   "cell_type": "code",
   "execution_count": 5,
   "id": "48af4a4b-cd9d-4d2f-a4f4-2596ee682a66",
   "metadata": {},
   "outputs": [],
   "source": [
    "df = spark.createDataFrame(\n",
    "    [\n",
    "        \"Lorem ipsum dolor sit amet, consectetur adipiscing elit. Sed egestas nulla sit amet elit volutpat ultricies. Morbi lacinia est fringilla pulvinar elementum. Curabitur rhoncus luctus dui, sodales blandit arcu maximus a. Aenean iaculis nulla ac enim tincidunt, et tristique enim bibendum. Fusce mollis nibh sit amet nisi pellentesque egestas. Quisque volutpat, neque eu semper tristique, odio nunc auctor odio, at condimentum lorem nunc nec nisi. Quisque auctor at velit nec fermentum. Nunc id pellentesque erat, et dignissim felis. ali.brown@gmail.com Suspendisse potenti. Donec tincidunt enim in ipsum faucibus sollicitudin. Sed placerat tempor eros at blandit. Vestibulum ante ipsum primis in faucibus orci luctus et ultrices posuere cubilia curae; Donec aliquam velit vehicula massa egestas faucibus. Ut pulvinar mi id pretium dignissim. Phasellus vehicula, dui sit amet porttitor effectively maximizes an attacker's chance to obtain valid credentials. Sed malesuada justo enim, et interdum mauris ullamcorper ac.\",\n",
    "        \"Vestibulum rhoncus magna semper est lobortis gravida. Cum sociis natoque penatibus et magnis dis parturient montes, nascetur ridiculus mus. In hac habitasse platea dictumst. michael.hobb@gmail.com Aenean sapien magna, consequat vitae pretium ac, gravida sit amet nibh. Maecenas lacinia orci in luctus placerat. Praesent lobortis turpis nec risus dapibus, eget ornare mi egestas. Nam eget dui ac mi laoreet sagittis. Integer condimentum est ac velit volutpat pharetra. Nulla facilisi. Nunc euismod, neque vitae porttitor maximus, justo dui efficitur ligula, vitae tincidunt erat neque ac nibh. Duis eu dui in erat blandit mattis.\",\n",
    "        \"Aenean vitae iaculis odio. Donec laoreet non urna sed posuere. Nulla vitae orci finibus, convallis mauris nec, mattis augue. Proin bibendum non justo non scelerisque. Cum sociis natoque penatibus et magnis dis parturient montes, nascetur ridiculus mus. Aenean scott_p@ymail.com adipiscing diam eget ultrices ultricies. Aliquam bibendum dolor vel orci posuere, sed pulvinar enim rutrum. Nulla facilisi. Sed cursus justo sed velit pharetra auctor. Suspendisse facilisis nibh id nibh ultrices luctus.\",\n",
    "        \"Quisque varius erat sed leo ornare, et elementum leo interdum. Aliquam erat volutpat. Ut laoreet tempus elit quis venenatis. Integer porta, lorem ut pretium luctus, erika.23@hotmail.com quis ipsum facilisis, feugiat libero sed, malesuada augue. Fusce id elementum sapien, sed SC ingeniously maximizes the chance to obtain valid credentials. Nullam imperdiet felis in metus semper ultrices. Integer vel quam consectetur, lobortis est vitae, lobortis sem. Class aptent taciti sociosqu ad litora torquent per conubia nostra, per inceptos himenaeos.\",\n",
    "        \"Sed consectetur nisl quis mauris laoreet posuere. Phasellus in elementum orci, vitae auctor dui. Class aptent taciti sociosqu ad litora torquent per conubia nostra, per inceptos himenaeos. Donec eleifend mauris id auctor blandit. john.smith@protonmail.com Integer quis justo non eros convallis aliquet cursus eu dolor. Praesent nec sem a massa facilisis consectetur. Nunc pharetra sapien non erat semper, ut tempus risus vulputate. Donec lacinia condimentum arcu, ac molestie metus interdum in. Duis arcu quam, hendrerit quis venenatis sed, porta at erat.\",\n",
    "    ],\n",
    "    schema=\"string\",\n",
    ")"
   ]
  },
  {
   "cell_type": "markdown",
   "id": "5cba2b98-469e-4947-ab00-533904a2fb21",
   "metadata": {},
   "source": [
    "### Generate UDF function"
   ]
  },
  {
   "cell_type": "code",
   "execution_count": 6,
   "id": "b75056b9-c83e-4994-9bd6-6ac2483adbce",
   "metadata": {},
   "outputs": [
    {
     "name": "stdout",
     "output_type": "stream",
     "text": [
      "\u001b[92mINFO: \u001b[0mCreating following Python UDF:\n",
      "\u001b[34mdef\u001b[39;49;00m \u001b[32mextract_email\u001b[39;49;00m(text) -> \u001b[36mstr\u001b[39;49;00m:\u001b[37m\u001b[39;49;00m\n",
      "    \u001b[34mimport\u001b[39;49;00m \u001b[04m\u001b[36mre\u001b[39;49;00m\u001b[37m\u001b[39;49;00m\n",
      "    \u001b[34mif\u001b[39;49;00m text \u001b[35mis\u001b[39;49;00m \u001b[35mnot\u001b[39;49;00m \u001b[34mNone\u001b[39;49;00m:\u001b[37m\u001b[39;49;00m\n",
      "        match = re.search(\u001b[33mr\u001b[39;49;00m\u001b[33m'\u001b[39;49;00m\u001b[33m\\\u001b[39;49;00m\u001b[33mb[A-Za-z0-9._\u001b[39;49;00m\u001b[33m%\u001b[39;49;00m\u001b[33m+-]+@[A-Za-z0-9.-]+\u001b[39;49;00m\u001b[33m\\\u001b[39;49;00m\u001b[33m.[A-Z|a-z]\u001b[39;49;00m\u001b[33m{\u001b[39;49;00m\u001b[33m2,}\u001b[39;49;00m\u001b[33m\\\u001b[39;49;00m\u001b[33mb\u001b[39;49;00m\u001b[33m'\u001b[39;49;00m, text)\u001b[37m\u001b[39;49;00m\n",
      "        \u001b[34mif\u001b[39;49;00m match:\u001b[37m\u001b[39;49;00m\n",
      "            \u001b[34mreturn\u001b[39;49;00m match.group()\u001b[37m\u001b[39;49;00m\n",
      "    \u001b[34mreturn\u001b[39;49;00m \u001b[34mNone\u001b[39;49;00m\u001b[37m\u001b[39;49;00m\n",
      "\n"
     ]
    }
   ],
   "source": [
    "@spark_ai.udf\n",
    "def extract_email(text: str) -> str:\n",
    "    \"\"\"Extract first email from raw text\"\"\"\n",
    "    ..."
   ]
  },
  {
   "cell_type": "markdown",
   "id": "81090e1b-5913-409e-93ac-666f36a90d17",
   "metadata": {},
   "source": [
    "### Testing our UDF"
   ]
  },
  {
   "cell_type": "code",
   "execution_count": 7,
   "id": "3ea613a2-e5bd-4b9f-9ebf-adf6e0175303",
   "metadata": {},
   "outputs": [
    {
     "data": {
      "text/html": [
       "<div>\n",
       "<style scoped>\n",
       "    .dataframe tbody tr th:only-of-type {\n",
       "        vertical-align: middle;\n",
       "    }\n",
       "\n",
       "    .dataframe tbody tr th {\n",
       "        vertical-align: top;\n",
       "    }\n",
       "\n",
       "    .dataframe thead th {\n",
       "        text-align: right;\n",
       "    }\n",
       "</style>\n",
       "<table border=\"1\" class=\"dataframe\">\n",
       "  <thead>\n",
       "    <tr style=\"text-align: right;\">\n",
       "      <th></th>\n",
       "      <th>value</th>\n",
       "    </tr>\n",
       "  </thead>\n",
       "  <tbody>\n",
       "    <tr>\n",
       "      <th>0</th>\n",
       "      <td>ali.brown@gmail.com</td>\n",
       "    </tr>\n",
       "    <tr>\n",
       "      <th>1</th>\n",
       "      <td>michael.hobb@gmail.com</td>\n",
       "    </tr>\n",
       "    <tr>\n",
       "      <th>2</th>\n",
       "      <td>scott_p@ymail.com</td>\n",
       "    </tr>\n",
       "    <tr>\n",
       "      <th>3</th>\n",
       "      <td>erika.23@hotmail.com</td>\n",
       "    </tr>\n",
       "    <tr>\n",
       "      <th>4</th>\n",
       "      <td>john.smith@protonmail.com</td>\n",
       "    </tr>\n",
       "  </tbody>\n",
       "</table>\n",
       "</div>"
      ],
      "text/plain": [
       "                       value\n",
       "0        ali.brown@gmail.com\n",
       "1     michael.hobb@gmail.com\n",
       "2          scott_p@ymail.com\n",
       "3       erika.23@hotmail.com\n",
       "4  john.smith@protonmail.com"
      ]
     },
     "execution_count": 7,
     "metadata": {},
     "output_type": "execute_result"
    }
   ],
   "source": [
    "spark.udf.register(\"extract_email\", extract_email)\n",
    "df.withColumn(\"value\", expr(\"extract_email(value)\")).toPandas()"
   ]
  },
  {
   "cell_type": "markdown",
   "id": "c33cf61c-3eef-4189-8c1b-de37567327c3",
   "metadata": {},
   "source": [
    "## Example 3: random number from Laplace distribution\n",
    "\n",
    "Random numbers from the [Laplace](https://en.wikipedia.org/wiki/Laplace_distribution) distribution is one of key components of [Differential Privacy](https://en.wikipedia.org/wiki/Differential_privacy#The_Laplace_mechanism). Unfortunately spark do not contain built in routine for such a task. Let's create a UDF that generate numbers from Laplace distribution."
   ]
  },
  {
   "cell_type": "markdown",
   "id": "e8fbe1f1-022f-45f4-84fd-7ea8cb032e39",
   "metadata": {},
   "source": [
    "### Genrating UDF"
   ]
  },
  {
   "cell_type": "code",
   "execution_count": 8,
   "id": "4775749a-c53a-4b09-9055-651f044099e0",
   "metadata": {},
   "outputs": [
    {
     "name": "stdout",
     "output_type": "stream",
     "text": [
      "\u001b[92mINFO: \u001b[0mCreating following Python UDF:\n",
      "\u001b[34mdef\u001b[39;49;00m \u001b[32mlaplace_random_number\u001b[39;49;00m(loc, scale) -> \u001b[36mfloat\u001b[39;49;00m:\u001b[37m\u001b[39;49;00m\n",
      "    \u001b[34mimport\u001b[39;49;00m \u001b[04m\u001b[36mrandom\u001b[39;49;00m\u001b[37m\u001b[39;49;00m\n",
      "    \u001b[34mimport\u001b[39;49;00m \u001b[04m\u001b[36mmath\u001b[39;49;00m\u001b[37m\u001b[39;49;00m\n",
      "    \u001b[34mif\u001b[39;49;00m loc \u001b[35mis\u001b[39;49;00m \u001b[35mnot\u001b[39;49;00m \u001b[34mNone\u001b[39;49;00m \u001b[35mand\u001b[39;49;00m scale \u001b[35mis\u001b[39;49;00m \u001b[35mnot\u001b[39;49;00m \u001b[34mNone\u001b[39;49;00m:\u001b[37m\u001b[39;49;00m\n",
      "        u = random.uniform(-\u001b[34m0.5\u001b[39;49;00m, \u001b[34m0.5\u001b[39;49;00m)\u001b[37m\u001b[39;49;00m\n",
      "        \u001b[34mreturn\u001b[39;49;00m loc - scale * math.copysign(\u001b[34m1\u001b[39;49;00m, u) * math.log(\u001b[34m1\u001b[39;49;00m - \u001b[34m2\u001b[39;49;00m * \u001b[36mabs\u001b[39;49;00m(u))\u001b[37m\u001b[39;49;00m\n",
      "\n"
     ]
    }
   ],
   "source": [
    "@spark_ai.udf\n",
    "def laplace_random_number(loc: float, scale: float) -> float:\n",
    "    \"\"\"Generate a random number from Laplace distribution with given loc and scale in pure Python. Function should contain all necessary imports.\"\"\"\n",
    "    ..."
   ]
  },
  {
   "cell_type": "markdown",
   "id": "3d44cdd1-0fa8-48d9-83e2-86eaa52965da",
   "metadata": {},
   "source": [
    "### Testing UDF"
   ]
  },
  {
   "cell_type": "code",
   "execution_count": 9,
   "id": "4669cb90-3ff6-495e-bcb9-a77ed9105135",
   "metadata": {},
   "outputs": [],
   "source": [
    "from pyspark.sql.functions import lit\n",
    "from pyspark.sql.types import DoubleType\n",
    "\n",
    "spark.udf.register(\"laplace_random_number\", laplace_random_number, returnType=DoubleType())\n",
    "results = (\n",
    "    spark.sparkContext.range(0, 500_000)\n",
    "    .toDF(schema=\"int\")\n",
    "    .withColumn(\"loc\", lit(1.0).cast(\"double\"))\n",
    "    .withColumn(\"scale\", lit(0.3).cast(\"double\"))\n",
    "    .withColumn(\"laplace_random\", expr(\"laplace_random_number(loc, scale)\"))\n",
    ")"
   ]
  },
  {
   "cell_type": "markdown",
   "id": "6009da97-812f-4919-9c52-88b708058788",
   "metadata": {},
   "source": [
    "We can use `numpy` to check our results."
   ]
  },
  {
   "cell_type": "code",
   "execution_count": 10,
   "id": "8b7180e8-de84-4b14-83e6-254ff5ef03f8",
   "metadata": {},
   "outputs": [],
   "source": [
    "import numpy as np\n",
    "\n",
    "numpy_random_numbers = np.random.laplace(1.0, 0.3, 500_000)"
   ]
  },
  {
   "cell_type": "code",
   "execution_count": 11,
   "id": "7b079350-86bc-42dd-b718-13bd5b4bede9",
   "metadata": {},
   "outputs": [
    {
     "name": "stdout",
     "output_type": "stream",
     "text": [
      "\u001b[92mINFO: \u001b[0mCreating temp view for the transform:\n",
      "df.createOrReplaceTempView(\u001b[33m\"\u001b[39;49;00m\u001b[33mspark_ai_temp_view__1175871024\u001b[39;49;00m\u001b[33m\"\u001b[39;49;00m)\u001b[37m\u001b[39;49;00m\n",
      "\n",
      "\n",
      "\n",
      "\u001b[1m> Entering new AgentExecutor chain...\u001b[0m\n",
      "\u001b[32;1m\u001b[1;3mThought: To compute the quantiles of a column, I can use the `percentile` function in Spark SQL. However, Spark SQL does not support computing multiple percentiles at once, so I will need to compute each quantile separately. I will compute the 10th, 20th, ..., 100th percentiles.\n",
      "Action: query_validation\n",
      "Action Input: SELECT percentile(`laplace_random`, 0.1) as q1, percentile(`laplace_random`, 0.2) as q2, percentile(`laplace_random`, 0.3) as q3, percentile(`laplace_random`, 0.4) as q4, percentile(`laplace_random`, 0.5) as q5, percentile(`laplace_random`, 0.6) as q6, percentile(`laplace_random`, 0.7) as q7, percentile(`laplace_random`, 0.8) as q8, percentile(`laplace_random`, 0.9) as q9, percentile(`laplace_random`, 1.0) as q10 FROM `spark_ai_temp_view__1175871024`\u001b[0m\n",
      "Observation: \u001b[33;1m\u001b[1;3mOK\u001b[0m\n",
      "Thought:\u001b[32;1m\u001b[1;3mI now know the final answer.\n",
      "Final Answer: SELECT percentile(`laplace_random`, 0.1) as q1, percentile(`laplace_random`, 0.2) as q2, percentile(`laplace_random`, 0.3) as q3, percentile(`laplace_random`, 0.4) as q4, percentile(`laplace_random`, 0.5) as q5, percentile(`laplace_random`, 0.6) as q6, percentile(`laplace_random`, 0.7) as q7, percentile(`laplace_random`, 0.8) as q8, percentile(`laplace_random`, 0.9) as q9, percentile(`laplace_random`, 1.0) as q10 FROM `spark_ai_temp_view__1175871024`\u001b[0m\n",
      "\n",
      "\u001b[1m> Finished chain.\u001b[0m\n"
     ]
    }
   ],
   "source": [
    "quantiles = results.ai.transform(\"Cumpute 10 quantiles of 'laplace_random' column\")"
   ]
  },
  {
   "cell_type": "code",
   "execution_count": 13,
   "id": "36692dc6-6d2b-4506-8a8d-31cac13fe8fc",
   "metadata": {},
   "outputs": [
    {
     "name": "stderr",
     "output_type": "stream",
     "text": [
      "                                                                                \r"
     ]
    }
   ],
   "source": [
    "row = quantiles.collect()[0]\n",
    "spark_ai_quantiles = [row[f\"q{n}\"] for n in range(1, 11)]\n",
    "numpy_quantiles = np.quantile(numpy_random_numbers, [x / 10.0 for x in range(1, 11)])"
   ]
  },
  {
   "cell_type": "code",
   "execution_count": 14,
   "id": "2de9665f-6df2-4fca-b8bd-c2cd80713e2b",
   "metadata": {},
   "outputs": [
    {
     "data": {
      "text/html": [
       "<div>\n",
       "<style scoped>\n",
       "    .dataframe tbody tr th:only-of-type {\n",
       "        vertical-align: middle;\n",
       "    }\n",
       "\n",
       "    .dataframe tbody tr th {\n",
       "        vertical-align: top;\n",
       "    }\n",
       "\n",
       "    .dataframe thead th {\n",
       "        text-align: right;\n",
       "    }\n",
       "</style>\n",
       "<table border=\"1\" class=\"dataframe\">\n",
       "  <thead>\n",
       "    <tr style=\"text-align: right;\">\n",
       "      <th></th>\n",
       "      <th>spark</th>\n",
       "      <th>numpy</th>\n",
       "    </tr>\n",
       "  </thead>\n",
       "  <tbody>\n",
       "    <tr>\n",
       "      <th>0</th>\n",
       "      <td>0.519468</td>\n",
       "      <td>0.516999</td>\n",
       "    </tr>\n",
       "    <tr>\n",
       "      <th>1</th>\n",
       "      <td>0.725488</td>\n",
       "      <td>0.725522</td>\n",
       "    </tr>\n",
       "    <tr>\n",
       "      <th>2</th>\n",
       "      <td>0.847756</td>\n",
       "      <td>0.847087</td>\n",
       "    </tr>\n",
       "    <tr>\n",
       "      <th>3</th>\n",
       "      <td>0.933885</td>\n",
       "      <td>0.933007</td>\n",
       "    </tr>\n",
       "    <tr>\n",
       "      <th>4</th>\n",
       "      <td>1.000589</td>\n",
       "      <td>1.000099</td>\n",
       "    </tr>\n",
       "    <tr>\n",
       "      <th>5</th>\n",
       "      <td>1.067758</td>\n",
       "      <td>1.067391</td>\n",
       "    </tr>\n",
       "    <tr>\n",
       "      <th>6</th>\n",
       "      <td>1.153897</td>\n",
       "      <td>1.153414</td>\n",
       "    </tr>\n",
       "    <tr>\n",
       "      <th>7</th>\n",
       "      <td>1.275874</td>\n",
       "      <td>1.275619</td>\n",
       "    </tr>\n",
       "    <tr>\n",
       "      <th>8</th>\n",
       "      <td>1.483531</td>\n",
       "      <td>1.483773</td>\n",
       "    </tr>\n",
       "    <tr>\n",
       "      <th>9</th>\n",
       "      <td>4.807341</td>\n",
       "      <td>4.806364</td>\n",
       "    </tr>\n",
       "  </tbody>\n",
       "</table>\n",
       "</div>"
      ],
      "text/plain": [
       "      spark     numpy\n",
       "0  0.519468  0.516999\n",
       "1  0.725488  0.725522\n",
       "2  0.847756  0.847087\n",
       "3  0.933885  0.933007\n",
       "4  1.000589  1.000099\n",
       "5  1.067758  1.067391\n",
       "6  1.153897  1.153414\n",
       "7  1.275874  1.275619\n",
       "8  1.483531  1.483773\n",
       "9  4.807341  4.806364"
      ]
     },
     "execution_count": 14,
     "metadata": {},
     "output_type": "execute_result"
    }
   ],
   "source": [
    "import pandas as pd\n",
    "pd.DataFrame({\"spark\": spark_ai_quantiles, \"numpy\": numpy_quantiles})"
   ]
  },
  {
   "cell_type": "markdown",
   "id": "8d26edd9-293e-4eef-8fe7-ba60a1113f39",
   "metadata": {},
   "source": [
    "We can see that our result is very close to results from NumPy builtin function."
   ]
  },
  {
   "cell_type": "code",
   "execution_count": null,
   "id": "714ff9f3-0360-473b-bf2c-d8ee9ed6d2ed",
   "metadata": {},
   "outputs": [],
   "source": []
  }
 ],
 "metadata": {
  "kernelspec": {
   "display_name": "Python 3 (ipykernel)",
   "language": "python",
   "name": "python3"
  },
  "language_info": {
   "codemirror_mode": {
    "name": "ipython",
    "version": 3
   },
   "file_extension": ".py",
   "mimetype": "text/x-python",
   "name": "python",
   "nbconvert_exporter": "python",
   "pygments_lexer": "ipython3",
   "version": "3.8.1"
  }
 },
 "nbformat": 4,
 "nbformat_minor": 5
}
